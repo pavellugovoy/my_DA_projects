{
 "cells": [
  {
   "cell_type": "markdown",
   "id": "adjustable-reproduction",
   "metadata": {},
   "source": [
    "### Presentation: https://disk.yandex.com/i/ddOqenPSnV5DZg"
   ]
  },
  {
   "cell_type": "markdown",
   "id": "centered-penalty",
   "metadata": {},
   "source": [
    "# Project \"Telecom: Identifying Ineffective Operators\": \n",
    "\n",
    "The virtual telephony service CallMeMaybe is developing a new function that will give supervisors information on the least effective operators. An operator is considered ineffective if they have a large number of missed incoming calls (internal and external) and a long waiting time for incoming calls. Moreover, if an operator is supposed to make outgoing calls, a small number of them is also a sign of ineffectiveness.\n",
    "\n",
    "In this research we are going study the available data on calls made by the operators in order to find which operators may be considered effective and non-effective ones. We'll also perform statistical significance tests in order to find if there's statistically signifacnt difference between two groups in terms of number of all calls made per day be one operator and in terms of share of internal calls to all calls made by an operator."
   ]
  },
  {
   "cell_type": "markdown",
   "id": "miniature-hawaiian",
   "metadata": {},
   "source": [
    "## Step 1: Reading the dataset and looking at the general information"
   ]
  },
  {
   "cell_type": "code",
   "execution_count": 1,
   "id": "signal-ghana",
   "metadata": {},
   "outputs": [],
   "source": [
    "# importing libraries\n",
    "\n",
    "import pandas as pd\n",
    "from pandas import DataFrame\n",
    "import numpy as np\n",
    "! pip install missingno -U -q\n",
    "import missingno as msno\n",
    "%matplotlib inline\n",
    "import matplotlib.pyplot as plt\n",
    "import matplotlib as mpl\n",
    "import seaborn as sns\n",
    "! pip install plotly -U -q\n",
    "import plotly.express as px\n",
    "import plotly.figure_factory as ff\n",
    "from plotly import graph_objects as go\n",
    "import re\n",
    "import math as mth\n",
    "from scipy import stats as st\n",
    "from scipy.stats import mannwhitneyu\n",
    "from IPython.display import display\n",
    "import sys\n",
    "import warnings\n",
    "if not sys.warnoptions:\n",
    "       warnings.simplefilter(\"ignore\")\n",
    "from datetime import datetime"
   ]
  },
  {
   "cell_type": "code",
   "execution_count": 2,
   "id": "stopped-soundtrack",
   "metadata": {},
   "outputs": [],
   "source": [
    "# importing dataset\n",
    "\n",
    "try:\n",
    "    calls = pd.read_csv('/Users/pavellugovoy/Desktop/data_analysis/final_project/main_project/telecom_dataset_us.csv')\n",
    "    clients = pd.read_csv('/Users/pavellugovoy/Desktop/data_analysis/final_project/main_project/telecom_clients_us.csv')\n",
    "    \n",
    "except:\n",
    "    calls = pd.read_csv('/datasets/telecom_dataset_us.csv')\n",
    "    clients = pd.read_csv('/datasets/telecom_clients_us.csv')"
   ]
  },
  {
   "cell_type": "code",
   "execution_count": 3,
   "id": "rational-israeli",
   "metadata": {},
   "outputs": [
    {
     "name": "stdout",
     "output_type": "stream",
     "text": [
      "<class 'pandas.core.frame.DataFrame'>\n",
      "RangeIndex: 53902 entries, 0 to 53901\n",
      "Data columns (total 9 columns):\n",
      " #   Column               Non-Null Count  Dtype  \n",
      "---  ------               --------------  -----  \n",
      " 0   user_id              53902 non-null  int64  \n",
      " 1   date                 53902 non-null  object \n",
      " 2   direction            53902 non-null  object \n",
      " 3   internal             53785 non-null  object \n",
      " 4   operator_id          45730 non-null  float64\n",
      " 5   is_missed_call       53902 non-null  bool   \n",
      " 6   calls_count          53902 non-null  int64  \n",
      " 7   call_duration        53902 non-null  int64  \n",
      " 8   total_call_duration  53902 non-null  int64  \n",
      "dtypes: bool(1), float64(1), int64(4), object(3)\n",
      "memory usage: 3.3+ MB\n"
     ]
    },
    {
     "data": {
      "text/html": [
       "<div>\n",
       "<style scoped>\n",
       "    .dataframe tbody tr th:only-of-type {\n",
       "        vertical-align: middle;\n",
       "    }\n",
       "\n",
       "    .dataframe tbody tr th {\n",
       "        vertical-align: top;\n",
       "    }\n",
       "\n",
       "    .dataframe thead th {\n",
       "        text-align: right;\n",
       "    }\n",
       "</style>\n",
       "<table border=\"1\" class=\"dataframe\">\n",
       "  <thead>\n",
       "    <tr style=\"text-align: right;\">\n",
       "      <th></th>\n",
       "      <th>user_id</th>\n",
       "      <th>date</th>\n",
       "      <th>direction</th>\n",
       "      <th>internal</th>\n",
       "      <th>operator_id</th>\n",
       "      <th>is_missed_call</th>\n",
       "      <th>calls_count</th>\n",
       "      <th>call_duration</th>\n",
       "      <th>total_call_duration</th>\n",
       "    </tr>\n",
       "  </thead>\n",
       "  <tbody>\n",
       "    <tr>\n",
       "      <th>0</th>\n",
       "      <td>166377</td>\n",
       "      <td>2019-08-04 00:00:00+03:00</td>\n",
       "      <td>in</td>\n",
       "      <td>False</td>\n",
       "      <td>NaN</td>\n",
       "      <td>True</td>\n",
       "      <td>2</td>\n",
       "      <td>0</td>\n",
       "      <td>4</td>\n",
       "    </tr>\n",
       "    <tr>\n",
       "      <th>1</th>\n",
       "      <td>166377</td>\n",
       "      <td>2019-08-05 00:00:00+03:00</td>\n",
       "      <td>out</td>\n",
       "      <td>True</td>\n",
       "      <td>880022.0</td>\n",
       "      <td>True</td>\n",
       "      <td>3</td>\n",
       "      <td>0</td>\n",
       "      <td>5</td>\n",
       "    </tr>\n",
       "    <tr>\n",
       "      <th>2</th>\n",
       "      <td>166377</td>\n",
       "      <td>2019-08-05 00:00:00+03:00</td>\n",
       "      <td>out</td>\n",
       "      <td>True</td>\n",
       "      <td>880020.0</td>\n",
       "      <td>True</td>\n",
       "      <td>1</td>\n",
       "      <td>0</td>\n",
       "      <td>1</td>\n",
       "    </tr>\n",
       "    <tr>\n",
       "      <th>3</th>\n",
       "      <td>166377</td>\n",
       "      <td>2019-08-05 00:00:00+03:00</td>\n",
       "      <td>out</td>\n",
       "      <td>True</td>\n",
       "      <td>880020.0</td>\n",
       "      <td>False</td>\n",
       "      <td>1</td>\n",
       "      <td>10</td>\n",
       "      <td>18</td>\n",
       "    </tr>\n",
       "    <tr>\n",
       "      <th>4</th>\n",
       "      <td>166377</td>\n",
       "      <td>2019-08-05 00:00:00+03:00</td>\n",
       "      <td>out</td>\n",
       "      <td>False</td>\n",
       "      <td>880022.0</td>\n",
       "      <td>True</td>\n",
       "      <td>3</td>\n",
       "      <td>0</td>\n",
       "      <td>25</td>\n",
       "    </tr>\n",
       "    <tr>\n",
       "      <th>5</th>\n",
       "      <td>166377</td>\n",
       "      <td>2019-08-05 00:00:00+03:00</td>\n",
       "      <td>out</td>\n",
       "      <td>False</td>\n",
       "      <td>880020.0</td>\n",
       "      <td>False</td>\n",
       "      <td>2</td>\n",
       "      <td>3</td>\n",
       "      <td>29</td>\n",
       "    </tr>\n",
       "    <tr>\n",
       "      <th>6</th>\n",
       "      <td>166377</td>\n",
       "      <td>2019-08-05 00:00:00+03:00</td>\n",
       "      <td>out</td>\n",
       "      <td>False</td>\n",
       "      <td>880020.0</td>\n",
       "      <td>True</td>\n",
       "      <td>8</td>\n",
       "      <td>0</td>\n",
       "      <td>50</td>\n",
       "    </tr>\n",
       "    <tr>\n",
       "      <th>7</th>\n",
       "      <td>166377</td>\n",
       "      <td>2019-08-05 00:00:00+03:00</td>\n",
       "      <td>in</td>\n",
       "      <td>False</td>\n",
       "      <td>NaN</td>\n",
       "      <td>True</td>\n",
       "      <td>6</td>\n",
       "      <td>0</td>\n",
       "      <td>35</td>\n",
       "    </tr>\n",
       "    <tr>\n",
       "      <th>8</th>\n",
       "      <td>166377</td>\n",
       "      <td>2019-08-05 00:00:00+03:00</td>\n",
       "      <td>out</td>\n",
       "      <td>False</td>\n",
       "      <td>880020.0</td>\n",
       "      <td>True</td>\n",
       "      <td>8</td>\n",
       "      <td>0</td>\n",
       "      <td>50</td>\n",
       "    </tr>\n",
       "    <tr>\n",
       "      <th>9</th>\n",
       "      <td>166377</td>\n",
       "      <td>2019-08-06 00:00:00+03:00</td>\n",
       "      <td>in</td>\n",
       "      <td>False</td>\n",
       "      <td>NaN</td>\n",
       "      <td>True</td>\n",
       "      <td>4</td>\n",
       "      <td>0</td>\n",
       "      <td>62</td>\n",
       "    </tr>\n",
       "  </tbody>\n",
       "</table>\n",
       "</div>"
      ],
      "text/plain": [
       "   user_id                       date direction internal  operator_id  \\\n",
       "0   166377  2019-08-04 00:00:00+03:00        in    False          NaN   \n",
       "1   166377  2019-08-05 00:00:00+03:00       out     True     880022.0   \n",
       "2   166377  2019-08-05 00:00:00+03:00       out     True     880020.0   \n",
       "3   166377  2019-08-05 00:00:00+03:00       out     True     880020.0   \n",
       "4   166377  2019-08-05 00:00:00+03:00       out    False     880022.0   \n",
       "5   166377  2019-08-05 00:00:00+03:00       out    False     880020.0   \n",
       "6   166377  2019-08-05 00:00:00+03:00       out    False     880020.0   \n",
       "7   166377  2019-08-05 00:00:00+03:00        in    False          NaN   \n",
       "8   166377  2019-08-05 00:00:00+03:00       out    False     880020.0   \n",
       "9   166377  2019-08-06 00:00:00+03:00        in    False          NaN   \n",
       "\n",
       "   is_missed_call  calls_count  call_duration  total_call_duration  \n",
       "0            True            2              0                    4  \n",
       "1            True            3              0                    5  \n",
       "2            True            1              0                    1  \n",
       "3           False            1             10                   18  \n",
       "4            True            3              0                   25  \n",
       "5           False            2              3                   29  \n",
       "6            True            8              0                   50  \n",
       "7            True            6              0                   35  \n",
       "8            True            8              0                   50  \n",
       "9            True            4              0                   62  "
      ]
     },
     "metadata": {},
     "output_type": "display_data"
    },
    {
     "data": {
      "text/html": [
       "<div>\n",
       "<style scoped>\n",
       "    .dataframe tbody tr th:only-of-type {\n",
       "        vertical-align: middle;\n",
       "    }\n",
       "\n",
       "    .dataframe tbody tr th {\n",
       "        vertical-align: top;\n",
       "    }\n",
       "\n",
       "    .dataframe thead th {\n",
       "        text-align: right;\n",
       "    }\n",
       "</style>\n",
       "<table border=\"1\" class=\"dataframe\">\n",
       "  <thead>\n",
       "    <tr style=\"text-align: right;\">\n",
       "      <th></th>\n",
       "      <th>user_id</th>\n",
       "      <th>date</th>\n",
       "      <th>direction</th>\n",
       "      <th>internal</th>\n",
       "      <th>operator_id</th>\n",
       "      <th>is_missed_call</th>\n",
       "      <th>calls_count</th>\n",
       "      <th>call_duration</th>\n",
       "      <th>total_call_duration</th>\n",
       "    </tr>\n",
       "  </thead>\n",
       "  <tbody>\n",
       "    <tr>\n",
       "      <th>41970</th>\n",
       "      <td>167923</td>\n",
       "      <td>2019-11-15 00:00:00+03:00</td>\n",
       "      <td>out</td>\n",
       "      <td>False</td>\n",
       "      <td>951408.0</td>\n",
       "      <td>True</td>\n",
       "      <td>1</td>\n",
       "      <td>0</td>\n",
       "      <td>17</td>\n",
       "    </tr>\n",
       "    <tr>\n",
       "      <th>30644</th>\n",
       "      <td>167359</td>\n",
       "      <td>2019-10-16 00:00:00+03:00</td>\n",
       "      <td>out</td>\n",
       "      <td>False</td>\n",
       "      <td>912722.0</td>\n",
       "      <td>False</td>\n",
       "      <td>5</td>\n",
       "      <td>686</td>\n",
       "      <td>774</td>\n",
       "    </tr>\n",
       "    <tr>\n",
       "      <th>23686</th>\n",
       "      <td>167109</td>\n",
       "      <td>2019-09-13 00:00:00+03:00</td>\n",
       "      <td>out</td>\n",
       "      <td>False</td>\n",
       "      <td>907178.0</td>\n",
       "      <td>True</td>\n",
       "      <td>3</td>\n",
       "      <td>0</td>\n",
       "      <td>118</td>\n",
       "    </tr>\n",
       "    <tr>\n",
       "      <th>20062</th>\n",
       "      <td>166997</td>\n",
       "      <td>2019-09-29 00:00:00+03:00</td>\n",
       "      <td>in</td>\n",
       "      <td>False</td>\n",
       "      <td>NaN</td>\n",
       "      <td>True</td>\n",
       "      <td>2</td>\n",
       "      <td>0</td>\n",
       "      <td>18</td>\n",
       "    </tr>\n",
       "    <tr>\n",
       "      <th>37895</th>\n",
       "      <td>167644</td>\n",
       "      <td>2019-11-27 00:00:00+03:00</td>\n",
       "      <td>in</td>\n",
       "      <td>False</td>\n",
       "      <td>924544.0</td>\n",
       "      <td>False</td>\n",
       "      <td>3</td>\n",
       "      <td>400</td>\n",
       "      <td>424</td>\n",
       "    </tr>\n",
       "    <tr>\n",
       "      <th>22181</th>\n",
       "      <td>167059</td>\n",
       "      <td>2019-09-23 00:00:00+03:00</td>\n",
       "      <td>in</td>\n",
       "      <td>False</td>\n",
       "      <td>911102.0</td>\n",
       "      <td>True</td>\n",
       "      <td>1</td>\n",
       "      <td>0</td>\n",
       "      <td>28</td>\n",
       "    </tr>\n",
       "    <tr>\n",
       "      <th>12566</th>\n",
       "      <td>166732</td>\n",
       "      <td>2019-09-11 00:00:00+03:00</td>\n",
       "      <td>out</td>\n",
       "      <td>True</td>\n",
       "      <td>894226.0</td>\n",
       "      <td>False</td>\n",
       "      <td>2</td>\n",
       "      <td>38</td>\n",
       "      <td>61</td>\n",
       "    </tr>\n",
       "    <tr>\n",
       "      <th>45397</th>\n",
       "      <td>168062</td>\n",
       "      <td>2019-11-25 00:00:00+03:00</td>\n",
       "      <td>out</td>\n",
       "      <td>True</td>\n",
       "      <td>947600.0</td>\n",
       "      <td>False</td>\n",
       "      <td>2</td>\n",
       "      <td>6</td>\n",
       "      <td>15</td>\n",
       "    </tr>\n",
       "    <tr>\n",
       "      <th>29202</th>\n",
       "      <td>167200</td>\n",
       "      <td>2019-11-13 00:00:00+03:00</td>\n",
       "      <td>in</td>\n",
       "      <td>False</td>\n",
       "      <td>905862.0</td>\n",
       "      <td>False</td>\n",
       "      <td>1</td>\n",
       "      <td>222</td>\n",
       "      <td>232</td>\n",
       "    </tr>\n",
       "    <tr>\n",
       "      <th>3282</th>\n",
       "      <td>166485</td>\n",
       "      <td>2019-10-21 00:00:00+03:00</td>\n",
       "      <td>out</td>\n",
       "      <td>False</td>\n",
       "      <td>887276.0</td>\n",
       "      <td>True</td>\n",
       "      <td>6</td>\n",
       "      <td>0</td>\n",
       "      <td>65</td>\n",
       "    </tr>\n",
       "  </tbody>\n",
       "</table>\n",
       "</div>"
      ],
      "text/plain": [
       "       user_id                       date direction internal  operator_id  \\\n",
       "41970   167923  2019-11-15 00:00:00+03:00       out    False     951408.0   \n",
       "30644   167359  2019-10-16 00:00:00+03:00       out    False     912722.0   \n",
       "23686   167109  2019-09-13 00:00:00+03:00       out    False     907178.0   \n",
       "20062   166997  2019-09-29 00:00:00+03:00        in    False          NaN   \n",
       "37895   167644  2019-11-27 00:00:00+03:00        in    False     924544.0   \n",
       "22181   167059  2019-09-23 00:00:00+03:00        in    False     911102.0   \n",
       "12566   166732  2019-09-11 00:00:00+03:00       out     True     894226.0   \n",
       "45397   168062  2019-11-25 00:00:00+03:00       out     True     947600.0   \n",
       "29202   167200  2019-11-13 00:00:00+03:00        in    False     905862.0   \n",
       "3282    166485  2019-10-21 00:00:00+03:00       out    False     887276.0   \n",
       "\n",
       "       is_missed_call  calls_count  call_duration  total_call_duration  \n",
       "41970            True            1              0                   17  \n",
       "30644           False            5            686                  774  \n",
       "23686            True            3              0                  118  \n",
       "20062            True            2              0                   18  \n",
       "37895           False            3            400                  424  \n",
       "22181            True            1              0                   28  \n",
       "12566           False            2             38                   61  \n",
       "45397           False            2              6                   15  \n",
       "29202           False            1            222                  232  \n",
       "3282             True            6              0                   65  "
      ]
     },
     "metadata": {},
     "output_type": "display_data"
    }
   ],
   "source": [
    "# looking at the general information of 'calls' dataset\n",
    "calls.info()\n",
    "display(calls.head(10))\n",
    "display(calls.sample(10))"
   ]
  },
  {
   "cell_type": "code",
   "execution_count": 4,
   "id": "vertical-times",
   "metadata": {},
   "outputs": [
    {
     "data": {
      "text/html": [
       "<div>\n",
       "<style scoped>\n",
       "    .dataframe tbody tr th:only-of-type {\n",
       "        vertical-align: middle;\n",
       "    }\n",
       "\n",
       "    .dataframe tbody tr th {\n",
       "        vertical-align: top;\n",
       "    }\n",
       "\n",
       "    .dataframe thead th {\n",
       "        text-align: right;\n",
       "    }\n",
       "</style>\n",
       "<table border=\"1\" class=\"dataframe\">\n",
       "  <thead>\n",
       "    <tr style=\"text-align: right;\">\n",
       "      <th></th>\n",
       "      <th>user_id</th>\n",
       "      <th>operator_id</th>\n",
       "      <th>calls_count</th>\n",
       "      <th>call_duration</th>\n",
       "      <th>total_call_duration</th>\n",
       "    </tr>\n",
       "  </thead>\n",
       "  <tbody>\n",
       "    <tr>\n",
       "      <th>count</th>\n",
       "      <td>53902.000000</td>\n",
       "      <td>45730.000000</td>\n",
       "      <td>53902.000000</td>\n",
       "      <td>53902.000000</td>\n",
       "      <td>53902.000000</td>\n",
       "    </tr>\n",
       "    <tr>\n",
       "      <th>mean</th>\n",
       "      <td>167295.344477</td>\n",
       "      <td>916535.993002</td>\n",
       "      <td>16.451245</td>\n",
       "      <td>866.684427</td>\n",
       "      <td>1157.133297</td>\n",
       "    </tr>\n",
       "    <tr>\n",
       "      <th>std</th>\n",
       "      <td>598.883775</td>\n",
       "      <td>21254.123136</td>\n",
       "      <td>62.917170</td>\n",
       "      <td>3731.791202</td>\n",
       "      <td>4403.468763</td>\n",
       "    </tr>\n",
       "    <tr>\n",
       "      <th>min</th>\n",
       "      <td>166377.000000</td>\n",
       "      <td>879896.000000</td>\n",
       "      <td>1.000000</td>\n",
       "      <td>0.000000</td>\n",
       "      <td>0.000000</td>\n",
       "    </tr>\n",
       "    <tr>\n",
       "      <th>25%</th>\n",
       "      <td>166782.000000</td>\n",
       "      <td>900788.000000</td>\n",
       "      <td>1.000000</td>\n",
       "      <td>0.000000</td>\n",
       "      <td>47.000000</td>\n",
       "    </tr>\n",
       "    <tr>\n",
       "      <th>50%</th>\n",
       "      <td>167162.000000</td>\n",
       "      <td>913938.000000</td>\n",
       "      <td>4.000000</td>\n",
       "      <td>38.000000</td>\n",
       "      <td>210.000000</td>\n",
       "    </tr>\n",
       "    <tr>\n",
       "      <th>75%</th>\n",
       "      <td>167819.000000</td>\n",
       "      <td>937708.000000</td>\n",
       "      <td>12.000000</td>\n",
       "      <td>572.000000</td>\n",
       "      <td>902.000000</td>\n",
       "    </tr>\n",
       "    <tr>\n",
       "      <th>max</th>\n",
       "      <td>168606.000000</td>\n",
       "      <td>973286.000000</td>\n",
       "      <td>4817.000000</td>\n",
       "      <td>144395.000000</td>\n",
       "      <td>166155.000000</td>\n",
       "    </tr>\n",
       "  </tbody>\n",
       "</table>\n",
       "</div>"
      ],
      "text/plain": [
       "             user_id    operator_id   calls_count  call_duration  \\\n",
       "count   53902.000000   45730.000000  53902.000000   53902.000000   \n",
       "mean   167295.344477  916535.993002     16.451245     866.684427   \n",
       "std       598.883775   21254.123136     62.917170    3731.791202   \n",
       "min    166377.000000  879896.000000      1.000000       0.000000   \n",
       "25%    166782.000000  900788.000000      1.000000       0.000000   \n",
       "50%    167162.000000  913938.000000      4.000000      38.000000   \n",
       "75%    167819.000000  937708.000000     12.000000     572.000000   \n",
       "max    168606.000000  973286.000000   4817.000000  144395.000000   \n",
       "\n",
       "       total_call_duration  \n",
       "count         53902.000000  \n",
       "mean           1157.133297  \n",
       "std            4403.468763  \n",
       "min               0.000000  \n",
       "25%              47.000000  \n",
       "50%             210.000000  \n",
       "75%             902.000000  \n",
       "max          166155.000000  "
      ]
     },
     "execution_count": 4,
     "metadata": {},
     "output_type": "execute_result"
    }
   ],
   "source": [
    "# looking at the metrics which can be generally evaluated with describe() method\n",
    "\n",
    "calls.describe()"
   ]
  },
  {
   "cell_type": "code",
   "execution_count": 5,
   "id": "scenic-mattress",
   "metadata": {},
   "outputs": [
    {
     "name": "stdout",
     "output_type": "stream",
     "text": [
      "<class 'pandas.core.frame.DataFrame'>\n",
      "RangeIndex: 732 entries, 0 to 731\n",
      "Data columns (total 3 columns):\n",
      " #   Column       Non-Null Count  Dtype \n",
      "---  ------       --------------  ----- \n",
      " 0   user_id      732 non-null    int64 \n",
      " 1   tariff_plan  732 non-null    object\n",
      " 2   date_start   732 non-null    object\n",
      "dtypes: int64(1), object(2)\n",
      "memory usage: 17.3+ KB\n"
     ]
    },
    {
     "data": {
      "text/html": [
       "<div>\n",
       "<style scoped>\n",
       "    .dataframe tbody tr th:only-of-type {\n",
       "        vertical-align: middle;\n",
       "    }\n",
       "\n",
       "    .dataframe tbody tr th {\n",
       "        vertical-align: top;\n",
       "    }\n",
       "\n",
       "    .dataframe thead th {\n",
       "        text-align: right;\n",
       "    }\n",
       "</style>\n",
       "<table border=\"1\" class=\"dataframe\">\n",
       "  <thead>\n",
       "    <tr style=\"text-align: right;\">\n",
       "      <th></th>\n",
       "      <th>user_id</th>\n",
       "      <th>tariff_plan</th>\n",
       "      <th>date_start</th>\n",
       "    </tr>\n",
       "  </thead>\n",
       "  <tbody>\n",
       "    <tr>\n",
       "      <th>0</th>\n",
       "      <td>166713</td>\n",
       "      <td>A</td>\n",
       "      <td>2019-08-15</td>\n",
       "    </tr>\n",
       "    <tr>\n",
       "      <th>1</th>\n",
       "      <td>166901</td>\n",
       "      <td>A</td>\n",
       "      <td>2019-08-23</td>\n",
       "    </tr>\n",
       "    <tr>\n",
       "      <th>2</th>\n",
       "      <td>168527</td>\n",
       "      <td>A</td>\n",
       "      <td>2019-10-29</td>\n",
       "    </tr>\n",
       "    <tr>\n",
       "      <th>3</th>\n",
       "      <td>167097</td>\n",
       "      <td>A</td>\n",
       "      <td>2019-09-01</td>\n",
       "    </tr>\n",
       "    <tr>\n",
       "      <th>4</th>\n",
       "      <td>168193</td>\n",
       "      <td>A</td>\n",
       "      <td>2019-10-16</td>\n",
       "    </tr>\n",
       "    <tr>\n",
       "      <th>5</th>\n",
       "      <td>167764</td>\n",
       "      <td>A</td>\n",
       "      <td>2019-09-30</td>\n",
       "    </tr>\n",
       "    <tr>\n",
       "      <th>6</th>\n",
       "      <td>167050</td>\n",
       "      <td>A</td>\n",
       "      <td>2019-08-29</td>\n",
       "    </tr>\n",
       "    <tr>\n",
       "      <th>7</th>\n",
       "      <td>168252</td>\n",
       "      <td>A</td>\n",
       "      <td>2019-10-17</td>\n",
       "    </tr>\n",
       "    <tr>\n",
       "      <th>8</th>\n",
       "      <td>168495</td>\n",
       "      <td>A</td>\n",
       "      <td>2019-10-28</td>\n",
       "    </tr>\n",
       "    <tr>\n",
       "      <th>9</th>\n",
       "      <td>167879</td>\n",
       "      <td>A</td>\n",
       "      <td>2019-10-03</td>\n",
       "    </tr>\n",
       "  </tbody>\n",
       "</table>\n",
       "</div>"
      ],
      "text/plain": [
       "   user_id tariff_plan  date_start\n",
       "0   166713           A  2019-08-15\n",
       "1   166901           A  2019-08-23\n",
       "2   168527           A  2019-10-29\n",
       "3   167097           A  2019-09-01\n",
       "4   168193           A  2019-10-16\n",
       "5   167764           A  2019-09-30\n",
       "6   167050           A  2019-08-29\n",
       "7   168252           A  2019-10-17\n",
       "8   168495           A  2019-10-28\n",
       "9   167879           A  2019-10-03"
      ]
     },
     "metadata": {},
     "output_type": "display_data"
    },
    {
     "data": {
      "text/html": [
       "<div>\n",
       "<style scoped>\n",
       "    .dataframe tbody tr th:only-of-type {\n",
       "        vertical-align: middle;\n",
       "    }\n",
       "\n",
       "    .dataframe tbody tr th {\n",
       "        vertical-align: top;\n",
       "    }\n",
       "\n",
       "    .dataframe thead th {\n",
       "        text-align: right;\n",
       "    }\n",
       "</style>\n",
       "<table border=\"1\" class=\"dataframe\">\n",
       "  <thead>\n",
       "    <tr style=\"text-align: right;\">\n",
       "      <th></th>\n",
       "      <th>user_id</th>\n",
       "      <th>tariff_plan</th>\n",
       "      <th>date_start</th>\n",
       "    </tr>\n",
       "  </thead>\n",
       "  <tbody>\n",
       "    <tr>\n",
       "      <th>451</th>\n",
       "      <td>167819</td>\n",
       "      <td>C</td>\n",
       "      <td>2019-10-01</td>\n",
       "    </tr>\n",
       "    <tr>\n",
       "      <th>115</th>\n",
       "      <td>166650</td>\n",
       "      <td>C</td>\n",
       "      <td>2019-08-13</td>\n",
       "    </tr>\n",
       "    <tr>\n",
       "      <th>246</th>\n",
       "      <td>167630</td>\n",
       "      <td>C</td>\n",
       "      <td>2019-09-24</td>\n",
       "    </tr>\n",
       "    <tr>\n",
       "      <th>569</th>\n",
       "      <td>167947</td>\n",
       "      <td>B</td>\n",
       "      <td>2019-10-07</td>\n",
       "    </tr>\n",
       "    <tr>\n",
       "      <th>216</th>\n",
       "      <td>168022</td>\n",
       "      <td>C</td>\n",
       "      <td>2019-10-09</td>\n",
       "    </tr>\n",
       "    <tr>\n",
       "      <th>311</th>\n",
       "      <td>167272</td>\n",
       "      <td>C</td>\n",
       "      <td>2019-09-10</td>\n",
       "    </tr>\n",
       "    <tr>\n",
       "      <th>139</th>\n",
       "      <td>167471</td>\n",
       "      <td>C</td>\n",
       "      <td>2019-09-18</td>\n",
       "    </tr>\n",
       "    <tr>\n",
       "      <th>483</th>\n",
       "      <td>167095</td>\n",
       "      <td>B</td>\n",
       "      <td>2019-08-31</td>\n",
       "    </tr>\n",
       "    <tr>\n",
       "      <th>428</th>\n",
       "      <td>167011</td>\n",
       "      <td>C</td>\n",
       "      <td>2019-08-28</td>\n",
       "    </tr>\n",
       "    <tr>\n",
       "      <th>715</th>\n",
       "      <td>167141</td>\n",
       "      <td>B</td>\n",
       "      <td>2019-09-03</td>\n",
       "    </tr>\n",
       "  </tbody>\n",
       "</table>\n",
       "</div>"
      ],
      "text/plain": [
       "     user_id tariff_plan  date_start\n",
       "451   167819           C  2019-10-01\n",
       "115   166650           C  2019-08-13\n",
       "246   167630           C  2019-09-24\n",
       "569   167947           B  2019-10-07\n",
       "216   168022           C  2019-10-09\n",
       "311   167272           C  2019-09-10\n",
       "139   167471           C  2019-09-18\n",
       "483   167095           B  2019-08-31\n",
       "428   167011           C  2019-08-28\n",
       "715   167141           B  2019-09-03"
      ]
     },
     "metadata": {},
     "output_type": "display_data"
    }
   ],
   "source": [
    "# looking at the general information of 'clients' dataset\n",
    "clients.info()\n",
    "display(clients.head(10))\n",
    "display(clients.sample(10))"
   ]
  },
  {
   "cell_type": "markdown",
   "id": "placed-emergency",
   "metadata": {},
   "source": [
    "## Conclusions "
   ]
  },
  {
   "cell_type": "markdown",
   "id": "affiliated-garbage",
   "metadata": {},
   "source": [
    "We have taken a first look on the datasets we have in hands and we see that the dataset on operators' activity (we named it 'calls') contains the following information: \n",
    "\n",
    "- 'user_id' — client account ID;\n",
    "- 'date' — date the statistics were retrieved;\n",
    "- 'direction' — call direction ('out' for outgoing, 'in' for incoming);\n",
    "- 'internal' — whether the call was internal (between a client's operators);\n",
    "- 'operator_id' — operator identifier;\n",
    "- 'is_missed_call' — whether the call was missed;\n",
    "- 'calls_count' — number of calls;\n",
    "- 'call_duration' — call duration (excluding waiting time);\n",
    "- 'total_call_duration' — call duration (including waiting time).\n",
    "\n",
    "The other dataset on the service's clients (we named it 'clients') contains the data on: \n",
    "\n",
    "- 'user_id';\n",
    "- 'tariff_plan' — client's current plan;\n",
    "- 'date_start' — client's registration date.\n",
    "\n",
    "We also have seen that the datasets have some problems: \n",
    "\n",
    "1. there are missing values in the columns of the table 'calls' containing information on whether the call was internal or not ('internal') and on operator's id ('operator_id'). \n",
    "2. some of the data are of incorrect data type: the values which represent dates are of 'object' type, which is obviously wrong. Moreover there're the values of 'operator_id' in the table  'calls' look like integer numbers, but of float type. \n",
    "\n",
    "We move further to the data prprocessing where we will check the missing values, change the inappropriate data types and check the data for duplicates. "
   ]
  },
  {
   "cell_type": "markdown",
   "id": "opponent-vegetable",
   "metadata": {},
   "source": [
    "## Step 2: Prepocessing the data"
   ]
  },
  {
   "cell_type": "markdown",
   "id": "intended-catering",
   "metadata": {},
   "source": [
    "#### 2.1. Checking the data for missing values (including \"hidden\" ones) and preprocessing them."
   ]
  },
  {
   "cell_type": "code",
   "execution_count": 6,
   "id": "human-stereo",
   "metadata": {},
   "outputs": [
    {
     "data": {
      "text/html": [
       "<div>\n",
       "<style scoped>\n",
       "    .dataframe tbody tr th:only-of-type {\n",
       "        vertical-align: middle;\n",
       "    }\n",
       "\n",
       "    .dataframe tbody tr th {\n",
       "        vertical-align: top;\n",
       "    }\n",
       "\n",
       "    .dataframe thead th {\n",
       "        text-align: right;\n",
       "    }\n",
       "</style>\n",
       "<table border=\"1\" class=\"dataframe\">\n",
       "  <thead>\n",
       "    <tr style=\"text-align: right;\">\n",
       "      <th></th>\n",
       "      <th>missing_values</th>\n",
       "      <th>% of total</th>\n",
       "    </tr>\n",
       "  </thead>\n",
       "  <tbody>\n",
       "    <tr>\n",
       "      <th>operator_id</th>\n",
       "      <td>8172</td>\n",
       "      <td>0.15</td>\n",
       "    </tr>\n",
       "    <tr>\n",
       "      <th>internal</th>\n",
       "      <td>117</td>\n",
       "      <td>0.00</td>\n",
       "    </tr>\n",
       "    <tr>\n",
       "      <th>user_id</th>\n",
       "      <td>0</td>\n",
       "      <td>0.00</td>\n",
       "    </tr>\n",
       "    <tr>\n",
       "      <th>date</th>\n",
       "      <td>0</td>\n",
       "      <td>0.00</td>\n",
       "    </tr>\n",
       "    <tr>\n",
       "      <th>direction</th>\n",
       "      <td>0</td>\n",
       "      <td>0.00</td>\n",
       "    </tr>\n",
       "    <tr>\n",
       "      <th>is_missed_call</th>\n",
       "      <td>0</td>\n",
       "      <td>0.00</td>\n",
       "    </tr>\n",
       "    <tr>\n",
       "      <th>calls_count</th>\n",
       "      <td>0</td>\n",
       "      <td>0.00</td>\n",
       "    </tr>\n",
       "    <tr>\n",
       "      <th>call_duration</th>\n",
       "      <td>0</td>\n",
       "      <td>0.00</td>\n",
       "    </tr>\n",
       "    <tr>\n",
       "      <th>total_call_duration</th>\n",
       "      <td>0</td>\n",
       "      <td>0.00</td>\n",
       "    </tr>\n",
       "  </tbody>\n",
       "</table>\n",
       "</div>"
      ],
      "text/plain": [
       "                     missing_values  % of total\n",
       "operator_id                    8172        0.15\n",
       "internal                        117        0.00\n",
       "user_id                           0        0.00\n",
       "date                              0        0.00\n",
       "direction                         0        0.00\n",
       "is_missed_call                    0        0.00\n",
       "calls_count                       0        0.00\n",
       "call_duration                     0        0.00\n",
       "total_call_duration               0        0.00"
      ]
     },
     "execution_count": 6,
     "metadata": {},
     "output_type": "execute_result"
    }
   ],
   "source": [
    "# finding the number and percentage of missing values in 'calls'\n",
    "report = calls.isna().sum().to_frame()\n",
    "report = report.rename(columns = {0: 'missing_values'})\n",
    "report['% of total'] = (report['missing_values'] / calls.shape[0]).round(2)\n",
    "report.sort_values(by = 'missing_values', ascending = False)"
   ]
  },
  {
   "cell_type": "code",
   "execution_count": 7,
   "id": "superior-marijuana",
   "metadata": {},
   "outputs": [
    {
     "data": {
      "text/plain": [
       "'\\nmsno.bar(calls)\\nplt.title (\"Visualisation of missing values and non-missing values (*non-missing values are dark)\", fontsize = 20)\\nplt.suptitle(\"\")\\nplt.show()\\n'"
      ]
     },
     "execution_count": 7,
     "metadata": {},
     "output_type": "execute_result"
    }
   ],
   "source": [
    "# visualizing missing values with missingno library tool\n",
    "\"\"\"\n",
    "msno.bar(calls)\n",
    "plt.title (\"Visualisation of missing values and non-missing values (*non-missing values are dark)\", fontsize = 20)\n",
    "plt.suptitle(\"\")\n",
    "plt.show()\n",
    "\"\"\""
   ]
  },
  {
   "cell_type": "markdown",
   "id": "sensitive-brook",
   "metadata": {},
   "source": [
    "Missing values in the column 'operator_id' of the table 'calls' make 15% of all values. It's quite a lot, but we have to remove the rows with these missing values:  we cannot fill them, because these values are so called \"missing at random\", at the same time almost all our further analysis will focus on the operators' individual performance, therefore this data is mandatory and we will not be able to carry out the analysis without it, \n",
    "\n",
    "AS for missing values in the column 'internal' of the table 'calls' they are also  \"missing at random\", but the good news is that their number is not significant. So we can also remove them without a risk to lose a lot of information. "
   ]
  },
  {
   "cell_type": "code",
   "execution_count": 8,
   "id": "charged-devon",
   "metadata": {},
   "outputs": [
    {
     "name": "stdout",
     "output_type": "stream",
     "text": [
      "<class 'pandas.core.frame.DataFrame'>\n",
      "Int64Index: 45670 entries, 1 to 53900\n",
      "Data columns (total 9 columns):\n",
      " #   Column               Non-Null Count  Dtype  \n",
      "---  ------               --------------  -----  \n",
      " 0   user_id              45670 non-null  int64  \n",
      " 1   date                 45670 non-null  object \n",
      " 2   direction            45670 non-null  object \n",
      " 3   internal             45670 non-null  object \n",
      " 4   operator_id          45670 non-null  float64\n",
      " 5   is_missed_call       45670 non-null  bool   \n",
      " 6   calls_count          45670 non-null  int64  \n",
      " 7   call_duration        45670 non-null  int64  \n",
      " 8   total_call_duration  45670 non-null  int64  \n",
      "dtypes: bool(1), float64(1), int64(4), object(3)\n",
      "memory usage: 3.2+ MB\n"
     ]
    }
   ],
   "source": [
    "# removing rows with missing values \n",
    "\n",
    "calls.dropna(inplace=True)\n",
    "\n",
    "# checking the results\n",
    "\n",
    "calls.info()"
   ]
  },
  {
   "cell_type": "markdown",
   "id": "phantom-variation",
   "metadata": {},
   "source": [
    "Now we'are going to check all other values for \"hidden\" missing values "
   ]
  },
  {
   "cell_type": "markdown",
   "id": "earned-belarus",
   "metadata": {},
   "source": [
    "##### checking 'user_id'"
   ]
  },
  {
   "cell_type": "code",
   "execution_count": 9,
   "id": "sharing-blake",
   "metadata": {},
   "outputs": [
    {
     "data": {
      "text/plain": [
       "array([166377, 166391, 166392, 166399, 166405, 166406, 166407, 166428,\n",
       "       166481, 166482, 166485, 166487, 166495, 166503, 166507, 166511,\n",
       "       166520, 166533, 166536, 166541, 166548, 166582, 166585, 166604,\n",
       "       166609, 166619, 166636, 166649, 166658, 166660, 166666, 166669,\n",
       "       166671, 166677, 166678, 166680, 166688, 166691, 166692, 166697,\n",
       "       166708, 166711, 166713, 166717, 166725, 166726, 166727, 166732,\n",
       "       166774, 166782, 166800, 166803, 166812, 166813, 166833, 166836,\n",
       "       166837, 166839, 166843, 166874, 166879, 166884, 166896, 166899,\n",
       "       166901, 166908, 166916, 166936, 166939, 166940, 166941, 166946,\n",
       "       166955, 166958, 166971, 166973, 166974, 166975, 166983, 166985,\n",
       "       166993, 166997, 167002, 167003, 167004, 167009, 167011, 167012,\n",
       "       167016, 167031, 167035, 167052, 167053, 167059, 167060, 167061,\n",
       "       167071, 167078, 167079, 167082, 167102, 167109, 167110, 167112,\n",
       "       167113, 167122, 167124, 167125, 167130, 167139, 167141, 167144,\n",
       "       167150, 167158, 167162, 167172, 167175, 167176, 167180, 167183,\n",
       "       167185, 167188, 167189, 167199, 167200, 167235, 167238, 167242,\n",
       "       167244, 167246, 167250, 167263, 167264, 167272, 167275, 167277,\n",
       "       167285, 167286, 167288, 167338, 167359, 167364, 167397, 167402,\n",
       "       167412, 167436, 167445, 167451, 167455, 167456, 167466, 167471,\n",
       "       167474, 167475, 167479, 167487, 167497, 167506, 167521, 167530,\n",
       "       167532, 167533, 167534, 167543, 167545, 167551, 167575, 167580,\n",
       "       167599, 167621, 167626, 167630, 167634, 167644, 167645, 167646,\n",
       "       167650, 167653, 167654, 167664, 167682, 167715, 167716, 167727,\n",
       "       167742, 167744, 167747, 167756, 167759, 167781, 167792, 167799,\n",
       "       167805, 167816, 167819, 167827, 167828, 167829, 167840, 167847,\n",
       "       167852, 167870, 167888, 167906, 167908, 167923, 167927, 167930,\n",
       "       167936, 167947, 167948, 167949, 167955, 167958, 167969, 167976,\n",
       "       167977, 167989, 167994, 167995, 167998, 167999, 168000, 168004,\n",
       "       168008, 168010, 168016, 168018, 168019, 168021, 168025, 168041,\n",
       "       168042, 168047, 168048, 168054, 168062, 168064, 168073, 168090,\n",
       "       168091, 168093, 168097, 168101, 168105, 168110, 168121, 168128,\n",
       "       168154, 168155, 168180, 168185, 168187, 168190, 168193, 168202,\n",
       "       168221, 168225, 168228, 168252, 168253, 168264, 168271, 168275,\n",
       "       168291, 168295, 168303, 168307, 168315, 168336, 168361, 168366,\n",
       "       168377, 168412, 168416, 168459, 168464, 168466, 168473, 168481,\n",
       "       168500, 168522, 168562, 168575, 168579, 168583, 168598, 168601,\n",
       "       168603, 168606])"
      ]
     },
     "metadata": {},
     "output_type": "display_data"
    },
    {
     "data": {
      "text/plain": [
       "168187    2497\n",
       "166658    1994\n",
       "167497    1321\n",
       "167626    1264\n",
       "166916    1213\n",
       "          ... \n",
       "167364       1\n",
       "168090       1\n",
       "167139       1\n",
       "166548       1\n",
       "166481       1\n",
       "Name: user_id, Length: 290, dtype: int64"
      ]
     },
     "metadata": {},
     "output_type": "display_data"
    }
   ],
   "source": [
    "display(calls['user_id'].unique())\n",
    "display(calls['user_id'].value_counts())"
   ]
  },
  {
   "cell_type": "markdown",
   "id": "electronic-witch",
   "metadata": {},
   "source": [
    "They look normal "
   ]
  },
  {
   "cell_type": "markdown",
   "id": "detected-parks",
   "metadata": {},
   "source": [
    "##### checking 'date'"
   ]
  },
  {
   "cell_type": "code",
   "execution_count": 10,
   "id": "happy-party",
   "metadata": {},
   "outputs": [
    {
     "data": {
      "text/plain": [
       "array(['2019-08-05 00:00:00+03:00', '2019-08-06 00:00:00+03:00',\n",
       "       '2019-08-07 00:00:00+03:00', '2019-08-08 00:00:00+03:00',\n",
       "       '2019-08-09 00:00:00+03:00', '2019-08-12 00:00:00+03:00',\n",
       "       '2019-08-13 00:00:00+03:00', '2019-08-14 00:00:00+03:00',\n",
       "       '2019-08-15 00:00:00+03:00', '2019-08-16 00:00:00+03:00',\n",
       "       '2019-08-19 00:00:00+03:00', '2019-08-20 00:00:00+03:00',\n",
       "       '2019-08-21 00:00:00+03:00', '2019-08-22 00:00:00+03:00',\n",
       "       '2019-08-23 00:00:00+03:00', '2019-08-26 00:00:00+03:00',\n",
       "       '2019-08-27 00:00:00+03:00', '2019-08-28 00:00:00+03:00',\n",
       "       '2019-08-29 00:00:00+03:00', '2019-08-30 00:00:00+03:00',\n",
       "       '2019-09-02 00:00:00+03:00', '2019-09-03 00:00:00+03:00',\n",
       "       '2019-09-04 00:00:00+03:00', '2019-09-05 00:00:00+03:00',\n",
       "       '2019-09-06 00:00:00+03:00', '2019-09-09 00:00:00+03:00',\n",
       "       '2019-09-10 00:00:00+03:00', '2019-09-11 00:00:00+03:00',\n",
       "       '2019-09-12 00:00:00+03:00', '2019-09-13 00:00:00+03:00',\n",
       "       '2019-09-16 00:00:00+03:00', '2019-09-17 00:00:00+03:00',\n",
       "       '2019-09-18 00:00:00+03:00', '2019-09-19 00:00:00+03:00',\n",
       "       '2019-09-20 00:00:00+03:00', '2019-09-23 00:00:00+03:00',\n",
       "       '2019-09-24 00:00:00+03:00', '2019-09-25 00:00:00+03:00',\n",
       "       '2019-09-26 00:00:00+03:00', '2019-09-27 00:00:00+03:00',\n",
       "       '2019-09-30 00:00:00+03:00', '2019-10-01 00:00:00+03:00',\n",
       "       '2019-10-02 00:00:00+03:00', '2019-10-03 00:00:00+03:00',\n",
       "       '2019-10-04 00:00:00+03:00', '2019-10-07 00:00:00+03:00',\n",
       "       '2019-10-08 00:00:00+03:00', '2019-10-09 00:00:00+03:00',\n",
       "       '2019-10-10 00:00:00+03:00', '2019-10-11 00:00:00+03:00',\n",
       "       '2019-10-14 00:00:00+03:00', '2019-10-15 00:00:00+03:00',\n",
       "       '2019-10-16 00:00:00+03:00', '2019-10-17 00:00:00+03:00',\n",
       "       '2019-10-18 00:00:00+03:00', '2019-10-21 00:00:00+03:00',\n",
       "       '2019-10-22 00:00:00+03:00', '2019-10-23 00:00:00+03:00',\n",
       "       '2019-10-24 00:00:00+03:00', '2019-10-25 00:00:00+03:00',\n",
       "       '2019-10-28 00:00:00+03:00', '2019-10-29 00:00:00+03:00',\n",
       "       '2019-10-30 00:00:00+03:00', '2019-10-31 00:00:00+03:00',\n",
       "       '2019-11-01 00:00:00+03:00', '2019-11-05 00:00:00+03:00',\n",
       "       '2019-11-06 00:00:00+03:00', '2019-11-07 00:00:00+03:00',\n",
       "       '2019-11-08 00:00:00+03:00', '2019-11-11 00:00:00+03:00',\n",
       "       '2019-11-12 00:00:00+03:00', '2019-11-13 00:00:00+03:00',\n",
       "       '2019-11-14 00:00:00+03:00', '2019-11-15 00:00:00+03:00',\n",
       "       '2019-11-18 00:00:00+03:00', '2019-11-19 00:00:00+03:00',\n",
       "       '2019-11-20 00:00:00+03:00', '2019-11-21 00:00:00+03:00',\n",
       "       '2019-11-22 00:00:00+03:00', '2019-11-25 00:00:00+03:00',\n",
       "       '2019-11-26 00:00:00+03:00', '2019-11-27 00:00:00+03:00',\n",
       "       '2019-11-28 00:00:00+03:00', '2019-08-17 00:00:00+03:00',\n",
       "       '2019-08-18 00:00:00+03:00', '2019-08-24 00:00:00+03:00',\n",
       "       '2019-08-25 00:00:00+03:00', '2019-08-31 00:00:00+03:00',\n",
       "       '2019-09-01 00:00:00+03:00', '2019-09-07 00:00:00+03:00',\n",
       "       '2019-09-08 00:00:00+03:00', '2019-09-14 00:00:00+03:00',\n",
       "       '2019-09-15 00:00:00+03:00', '2019-09-21 00:00:00+03:00',\n",
       "       '2019-09-22 00:00:00+03:00', '2019-09-28 00:00:00+03:00',\n",
       "       '2019-10-05 00:00:00+03:00', '2019-10-27 00:00:00+03:00',\n",
       "       '2019-11-04 00:00:00+03:00', '2019-11-09 00:00:00+03:00',\n",
       "       '2019-11-10 00:00:00+03:00', '2019-11-16 00:00:00+03:00',\n",
       "       '2019-11-23 00:00:00+03:00', '2019-11-24 00:00:00+03:00',\n",
       "       '2019-08-02 00:00:00+03:00', '2019-08-03 00:00:00+03:00',\n",
       "       '2019-08-04 00:00:00+03:00', '2019-08-10 00:00:00+03:00',\n",
       "       '2019-10-06 00:00:00+03:00', '2019-10-19 00:00:00+03:00',\n",
       "       '2019-10-20 00:00:00+03:00', '2019-10-12 00:00:00+03:00',\n",
       "       '2019-11-02 00:00:00+03:00', '2019-11-17 00:00:00+03:00',\n",
       "       '2019-10-13 00:00:00+03:00', '2019-10-26 00:00:00+03:00',\n",
       "       '2019-11-03 00:00:00+03:00', '2019-09-29 00:00:00+03:00'],\n",
       "      dtype=object)"
      ]
     },
     "metadata": {},
     "output_type": "display_data"
    },
    {
     "data": {
      "text/plain": [
       "2019-11-25 00:00:00+03:00    1083\n",
       "2019-11-28 00:00:00+03:00    1061\n",
       "2019-11-27 00:00:00+03:00    1058\n",
       "2019-11-21 00:00:00+03:00    1055\n",
       "2019-11-22 00:00:00+03:00    1048\n",
       "                             ... \n",
       "2019-08-05 00:00:00+03:00      14\n",
       "2019-08-03 00:00:00+03:00       6\n",
       "2019-08-02 00:00:00+03:00       6\n",
       "2019-08-10 00:00:00+03:00       4\n",
       "2019-08-04 00:00:00+03:00       3\n",
       "Name: date, Length: 118, dtype: int64"
      ]
     },
     "metadata": {},
     "output_type": "display_data"
    }
   ],
   "source": [
    "display(calls['date'].unique())\n",
    "display(calls['date'].value_counts())"
   ]
  },
  {
   "cell_type": "markdown",
   "id": "individual-progress",
   "metadata": {},
   "source": [
    "They look also fine"
   ]
  },
  {
   "cell_type": "markdown",
   "id": "fantastic-cologne",
   "metadata": {},
   "source": [
    "##### checking 'direction'"
   ]
  },
  {
   "cell_type": "code",
   "execution_count": 11,
   "id": "careful-dealer",
   "metadata": {},
   "outputs": [
    {
     "data": {
      "text/plain": [
       "array([ True, False])"
      ]
     },
     "metadata": {},
     "output_type": "display_data"
    },
    {
     "data": {
      "text/plain": [
       "False    30153\n",
       "True     15517\n",
       "Name: is_missed_call, dtype: int64"
      ]
     },
     "metadata": {},
     "output_type": "display_data"
    }
   ],
   "source": [
    "display(calls['is_missed_call'].unique())\n",
    "display(calls['is_missed_call'].value_counts())"
   ]
  },
  {
   "cell_type": "markdown",
   "id": "antique-license",
   "metadata": {},
   "source": [
    "We see no problem here "
   ]
  },
  {
   "cell_type": "markdown",
   "id": "progressive-repair",
   "metadata": {},
   "source": [
    "##### checking 'is_missed_call'"
   ]
  },
  {
   "cell_type": "code",
   "execution_count": 12,
   "id": "loaded-progressive",
   "metadata": {},
   "outputs": [
    {
     "data": {
      "text/plain": [
       "array([ True, False])"
      ]
     },
     "metadata": {},
     "output_type": "display_data"
    },
    {
     "data": {
      "text/plain": [
       "False    30153\n",
       "True     15517\n",
       "Name: is_missed_call, dtype: int64"
      ]
     },
     "metadata": {},
     "output_type": "display_data"
    }
   ],
   "source": [
    "display(calls['is_missed_call'].unique())\n",
    "display(calls['is_missed_call'].value_counts())"
   ]
  },
  {
   "cell_type": "markdown",
   "id": "persistent-pressure",
   "metadata": {},
   "source": [
    "No problem "
   ]
  },
  {
   "cell_type": "markdown",
   "id": "interracial-elevation",
   "metadata": {},
   "source": [
    "##### checking 'calls_count'"
   ]
  },
  {
   "cell_type": "code",
   "execution_count": 13,
   "id": "atlantic-tulsa",
   "metadata": {},
   "outputs": [
    {
     "data": {
      "text/plain": [
       "count    45670.000000\n",
       "mean        16.925203\n",
       "std         59.081220\n",
       "min          1.000000\n",
       "25%          1.000000\n",
       "50%          4.000000\n",
       "75%         14.000000\n",
       "max       4817.000000\n",
       "Name: calls_count, dtype: float64"
      ]
     },
     "metadata": {},
     "output_type": "display_data"
    }
   ],
   "source": [
    "display(calls['calls_count'].describe())"
   ]
  },
  {
   "cell_type": "markdown",
   "id": "modular-improvement",
   "metadata": {},
   "source": [
    "There's some problem as well. It is not possible to make 4817 calls a day. Probably, there was also a technical issue on extacting data step. Some calls were calculated multiple times. Let's see how the data distributed more precisely."
   ]
  },
  {
   "cell_type": "code",
   "execution_count": 14,
   "id": "technical-immunology",
   "metadata": {},
   "outputs": [
    {
     "data": {
      "text/plain": [
       "'\\nfig = px.histogram(calls, x=\"calls_count\", \\n                   marginal=\"box\", \\n                   hover_data=calls.columns)\\n\\nfig.update_layout(\\n    title = \\'Distribution of number of calls per day\" \\',\\n    xaxis_title = \"Number of calls\",\\n    yaxis_title = \"Number of entries in the dataset\",\\n    font=dict(\\n        family=\"Arial\",\\n        size=12,\\n        color=\"RebeccaPurple\"\\n    )\\n    )\\nfig.show()\\n'"
      ]
     },
     "execution_count": 14,
     "metadata": {},
     "output_type": "execute_result"
    }
   ],
   "source": [
    "\"\"\"\n",
    "fig = px.histogram(calls, x=\"calls_count\", \n",
    "                   marginal=\"box\", \n",
    "                   hover_data=calls.columns)\n",
    "\n",
    "fig.update_layout(\n",
    "    title = 'Distribution of number of calls per day\" ',\n",
    "    xaxis_title = \"Number of calls\",\n",
    "    yaxis_title = \"Number of entries in the dataset\",\n",
    "    font=dict(\n",
    "        family=\"Arial\",\n",
    "        size=12,\n",
    "        color=\"RebeccaPurple\"\n",
    "    )\n",
    "    )\n",
    "fig.show()\n",
    "\"\"\""
   ]
  },
  {
   "cell_type": "markdown",
   "id": "prescription-ecuador",
   "metadata": {},
   "source": [
    "We see that \"after\" 120 calls there are a not so many entries in the bins. We may agree, that it is possible to make 120 calls per day. More than that it is highly impossible, so to be on a safe side we need to remove such data because it is very probable that this data is crewed."
   ]
  },
  {
   "cell_type": "markdown",
   "id": "turned-valentine",
   "metadata": {},
   "source": [
    "##### checking 'call_duration'"
   ]
  },
  {
   "cell_type": "code",
   "execution_count": 15,
   "id": "continued-hygiene",
   "metadata": {},
   "outputs": [
    {
     "data": {
      "text/plain": [
       "count     45670.000000\n",
       "mean       1010.934399\n",
       "std        4017.101865\n",
       "min           0.000000\n",
       "25%           0.000000\n",
       "50%         107.000000\n",
       "75%         774.000000\n",
       "max      144395.000000\n",
       "Name: call_duration, dtype: float64"
      ]
     },
     "metadata": {},
     "output_type": "display_data"
    }
   ],
   "source": [
    "display(calls['call_duration'].describe())"
   ]
  },
  {
   "cell_type": "code",
   "execution_count": 16,
   "id": "pharmaceutical-session",
   "metadata": {},
   "outputs": [
    {
     "data": {
      "text/plain": [
       "'\\nfig = px.histogram(calls, x=\"call_duration\", \\n                   marginal=\"box\", \\n                   hover_data=calls.columns)\\n\\nfig.update_layout(\\n    title = \\'Distribution of values related to \"call_duration\" \\',\\n    xaxis_title = \"call duration\",\\n    yaxis_title = \"Number of entries in the dataset\",\\n    font=dict(\\n        family=\"Arial\",\\n        size=12,\\n        color=\"RebeccaPurple\"\\n    )\\n    )\\nfig.show()\\n'"
      ]
     },
     "execution_count": 16,
     "metadata": {},
     "output_type": "execute_result"
    }
   ],
   "source": [
    "# plotting a histogram to see distribution of such values\n",
    "\"\"\"\n",
    "fig = px.histogram(calls, x=\"call_duration\", \n",
    "                   marginal=\"box\", \n",
    "                   hover_data=calls.columns)\n",
    "\n",
    "fig.update_layout(\n",
    "    title = 'Distribution of values related to \"call_duration\" ',\n",
    "    xaxis_title = \"call duration\",\n",
    "    yaxis_title = \"Number of entries in the dataset\",\n",
    "    font=dict(\n",
    "        family=\"Arial\",\n",
    "        size=12,\n",
    "        color=\"RebeccaPurple\"\n",
    "    )\n",
    "    )\n",
    "fig.show()\n",
    "\"\"\"\n"
   ]
  },
  {
   "cell_type": "markdown",
   "id": "wooden-filename",
   "metadata": {},
   "source": []
  },
  {
   "cell_type": "markdown",
   "id": "lonely-xerox",
   "metadata": {},
   "source": [
    "##### checking 'total_call_duration'"
   ]
  },
  {
   "cell_type": "code",
   "execution_count": 17,
   "id": "adjacent-ordinary",
   "metadata": {},
   "outputs": [
    {
     "data": {
      "text/plain": [
       "count     45670.000000\n",
       "mean       1323.697000\n",
       "std        4735.336635\n",
       "min           0.000000\n",
       "25%          68.000000\n",
       "50%         291.000000\n",
       "75%        1112.000000\n",
       "max      166155.000000\n",
       "Name: total_call_duration, dtype: float64"
      ]
     },
     "metadata": {},
     "output_type": "display_data"
    }
   ],
   "source": [
    "display(calls['total_call_duration'].describe())"
   ]
  },
  {
   "cell_type": "code",
   "execution_count": 18,
   "id": "extra-rochester",
   "metadata": {},
   "outputs": [
    {
     "data": {
      "text/plain": [
       "'\\nfig = px.histogram(calls, x=\"total_call_duration\", \\n                   marginal=\"box\", \\n                   hover_data=calls.columns)\\n\\nfig.update_layout(\\n    title = \\'Distribution of values related to \"total_call_duration\" \\',\\n    xaxis_title = \"total call duration\",\\n    yaxis_title = \"Number of entries in the dataset\",\\n    font=dict(\\n        family=\"Arial\",\\n        size=12,\\n        color=\"RebeccaPurple\"\\n    )\\n    )\\nfig.show()\\n'"
      ]
     },
     "execution_count": 18,
     "metadata": {},
     "output_type": "execute_result"
    }
   ],
   "source": [
    "# plotting a histogram to see distribution of such values\n",
    "\"\"\"\n",
    "fig = px.histogram(calls, x=\"total_call_duration\", \n",
    "                   marginal=\"box\", \n",
    "                   hover_data=calls.columns)\n",
    "\n",
    "fig.update_layout(\n",
    "    title = 'Distribution of values related to \"total_call_duration\" ',\n",
    "    xaxis_title = \"total call duration\",\n",
    "    yaxis_title = \"Number of entries in the dataset\",\n",
    "    font=dict(\n",
    "        family=\"Arial\",\n",
    "        size=12,\n",
    "        color=\"RebeccaPurple\"\n",
    "    )\n",
    "    )\n",
    "fig.show()\n",
    "\"\"\""
   ]
  },
  {
   "cell_type": "code",
   "execution_count": 19,
   "id": "promotional-treatment",
   "metadata": {},
   "outputs": [
    {
     "data": {
      "text/html": [
       "<div>\n",
       "<style scoped>\n",
       "    .dataframe tbody tr th:only-of-type {\n",
       "        vertical-align: middle;\n",
       "    }\n",
       "\n",
       "    .dataframe tbody tr th {\n",
       "        vertical-align: top;\n",
       "    }\n",
       "\n",
       "    .dataframe thead th {\n",
       "        text-align: right;\n",
       "    }\n",
       "</style>\n",
       "<table border=\"1\" class=\"dataframe\">\n",
       "  <thead>\n",
       "    <tr style=\"text-align: right;\">\n",
       "      <th></th>\n",
       "      <th>user_id</th>\n",
       "      <th>date</th>\n",
       "      <th>direction</th>\n",
       "      <th>internal</th>\n",
       "      <th>operator_id</th>\n",
       "      <th>is_missed_call</th>\n",
       "      <th>calls_count</th>\n",
       "      <th>call_duration</th>\n",
       "      <th>total_call_duration</th>\n",
       "    </tr>\n",
       "  </thead>\n",
       "  <tbody>\n",
       "    <tr>\n",
       "      <th>6579</th>\n",
       "      <td>166582</td>\n",
       "      <td>2019-08-13 00:00:00+03:00</td>\n",
       "      <td>out</td>\n",
       "      <td>False</td>\n",
       "      <td>885890.0</td>\n",
       "      <td>False</td>\n",
       "      <td>308</td>\n",
       "      <td>35126</td>\n",
       "      <td>40739</td>\n",
       "    </tr>\n",
       "    <tr>\n",
       "      <th>6581</th>\n",
       "      <td>166582</td>\n",
       "      <td>2019-08-13 00:00:00+03:00</td>\n",
       "      <td>out</td>\n",
       "      <td>False</td>\n",
       "      <td>885876.0</td>\n",
       "      <td>False</td>\n",
       "      <td>265</td>\n",
       "      <td>30422</td>\n",
       "      <td>35448</td>\n",
       "    </tr>\n",
       "    <tr>\n",
       "      <th>6592</th>\n",
       "      <td>166582</td>\n",
       "      <td>2019-08-14 00:00:00+03:00</td>\n",
       "      <td>out</td>\n",
       "      <td>False</td>\n",
       "      <td>885890.0</td>\n",
       "      <td>False</td>\n",
       "      <td>230</td>\n",
       "      <td>30890</td>\n",
       "      <td>35295</td>\n",
       "    </tr>\n",
       "    <tr>\n",
       "      <th>6599</th>\n",
       "      <td>166582</td>\n",
       "      <td>2019-08-15 00:00:00+03:00</td>\n",
       "      <td>out</td>\n",
       "      <td>False</td>\n",
       "      <td>885890.0</td>\n",
       "      <td>False</td>\n",
       "      <td>417</td>\n",
       "      <td>42258</td>\n",
       "      <td>49942</td>\n",
       "    </tr>\n",
       "    <tr>\n",
       "      <th>6609</th>\n",
       "      <td>166582</td>\n",
       "      <td>2019-08-16 00:00:00+03:00</td>\n",
       "      <td>out</td>\n",
       "      <td>False</td>\n",
       "      <td>885890.0</td>\n",
       "      <td>False</td>\n",
       "      <td>517</td>\n",
       "      <td>57988</td>\n",
       "      <td>67232</td>\n",
       "    </tr>\n",
       "    <tr>\n",
       "      <th>6628</th>\n",
       "      <td>166582</td>\n",
       "      <td>2019-08-19 00:00:00+03:00</td>\n",
       "      <td>out</td>\n",
       "      <td>False</td>\n",
       "      <td>885876.0</td>\n",
       "      <td>False</td>\n",
       "      <td>343</td>\n",
       "      <td>36898</td>\n",
       "      <td>43738</td>\n",
       "    </tr>\n",
       "    <tr>\n",
       "      <th>6630</th>\n",
       "      <td>166582</td>\n",
       "      <td>2019-08-19 00:00:00+03:00</td>\n",
       "      <td>out</td>\n",
       "      <td>False</td>\n",
       "      <td>885890.0</td>\n",
       "      <td>False</td>\n",
       "      <td>546</td>\n",
       "      <td>59043</td>\n",
       "      <td>69599</td>\n",
       "    </tr>\n",
       "    <tr>\n",
       "      <th>6637</th>\n",
       "      <td>166582</td>\n",
       "      <td>2019-08-20 00:00:00+03:00</td>\n",
       "      <td>out</td>\n",
       "      <td>False</td>\n",
       "      <td>885876.0</td>\n",
       "      <td>False</td>\n",
       "      <td>270</td>\n",
       "      <td>29512</td>\n",
       "      <td>34819</td>\n",
       "    </tr>\n",
       "    <tr>\n",
       "      <th>6638</th>\n",
       "      <td>166582</td>\n",
       "      <td>2019-08-20 00:00:00+03:00</td>\n",
       "      <td>out</td>\n",
       "      <td>False</td>\n",
       "      <td>885890.0</td>\n",
       "      <td>False</td>\n",
       "      <td>387</td>\n",
       "      <td>46077</td>\n",
       "      <td>52888</td>\n",
       "    </tr>\n",
       "    <tr>\n",
       "      <th>6647</th>\n",
       "      <td>166582</td>\n",
       "      <td>2019-08-21 00:00:00+03:00</td>\n",
       "      <td>out</td>\n",
       "      <td>False</td>\n",
       "      <td>885890.0</td>\n",
       "      <td>False</td>\n",
       "      <td>511</td>\n",
       "      <td>66966</td>\n",
       "      <td>76310</td>\n",
       "    </tr>\n",
       "  </tbody>\n",
       "</table>\n",
       "</div>"
      ],
      "text/plain": [
       "      user_id                       date direction internal  operator_id  \\\n",
       "6579   166582  2019-08-13 00:00:00+03:00       out    False     885890.0   \n",
       "6581   166582  2019-08-13 00:00:00+03:00       out    False     885876.0   \n",
       "6592   166582  2019-08-14 00:00:00+03:00       out    False     885890.0   \n",
       "6599   166582  2019-08-15 00:00:00+03:00       out    False     885890.0   \n",
       "6609   166582  2019-08-16 00:00:00+03:00       out    False     885890.0   \n",
       "6628   166582  2019-08-19 00:00:00+03:00       out    False     885876.0   \n",
       "6630   166582  2019-08-19 00:00:00+03:00       out    False     885890.0   \n",
       "6637   166582  2019-08-20 00:00:00+03:00       out    False     885876.0   \n",
       "6638   166582  2019-08-20 00:00:00+03:00       out    False     885890.0   \n",
       "6647   166582  2019-08-21 00:00:00+03:00       out    False     885890.0   \n",
       "\n",
       "      is_missed_call  calls_count  call_duration  total_call_duration  \n",
       "6579           False          308          35126                40739  \n",
       "6581           False          265          30422                35448  \n",
       "6592           False          230          30890                35295  \n",
       "6599           False          417          42258                49942  \n",
       "6609           False          517          57988                67232  \n",
       "6628           False          343          36898                43738  \n",
       "6630           False          546          59043                69599  \n",
       "6637           False          270          29512                34819  \n",
       "6638           False          387          46077                52888  \n",
       "6647           False          511          66966                76310  "
      ]
     },
     "execution_count": 19,
     "metadata": {},
     "output_type": "execute_result"
    }
   ],
   "source": [
    "# looking at the rows with extra long duration \n",
    "\n",
    "calls.query('total_call_duration > 28800').head(10)"
   ]
  },
  {
   "cell_type": "markdown",
   "id": "vietnamese-grass",
   "metadata": {},
   "source": [
    "It looks like there's a problem with these values. There are many outliers which are quite wierd. Something went wrong with the data, when it was extracted. \n",
    "\n",
    "A normal working day (in the most of the countries) is 8 hours. 8 hours is 28 800 in total. So it is the maximum time that an operator may spend on calls. Of course, some operators may work extra hours, but they also need some rest and there's always some kind of waste of time. \n",
    "\n",
    "So we assume that 8 hours period seems to be an appropriate time limit we may use as the fence in order to keep only most probable true data. Because the other data are also wrong (for example number of calls) the most reasonable way to handle such data is just to get rid of such values. "
   ]
  },
  {
   "cell_type": "code",
   "execution_count": 20,
   "id": "aware-batch",
   "metadata": {},
   "outputs": [
    {
     "name": "stdout",
     "output_type": "stream",
     "text": [
      "<class 'pandas.core.frame.DataFrame'>\n",
      "RangeIndex: 44903 entries, 0 to 44902\n",
      "Data columns (total 9 columns):\n",
      " #   Column               Non-Null Count  Dtype  \n",
      "---  ------               --------------  -----  \n",
      " 0   user_id              44903 non-null  int64  \n",
      " 1   date                 44903 non-null  object \n",
      " 2   direction            44903 non-null  object \n",
      " 3   internal             44903 non-null  object \n",
      " 4   operator_id          44903 non-null  float64\n",
      " 5   is_missed_call       44903 non-null  bool   \n",
      " 6   calls_count          44903 non-null  int64  \n",
      " 7   call_duration        44903 non-null  int64  \n",
      " 8   total_call_duration  44903 non-null  int64  \n",
      "dtypes: bool(1), float64(1), int64(4), object(3)\n",
      "memory usage: 2.8+ MB\n"
     ]
    }
   ],
   "source": [
    "# filtering the data \n",
    "\n",
    "calls = calls.query('call_duration <= 28800')\n",
    "calls = calls.query('total_call_duration <= 28800')\n",
    "calls = calls.query('calls_count < 120')\n",
    "calls = calls.reset_index(drop=True)\n",
    "\n",
    "# checking the results\n",
    "\n",
    "calls.info()"
   ]
  },
  {
   "cell_type": "markdown",
   "id": "hybrid-portal",
   "metadata": {},
   "source": [
    "#### 2.2. Changing the inappropriate datatypes."
   ]
  },
  {
   "cell_type": "code",
   "execution_count": 21,
   "id": "raised-idaho",
   "metadata": {},
   "outputs": [
    {
     "data": {
      "text/html": [
       "<div>\n",
       "<style scoped>\n",
       "    .dataframe tbody tr th:only-of-type {\n",
       "        vertical-align: middle;\n",
       "    }\n",
       "\n",
       "    .dataframe tbody tr th {\n",
       "        vertical-align: top;\n",
       "    }\n",
       "\n",
       "    .dataframe thead th {\n",
       "        text-align: right;\n",
       "    }\n",
       "</style>\n",
       "<table border=\"1\" class=\"dataframe\">\n",
       "  <thead>\n",
       "    <tr style=\"text-align: right;\">\n",
       "      <th></th>\n",
       "      <th>user_id</th>\n",
       "      <th>date</th>\n",
       "      <th>direction</th>\n",
       "      <th>internal</th>\n",
       "      <th>operator_id</th>\n",
       "      <th>is_missed_call</th>\n",
       "      <th>calls_count</th>\n",
       "      <th>call_duration</th>\n",
       "      <th>total_call_duration</th>\n",
       "    </tr>\n",
       "  </thead>\n",
       "  <tbody>\n",
       "    <tr>\n",
       "      <th>0</th>\n",
       "      <td>166377</td>\n",
       "      <td>2019-08-05 00:00:00+03:00</td>\n",
       "      <td>out</td>\n",
       "      <td>True</td>\n",
       "      <td>880022.0</td>\n",
       "      <td>True</td>\n",
       "      <td>3</td>\n",
       "      <td>0</td>\n",
       "      <td>5</td>\n",
       "    </tr>\n",
       "    <tr>\n",
       "      <th>1</th>\n",
       "      <td>166377</td>\n",
       "      <td>2019-08-05 00:00:00+03:00</td>\n",
       "      <td>out</td>\n",
       "      <td>True</td>\n",
       "      <td>880020.0</td>\n",
       "      <td>True</td>\n",
       "      <td>1</td>\n",
       "      <td>0</td>\n",
       "      <td>1</td>\n",
       "    </tr>\n",
       "    <tr>\n",
       "      <th>2</th>\n",
       "      <td>166377</td>\n",
       "      <td>2019-08-05 00:00:00+03:00</td>\n",
       "      <td>out</td>\n",
       "      <td>True</td>\n",
       "      <td>880020.0</td>\n",
       "      <td>False</td>\n",
       "      <td>1</td>\n",
       "      <td>10</td>\n",
       "      <td>18</td>\n",
       "    </tr>\n",
       "    <tr>\n",
       "      <th>3</th>\n",
       "      <td>166377</td>\n",
       "      <td>2019-08-05 00:00:00+03:00</td>\n",
       "      <td>out</td>\n",
       "      <td>False</td>\n",
       "      <td>880022.0</td>\n",
       "      <td>True</td>\n",
       "      <td>3</td>\n",
       "      <td>0</td>\n",
       "      <td>25</td>\n",
       "    </tr>\n",
       "    <tr>\n",
       "      <th>4</th>\n",
       "      <td>166377</td>\n",
       "      <td>2019-08-05 00:00:00+03:00</td>\n",
       "      <td>out</td>\n",
       "      <td>False</td>\n",
       "      <td>880020.0</td>\n",
       "      <td>False</td>\n",
       "      <td>2</td>\n",
       "      <td>3</td>\n",
       "      <td>29</td>\n",
       "    </tr>\n",
       "  </tbody>\n",
       "</table>\n",
       "</div>"
      ],
      "text/plain": [
       "   user_id                       date direction internal  operator_id  \\\n",
       "0   166377  2019-08-05 00:00:00+03:00       out     True     880022.0   \n",
       "1   166377  2019-08-05 00:00:00+03:00       out     True     880020.0   \n",
       "2   166377  2019-08-05 00:00:00+03:00       out     True     880020.0   \n",
       "3   166377  2019-08-05 00:00:00+03:00       out    False     880022.0   \n",
       "4   166377  2019-08-05 00:00:00+03:00       out    False     880020.0   \n",
       "\n",
       "   is_missed_call  calls_count  call_duration  total_call_duration  \n",
       "0            True            3              0                    5  \n",
       "1            True            1              0                    1  \n",
       "2           False            1             10                   18  \n",
       "3            True            3              0                   25  \n",
       "4           False            2              3                   29  "
      ]
     },
     "execution_count": 21,
     "metadata": {},
     "output_type": "execute_result"
    }
   ],
   "source": [
    "calls.head()"
   ]
  },
  {
   "cell_type": "markdown",
   "id": "aboriginal-agenda",
   "metadata": {},
   "source": [
    "##### Converting data type of values of the column 'date' in the table 'calls' from object into datetime"
   ]
  },
  {
   "cell_type": "code",
   "execution_count": 22,
   "id": "particular-water",
   "metadata": {},
   "outputs": [],
   "source": [
    "# converting 'object' into 'datetime'\n",
    "calls['date'] = pd.to_datetime(calls['date'])\n",
    "\n",
    "# retreiving date from the each value\n",
    "calls['date'] = calls['date'].dt.date\n",
    "\n",
    "# convertung \"back\" into datetime \n",
    "calls['date'] = pd.to_datetime(calls['date'])"
   ]
  },
  {
   "cell_type": "markdown",
   "id": "novel-dayton",
   "metadata": {},
   "source": [
    "##### Converting values in 'internal' column in the table 'calls'  from 'object' into 'boolean' format \n",
    "\n",
    "For sake of saving memory and improving processing speed we convert also values of 'internal' column to boolean column as they are actually of boolean type. "
   ]
  },
  {
   "cell_type": "code",
   "execution_count": 23,
   "id": "proud-edinburgh",
   "metadata": {},
   "outputs": [],
   "source": [
    "calls['internal'] = calls['internal'].convert_dtypes(convert_boolean=True)"
   ]
  },
  {
   "cell_type": "markdown",
   "id": "czech-richmond",
   "metadata": {},
   "source": [
    "##### Converting values in 'operator_id' column in the table 'calls' from 'float' into 'integer' format "
   ]
  },
  {
   "cell_type": "code",
   "execution_count": 24,
   "id": "humanitarian-middle",
   "metadata": {},
   "outputs": [],
   "source": [
    "calls['operator_id'] = calls['operator_id'].astype('int')"
   ]
  },
  {
   "cell_type": "code",
   "execution_count": 25,
   "id": "affected-equity",
   "metadata": {},
   "outputs": [
    {
     "data": {
      "text/html": [
       "<div>\n",
       "<style scoped>\n",
       "    .dataframe tbody tr th:only-of-type {\n",
       "        vertical-align: middle;\n",
       "    }\n",
       "\n",
       "    .dataframe tbody tr th {\n",
       "        vertical-align: top;\n",
       "    }\n",
       "\n",
       "    .dataframe thead th {\n",
       "        text-align: right;\n",
       "    }\n",
       "</style>\n",
       "<table border=\"1\" class=\"dataframe\">\n",
       "  <thead>\n",
       "    <tr style=\"text-align: right;\">\n",
       "      <th></th>\n",
       "      <th>user_id</th>\n",
       "      <th>date</th>\n",
       "      <th>direction</th>\n",
       "      <th>internal</th>\n",
       "      <th>operator_id</th>\n",
       "      <th>is_missed_call</th>\n",
       "      <th>calls_count</th>\n",
       "      <th>call_duration</th>\n",
       "      <th>total_call_duration</th>\n",
       "    </tr>\n",
       "  </thead>\n",
       "  <tbody>\n",
       "    <tr>\n",
       "      <th>0</th>\n",
       "      <td>166377</td>\n",
       "      <td>2019-08-05</td>\n",
       "      <td>out</td>\n",
       "      <td>True</td>\n",
       "      <td>880022</td>\n",
       "      <td>True</td>\n",
       "      <td>3</td>\n",
       "      <td>0</td>\n",
       "      <td>5</td>\n",
       "    </tr>\n",
       "    <tr>\n",
       "      <th>1</th>\n",
       "      <td>166377</td>\n",
       "      <td>2019-08-05</td>\n",
       "      <td>out</td>\n",
       "      <td>True</td>\n",
       "      <td>880020</td>\n",
       "      <td>True</td>\n",
       "      <td>1</td>\n",
       "      <td>0</td>\n",
       "      <td>1</td>\n",
       "    </tr>\n",
       "    <tr>\n",
       "      <th>2</th>\n",
       "      <td>166377</td>\n",
       "      <td>2019-08-05</td>\n",
       "      <td>out</td>\n",
       "      <td>True</td>\n",
       "      <td>880020</td>\n",
       "      <td>False</td>\n",
       "      <td>1</td>\n",
       "      <td>10</td>\n",
       "      <td>18</td>\n",
       "    </tr>\n",
       "    <tr>\n",
       "      <th>3</th>\n",
       "      <td>166377</td>\n",
       "      <td>2019-08-05</td>\n",
       "      <td>out</td>\n",
       "      <td>False</td>\n",
       "      <td>880022</td>\n",
       "      <td>True</td>\n",
       "      <td>3</td>\n",
       "      <td>0</td>\n",
       "      <td>25</td>\n",
       "    </tr>\n",
       "    <tr>\n",
       "      <th>4</th>\n",
       "      <td>166377</td>\n",
       "      <td>2019-08-05</td>\n",
       "      <td>out</td>\n",
       "      <td>False</td>\n",
       "      <td>880020</td>\n",
       "      <td>False</td>\n",
       "      <td>2</td>\n",
       "      <td>3</td>\n",
       "      <td>29</td>\n",
       "    </tr>\n",
       "  </tbody>\n",
       "</table>\n",
       "</div>"
      ],
      "text/plain": [
       "   user_id       date direction  internal  operator_id  is_missed_call  \\\n",
       "0   166377 2019-08-05       out      True       880022            True   \n",
       "1   166377 2019-08-05       out      True       880020            True   \n",
       "2   166377 2019-08-05       out      True       880020           False   \n",
       "3   166377 2019-08-05       out     False       880022            True   \n",
       "4   166377 2019-08-05       out     False       880020           False   \n",
       "\n",
       "   calls_count  call_duration  total_call_duration  \n",
       "0            3              0                    5  \n",
       "1            1              0                    1  \n",
       "2            1             10                   18  \n",
       "3            3              0                   25  \n",
       "4            2              3                   29  "
      ]
     },
     "metadata": {},
     "output_type": "display_data"
    },
    {
     "name": "stdout",
     "output_type": "stream",
     "text": [
      "<class 'pandas.core.frame.DataFrame'>\n",
      "RangeIndex: 44903 entries, 0 to 44902\n",
      "Data columns (total 9 columns):\n",
      " #   Column               Non-Null Count  Dtype         \n",
      "---  ------               --------------  -----         \n",
      " 0   user_id              44903 non-null  int64         \n",
      " 1   date                 44903 non-null  datetime64[ns]\n",
      " 2   direction            44903 non-null  object        \n",
      " 3   internal             44903 non-null  boolean       \n",
      " 4   operator_id          44903 non-null  int64         \n",
      " 5   is_missed_call       44903 non-null  bool          \n",
      " 6   calls_count          44903 non-null  int64         \n",
      " 7   call_duration        44903 non-null  int64         \n",
      " 8   total_call_duration  44903 non-null  int64         \n",
      "dtypes: bool(1), boolean(1), datetime64[ns](1), int64(5), object(1)\n",
      "memory usage: 2.5+ MB\n"
     ]
    }
   ],
   "source": [
    "# checking the results\n",
    "\n",
    "display(calls.head())\n",
    "calls.info()"
   ]
  },
  {
   "cell_type": "code",
   "execution_count": 26,
   "id": "baking-serum",
   "metadata": {},
   "outputs": [
    {
     "data": {
      "text/html": [
       "<div>\n",
       "<style scoped>\n",
       "    .dataframe tbody tr th:only-of-type {\n",
       "        vertical-align: middle;\n",
       "    }\n",
       "\n",
       "    .dataframe tbody tr th {\n",
       "        vertical-align: top;\n",
       "    }\n",
       "\n",
       "    .dataframe thead th {\n",
       "        text-align: right;\n",
       "    }\n",
       "</style>\n",
       "<table border=\"1\" class=\"dataframe\">\n",
       "  <thead>\n",
       "    <tr style=\"text-align: right;\">\n",
       "      <th></th>\n",
       "      <th>user_id</th>\n",
       "      <th>tariff_plan</th>\n",
       "      <th>date_start</th>\n",
       "    </tr>\n",
       "  </thead>\n",
       "  <tbody>\n",
       "    <tr>\n",
       "      <th>0</th>\n",
       "      <td>166713</td>\n",
       "      <td>A</td>\n",
       "      <td>2019-08-15</td>\n",
       "    </tr>\n",
       "    <tr>\n",
       "      <th>1</th>\n",
       "      <td>166901</td>\n",
       "      <td>A</td>\n",
       "      <td>2019-08-23</td>\n",
       "    </tr>\n",
       "    <tr>\n",
       "      <th>2</th>\n",
       "      <td>168527</td>\n",
       "      <td>A</td>\n",
       "      <td>2019-10-29</td>\n",
       "    </tr>\n",
       "    <tr>\n",
       "      <th>3</th>\n",
       "      <td>167097</td>\n",
       "      <td>A</td>\n",
       "      <td>2019-09-01</td>\n",
       "    </tr>\n",
       "    <tr>\n",
       "      <th>4</th>\n",
       "      <td>168193</td>\n",
       "      <td>A</td>\n",
       "      <td>2019-10-16</td>\n",
       "    </tr>\n",
       "  </tbody>\n",
       "</table>\n",
       "</div>"
      ],
      "text/plain": [
       "   user_id tariff_plan  date_start\n",
       "0   166713           A  2019-08-15\n",
       "1   166901           A  2019-08-23\n",
       "2   168527           A  2019-10-29\n",
       "3   167097           A  2019-09-01\n",
       "4   168193           A  2019-10-16"
      ]
     },
     "metadata": {},
     "output_type": "display_data"
    },
    {
     "name": "stdout",
     "output_type": "stream",
     "text": [
      "<class 'pandas.core.frame.DataFrame'>\n",
      "RangeIndex: 732 entries, 0 to 731\n",
      "Data columns (total 3 columns):\n",
      " #   Column       Non-Null Count  Dtype \n",
      "---  ------       --------------  ----- \n",
      " 0   user_id      732 non-null    int64 \n",
      " 1   tariff_plan  732 non-null    object\n",
      " 2   date_start   732 non-null    object\n",
      "dtypes: int64(1), object(2)\n",
      "memory usage: 17.3+ KB\n"
     ]
    }
   ],
   "source": [
    "display(clients.head())\n",
    "clients.info()"
   ]
  },
  {
   "cell_type": "markdown",
   "id": "subsequent-emergency",
   "metadata": {},
   "source": [
    "##### Converting data type of values of the column 'date_start' in the table 'clients' from object into datetime"
   ]
  },
  {
   "cell_type": "code",
   "execution_count": 27,
   "id": "committed-terminology",
   "metadata": {},
   "outputs": [],
   "source": [
    "# converting 'object' into 'datetime'\n",
    "clients['date_start'] = pd.to_datetime(clients['date_start'])"
   ]
  },
  {
   "cell_type": "code",
   "execution_count": 28,
   "id": "middle-registrar",
   "metadata": {},
   "outputs": [
    {
     "data": {
      "text/html": [
       "<div>\n",
       "<style scoped>\n",
       "    .dataframe tbody tr th:only-of-type {\n",
       "        vertical-align: middle;\n",
       "    }\n",
       "\n",
       "    .dataframe tbody tr th {\n",
       "        vertical-align: top;\n",
       "    }\n",
       "\n",
       "    .dataframe thead th {\n",
       "        text-align: right;\n",
       "    }\n",
       "</style>\n",
       "<table border=\"1\" class=\"dataframe\">\n",
       "  <thead>\n",
       "    <tr style=\"text-align: right;\">\n",
       "      <th></th>\n",
       "      <th>user_id</th>\n",
       "      <th>tariff_plan</th>\n",
       "      <th>date_start</th>\n",
       "    </tr>\n",
       "  </thead>\n",
       "  <tbody>\n",
       "    <tr>\n",
       "      <th>0</th>\n",
       "      <td>166713</td>\n",
       "      <td>A</td>\n",
       "      <td>2019-08-15</td>\n",
       "    </tr>\n",
       "    <tr>\n",
       "      <th>1</th>\n",
       "      <td>166901</td>\n",
       "      <td>A</td>\n",
       "      <td>2019-08-23</td>\n",
       "    </tr>\n",
       "    <tr>\n",
       "      <th>2</th>\n",
       "      <td>168527</td>\n",
       "      <td>A</td>\n",
       "      <td>2019-10-29</td>\n",
       "    </tr>\n",
       "    <tr>\n",
       "      <th>3</th>\n",
       "      <td>167097</td>\n",
       "      <td>A</td>\n",
       "      <td>2019-09-01</td>\n",
       "    </tr>\n",
       "    <tr>\n",
       "      <th>4</th>\n",
       "      <td>168193</td>\n",
       "      <td>A</td>\n",
       "      <td>2019-10-16</td>\n",
       "    </tr>\n",
       "  </tbody>\n",
       "</table>\n",
       "</div>"
      ],
      "text/plain": [
       "   user_id tariff_plan date_start\n",
       "0   166713           A 2019-08-15\n",
       "1   166901           A 2019-08-23\n",
       "2   168527           A 2019-10-29\n",
       "3   167097           A 2019-09-01\n",
       "4   168193           A 2019-10-16"
      ]
     },
     "metadata": {},
     "output_type": "display_data"
    },
    {
     "name": "stdout",
     "output_type": "stream",
     "text": [
      "<class 'pandas.core.frame.DataFrame'>\n",
      "RangeIndex: 732 entries, 0 to 731\n",
      "Data columns (total 3 columns):\n",
      " #   Column       Non-Null Count  Dtype         \n",
      "---  ------       --------------  -----         \n",
      " 0   user_id      732 non-null    int64         \n",
      " 1   tariff_plan  732 non-null    object        \n",
      " 2   date_start   732 non-null    datetime64[ns]\n",
      "dtypes: datetime64[ns](1), int64(1), object(1)\n",
      "memory usage: 17.3+ KB\n"
     ]
    }
   ],
   "source": [
    "display(clients.head())\n",
    "clients.info()"
   ]
  },
  {
   "cell_type": "markdown",
   "id": "foster-knock",
   "metadata": {},
   "source": [
    "#### 2.3. Checking the dataset for duplicates."
   ]
  },
  {
   "cell_type": "markdown",
   "id": "charged-corner",
   "metadata": {},
   "source": [
    "##### Checking 'calls'"
   ]
  },
  {
   "cell_type": "code",
   "execution_count": 29,
   "id": "shared-encyclopedia",
   "metadata": {},
   "outputs": [
    {
     "data": {
      "text/plain": [
       "4103"
      ]
     },
     "execution_count": 29,
     "metadata": {},
     "output_type": "execute_result"
    }
   ],
   "source": [
    "calls.duplicated().sum()"
   ]
  },
  {
   "cell_type": "markdown",
   "id": "strategic-produce",
   "metadata": {},
   "source": [
    "We found duplicates, so we need to drop them "
   ]
  },
  {
   "cell_type": "code",
   "execution_count": 30,
   "id": "statewide-jacksonville",
   "metadata": {},
   "outputs": [
    {
     "name": "stdout",
     "output_type": "stream",
     "text": [
      "0\n",
      "<class 'pandas.core.frame.DataFrame'>\n",
      "RangeIndex: 40800 entries, 0 to 40799\n",
      "Data columns (total 9 columns):\n",
      " #   Column               Non-Null Count  Dtype         \n",
      "---  ------               --------------  -----         \n",
      " 0   user_id              40800 non-null  int64         \n",
      " 1   date                 40800 non-null  datetime64[ns]\n",
      " 2   direction            40800 non-null  object        \n",
      " 3   internal             40800 non-null  boolean       \n",
      " 4   operator_id          40800 non-null  int64         \n",
      " 5   is_missed_call       40800 non-null  bool          \n",
      " 6   calls_count          40800 non-null  int64         \n",
      " 7   call_duration        40800 non-null  int64         \n",
      " 8   total_call_duration  40800 non-null  int64         \n",
      "dtypes: bool(1), boolean(1), datetime64[ns](1), int64(5), object(1)\n",
      "memory usage: 2.3+ MB\n"
     ]
    }
   ],
   "source": [
    "calls = calls.drop_duplicates().reset_index(drop=True)\n",
    "\n",
    "# checking the results\n",
    "print(calls.duplicated().sum())\n",
    "calls.info()"
   ]
  },
  {
   "cell_type": "markdown",
   "id": "daily-liquid",
   "metadata": {},
   "source": [
    "##### Checking 'clients'"
   ]
  },
  {
   "cell_type": "code",
   "execution_count": 31,
   "id": "willing-discussion",
   "metadata": {},
   "outputs": [
    {
     "data": {
      "text/plain": [
       "0"
      ]
     },
     "execution_count": 31,
     "metadata": {},
     "output_type": "execute_result"
    }
   ],
   "source": [
    "clients.duplicated().sum()"
   ]
  },
  {
   "cell_type": "markdown",
   "id": "exceptional-liver",
   "metadata": {},
   "source": [
    "No duplicates, so there's no more problem. "
   ]
  },
  {
   "cell_type": "markdown",
   "id": "alike-composer",
   "metadata": {},
   "source": [
    "## Conclusions"
   ]
  },
  {
   "cell_type": "markdown",
   "id": "compressed-sentence",
   "metadata": {},
   "source": [
    "We have checked all the columns of the two datasets for missing values and have found that there are missing values related to the operators ids, such vales make about 15% of all data. less imporant but of the same kind   We do not know the reason why these values are missing, but it looks like that there was a technical issue. But anyway, due the fact that we need them to evaluate efficiency of the operators (the main goal of the study), we had to removed them from the dataset.\n",
    "\n",
    "Moreover we found that there were probable screwed data in the column 'calls_count', 'call_duration' and 'total_call_duration\", so we removed the strange data as well. \n",
    "\n",
    "We have found no other issues with missing values. We converted the data types to appropriate ones (dates to DateTime, integer to integers).We have found also that there were duplicates in the dataset 'calls', that we have also removed from the dataset. "
   ]
  },
  {
   "cell_type": "markdown",
   "id": "loaded-dress",
   "metadata": {},
   "source": [
    "## Step 3: Carrying out EDA"
   ]
  },
  {
   "cell_type": "markdown",
   "id": "synthetic-ambassador",
   "metadata": {},
   "source": [
    "#### 3.1. Studying how often operators missed calls."
   ]
  },
  {
   "cell_type": "markdown",
   "id": "dressed-preview",
   "metadata": {},
   "source": [
    "-  Finding the ratio of missed calls to all calls received by each operator"
   ]
  },
  {
   "cell_type": "code",
   "execution_count": 32,
   "id": "durable-purchase",
   "metadata": {},
   "outputs": [
    {
     "data": {
      "text/html": [
       "<div>\n",
       "<style scoped>\n",
       "    .dataframe tbody tr th:only-of-type {\n",
       "        vertical-align: middle;\n",
       "    }\n",
       "\n",
       "    .dataframe tbody tr th {\n",
       "        vertical-align: top;\n",
       "    }\n",
       "\n",
       "    .dataframe thead th {\n",
       "        text-align: right;\n",
       "    }\n",
       "</style>\n",
       "<table border=\"1\" class=\"dataframe\">\n",
       "  <thead>\n",
       "    <tr style=\"text-align: right;\">\n",
       "      <th>is_missed_call</th>\n",
       "      <th>False</th>\n",
       "      <th>True</th>\n",
       "    </tr>\n",
       "    <tr>\n",
       "      <th>operator_id</th>\n",
       "      <th></th>\n",
       "      <th></th>\n",
       "    </tr>\n",
       "  </thead>\n",
       "  <tbody>\n",
       "    <tr>\n",
       "      <th>879896</th>\n",
       "      <td>21.0</td>\n",
       "      <td>NaN</td>\n",
       "    </tr>\n",
       "    <tr>\n",
       "      <th>879898</th>\n",
       "      <td>56.0</td>\n",
       "      <td>NaN</td>\n",
       "    </tr>\n",
       "    <tr>\n",
       "      <th>880020</th>\n",
       "      <td>7.0</td>\n",
       "      <td>NaN</td>\n",
       "    </tr>\n",
       "    <tr>\n",
       "      <th>880022</th>\n",
       "      <td>8.0</td>\n",
       "      <td>NaN</td>\n",
       "    </tr>\n",
       "    <tr>\n",
       "      <th>880026</th>\n",
       "      <td>18.0</td>\n",
       "      <td>NaN</td>\n",
       "    </tr>\n",
       "  </tbody>\n",
       "</table>\n",
       "</div>"
      ],
      "text/plain": [
       "is_missed_call  False  True\n",
       "operator_id                \n",
       "879896           21.0   NaN\n",
       "879898           56.0   NaN\n",
       "880020            7.0   NaN\n",
       "880022            8.0   NaN\n",
       "880026           18.0   NaN"
      ]
     },
     "execution_count": 32,
     "metadata": {},
     "output_type": "execute_result"
    }
   ],
   "source": [
    "calls_by_operator = calls.query('direction == \"in\"').pivot_table(index = 'operator_id', columns='is_missed_call', values ='direction', aggfunc ='count')\n",
    "calls_by_operator.head()"
   ]
  },
  {
   "cell_type": "code",
   "execution_count": 33,
   "id": "documentary-aurora",
   "metadata": {},
   "outputs": [
    {
     "data": {
      "text/html": [
       "<div>\n",
       "<style scoped>\n",
       "    .dataframe tbody tr th:only-of-type {\n",
       "        vertical-align: middle;\n",
       "    }\n",
       "\n",
       "    .dataframe tbody tr th {\n",
       "        vertical-align: top;\n",
       "    }\n",
       "\n",
       "    .dataframe thead th {\n",
       "        text-align: right;\n",
       "    }\n",
       "</style>\n",
       "<table border=\"1\" class=\"dataframe\">\n",
       "  <thead>\n",
       "    <tr style=\"text-align: right;\">\n",
       "      <th></th>\n",
       "      <th>operator_id</th>\n",
       "      <th>total_calls</th>\n",
       "      <th>days</th>\n",
       "      <th>mised_calls</th>\n",
       "    </tr>\n",
       "  </thead>\n",
       "  <tbody>\n",
       "    <tr>\n",
       "      <th>289</th>\n",
       "      <td>913942</td>\n",
       "      <td>2340</td>\n",
       "      <td>57</td>\n",
       "      <td>52.0</td>\n",
       "    </tr>\n",
       "    <tr>\n",
       "      <th>598</th>\n",
       "      <td>944226</td>\n",
       "      <td>180</td>\n",
       "      <td>36</td>\n",
       "      <td>30.0</td>\n",
       "    </tr>\n",
       "    <tr>\n",
       "      <th>570</th>\n",
       "      <td>940588</td>\n",
       "      <td>1702</td>\n",
       "      <td>29</td>\n",
       "      <td>30.0</td>\n",
       "    </tr>\n",
       "    <tr>\n",
       "      <th>22</th>\n",
       "      <td>885890</td>\n",
       "      <td>1244</td>\n",
       "      <td>73</td>\n",
       "      <td>26.0</td>\n",
       "    </tr>\n",
       "    <tr>\n",
       "      <th>527</th>\n",
       "      <td>937956</td>\n",
       "      <td>773</td>\n",
       "      <td>44</td>\n",
       "      <td>24.0</td>\n",
       "    </tr>\n",
       "  </tbody>\n",
       "</table>\n",
       "</div>"
      ],
      "text/plain": [
       "     operator_id  total_calls  days  mised_calls\n",
       "289       913942         2340    57         52.0\n",
       "598       944226          180    36         30.0\n",
       "570       940588         1702    29         30.0\n",
       "22        885890         1244    73         26.0\n",
       "527       937956          773    44         24.0"
      ]
     },
     "execution_count": 33,
     "metadata": {},
     "output_type": "execute_result"
    }
   ],
   "source": [
    "# the reviewer's code: \n",
    "\n",
    "calls_by_operator = ((calls\n",
    "                         .query('direction == \"in\"')\n",
    "                         .groupby(['operator_id']) \n",
    "                         .agg(total_calls=('calls_count', 'sum'), \n",
    "                              days=('date', 'nunique'))\n",
    "                         .reset_index()\n",
    "                         .merge((calls.query('direction == \"in\" & is_missed_call == True')\n",
    "                                        .groupby(['operator_id'])\n",
    "                                        .agg(mised_calls=('calls_count', 'sum')))\n",
    "                                         .reset_index(), on = \"operator_id\", how = 'left'))\n",
    "                        .fillna(0).sort_values(by = 'mised_calls', ascending = False)\n",
    "                     )\n",
    "    \n",
    "\n",
    "calls_by_operator.head() "
   ]
  },
  {
   "cell_type": "code",
   "execution_count": 34,
   "id": "elementary-albert",
   "metadata": {},
   "outputs": [
    {
     "data": {
      "text/html": [
       "<div>\n",
       "<style scoped>\n",
       "    .dataframe tbody tr th:only-of-type {\n",
       "        vertical-align: middle;\n",
       "    }\n",
       "\n",
       "    .dataframe tbody tr th {\n",
       "        vertical-align: top;\n",
       "    }\n",
       "\n",
       "    .dataframe thead th {\n",
       "        text-align: right;\n",
       "    }\n",
       "</style>\n",
       "<table border=\"1\" class=\"dataframe\">\n",
       "  <thead>\n",
       "    <tr style=\"text-align: right;\">\n",
       "      <th></th>\n",
       "      <th>operator_id</th>\n",
       "      <th>total_calls</th>\n",
       "      <th>days</th>\n",
       "      <th>mised_calls</th>\n",
       "      <th>share_missed</th>\n",
       "    </tr>\n",
       "  </thead>\n",
       "  <tbody>\n",
       "    <tr>\n",
       "      <th>289</th>\n",
       "      <td>913942</td>\n",
       "      <td>2340</td>\n",
       "      <td>57</td>\n",
       "      <td>52.0</td>\n",
       "      <td>0.022222</td>\n",
       "    </tr>\n",
       "    <tr>\n",
       "      <th>598</th>\n",
       "      <td>944226</td>\n",
       "      <td>180</td>\n",
       "      <td>36</td>\n",
       "      <td>30.0</td>\n",
       "      <td>0.166667</td>\n",
       "    </tr>\n",
       "    <tr>\n",
       "      <th>570</th>\n",
       "      <td>940588</td>\n",
       "      <td>1702</td>\n",
       "      <td>29</td>\n",
       "      <td>30.0</td>\n",
       "      <td>0.017626</td>\n",
       "    </tr>\n",
       "    <tr>\n",
       "      <th>22</th>\n",
       "      <td>885890</td>\n",
       "      <td>1244</td>\n",
       "      <td>73</td>\n",
       "      <td>26.0</td>\n",
       "      <td>0.020900</td>\n",
       "    </tr>\n",
       "    <tr>\n",
       "      <th>527</th>\n",
       "      <td>937956</td>\n",
       "      <td>773</td>\n",
       "      <td>44</td>\n",
       "      <td>24.0</td>\n",
       "      <td>0.031048</td>\n",
       "    </tr>\n",
       "  </tbody>\n",
       "</table>\n",
       "</div>"
      ],
      "text/plain": [
       "     operator_id  total_calls  days  mised_calls  share_missed\n",
       "289       913942         2340    57         52.0      0.022222\n",
       "598       944226          180    36         30.0      0.166667\n",
       "570       940588         1702    29         30.0      0.017626\n",
       "22        885890         1244    73         26.0      0.020900\n",
       "527       937956          773    44         24.0      0.031048"
      ]
     },
     "execution_count": 34,
     "metadata": {},
     "output_type": "execute_result"
    }
   ],
   "source": [
    "# calculating the share of missed calls to all calls\n",
    "\n",
    "calls_by_operator['share_missed'] = calls_by_operator['mised_calls']/calls_by_operator['total_calls']\n",
    "\n",
    "# checking the results\n",
    "\n",
    "calls_by_operator.head()\n"
   ]
  },
  {
   "cell_type": "markdown",
   "id": "configured-light",
   "metadata": {},
   "source": [
    "-  Plotting a histogram showing the distribution of the said ratios, finding trends and outliers "
   ]
  },
  {
   "cell_type": "code",
   "execution_count": 35,
   "id": "coupled-namibia",
   "metadata": {},
   "outputs": [
    {
     "data": {
      "text/plain": [
       "'\\nfig = px.histogram(calls_by_operator, x=\"share_missed\", \\n                   marginal=\"box\", # or violin, rug\\n                   hover_data=calls_by_operator.columns)\\n\\nfig.update_layout(\\n    title = \\'Distribution of values related to share of missed calls to all incoming calls \\',\\n    xaxis_title = \"Share of missed calls to all incoming calls\",\\n    yaxis_title = \"Number of operators\",\\n    font=dict(\\n        family=\"Arial\",\\n        size=12,\\n        color=\"RebeccaPurple\"\\n    )\\n    )\\nfig.show()\\n'"
      ]
     },
     "execution_count": 35,
     "metadata": {},
     "output_type": "execute_result"
    }
   ],
   "source": [
    "\"\"\"\n",
    "fig = px.histogram(calls_by_operator, x=\"share_missed\", \n",
    "                   marginal=\"box\", # or violin, rug\n",
    "                   hover_data=calls_by_operator.columns)\n",
    "\n",
    "fig.update_layout(\n",
    "    title = 'Distribution of values related to share of missed calls to all incoming calls ',\n",
    "    xaxis_title = \"Share of missed calls to all incoming calls\",\n",
    "    yaxis_title = \"Number of operators\",\n",
    "    font=dict(\n",
    "        family=\"Arial\",\n",
    "        size=12,\n",
    "        color=\"RebeccaPurple\"\n",
    "    )\n",
    "    )\n",
    "fig.show()\n",
    "\"\"\""
   ]
  },
  {
   "cell_type": "markdown",
   "id": "incorporated-gabriel",
   "metadata": {},
   "source": [
    "We see on the histogram that there's a lot of operators with a relevant low share of missed calls, the upper fence for outliers according the \"boxplot\" method is 1,7%. But the number of outliers is quite high. So let's look what the said upper limit and and a little bit higher limit mean in terms of share of such operators to all operators. "
   ]
  },
  {
   "cell_type": "code",
   "execution_count": 36,
   "id": "loving-warrant",
   "metadata": {},
   "outputs": [
    {
     "data": {
      "text/plain": [
       "0.17639257294429708"
      ]
     },
     "execution_count": 36,
     "metadata": {},
     "output_type": "execute_result"
    }
   ],
   "source": [
    "len(calls_by_operator.query('share_missed >= 0.017'))/len(calls_by_operator)"
   ]
  },
  {
   "cell_type": "markdown",
   "id": "assumed-hollywood",
   "metadata": {},
   "source": [
    "17% of operators have a share of missed calls exceeding 1.7% limit. It's quite a lot. Let's look at the distribution of such values more precisely. "
   ]
  },
  {
   "cell_type": "markdown",
   "id": "legendary-behavior",
   "metadata": {},
   "source": [
    "-  Plotting density histograms showing the distribution of the said ratios "
   ]
  },
  {
   "cell_type": "code",
   "execution_count": 37,
   "id": "hispanic-operator",
   "metadata": {},
   "outputs": [
    {
     "data": {
      "text/plain": [
       "'\\nsns.distplot(calls_by_operator[\\'share_missed\\'], hist = False, kde = True,\\n                 kde_kws = {\\'linewidth\\': 3},\\n                 label = \\'share_missed\\')\\nplt.title (\"Density plot for distribution of shares of missed calls to all calls\", fontsize = 12)\\nplt.xlabel(\"Share of missed calls to all calls\")\\nplt.ylabel(\"Density\")\\nplt.suptitle(\"\")\\nplt.show()\\n\\nplt.show()\\n'"
      ]
     },
     "execution_count": 37,
     "metadata": {},
     "output_type": "execute_result"
    }
   ],
   "source": [
    "\"\"\"\n",
    "sns.distplot(calls_by_operator['share_missed'], hist = False, kde = True,\n",
    "                 kde_kws = {'linewidth': 3},\n",
    "                 label = 'share_missed')\n",
    "plt.title (\"Density plot for distribution of shares of missed calls to all calls\", fontsize = 12)\n",
    "plt.xlabel(\"Share of missed calls to all calls\")\n",
    "plt.ylabel(\"Density\")\n",
    "plt.suptitle(\"\")\n",
    "plt.show()\n",
    "\n",
    "plt.show()\n",
    "\"\"\""
   ]
  },
  {
   "cell_type": "markdown",
   "id": "changed-quarterly",
   "metadata": {},
   "source": [
    "We see that the density (probability) of share of missed calls to all calls drastically falls around 8-10 %. Let's see what that mean in terms of share of operators and find mean, quartiles and the upper percentiles. "
   ]
  },
  {
   "cell_type": "markdown",
   "id": "rising-thinking",
   "metadata": {},
   "source": [
    "-  Finding the mean, the median and quartiles of ratio values"
   ]
  },
  {
   "cell_type": "code",
   "execution_count": 38,
   "id": "spread-advocacy",
   "metadata": {},
   "outputs": [
    {
     "data": {
      "text/plain": [
       "count    754.000000\n",
       "mean       0.017637\n",
       "std        0.065322\n",
       "min        0.000000\n",
       "25%        0.000000\n",
       "50%        0.000000\n",
       "75%        0.007022\n",
       "max        1.000000\n",
       "Name: share_missed, dtype: float64"
      ]
     },
     "execution_count": 38,
     "metadata": {},
     "output_type": "execute_result"
    }
   ],
   "source": [
    "calls_by_operator['share_missed'].describe()"
   ]
  },
  {
   "cell_type": "code",
   "execution_count": 39,
   "id": "split-pontiac",
   "metadata": {},
   "outputs": [
    {
     "data": {
      "text/plain": [
       "0.09142786561264825"
      ]
     },
     "execution_count": 39,
     "metadata": {},
     "output_type": "execute_result"
    }
   ],
   "source": [
    "# finding the 95's percentile\n",
    "np.percentile(calls_by_operator['share_missed'], 95)"
   ]
  },
  {
   "cell_type": "code",
   "execution_count": 40,
   "id": "public-morrison",
   "metadata": {},
   "outputs": [
    {
     "data": {
      "text/plain": [
       "0.037037037037037035"
      ]
     },
     "execution_count": 40,
     "metadata": {},
     "output_type": "execute_result"
    }
   ],
   "source": [
    "# finding 90's percentile\n",
    "np.percentile(calls_by_operator['share_missed'], 90)"
   ]
  },
  {
   "cell_type": "code",
   "execution_count": 41,
   "id": "needed-anniversary",
   "metadata": {},
   "outputs": [
    {
     "data": {
      "text/plain": [
       "0.0213359323243133"
      ]
     },
     "execution_count": 41,
     "metadata": {},
     "output_type": "execute_result"
    }
   ],
   "source": [
    "# finding 85's percentile\n",
    "np.percentile(calls_by_operator['share_missed'], 85)"
   ]
  },
  {
   "cell_type": "code",
   "execution_count": 42,
   "id": "velvet-heaven",
   "metadata": {},
   "outputs": [
    {
     "data": {
      "text/plain": [
       "0.013074388763655256"
      ]
     },
     "execution_count": 42,
     "metadata": {},
     "output_type": "execute_result"
    }
   ],
   "source": [
    "# finding 80's percentile\n",
    "np.percentile(calls_by_operator['share_missed'], 80)"
   ]
  },
  {
   "cell_type": "markdown",
   "id": "intensive-creek",
   "metadata": {},
   "source": [
    "-  Determing the threshold of the \"high\" ratio of missed calls to all calls received by an operator"
   ]
  },
  {
   "cell_type": "markdown",
   "id": "developing-louisiana",
   "metadata": {},
   "source": [
    "It's hard to define after which rate the inefficiency commences in this case: there are a lot of \"outliers\", but their huge number means that they may be also \"normal\". i.e. they are maybe not outliers, that's just a trend. When we look at the dimensions of shares dividing operators into percentiles we see that the th share of missed calls for each percentile after 85's is growing drastically and 85's percentile threshold differs from 80's less than 90's from 85'. So it seems that 85' percentile is a good threshold for real outliers no matter which approach we use. That's why we decide to choose it as the threshold of efficiency performance."
   ]
  },
  {
   "cell_type": "code",
   "execution_count": 43,
   "id": "daily-concentration",
   "metadata": {},
   "outputs": [],
   "source": [
    "# setting up a threshold as variable for future needs\n",
    "\n",
    "missed_calls_thrld = np.percentile(calls_by_operator['share_missed'], 85)"
   ]
  },
  {
   "cell_type": "markdown",
   "id": "swedish-overall",
   "metadata": {},
   "source": [
    "#### 3.2. Studying distribution of waiting time values for incoming calls."
   ]
  },
  {
   "cell_type": "markdown",
   "id": "logical-solomon",
   "metadata": {},
   "source": [
    "-  Filter the data by selecting only incoming calls and finding waiting time for each call and storing this data into a separate column   "
   ]
  },
  {
   "cell_type": "code",
   "execution_count": 44,
   "id": "handed-method",
   "metadata": {},
   "outputs": [
    {
     "data": {
      "text/html": [
       "<div>\n",
       "<style scoped>\n",
       "    .dataframe tbody tr th:only-of-type {\n",
       "        vertical-align: middle;\n",
       "    }\n",
       "\n",
       "    .dataframe tbody tr th {\n",
       "        vertical-align: top;\n",
       "    }\n",
       "\n",
       "    .dataframe thead th {\n",
       "        text-align: right;\n",
       "    }\n",
       "</style>\n",
       "<table border=\"1\" class=\"dataframe\">\n",
       "  <thead>\n",
       "    <tr style=\"text-align: right;\">\n",
       "      <th></th>\n",
       "      <th>user_id</th>\n",
       "      <th>date</th>\n",
       "      <th>direction</th>\n",
       "      <th>internal</th>\n",
       "      <th>operator_id</th>\n",
       "      <th>is_missed_call</th>\n",
       "      <th>calls_count</th>\n",
       "      <th>call_duration</th>\n",
       "      <th>total_call_duration</th>\n",
       "    </tr>\n",
       "  </thead>\n",
       "  <tbody>\n",
       "    <tr>\n",
       "      <th>0</th>\n",
       "      <td>166377</td>\n",
       "      <td>2019-08-12</td>\n",
       "      <td>in</td>\n",
       "      <td>False</td>\n",
       "      <td>880028</td>\n",
       "      <td>False</td>\n",
       "      <td>1</td>\n",
       "      <td>407</td>\n",
       "      <td>411</td>\n",
       "    </tr>\n",
       "    <tr>\n",
       "      <th>1</th>\n",
       "      <td>166377</td>\n",
       "      <td>2019-08-13</td>\n",
       "      <td>in</td>\n",
       "      <td>False</td>\n",
       "      <td>880028</td>\n",
       "      <td>False</td>\n",
       "      <td>1</td>\n",
       "      <td>88</td>\n",
       "      <td>102</td>\n",
       "    </tr>\n",
       "    <tr>\n",
       "      <th>2</th>\n",
       "      <td>166377</td>\n",
       "      <td>2019-08-14</td>\n",
       "      <td>in</td>\n",
       "      <td>False</td>\n",
       "      <td>880026</td>\n",
       "      <td>False</td>\n",
       "      <td>2</td>\n",
       "      <td>197</td>\n",
       "      <td>218</td>\n",
       "    </tr>\n",
       "    <tr>\n",
       "      <th>3</th>\n",
       "      <td>166377</td>\n",
       "      <td>2019-08-14</td>\n",
       "      <td>in</td>\n",
       "      <td>False</td>\n",
       "      <td>880028</td>\n",
       "      <td>False</td>\n",
       "      <td>1</td>\n",
       "      <td>33</td>\n",
       "      <td>37</td>\n",
       "    </tr>\n",
       "    <tr>\n",
       "      <th>4</th>\n",
       "      <td>166377</td>\n",
       "      <td>2019-08-15</td>\n",
       "      <td>in</td>\n",
       "      <td>False</td>\n",
       "      <td>880028</td>\n",
       "      <td>False</td>\n",
       "      <td>1</td>\n",
       "      <td>23</td>\n",
       "      <td>27</td>\n",
       "    </tr>\n",
       "  </tbody>\n",
       "</table>\n",
       "</div>"
      ],
      "text/plain": [
       "   user_id       date direction  internal  operator_id  is_missed_call  \\\n",
       "0   166377 2019-08-12        in     False       880028           False   \n",
       "1   166377 2019-08-13        in     False       880028           False   \n",
       "2   166377 2019-08-14        in     False       880026           False   \n",
       "3   166377 2019-08-14        in     False       880028           False   \n",
       "4   166377 2019-08-15        in     False       880028           False   \n",
       "\n",
       "   calls_count  call_duration  total_call_duration  \n",
       "0            1            407                  411  \n",
       "1            1             88                  102  \n",
       "2            2            197                  218  \n",
       "3            1             33                   37  \n",
       "4            1             23                   27  "
      ]
     },
     "execution_count": 44,
     "metadata": {},
     "output_type": "execute_result"
    }
   ],
   "source": [
    "# creating a subset with only incoming calls and non-missed calls\n",
    "\n",
    "incoming_calls = calls.query('direction == \"in\" and is_missed_call == False')\n",
    "incoming_calls = incoming_calls.reset_index(drop=True)\n",
    "incoming_calls.head()"
   ]
  },
  {
   "cell_type": "code",
   "execution_count": 45,
   "id": "alive-annotation",
   "metadata": {},
   "outputs": [
    {
     "data": {
      "text/html": [
       "<div>\n",
       "<style scoped>\n",
       "    .dataframe tbody tr th:only-of-type {\n",
       "        vertical-align: middle;\n",
       "    }\n",
       "\n",
       "    .dataframe tbody tr th {\n",
       "        vertical-align: top;\n",
       "    }\n",
       "\n",
       "    .dataframe thead th {\n",
       "        text-align: right;\n",
       "    }\n",
       "</style>\n",
       "<table border=\"1\" class=\"dataframe\">\n",
       "  <thead>\n",
       "    <tr style=\"text-align: right;\">\n",
       "      <th></th>\n",
       "      <th>user_id</th>\n",
       "      <th>date</th>\n",
       "      <th>direction</th>\n",
       "      <th>internal</th>\n",
       "      <th>operator_id</th>\n",
       "      <th>is_missed_call</th>\n",
       "      <th>calls_count</th>\n",
       "      <th>call_duration</th>\n",
       "      <th>total_call_duration</th>\n",
       "      <th>wait_time</th>\n",
       "    </tr>\n",
       "  </thead>\n",
       "  <tbody>\n",
       "    <tr>\n",
       "      <th>2277</th>\n",
       "      <td>166692</td>\n",
       "      <td>2019-09-12</td>\n",
       "      <td>in</td>\n",
       "      <td>False</td>\n",
       "      <td>898892</td>\n",
       "      <td>False</td>\n",
       "      <td>1</td>\n",
       "      <td>217</td>\n",
       "      <td>235</td>\n",
       "      <td>18</td>\n",
       "    </tr>\n",
       "    <tr>\n",
       "      <th>8913</th>\n",
       "      <td>167799</td>\n",
       "      <td>2019-10-28</td>\n",
       "      <td>in</td>\n",
       "      <td>False</td>\n",
       "      <td>925104</td>\n",
       "      <td>False</td>\n",
       "      <td>26</td>\n",
       "      <td>2347</td>\n",
       "      <td>2537</td>\n",
       "      <td>190</td>\n",
       "    </tr>\n",
       "    <tr>\n",
       "      <th>2387</th>\n",
       "      <td>166713</td>\n",
       "      <td>2019-11-14</td>\n",
       "      <td>in</td>\n",
       "      <td>False</td>\n",
       "      <td>891908</td>\n",
       "      <td>False</td>\n",
       "      <td>1</td>\n",
       "      <td>854</td>\n",
       "      <td>858</td>\n",
       "      <td>4</td>\n",
       "    </tr>\n",
       "    <tr>\n",
       "      <th>11546</th>\n",
       "      <td>168252</td>\n",
       "      <td>2019-11-18</td>\n",
       "      <td>in</td>\n",
       "      <td>False</td>\n",
       "      <td>940658</td>\n",
       "      <td>False</td>\n",
       "      <td>28</td>\n",
       "      <td>3330</td>\n",
       "      <td>3440</td>\n",
       "      <td>110</td>\n",
       "    </tr>\n",
       "    <tr>\n",
       "      <th>9368</th>\n",
       "      <td>167906</td>\n",
       "      <td>2019-10-18</td>\n",
       "      <td>in</td>\n",
       "      <td>False</td>\n",
       "      <td>939698</td>\n",
       "      <td>False</td>\n",
       "      <td>1</td>\n",
       "      <td>20</td>\n",
       "      <td>29</td>\n",
       "      <td>9</td>\n",
       "    </tr>\n",
       "    <tr>\n",
       "      <th>11409</th>\n",
       "      <td>168252</td>\n",
       "      <td>2019-10-25</td>\n",
       "      <td>in</td>\n",
       "      <td>False</td>\n",
       "      <td>940624</td>\n",
       "      <td>False</td>\n",
       "      <td>11</td>\n",
       "      <td>972</td>\n",
       "      <td>1034</td>\n",
       "      <td>62</td>\n",
       "    </tr>\n",
       "    <tr>\n",
       "      <th>9573</th>\n",
       "      <td>167976</td>\n",
       "      <td>2019-11-11</td>\n",
       "      <td>in</td>\n",
       "      <td>False</td>\n",
       "      <td>934424</td>\n",
       "      <td>False</td>\n",
       "      <td>2</td>\n",
       "      <td>131</td>\n",
       "      <td>188</td>\n",
       "      <td>57</td>\n",
       "    </tr>\n",
       "    <tr>\n",
       "      <th>797</th>\n",
       "      <td>166503</td>\n",
       "      <td>2019-10-26</td>\n",
       "      <td>in</td>\n",
       "      <td>False</td>\n",
       "      <td>906680</td>\n",
       "      <td>False</td>\n",
       "      <td>4</td>\n",
       "      <td>222</td>\n",
       "      <td>415</td>\n",
       "      <td>193</td>\n",
       "    </tr>\n",
       "    <tr>\n",
       "      <th>11518</th>\n",
       "      <td>168252</td>\n",
       "      <td>2019-11-13</td>\n",
       "      <td>in</td>\n",
       "      <td>False</td>\n",
       "      <td>940652</td>\n",
       "      <td>False</td>\n",
       "      <td>5</td>\n",
       "      <td>581</td>\n",
       "      <td>595</td>\n",
       "      <td>14</td>\n",
       "    </tr>\n",
       "    <tr>\n",
       "      <th>1530</th>\n",
       "      <td>166604</td>\n",
       "      <td>2019-09-19</td>\n",
       "      <td>in</td>\n",
       "      <td>False</td>\n",
       "      <td>893402</td>\n",
       "      <td>False</td>\n",
       "      <td>5</td>\n",
       "      <td>337</td>\n",
       "      <td>396</td>\n",
       "      <td>59</td>\n",
       "    </tr>\n",
       "  </tbody>\n",
       "</table>\n",
       "</div>"
      ],
      "text/plain": [
       "       user_id       date direction  internal  operator_id  is_missed_call  \\\n",
       "2277    166692 2019-09-12        in     False       898892           False   \n",
       "8913    167799 2019-10-28        in     False       925104           False   \n",
       "2387    166713 2019-11-14        in     False       891908           False   \n",
       "11546   168252 2019-11-18        in     False       940658           False   \n",
       "9368    167906 2019-10-18        in     False       939698           False   \n",
       "11409   168252 2019-10-25        in     False       940624           False   \n",
       "9573    167976 2019-11-11        in     False       934424           False   \n",
       "797     166503 2019-10-26        in     False       906680           False   \n",
       "11518   168252 2019-11-13        in     False       940652           False   \n",
       "1530    166604 2019-09-19        in     False       893402           False   \n",
       "\n",
       "       calls_count  call_duration  total_call_duration  wait_time  \n",
       "2277             1            217                  235         18  \n",
       "8913            26           2347                 2537        190  \n",
       "2387             1            854                  858          4  \n",
       "11546           28           3330                 3440        110  \n",
       "9368             1             20                   29          9  \n",
       "11409           11            972                 1034         62  \n",
       "9573             2            131                  188         57  \n",
       "797              4            222                  415        193  \n",
       "11518            5            581                  595         14  \n",
       "1530             5            337                  396         59  "
      ]
     },
     "metadata": {},
     "output_type": "display_data"
    },
    {
     "name": "stdout",
     "output_type": "stream",
     "text": [
      "<class 'pandas.core.frame.DataFrame'>\n",
      "RangeIndex: 11953 entries, 0 to 11952\n",
      "Data columns (total 10 columns):\n",
      " #   Column               Non-Null Count  Dtype         \n",
      "---  ------               --------------  -----         \n",
      " 0   user_id              11953 non-null  int64         \n",
      " 1   date                 11953 non-null  datetime64[ns]\n",
      " 2   direction            11953 non-null  object        \n",
      " 3   internal             11953 non-null  boolean       \n",
      " 4   operator_id          11953 non-null  int64         \n",
      " 5   is_missed_call       11953 non-null  bool          \n",
      " 6   calls_count          11953 non-null  int64         \n",
      " 7   call_duration        11953 non-null  int64         \n",
      " 8   total_call_duration  11953 non-null  int64         \n",
      " 9   wait_time            11953 non-null  int64         \n",
      "dtypes: bool(1), boolean(1), datetime64[ns](1), int64(6), object(1)\n",
      "memory usage: 782.2+ KB\n"
     ]
    },
    {
     "data": {
      "text/plain": [
       "None"
      ]
     },
     "metadata": {},
     "output_type": "display_data"
    }
   ],
   "source": [
    "# calculating waiting time for calls made on each date by each operator \n",
    "\n",
    "incoming_calls['wait_time'] = incoming_calls['total_call_duration'] - incoming_calls['call_duration']\n",
    "#incoming_calls['wait_time_per_call'] = incoming_calls['wait_time_all_calls']/incoming_calls['calls_count']\n",
    "\n",
    "# checking the results\n",
    "\n",
    "display(incoming_calls.sample(10))\n",
    "display(incoming_calls.info())"
   ]
  },
  {
   "cell_type": "markdown",
   "id": "upset-amazon",
   "metadata": {},
   "source": [
    "- Finding average waiting time for all calls received by each operator"
   ]
  },
  {
   "cell_type": "code",
   "execution_count": 46,
   "id": "surprising-houston",
   "metadata": {},
   "outputs": [
    {
     "data": {
      "text/html": [
       "<div>\n",
       "<style scoped>\n",
       "    .dataframe tbody tr th:only-of-type {\n",
       "        vertical-align: middle;\n",
       "    }\n",
       "\n",
       "    .dataframe tbody tr th {\n",
       "        vertical-align: top;\n",
       "    }\n",
       "\n",
       "    .dataframe thead th {\n",
       "        text-align: right;\n",
       "    }\n",
       "</style>\n",
       "<table border=\"1\" class=\"dataframe\">\n",
       "  <thead>\n",
       "    <tr style=\"text-align: right;\">\n",
       "      <th></th>\n",
       "      <th>operator_id</th>\n",
       "      <th>total_calls</th>\n",
       "      <th>total_wait_time</th>\n",
       "      <th>avg_per_call</th>\n",
       "    </tr>\n",
       "  </thead>\n",
       "  <tbody>\n",
       "    <tr>\n",
       "      <th>250</th>\n",
       "      <td>908300</td>\n",
       "      <td>3</td>\n",
       "      <td>169</td>\n",
       "      <td>56.333333</td>\n",
       "    </tr>\n",
       "    <tr>\n",
       "      <th>717</th>\n",
       "      <td>960698</td>\n",
       "      <td>6</td>\n",
       "      <td>101</td>\n",
       "      <td>16.833333</td>\n",
       "    </tr>\n",
       "    <tr>\n",
       "      <th>545</th>\n",
       "      <td>939370</td>\n",
       "      <td>478</td>\n",
       "      <td>9015</td>\n",
       "      <td>18.859833</td>\n",
       "    </tr>\n",
       "    <tr>\n",
       "      <th>346</th>\n",
       "      <td>920728</td>\n",
       "      <td>197</td>\n",
       "      <td>3149</td>\n",
       "      <td>15.984772</td>\n",
       "    </tr>\n",
       "    <tr>\n",
       "      <th>599</th>\n",
       "      <td>944228</td>\n",
       "      <td>29</td>\n",
       "      <td>1413</td>\n",
       "      <td>48.724138</td>\n",
       "    </tr>\n",
       "    <tr>\n",
       "      <th>530</th>\n",
       "      <td>937962</td>\n",
       "      <td>103</td>\n",
       "      <td>1799</td>\n",
       "      <td>17.466019</td>\n",
       "    </tr>\n",
       "    <tr>\n",
       "      <th>617</th>\n",
       "      <td>946020</td>\n",
       "      <td>1</td>\n",
       "      <td>3</td>\n",
       "      <td>3.000000</td>\n",
       "    </tr>\n",
       "    <tr>\n",
       "      <th>227</th>\n",
       "      <td>907182</td>\n",
       "      <td>65</td>\n",
       "      <td>714</td>\n",
       "      <td>10.984615</td>\n",
       "    </tr>\n",
       "    <tr>\n",
       "      <th>595</th>\n",
       "      <td>944218</td>\n",
       "      <td>230</td>\n",
       "      <td>8265</td>\n",
       "      <td>35.934783</td>\n",
       "    </tr>\n",
       "    <tr>\n",
       "      <th>320</th>\n",
       "      <td>918956</td>\n",
       "      <td>2</td>\n",
       "      <td>69</td>\n",
       "      <td>34.500000</td>\n",
       "    </tr>\n",
       "  </tbody>\n",
       "</table>\n",
       "</div>"
      ],
      "text/plain": [
       "     operator_id  total_calls  total_wait_time  avg_per_call\n",
       "250       908300            3              169     56.333333\n",
       "717       960698            6              101     16.833333\n",
       "545       939370          478             9015     18.859833\n",
       "346       920728          197             3149     15.984772\n",
       "599       944228           29             1413     48.724138\n",
       "530       937962          103             1799     17.466019\n",
       "617       946020            1                3      3.000000\n",
       "227       907182           65              714     10.984615\n",
       "595       944218          230             8265     35.934783\n",
       "320       918956            2               69     34.500000"
      ]
     },
     "execution_count": 46,
     "metadata": {},
     "output_type": "execute_result"
    }
   ],
   "source": [
    "# creating a subset where we store the data on average waiting time for each operator\n",
    "\n",
    "calls_by_operator_wait_time = (incoming_calls\n",
    "                               .groupby('operator_id')\n",
    "                               .agg(total_calls=('calls_count','sum'), \n",
    "                                    total_wait_time =('wait_time', 'sum'))\n",
    "                               .reset_index()\n",
    "                              )\n",
    "calls_by_operator_wait_time['avg_per_call'] = (calls_by_operator_wait_time['total_wait_time']\n",
    "                                               /calls_by_operator_wait_time['total_calls'])\n",
    "\n",
    "# checking the results\n",
    "\n",
    "calls_by_operator_wait_time.sample(10)"
   ]
  },
  {
   "cell_type": "markdown",
   "id": "humanitarian-grave",
   "metadata": {},
   "source": [
    "- Plotting a histogram of waiting time values for calls received by operators"
   ]
  },
  {
   "cell_type": "code",
   "execution_count": 47,
   "id": "downtown-matter",
   "metadata": {},
   "outputs": [
    {
     "data": {
      "text/plain": [
       "'\\nfig = px.histogram(calls_by_operator_wait_time, x=\"avg_per_call\", \\n                   marginal=\"box\", # or violin, rug\\n                   hover_data=calls_by_operator_wait_time.columns)\\n\\nfig.update_layout(\\n    title = \\'Distribution of values related to average waiting time \\',\\n    xaxis_title = \"Average waiting time\",\\n    yaxis_title = \"Number of operators\",\\n    font=dict(\\n        family=\"Arial\",\\n        size=12,\\n        color=\"RebeccaPurple\"\\n    )\\n    )\\nfig.show()\\n'"
      ]
     },
     "execution_count": 47,
     "metadata": {},
     "output_type": "execute_result"
    }
   ],
   "source": [
    "\"\"\"\n",
    "fig = px.histogram(calls_by_operator_wait_time, x=\"avg_per_call\", \n",
    "                   marginal=\"box\", # or violin, rug\n",
    "                   hover_data=calls_by_operator_wait_time.columns)\n",
    "\n",
    "fig.update_layout(\n",
    "    title = 'Distribution of values related to average waiting time ',\n",
    "    xaxis_title = \"Average waiting time\",\n",
    "    yaxis_title = \"Number of operators\",\n",
    "    font=dict(\n",
    "        family=\"Arial\",\n",
    "        size=12,\n",
    "        color=\"RebeccaPurple\"\n",
    "    )\n",
    "    )\n",
    "fig.show()\n",
    "\"\"\""
   ]
  },
  {
   "cell_type": "markdown",
   "id": "faced-bhutan",
   "metadata": {},
   "source": [
    "The upper-fence for identifying the outliers is 39,6 seconds. When we see at the histogram it seems that it's just: there are outliers, but they are clearly out of the trend. But let's at the share of such operators "
   ]
  },
  {
   "cell_type": "code",
   "execution_count": 48,
   "id": "innovative-curve",
   "metadata": {},
   "outputs": [
    {
     "data": {
      "text/plain": [
       "0.06374501992031872"
      ]
     },
     "execution_count": 48,
     "metadata": {},
     "output_type": "execute_result"
    }
   ],
   "source": [
    "len(calls_by_operator_wait_time.query('avg_per_call > 39.6'))/len(calls_by_operator_wait_time)"
   ]
  },
  {
   "cell_type": "markdown",
   "id": "continental-greensboro",
   "metadata": {},
   "source": [
    "It is only 6 per cent of operators. So the most of the operators are \"close\" to each other in terms of average waiting time."
   ]
  },
  {
   "cell_type": "markdown",
   "id": "whole-description",
   "metadata": {},
   "source": [
    "-  Determing the threshold for long waiting time calls "
   ]
  },
  {
   "cell_type": "markdown",
   "id": "roman-qualification",
   "metadata": {},
   "source": [
    "It seems that the upper-fence for outliers according box-plot method is a good way to determine where inefficiency begins. The outliers defined by this approach are definitely out of the trend and less efficient than others. So we fix the threshold accordingly. "
   ]
  },
  {
   "cell_type": "code",
   "execution_count": 49,
   "id": "ceramic-panel",
   "metadata": {},
   "outputs": [],
   "source": [
    "# setting up the threshold for long waiting time calls\n",
    "\n",
    "long_wait_time__thrld = 39.6"
   ]
  },
  {
   "cell_type": "markdown",
   "id": "brief-proxy",
   "metadata": {},
   "source": [
    "#### 3.3. Studying distribution of numbers of outgoing calls. "
   ]
  },
  {
   "cell_type": "markdown",
   "id": "limiting-secret",
   "metadata": {},
   "source": [
    "-  Finding average number of calls made per day by an operator "
   ]
  },
  {
   "cell_type": "code",
   "execution_count": 50,
   "id": "bulgarian-terrace",
   "metadata": {},
   "outputs": [
    {
     "data": {
      "text/html": [
       "<div>\n",
       "<style scoped>\n",
       "    .dataframe tbody tr th:only-of-type {\n",
       "        vertical-align: middle;\n",
       "    }\n",
       "\n",
       "    .dataframe tbody tr th {\n",
       "        vertical-align: top;\n",
       "    }\n",
       "\n",
       "    .dataframe thead th {\n",
       "        text-align: right;\n",
       "    }\n",
       "</style>\n",
       "<table border=\"1\" class=\"dataframe\">\n",
       "  <thead>\n",
       "    <tr style=\"text-align: right;\">\n",
       "      <th></th>\n",
       "      <th>user_id</th>\n",
       "      <th>date</th>\n",
       "      <th>direction</th>\n",
       "      <th>internal</th>\n",
       "      <th>operator_id</th>\n",
       "      <th>is_missed_call</th>\n",
       "      <th>calls_count</th>\n",
       "      <th>call_duration</th>\n",
       "      <th>total_call_duration</th>\n",
       "    </tr>\n",
       "  </thead>\n",
       "  <tbody>\n",
       "    <tr>\n",
       "      <th>0</th>\n",
       "      <td>166377</td>\n",
       "      <td>2019-08-05</td>\n",
       "      <td>out</td>\n",
       "      <td>True</td>\n",
       "      <td>880022</td>\n",
       "      <td>True</td>\n",
       "      <td>3</td>\n",
       "      <td>0</td>\n",
       "      <td>5</td>\n",
       "    </tr>\n",
       "    <tr>\n",
       "      <th>1</th>\n",
       "      <td>166377</td>\n",
       "      <td>2019-08-05</td>\n",
       "      <td>out</td>\n",
       "      <td>True</td>\n",
       "      <td>880020</td>\n",
       "      <td>True</td>\n",
       "      <td>1</td>\n",
       "      <td>0</td>\n",
       "      <td>1</td>\n",
       "    </tr>\n",
       "    <tr>\n",
       "      <th>2</th>\n",
       "      <td>166377</td>\n",
       "      <td>2019-08-05</td>\n",
       "      <td>out</td>\n",
       "      <td>True</td>\n",
       "      <td>880020</td>\n",
       "      <td>False</td>\n",
       "      <td>1</td>\n",
       "      <td>10</td>\n",
       "      <td>18</td>\n",
       "    </tr>\n",
       "    <tr>\n",
       "      <th>3</th>\n",
       "      <td>166377</td>\n",
       "      <td>2019-08-05</td>\n",
       "      <td>out</td>\n",
       "      <td>False</td>\n",
       "      <td>880022</td>\n",
       "      <td>True</td>\n",
       "      <td>3</td>\n",
       "      <td>0</td>\n",
       "      <td>25</td>\n",
       "    </tr>\n",
       "    <tr>\n",
       "      <th>4</th>\n",
       "      <td>166377</td>\n",
       "      <td>2019-08-05</td>\n",
       "      <td>out</td>\n",
       "      <td>False</td>\n",
       "      <td>880020</td>\n",
       "      <td>False</td>\n",
       "      <td>2</td>\n",
       "      <td>3</td>\n",
       "      <td>29</td>\n",
       "    </tr>\n",
       "  </tbody>\n",
       "</table>\n",
       "</div>"
      ],
      "text/plain": [
       "   user_id       date direction  internal  operator_id  is_missed_call  \\\n",
       "0   166377 2019-08-05       out      True       880022            True   \n",
       "1   166377 2019-08-05       out      True       880020            True   \n",
       "2   166377 2019-08-05       out      True       880020           False   \n",
       "3   166377 2019-08-05       out     False       880022            True   \n",
       "4   166377 2019-08-05       out     False       880020           False   \n",
       "\n",
       "   calls_count  call_duration  total_call_duration  \n",
       "0            3              0                    5  \n",
       "1            1              0                    1  \n",
       "2            1             10                   18  \n",
       "3            3              0                   25  \n",
       "4            2              3                   29  "
      ]
     },
     "execution_count": 50,
     "metadata": {},
     "output_type": "execute_result"
    }
   ],
   "source": [
    "calls.head()"
   ]
  },
  {
   "cell_type": "code",
   "execution_count": 51,
   "id": "appointed-siemens",
   "metadata": {},
   "outputs": [
    {
     "name": "stdout",
     "output_type": "stream",
     "text": [
      "<class 'pandas.core.frame.DataFrame'>\n",
      "RangeIndex: 40800 entries, 0 to 40799\n",
      "Data columns (total 9 columns):\n",
      " #   Column               Non-Null Count  Dtype         \n",
      "---  ------               --------------  -----         \n",
      " 0   user_id              40800 non-null  int64         \n",
      " 1   date                 40800 non-null  datetime64[ns]\n",
      " 2   direction            40800 non-null  object        \n",
      " 3   internal             40800 non-null  boolean       \n",
      " 4   operator_id          40800 non-null  int64         \n",
      " 5   is_missed_call       40800 non-null  bool          \n",
      " 6   calls_count          40800 non-null  int64         \n",
      " 7   call_duration        40800 non-null  int64         \n",
      " 8   total_call_duration  40800 non-null  int64         \n",
      "dtypes: bool(1), boolean(1), datetime64[ns](1), int64(5), object(1)\n",
      "memory usage: 2.3+ MB\n"
     ]
    }
   ],
   "source": [
    "calls.info()"
   ]
  },
  {
   "cell_type": "markdown",
   "id": "accessory-understanding",
   "metadata": {},
   "source": [
    "We need first define if a given operator is supposed to make outgoing calls. \n",
    "\n",
    "Let's filter the data by 'internal' field (the calls shall be external) and by the direction field (the calls shall be outgoing).  "
   ]
  },
  {
   "cell_type": "code",
   "execution_count": 52,
   "id": "distinct-sodium",
   "metadata": {},
   "outputs": [
    {
     "data": {
      "text/html": [
       "<div>\n",
       "<style scoped>\n",
       "    .dataframe tbody tr th:only-of-type {\n",
       "        vertical-align: middle;\n",
       "    }\n",
       "\n",
       "    .dataframe tbody tr th {\n",
       "        vertical-align: top;\n",
       "    }\n",
       "\n",
       "    .dataframe thead th {\n",
       "        text-align: right;\n",
       "    }\n",
       "</style>\n",
       "<table border=\"1\" class=\"dataframe\">\n",
       "  <thead>\n",
       "    <tr style=\"text-align: right;\">\n",
       "      <th></th>\n",
       "      <th>user_id</th>\n",
       "      <th>date</th>\n",
       "      <th>direction</th>\n",
       "      <th>internal</th>\n",
       "      <th>operator_id</th>\n",
       "      <th>is_missed_call</th>\n",
       "      <th>calls_count</th>\n",
       "      <th>call_duration</th>\n",
       "      <th>total_call_duration</th>\n",
       "    </tr>\n",
       "  </thead>\n",
       "  <tbody>\n",
       "    <tr>\n",
       "      <th>0</th>\n",
       "      <td>166377</td>\n",
       "      <td>2019-08-05</td>\n",
       "      <td>out</td>\n",
       "      <td>False</td>\n",
       "      <td>880022</td>\n",
       "      <td>True</td>\n",
       "      <td>3</td>\n",
       "      <td>0</td>\n",
       "      <td>25</td>\n",
       "    </tr>\n",
       "    <tr>\n",
       "      <th>1</th>\n",
       "      <td>166377</td>\n",
       "      <td>2019-08-05</td>\n",
       "      <td>out</td>\n",
       "      <td>False</td>\n",
       "      <td>880020</td>\n",
       "      <td>False</td>\n",
       "      <td>2</td>\n",
       "      <td>3</td>\n",
       "      <td>29</td>\n",
       "    </tr>\n",
       "    <tr>\n",
       "      <th>2</th>\n",
       "      <td>166377</td>\n",
       "      <td>2019-08-05</td>\n",
       "      <td>out</td>\n",
       "      <td>False</td>\n",
       "      <td>880020</td>\n",
       "      <td>True</td>\n",
       "      <td>8</td>\n",
       "      <td>0</td>\n",
       "      <td>50</td>\n",
       "    </tr>\n",
       "    <tr>\n",
       "      <th>3</th>\n",
       "      <td>166377</td>\n",
       "      <td>2019-08-06</td>\n",
       "      <td>out</td>\n",
       "      <td>False</td>\n",
       "      <td>881278</td>\n",
       "      <td>True</td>\n",
       "      <td>3</td>\n",
       "      <td>0</td>\n",
       "      <td>29</td>\n",
       "    </tr>\n",
       "    <tr>\n",
       "      <th>4</th>\n",
       "      <td>166377</td>\n",
       "      <td>2019-08-06</td>\n",
       "      <td>out</td>\n",
       "      <td>False</td>\n",
       "      <td>880020</td>\n",
       "      <td>True</td>\n",
       "      <td>5</td>\n",
       "      <td>0</td>\n",
       "      <td>70</td>\n",
       "    </tr>\n",
       "  </tbody>\n",
       "</table>\n",
       "</div>"
      ],
      "text/plain": [
       "   user_id       date direction  internal  operator_id  is_missed_call  \\\n",
       "0   166377 2019-08-05       out     False       880022            True   \n",
       "1   166377 2019-08-05       out     False       880020           False   \n",
       "2   166377 2019-08-05       out     False       880020            True   \n",
       "3   166377 2019-08-06       out     False       881278            True   \n",
       "4   166377 2019-08-06       out     False       880020            True   \n",
       "\n",
       "   calls_count  call_duration  total_call_duration  \n",
       "0            3              0                   25  \n",
       "1            2              3                   29  \n",
       "2            8              0                   50  \n",
       "3            3              0                   29  \n",
       "4            5              0                   70  "
      ]
     },
     "metadata": {},
     "output_type": "display_data"
    },
    {
     "name": "stdout",
     "output_type": "stream",
     "text": [
      "<class 'pandas.core.frame.DataFrame'>\n",
      "RangeIndex: 23219 entries, 0 to 23218\n",
      "Data columns (total 9 columns):\n",
      " #   Column               Non-Null Count  Dtype         \n",
      "---  ------               --------------  -----         \n",
      " 0   user_id              23219 non-null  int64         \n",
      " 1   date                 23219 non-null  datetime64[ns]\n",
      " 2   direction            23219 non-null  object        \n",
      " 3   internal             23219 non-null  boolean       \n",
      " 4   operator_id          23219 non-null  int64         \n",
      " 5   is_missed_call       23219 non-null  bool          \n",
      " 6   calls_count          23219 non-null  int64         \n",
      " 7   call_duration        23219 non-null  int64         \n",
      " 8   total_call_duration  23219 non-null  int64         \n",
      "dtypes: bool(1), boolean(1), datetime64[ns](1), int64(5), object(1)\n",
      "memory usage: 1.3+ MB\n"
     ]
    }
   ],
   "source": [
    "# creating a subset with filtered the data by 'direction' field and 'internal' field\n",
    "\n",
    "outgoing_calls = (calls[(calls[\"internal\"] == False) & (calls[\"direction\"] == \"out\")]).reset_index(drop=True)\n",
    "\n",
    "# checking the results\n",
    "display(outgoing_calls.head())\n",
    "outgoing_calls.info()"
   ]
  },
  {
   "cell_type": "code",
   "execution_count": 53,
   "id": "welsh-organic",
   "metadata": {},
   "outputs": [
    {
     "data": {
      "text/html": [
       "<div>\n",
       "<style scoped>\n",
       "    .dataframe tbody tr th:only-of-type {\n",
       "        vertical-align: middle;\n",
       "    }\n",
       "\n",
       "    .dataframe tbody tr th {\n",
       "        vertical-align: top;\n",
       "    }\n",
       "\n",
       "    .dataframe thead th {\n",
       "        text-align: right;\n",
       "    }\n",
       "</style>\n",
       "<table border=\"1\" class=\"dataframe\">\n",
       "  <thead>\n",
       "    <tr style=\"text-align: right;\">\n",
       "      <th></th>\n",
       "      <th>calls_avg_n</th>\n",
       "    </tr>\n",
       "    <tr>\n",
       "      <th>operator_id</th>\n",
       "      <th></th>\n",
       "    </tr>\n",
       "  </thead>\n",
       "  <tbody>\n",
       "    <tr>\n",
       "      <th>879896</th>\n",
       "      <td>8.575000</td>\n",
       "    </tr>\n",
       "    <tr>\n",
       "      <th>879898</th>\n",
       "      <td>44.158940</td>\n",
       "    </tr>\n",
       "    <tr>\n",
       "      <th>880020</th>\n",
       "      <td>3.400000</td>\n",
       "    </tr>\n",
       "    <tr>\n",
       "      <th>880022</th>\n",
       "      <td>3.222222</td>\n",
       "    </tr>\n",
       "    <tr>\n",
       "      <th>880026</th>\n",
       "      <td>14.490066</td>\n",
       "    </tr>\n",
       "    <tr>\n",
       "      <th>880028</th>\n",
       "      <td>16.162338</td>\n",
       "    </tr>\n",
       "    <tr>\n",
       "      <th>880240</th>\n",
       "      <td>5.857143</td>\n",
       "    </tr>\n",
       "    <tr>\n",
       "      <th>881278</th>\n",
       "      <td>2.400000</td>\n",
       "    </tr>\n",
       "    <tr>\n",
       "      <th>882684</th>\n",
       "      <td>6.445545</td>\n",
       "    </tr>\n",
       "    <tr>\n",
       "      <th>882686</th>\n",
       "      <td>19.173333</td>\n",
       "    </tr>\n",
       "    <tr>\n",
       "      <th>882688</th>\n",
       "      <td>6.142857</td>\n",
       "    </tr>\n",
       "    <tr>\n",
       "      <th>882690</th>\n",
       "      <td>35.400000</td>\n",
       "    </tr>\n",
       "    <tr>\n",
       "      <th>883018</th>\n",
       "      <td>2.000000</td>\n",
       "    </tr>\n",
       "    <tr>\n",
       "      <th>883898</th>\n",
       "      <td>1.000000</td>\n",
       "    </tr>\n",
       "    <tr>\n",
       "      <th>883940</th>\n",
       "      <td>20.387097</td>\n",
       "    </tr>\n",
       "    <tr>\n",
       "      <th>883942</th>\n",
       "      <td>17.955752</td>\n",
       "    </tr>\n",
       "    <tr>\n",
       "      <th>884402</th>\n",
       "      <td>1.000000</td>\n",
       "    </tr>\n",
       "    <tr>\n",
       "      <th>884408</th>\n",
       "      <td>1.800000</td>\n",
       "    </tr>\n",
       "    <tr>\n",
       "      <th>884412</th>\n",
       "      <td>8.077778</td>\n",
       "    </tr>\n",
       "    <tr>\n",
       "      <th>884478</th>\n",
       "      <td>32.371429</td>\n",
       "    </tr>\n",
       "  </tbody>\n",
       "</table>\n",
       "</div>"
      ],
      "text/plain": [
       "             calls_avg_n\n",
       "operator_id             \n",
       "879896          8.575000\n",
       "879898         44.158940\n",
       "880020          3.400000\n",
       "880022          3.222222\n",
       "880026         14.490066\n",
       "880028         16.162338\n",
       "880240          5.857143\n",
       "881278          2.400000\n",
       "882684          6.445545\n",
       "882686         19.173333\n",
       "882688          6.142857\n",
       "882690         35.400000\n",
       "883018          2.000000\n",
       "883898          1.000000\n",
       "883940         20.387097\n",
       "883942         17.955752\n",
       "884402          1.000000\n",
       "884408          1.800000\n",
       "884412          8.077778\n",
       "884478         32.371429"
      ]
     },
     "execution_count": 53,
     "metadata": {},
     "output_type": "execute_result"
    }
   ],
   "source": [
    "# grouping data by operator and by date and calculating the number of calls\n",
    "\n",
    "outgoing_calls_operator = outgoing_calls.groupby('operator_id').agg(calls_avg_n=('calls_count','mean'))\n",
    "\n",
    "# checking the results\n",
    "\n",
    "outgoing_calls_operator.head(20)"
   ]
  },
  {
   "cell_type": "markdown",
   "id": "federal-providence",
   "metadata": {},
   "source": [
    "-  Plotting a histrogram showing distribution of average number of outgoing calls through operators, finding trends and outliers"
   ]
  },
  {
   "cell_type": "code",
   "execution_count": 54,
   "id": "fiscal-effect",
   "metadata": {},
   "outputs": [
    {
     "data": {
      "text/plain": [
       "'\\nfig = px.histogram(outgoing_calls_operator, x=\"calls_avg_n\", \\n                   marginal=\"box\",\\n                   hover_data=outgoing_calls_operator.columns)\\n\\nfig.update_layout(\\n    title = \\'Distribution of average numbers of outgoing calls per day and per operator\\',\\n    xaxis_title = \"Average number of outgoing calls per day and per operator\",\\n    yaxis_title = \"Number of operators\",\\n    font=dict(\\n        family=\"Arial\",\\n        size=12,\\n        color=\"RebeccaPurple\"\\n    )\\n    )\\nfig.show()\\n'"
      ]
     },
     "execution_count": 54,
     "metadata": {},
     "output_type": "execute_result"
    }
   ],
   "source": [
    "\"\"\"\n",
    "fig = px.histogram(outgoing_calls_operator, x=\"calls_avg_n\", \n",
    "                   marginal=\"box\",\n",
    "                   hover_data=outgoing_calls_operator.columns)\n",
    "\n",
    "fig.update_layout(\n",
    "    title = 'Distribution of average numbers of outgoing calls per day and per operator',\n",
    "    xaxis_title = \"Average number of outgoing calls per day and per operator\",\n",
    "    yaxis_title = \"Number of operators\",\n",
    "    font=dict(\n",
    "        family=\"Arial\",\n",
    "        size=12,\n",
    "        color=\"RebeccaPurple\"\n",
    "    )\n",
    "    )\n",
    "fig.show()\n",
    "\"\"\""
   ]
  },
  {
   "cell_type": "code",
   "execution_count": 55,
   "id": "political-lincoln",
   "metadata": {},
   "outputs": [
    {
     "data": {
      "text/plain": [
       "count    833.000000\n",
       "mean      13.321047\n",
       "std       18.751722\n",
       "min        1.000000\n",
       "25%        2.000000\n",
       "50%        4.018182\n",
       "75%       15.750000\n",
       "max       92.277778\n",
       "Name: calls_avg_n, dtype: float64"
      ]
     },
     "execution_count": 55,
     "metadata": {},
     "output_type": "execute_result"
    }
   ],
   "source": [
    "outgoing_calls_operator[\"calls_avg_n\"].describe()"
   ]
  },
  {
   "cell_type": "markdown",
   "id": "excited-cheat",
   "metadata": {},
   "source": [
    "The picture is intersting. There are a lot of operators who made a really small number of calls. It's not very probable that all of them are inefficient. Probably they are just not supposed to make such calls. Perhabs they make them by occasion with incoming calls. In that case we cannot say they are ineffective.  \n",
    "\n",
    "Let's see if the operators making outgoing calls receive also incoming calls, and if so, then how many such calls they receive compare making outgoing calls. "
   ]
  },
  {
   "cell_type": "code",
   "execution_count": 56,
   "id": "korean-classification",
   "metadata": {},
   "outputs": [
    {
     "data": {
      "text/html": [
       "<div>\n",
       "<style scoped>\n",
       "    .dataframe tbody tr th:only-of-type {\n",
       "        vertical-align: middle;\n",
       "    }\n",
       "\n",
       "    .dataframe tbody tr th {\n",
       "        vertical-align: top;\n",
       "    }\n",
       "\n",
       "    .dataframe thead th {\n",
       "        text-align: right;\n",
       "    }\n",
       "</style>\n",
       "<table border=\"1\" class=\"dataframe\">\n",
       "  <thead>\n",
       "    <tr style=\"text-align: right;\">\n",
       "      <th></th>\n",
       "      <th>operator_id</th>\n",
       "      <th>total_calls_out</th>\n",
       "      <th>avg_calls_out</th>\n",
       "      <th>total_calls_in</th>\n",
       "      <th>avg_calls_in</th>\n",
       "    </tr>\n",
       "  </thead>\n",
       "  <tbody>\n",
       "    <tr>\n",
       "      <th>0</th>\n",
       "      <td>879896</td>\n",
       "      <td>686</td>\n",
       "      <td>8.575000</td>\n",
       "      <td>58.0</td>\n",
       "      <td>2.761905</td>\n",
       "    </tr>\n",
       "    <tr>\n",
       "      <th>1</th>\n",
       "      <td>879898</td>\n",
       "      <td>6668</td>\n",
       "      <td>44.158940</td>\n",
       "      <td>103.0</td>\n",
       "      <td>1.839286</td>\n",
       "    </tr>\n",
       "    <tr>\n",
       "      <th>2</th>\n",
       "      <td>880020</td>\n",
       "      <td>34</td>\n",
       "      <td>3.400000</td>\n",
       "      <td>7.0</td>\n",
       "      <td>1.000000</td>\n",
       "    </tr>\n",
       "    <tr>\n",
       "      <th>3</th>\n",
       "      <td>880022</td>\n",
       "      <td>174</td>\n",
       "      <td>3.222222</td>\n",
       "      <td>8.0</td>\n",
       "      <td>1.000000</td>\n",
       "    </tr>\n",
       "    <tr>\n",
       "      <th>4</th>\n",
       "      <td>880026</td>\n",
       "      <td>2188</td>\n",
       "      <td>14.490066</td>\n",
       "      <td>24.0</td>\n",
       "      <td>1.333333</td>\n",
       "    </tr>\n",
       "    <tr>\n",
       "      <th>5</th>\n",
       "      <td>880028</td>\n",
       "      <td>2489</td>\n",
       "      <td>16.162338</td>\n",
       "      <td>63.0</td>\n",
       "      <td>1.536585</td>\n",
       "    </tr>\n",
       "    <tr>\n",
       "      <th>6</th>\n",
       "      <td>880240</td>\n",
       "      <td>41</td>\n",
       "      <td>5.857143</td>\n",
       "      <td>0.0</td>\n",
       "      <td>0.000000</td>\n",
       "    </tr>\n",
       "    <tr>\n",
       "      <th>7</th>\n",
       "      <td>881278</td>\n",
       "      <td>12</td>\n",
       "      <td>2.400000</td>\n",
       "      <td>0.0</td>\n",
       "      <td>0.000000</td>\n",
       "    </tr>\n",
       "    <tr>\n",
       "      <th>8</th>\n",
       "      <td>882684</td>\n",
       "      <td>651</td>\n",
       "      <td>6.445545</td>\n",
       "      <td>613.0</td>\n",
       "      <td>12.260000</td>\n",
       "    </tr>\n",
       "    <tr>\n",
       "      <th>9</th>\n",
       "      <td>882686</td>\n",
       "      <td>2876</td>\n",
       "      <td>19.173333</td>\n",
       "      <td>766.0</td>\n",
       "      <td>11.264706</td>\n",
       "    </tr>\n",
       "  </tbody>\n",
       "</table>\n",
       "</div>"
      ],
      "text/plain": [
       "   operator_id  total_calls_out  avg_calls_out  total_calls_in  avg_calls_in\n",
       "0       879896              686       8.575000            58.0      2.761905\n",
       "1       879898             6668      44.158940           103.0      1.839286\n",
       "2       880020               34       3.400000             7.0      1.000000\n",
       "3       880022              174       3.222222             8.0      1.000000\n",
       "4       880026             2188      14.490066            24.0      1.333333\n",
       "5       880028             2489      16.162338            63.0      1.536585\n",
       "6       880240               41       5.857143             0.0      0.000000\n",
       "7       881278               12       2.400000             0.0      0.000000\n",
       "8       882684              651       6.445545           613.0     12.260000\n",
       "9       882686             2876      19.173333           766.0     11.264706"
      ]
     },
     "execution_count": 56,
     "metadata": {},
     "output_type": "execute_result"
    }
   ],
   "source": [
    "# creating a subset where we calculate incoming calls and outgoing calls \n",
    "\n",
    "outgoing_callers= ((calls.query('internal == False & direction == \"out\"')\n",
    "                        .groupby('operator_id')\n",
    "                        .agg(total_calls_out=('calls_count','sum'), \n",
    "                            avg_calls_out=('calls_count', 'mean'))\n",
    "                        .reset_index())\n",
    "                    .merge((calls.query('internal == False & direction == \"in\"')\n",
    "                        .groupby('operator_id')\n",
    "                        .agg(total_calls_in=('calls_count','sum'),\n",
    "                            avg_calls_in=('calls_count', 'mean'))\n",
    "                        .reset_index()), on='operator_id', how='left')\n",
    "                    .fillna(0)\n",
    "                    )\n",
    "\n",
    "# checking the results\n",
    "\n",
    "outgoing_callers.head(10)"
   ]
  },
  {
   "cell_type": "markdown",
   "id": "solved-stable",
   "metadata": {},
   "source": [
    "Let's see how many received no incoming calls"
   ]
  },
  {
   "cell_type": "code",
   "execution_count": 57,
   "id": "educated-senior",
   "metadata": {},
   "outputs": [
    {
     "data": {
      "text/plain": [
       "317"
      ]
     },
     "execution_count": 57,
     "metadata": {},
     "output_type": "execute_result"
    }
   ],
   "source": [
    "len(outgoing_callers.query('total_calls_in == 0'))"
   ]
  },
  {
   "cell_type": "markdown",
   "id": "stone-strand",
   "metadata": {},
   "source": [
    "Not a lot, let's which operators made more outgoing calls than incoming"
   ]
  },
  {
   "cell_type": "code",
   "execution_count": 58,
   "id": "expensive-flash",
   "metadata": {},
   "outputs": [
    {
     "data": {
      "text/html": [
       "<div>\n",
       "<style scoped>\n",
       "    .dataframe tbody tr th:only-of-type {\n",
       "        vertical-align: middle;\n",
       "    }\n",
       "\n",
       "    .dataframe tbody tr th {\n",
       "        vertical-align: top;\n",
       "    }\n",
       "\n",
       "    .dataframe thead th {\n",
       "        text-align: right;\n",
       "    }\n",
       "</style>\n",
       "<table border=\"1\" class=\"dataframe\">\n",
       "  <thead>\n",
       "    <tr style=\"text-align: right;\">\n",
       "      <th></th>\n",
       "      <th>operator_id</th>\n",
       "      <th>total_calls_out</th>\n",
       "      <th>avg_calls_out</th>\n",
       "      <th>total_calls_in</th>\n",
       "      <th>avg_calls_in</th>\n",
       "      <th>ratio_avg_in_out</th>\n",
       "    </tr>\n",
       "  </thead>\n",
       "  <tbody>\n",
       "    <tr>\n",
       "      <th>681</th>\n",
       "      <td>947304</td>\n",
       "      <td>618</td>\n",
       "      <td>18.727273</td>\n",
       "      <td>35.0</td>\n",
       "      <td>1.944444</td>\n",
       "      <td>0.103830</td>\n",
       "    </tr>\n",
       "    <tr>\n",
       "      <th>646</th>\n",
       "      <td>945052</td>\n",
       "      <td>12</td>\n",
       "      <td>1.714286</td>\n",
       "      <td>58.0</td>\n",
       "      <td>7.250000</td>\n",
       "      <td>4.229167</td>\n",
       "    </tr>\n",
       "    <tr>\n",
       "      <th>171</th>\n",
       "      <td>902774</td>\n",
       "      <td>1099</td>\n",
       "      <td>23.382979</td>\n",
       "      <td>0.0</td>\n",
       "      <td>0.000000</td>\n",
       "      <td>0.000000</td>\n",
       "    </tr>\n",
       "    <tr>\n",
       "      <th>7</th>\n",
       "      <td>881278</td>\n",
       "      <td>12</td>\n",
       "      <td>2.400000</td>\n",
       "      <td>0.0</td>\n",
       "      <td>0.000000</td>\n",
       "      <td>0.000000</td>\n",
       "    </tr>\n",
       "    <tr>\n",
       "      <th>23</th>\n",
       "      <td>885890</td>\n",
       "      <td>1201</td>\n",
       "      <td>80.066667</td>\n",
       "      <td>1244.0</td>\n",
       "      <td>13.234043</td>\n",
       "      <td>0.165288</td>\n",
       "    </tr>\n",
       "    <tr>\n",
       "      <th>498</th>\n",
       "      <td>935246</td>\n",
       "      <td>4</td>\n",
       "      <td>1.333333</td>\n",
       "      <td>0.0</td>\n",
       "      <td>0.000000</td>\n",
       "      <td>0.000000</td>\n",
       "    </tr>\n",
       "    <tr>\n",
       "      <th>602</th>\n",
       "      <td>940614</td>\n",
       "      <td>422</td>\n",
       "      <td>28.133333</td>\n",
       "      <td>142.0</td>\n",
       "      <td>14.200000</td>\n",
       "      <td>0.504739</td>\n",
       "    </tr>\n",
       "    <tr>\n",
       "      <th>699</th>\n",
       "      <td>947644</td>\n",
       "      <td>435</td>\n",
       "      <td>11.447368</td>\n",
       "      <td>0.0</td>\n",
       "      <td>0.000000</td>\n",
       "      <td>0.000000</td>\n",
       "    </tr>\n",
       "    <tr>\n",
       "      <th>636</th>\n",
       "      <td>944246</td>\n",
       "      <td>1</td>\n",
       "      <td>1.000000</td>\n",
       "      <td>9.0</td>\n",
       "      <td>1.800000</td>\n",
       "      <td>1.800000</td>\n",
       "    </tr>\n",
       "    <tr>\n",
       "      <th>660</th>\n",
       "      <td>945302</td>\n",
       "      <td>3506</td>\n",
       "      <td>67.423077</td>\n",
       "      <td>0.0</td>\n",
       "      <td>0.000000</td>\n",
       "      <td>0.000000</td>\n",
       "    </tr>\n",
       "  </tbody>\n",
       "</table>\n",
       "</div>"
      ],
      "text/plain": [
       "     operator_id  total_calls_out  avg_calls_out  total_calls_in  \\\n",
       "681       947304              618      18.727273            35.0   \n",
       "646       945052               12       1.714286            58.0   \n",
       "171       902774             1099      23.382979             0.0   \n",
       "7         881278               12       2.400000             0.0   \n",
       "23        885890             1201      80.066667          1244.0   \n",
       "498       935246                4       1.333333             0.0   \n",
       "602       940614              422      28.133333           142.0   \n",
       "699       947644              435      11.447368             0.0   \n",
       "636       944246                1       1.000000             9.0   \n",
       "660       945302             3506      67.423077             0.0   \n",
       "\n",
       "     avg_calls_in  ratio_avg_in_out  \n",
       "681      1.944444          0.103830  \n",
       "646      7.250000          4.229167  \n",
       "171      0.000000          0.000000  \n",
       "7        0.000000          0.000000  \n",
       "23      13.234043          0.165288  \n",
       "498      0.000000          0.000000  \n",
       "602     14.200000          0.504739  \n",
       "699      0.000000          0.000000  \n",
       "636      1.800000          1.800000  \n",
       "660      0.000000          0.000000  "
      ]
     },
     "execution_count": 58,
     "metadata": {},
     "output_type": "execute_result"
    }
   ],
   "source": [
    "# finding a ratio of average number of incoming calls to outgoing calls\n",
    "\n",
    "outgoing_callers['ratio_avg_in_out'] = (outgoing_callers['avg_calls_in']\n",
    "                                 /outgoing_callers['avg_calls_out'])\n",
    "\n",
    "# checking the results\n",
    "outgoing_callers.sample(10)"
   ]
  },
  {
   "cell_type": "code",
   "execution_count": 59,
   "id": "clean-offense",
   "metadata": {},
   "outputs": [
    {
     "data": {
      "text/plain": [
       "count    833.000000\n",
       "mean       0.915158\n",
       "std        3.187422\n",
       "min        0.000000\n",
       "25%        0.000000\n",
       "50%        0.303904\n",
       "75%        0.950635\n",
       "max       51.388889\n",
       "Name: ratio_avg_in_out, dtype: float64"
      ]
     },
     "execution_count": 59,
     "metadata": {},
     "output_type": "execute_result"
    }
   ],
   "source": [
    "outgoing_callers['ratio_avg_in_out'].describe()"
   ]
  },
  {
   "cell_type": "code",
   "execution_count": 60,
   "id": "inside-kingston",
   "metadata": {},
   "outputs": [
    {
     "data": {
      "text/plain": [
       "662"
      ]
     },
     "execution_count": 60,
     "metadata": {},
     "output_type": "execute_result"
    }
   ],
   "source": [
    "len(outgoing_callers.query('ratio_avg_in_out <= 1'))"
   ]
  },
  {
   "cell_type": "markdown",
   "id": "particular-intensity",
   "metadata": {},
   "source": [
    "More operators. They are definitely supposed to make outgoing calls - they make them more than incoming. So we filter the subset for such operators and then find the threshold of efficiency. "
   ]
  },
  {
   "cell_type": "code",
   "execution_count": 61,
   "id": "violent-stationery",
   "metadata": {},
   "outputs": [
    {
     "data": {
      "text/html": [
       "<div>\n",
       "<style scoped>\n",
       "    .dataframe tbody tr th:only-of-type {\n",
       "        vertical-align: middle;\n",
       "    }\n",
       "\n",
       "    .dataframe tbody tr th {\n",
       "        vertical-align: top;\n",
       "    }\n",
       "\n",
       "    .dataframe thead th {\n",
       "        text-align: right;\n",
       "    }\n",
       "</style>\n",
       "<table border=\"1\" class=\"dataframe\">\n",
       "  <thead>\n",
       "    <tr style=\"text-align: right;\">\n",
       "      <th></th>\n",
       "      <th>operator_id</th>\n",
       "      <th>total_calls_out</th>\n",
       "      <th>avg_calls_out</th>\n",
       "      <th>total_calls_in</th>\n",
       "      <th>avg_calls_in</th>\n",
       "      <th>ratio_avg_in_out</th>\n",
       "    </tr>\n",
       "  </thead>\n",
       "  <tbody>\n",
       "    <tr>\n",
       "      <th>426</th>\n",
       "      <td>937898</td>\n",
       "      <td>26</td>\n",
       "      <td>13.000000</td>\n",
       "      <td>9.0</td>\n",
       "      <td>4.500000</td>\n",
       "      <td>0.346154</td>\n",
       "    </tr>\n",
       "    <tr>\n",
       "      <th>617</th>\n",
       "      <td>958672</td>\n",
       "      <td>2</td>\n",
       "      <td>1.000000</td>\n",
       "      <td>0.0</td>\n",
       "      <td>0.000000</td>\n",
       "      <td>0.000000</td>\n",
       "    </tr>\n",
       "    <tr>\n",
       "      <th>75</th>\n",
       "      <td>894226</td>\n",
       "      <td>4</td>\n",
       "      <td>2.000000</td>\n",
       "      <td>0.0</td>\n",
       "      <td>0.000000</td>\n",
       "      <td>0.000000</td>\n",
       "    </tr>\n",
       "    <tr>\n",
       "      <th>131</th>\n",
       "      <td>901992</td>\n",
       "      <td>671</td>\n",
       "      <td>20.333333</td>\n",
       "      <td>11.0</td>\n",
       "      <td>1.571429</td>\n",
       "      <td>0.077283</td>\n",
       "    </tr>\n",
       "    <tr>\n",
       "      <th>173</th>\n",
       "      <td>906412</td>\n",
       "      <td>60</td>\n",
       "      <td>2.000000</td>\n",
       "      <td>26.0</td>\n",
       "      <td>1.733333</td>\n",
       "      <td>0.866667</td>\n",
       "    </tr>\n",
       "    <tr>\n",
       "      <th>335</th>\n",
       "      <td>925922</td>\n",
       "      <td>260</td>\n",
       "      <td>28.888889</td>\n",
       "      <td>418.0</td>\n",
       "      <td>15.481481</td>\n",
       "      <td>0.535897</td>\n",
       "    </tr>\n",
       "    <tr>\n",
       "      <th>87</th>\n",
       "      <td>896018</td>\n",
       "      <td>3</td>\n",
       "      <td>1.500000</td>\n",
       "      <td>8.0</td>\n",
       "      <td>1.000000</td>\n",
       "      <td>0.666667</td>\n",
       "    </tr>\n",
       "    <tr>\n",
       "      <th>370</th>\n",
       "      <td>932292</td>\n",
       "      <td>97</td>\n",
       "      <td>3.464286</td>\n",
       "      <td>6.0</td>\n",
       "      <td>1.500000</td>\n",
       "      <td>0.432990</td>\n",
       "    </tr>\n",
       "    <tr>\n",
       "      <th>89</th>\n",
       "      <td>896384</td>\n",
       "      <td>28</td>\n",
       "      <td>9.333333</td>\n",
       "      <td>0.0</td>\n",
       "      <td>0.000000</td>\n",
       "      <td>0.000000</td>\n",
       "    </tr>\n",
       "    <tr>\n",
       "      <th>644</th>\n",
       "      <td>969268</td>\n",
       "      <td>3</td>\n",
       "      <td>3.000000</td>\n",
       "      <td>0.0</td>\n",
       "      <td>0.000000</td>\n",
       "      <td>0.000000</td>\n",
       "    </tr>\n",
       "  </tbody>\n",
       "</table>\n",
       "</div>"
      ],
      "text/plain": [
       "     operator_id  total_calls_out  avg_calls_out  total_calls_in  \\\n",
       "426       937898               26      13.000000             9.0   \n",
       "617       958672                2       1.000000             0.0   \n",
       "75        894226                4       2.000000             0.0   \n",
       "131       901992              671      20.333333            11.0   \n",
       "173       906412               60       2.000000            26.0   \n",
       "335       925922              260      28.888889           418.0   \n",
       "87        896018                3       1.500000             8.0   \n",
       "370       932292               97       3.464286             6.0   \n",
       "89        896384               28       9.333333             0.0   \n",
       "644       969268                3       3.000000             0.0   \n",
       "\n",
       "     avg_calls_in  ratio_avg_in_out  \n",
       "426      4.500000          0.346154  \n",
       "617      0.000000          0.000000  \n",
       "75       0.000000          0.000000  \n",
       "131      1.571429          0.077283  \n",
       "173      1.733333          0.866667  \n",
       "335     15.481481          0.535897  \n",
       "87       1.000000          0.666667  \n",
       "370      1.500000          0.432990  \n",
       "89       0.000000          0.000000  \n",
       "644      0.000000          0.000000  "
      ]
     },
     "execution_count": 61,
     "metadata": {},
     "output_type": "execute_result"
    }
   ],
   "source": [
    "outgoing_callers = outgoing_callers.query('ratio_avg_in_out <= 1')\n",
    "outgoing_callers = outgoing_callers.reset_index(drop=True)\n",
    "\n",
    "# checking the results\n",
    "outgoing_callers.sample(10)"
   ]
  },
  {
   "cell_type": "markdown",
   "id": "heavy-college",
   "metadata": {},
   "source": [
    "- Looking at the distribution of average number of outgoing calls once again"
   ]
  },
  {
   "cell_type": "code",
   "execution_count": 62,
   "id": "opposite-denmark",
   "metadata": {},
   "outputs": [
    {
     "data": {
      "text/plain": [
       "'\\nfig = px.histogram(outgoing_callers, x=\"avg_calls_out\", \\n                   marginal=\"box\",\\n                   hover_data=outgoing_callers.columns)\\n\\nfig.update_layout(\\n    title = \\'Distribution of average numbers of outgoing calls per day and per operator\\',\\n    xaxis_title = \"Average number of outgoing calls per day and per operator\",\\n    yaxis_title = \"Number of operators\",\\n    font=dict(\\n        family=\"Arial\",\\n        size=12,\\n        color=\"RebeccaPurple\"\\n    )\\n    )\\nfig.show()\\n'"
      ]
     },
     "execution_count": 62,
     "metadata": {},
     "output_type": "execute_result"
    }
   ],
   "source": [
    "\"\"\"\n",
    "fig = px.histogram(outgoing_callers, x=\"avg_calls_out\", \n",
    "                   marginal=\"box\",\n",
    "                   hover_data=outgoing_callers.columns)\n",
    "\n",
    "fig.update_layout(\n",
    "    title = 'Distribution of average numbers of outgoing calls per day and per operator',\n",
    "    xaxis_title = \"Average number of outgoing calls per day and per operator\",\n",
    "    yaxis_title = \"Number of operators\",\n",
    "    font=dict(\n",
    "        family=\"Arial\",\n",
    "        size=12,\n",
    "        color=\"RebeccaPurple\"\n",
    "    )\n",
    "    )\n",
    "fig.show()\n",
    "\"\"\""
   ]
  },
  {
   "cell_type": "code",
   "execution_count": 63,
   "id": "promising-interface",
   "metadata": {},
   "outputs": [
    {
     "data": {
      "text/plain": [
       "count    662.000000\n",
       "mean      15.809411\n",
       "std       20.163150\n",
       "min        1.000000\n",
       "25%        2.358021\n",
       "50%        6.052632\n",
       "75%       21.053571\n",
       "max       92.277778\n",
       "Name: avg_calls_out, dtype: float64"
      ]
     },
     "execution_count": 63,
     "metadata": {},
     "output_type": "execute_result"
    }
   ],
   "source": [
    "outgoing_callers['avg_calls_out'].describe()"
   ]
  },
  {
   "cell_type": "code",
   "execution_count": 64,
   "id": "graphic-committee",
   "metadata": {},
   "outputs": [
    {
     "data": {
      "text/plain": [
       "3.6549019607843145"
      ]
     },
     "execution_count": 64,
     "metadata": {},
     "output_type": "execute_result"
    }
   ],
   "source": [
    "# finding 40's percentile\n",
    "np.percentile(outgoing_callers['avg_calls_out'], 40)"
   ]
  },
  {
   "cell_type": "markdown",
   "id": "verified-sheffield",
   "metadata": {},
   "source": [
    "In fact, even after we filtered the data using a quite sofisticated way the picture is not much changed, we see that a great part of operators make really small number of calls. But maybe it's really the case: there is also a good part of operators which make a relatively higher numbe of calls, they seem to be effective and the others are not. "
   ]
  },
  {
   "cell_type": "markdown",
   "id": "pregnant-martin",
   "metadata": {},
   "source": [
    "-  Determing threshold for the low number of calls "
   ]
  },
  {
   "cell_type": "markdown",
   "id": "living-reset",
   "metadata": {},
   "source": [
    "Taking into account the relevant efficient part operators which made more than 10 calls per day, we find apporpriate to set up the relevant threshold as 6 calls per day"
   ]
  },
  {
   "cell_type": "code",
   "execution_count": 65,
   "id": "designing-electric",
   "metadata": {},
   "outputs": [],
   "source": [
    "# setting up the threshold for number of outgoing calls\n",
    "\n",
    "outgoing_calls_thrld = 6"
   ]
  },
  {
   "cell_type": "markdown",
   "id": "earned-volunteer",
   "metadata": {},
   "source": [
    " "
   ]
  },
  {
   "cell_type": "markdown",
   "id": "built-civilian",
   "metadata": {},
   "source": [
    "## Step 4: Identifying Ineffective Operators\n",
    "-  Classifying the operators as effective and ineffective based on the thresholds for the metrics found during the EDA"
   ]
  },
  {
   "cell_type": "code",
   "execution_count": 66,
   "id": "southwest-tattoo",
   "metadata": {},
   "outputs": [
    {
     "data": {
      "text/html": [
       "<div>\n",
       "<style scoped>\n",
       "    .dataframe tbody tr th:only-of-type {\n",
       "        vertical-align: middle;\n",
       "    }\n",
       "\n",
       "    .dataframe tbody tr th {\n",
       "        vertical-align: top;\n",
       "    }\n",
       "\n",
       "    .dataframe thead th {\n",
       "        text-align: right;\n",
       "    }\n",
       "</style>\n",
       "<table border=\"1\" class=\"dataframe\">\n",
       "  <thead>\n",
       "    <tr style=\"text-align: right;\">\n",
       "      <th></th>\n",
       "      <th>operator_id</th>\n",
       "    </tr>\n",
       "  </thead>\n",
       "  <tbody>\n",
       "    <tr>\n",
       "      <th>0</th>\n",
       "      <td>880022</td>\n",
       "    </tr>\n",
       "    <tr>\n",
       "      <th>1</th>\n",
       "      <td>880020</td>\n",
       "    </tr>\n",
       "    <tr>\n",
       "      <th>2</th>\n",
       "      <td>881278</td>\n",
       "    </tr>\n",
       "    <tr>\n",
       "      <th>3</th>\n",
       "      <td>880028</td>\n",
       "    </tr>\n",
       "    <tr>\n",
       "      <th>4</th>\n",
       "      <td>880026</td>\n",
       "    </tr>\n",
       "  </tbody>\n",
       "</table>\n",
       "</div>"
      ],
      "text/plain": [
       "   operator_id\n",
       "0       880022\n",
       "1       880020\n",
       "2       881278\n",
       "3       880028\n",
       "4       880026"
      ]
     },
     "metadata": {},
     "output_type": "display_data"
    },
    {
     "data": {
      "text/html": [
       "<div>\n",
       "<style scoped>\n",
       "    .dataframe tbody tr th:only-of-type {\n",
       "        vertical-align: middle;\n",
       "    }\n",
       "\n",
       "    .dataframe tbody tr th {\n",
       "        vertical-align: top;\n",
       "    }\n",
       "\n",
       "    .dataframe thead th {\n",
       "        text-align: right;\n",
       "    }\n",
       "</style>\n",
       "<table border=\"1\" class=\"dataframe\">\n",
       "  <thead>\n",
       "    <tr style=\"text-align: right;\">\n",
       "      <th></th>\n",
       "      <th>operator_id</th>\n",
       "    </tr>\n",
       "  </thead>\n",
       "  <tbody>\n",
       "    <tr>\n",
       "      <th>1087</th>\n",
       "      <td>958394</td>\n",
       "    </tr>\n",
       "    <tr>\n",
       "      <th>1088</th>\n",
       "      <td>952914</td>\n",
       "    </tr>\n",
       "    <tr>\n",
       "      <th>1089</th>\n",
       "      <td>952916</td>\n",
       "    </tr>\n",
       "    <tr>\n",
       "      <th>1090</th>\n",
       "      <td>959118</td>\n",
       "    </tr>\n",
       "    <tr>\n",
       "      <th>1091</th>\n",
       "      <td>957922</td>\n",
       "    </tr>\n",
       "  </tbody>\n",
       "</table>\n",
       "</div>"
      ],
      "text/plain": [
       "      operator_id\n",
       "1087       958394\n",
       "1088       952914\n",
       "1089       952916\n",
       "1090       959118\n",
       "1091       957922"
      ]
     },
     "metadata": {},
     "output_type": "display_data"
    },
    {
     "name": "stdout",
     "output_type": "stream",
     "text": [
      "<class 'pandas.core.frame.DataFrame'>\n",
      "RangeIndex: 1092 entries, 0 to 1091\n",
      "Data columns (total 1 columns):\n",
      " #   Column       Non-Null Count  Dtype\n",
      "---  ------       --------------  -----\n",
      " 0   operator_id  1092 non-null   int64\n",
      "dtypes: int64(1)\n",
      "memory usage: 8.7 KB\n"
     ]
    }
   ],
   "source": [
    "# creating a dataframe with operator id of all operators\n",
    "\n",
    "operators_series = pd.Series(calls['operator_id'].unique())\n",
    "\n",
    "operators = pd.DataFrame(operators_series)\n",
    "\n",
    "operators = operators.rename(columns={0:'operator_id'})\n",
    "\n",
    "# checking the results\n",
    "\n",
    "display(operators.head())\n",
    "display(operators.tail())\n",
    "operators.info()\n"
   ]
  },
  {
   "cell_type": "code",
   "execution_count": 67,
   "id": "accurate-language",
   "metadata": {},
   "outputs": [],
   "source": [
    "# creating a list of ineffective operators based on the threshold for ratio of missed calls \n",
    "\n",
    "missed_calls_list_ineffective = (calls_by_operator.query('share_missed > @missed_calls_thrld')['operator_id'].unique())\n",
    "\n",
    "# creating a list of ineffective operators based on the threshold for ratio of missed calls\n",
    "\n",
    "long_wait_time_list_ineffective = (calls_by_operator_wait_time\n",
    "                                   .query('avg_per_call > @long_wait_time__thrld')['operator_id'].unique())\n",
    "\n",
    "\n",
    "# creating a list of ineffective operators based on the thereshold for average number of outgoing calls\n",
    "\n",
    "small_number_outgoing_calls_ineffective = (outgoing_callers\n",
    "                                           .query('avg_calls_out < @outgoing_calls_thrld')['operator_id'].unique())"
   ]
  },
  {
   "cell_type": "markdown",
   "id": "cubic-separation",
   "metadata": {},
   "source": [
    "let's find the length of each list"
   ]
  },
  {
   "cell_type": "code",
   "execution_count": 68,
   "id": "historic-trademark",
   "metadata": {},
   "outputs": [
    {
     "data": {
      "text/plain": [
       "113"
      ]
     },
     "execution_count": 68,
     "metadata": {},
     "output_type": "execute_result"
    }
   ],
   "source": [
    "len(missed_calls_list_ineffective)"
   ]
  },
  {
   "cell_type": "code",
   "execution_count": 69,
   "id": "sacred-strain",
   "metadata": {},
   "outputs": [
    {
     "data": {
      "text/plain": [
       "48"
      ]
     },
     "execution_count": 69,
     "metadata": {},
     "output_type": "execute_result"
    }
   ],
   "source": [
    "len(long_wait_time_list_ineffective)"
   ]
  },
  {
   "cell_type": "code",
   "execution_count": 70,
   "id": "certain-hierarchy",
   "metadata": {},
   "outputs": [
    {
     "data": {
      "text/plain": [
       "329"
      ]
     },
     "execution_count": 70,
     "metadata": {},
     "output_type": "execute_result"
    }
   ],
   "source": [
    "len(small_number_outgoing_calls_ineffective)"
   ]
  },
  {
   "cell_type": "code",
   "execution_count": 71,
   "id": "touched-rachel",
   "metadata": {},
   "outputs": [],
   "source": [
    "# creating a function returning a label for operator id \n",
    "\n",
    "def efficiency_classifier(operator_id):\n",
    "    if  (operator_id in missed_calls_list_ineffective\n",
    "        and operator_id in long_wait_time_list_ineffective\n",
    "        or operator_id in small_number_outgoing_calls_ineffective):\n",
    "        return 'ineffective'\n",
    "    else:\n",
    "        return 'effective'"
   ]
  },
  {
   "cell_type": "code",
   "execution_count": 72,
   "id": "french-ability",
   "metadata": {},
   "outputs": [
    {
     "data": {
      "text/plain": [
       "'effective'"
      ]
     },
     "execution_count": 72,
     "metadata": {},
     "output_type": "execute_result"
    }
   ],
   "source": [
    "# testing if the function works \n",
    "efficiency_classifier(958394)"
   ]
  },
  {
   "cell_type": "code",
   "execution_count": 73,
   "id": "graduate-peeing",
   "metadata": {},
   "outputs": [
    {
     "data": {
      "text/html": [
       "<div>\n",
       "<style scoped>\n",
       "    .dataframe tbody tr th:only-of-type {\n",
       "        vertical-align: middle;\n",
       "    }\n",
       "\n",
       "    .dataframe tbody tr th {\n",
       "        vertical-align: top;\n",
       "    }\n",
       "\n",
       "    .dataframe thead th {\n",
       "        text-align: right;\n",
       "    }\n",
       "</style>\n",
       "<table border=\"1\" class=\"dataframe\">\n",
       "  <thead>\n",
       "    <tr style=\"text-align: right;\">\n",
       "      <th></th>\n",
       "      <th>operator_id</th>\n",
       "      <th>efficiency</th>\n",
       "    </tr>\n",
       "  </thead>\n",
       "  <tbody>\n",
       "    <tr>\n",
       "      <th>0</th>\n",
       "      <td>880022</td>\n",
       "      <td>ineffective</td>\n",
       "    </tr>\n",
       "    <tr>\n",
       "      <th>1</th>\n",
       "      <td>880020</td>\n",
       "      <td>ineffective</td>\n",
       "    </tr>\n",
       "    <tr>\n",
       "      <th>2</th>\n",
       "      <td>881278</td>\n",
       "      <td>ineffective</td>\n",
       "    </tr>\n",
       "    <tr>\n",
       "      <th>3</th>\n",
       "      <td>880028</td>\n",
       "      <td>effective</td>\n",
       "    </tr>\n",
       "    <tr>\n",
       "      <th>4</th>\n",
       "      <td>880026</td>\n",
       "      <td>effective</td>\n",
       "    </tr>\n",
       "  </tbody>\n",
       "</table>\n",
       "</div>"
      ],
      "text/plain": [
       "   operator_id   efficiency\n",
       "0       880022  ineffective\n",
       "1       880020  ineffective\n",
       "2       881278  ineffective\n",
       "3       880028    effective\n",
       "4       880026    effective"
      ]
     },
     "execution_count": 73,
     "metadata": {},
     "output_type": "execute_result"
    }
   ],
   "source": [
    "# applaying the function to operators ids and getting the value indicating if they are effective or not\n",
    "\n",
    "operators['efficiency']=operators['operator_id'].apply(lambda x: efficiency_classifier(x))\n",
    "operators.head()"
   ]
  },
  {
   "cell_type": "code",
   "execution_count": 74,
   "id": "technological-exemption",
   "metadata": {},
   "outputs": [
    {
     "data": {
      "text/plain": [
       "effective      760\n",
       "ineffective    332\n",
       "Name: efficiency, dtype: int64"
      ]
     },
     "execution_count": 74,
     "metadata": {},
     "output_type": "execute_result"
    }
   ],
   "source": [
    "# looking at the split of the operators into two groups\n",
    "\n",
    "operators['efficiency'].value_counts()"
   ]
  },
  {
   "cell_type": "markdown",
   "id": "seasonal-brunei",
   "metadata": {},
   "source": [
    "Let's look at the ratios of two groups of operators two all operators"
   ]
  },
  {
   "cell_type": "code",
   "execution_count": 75,
   "id": "defensive-wiring",
   "metadata": {},
   "outputs": [],
   "source": [
    "# calculating the ratio of effective operators to all operators\n",
    "\n",
    "effective_operators_rat = len(operators[operators['efficiency'] == 'effective'])/len(operators)"
   ]
  },
  {
   "cell_type": "code",
   "execution_count": 76,
   "id": "rising-painting",
   "metadata": {},
   "outputs": [
    {
     "data": {
      "text/plain": [
       "0.30402930402930406"
      ]
     },
     "execution_count": 76,
     "metadata": {},
     "output_type": "execute_result"
    }
   ],
   "source": [
    "# calculating the ratio of effective operators to all operators\n",
    "1 - effective_operators_rat"
   ]
  },
  {
   "cell_type": "markdown",
   "id": "minimal-peninsula",
   "metadata": {},
   "source": [
    "We have finally got a table of effective and ineffective operators. According to our approach the ineffictive operators make around 30 % of all operators. It's quite high. But the most part of them are operators making outgling calls. That is the issue. "
   ]
  },
  {
   "cell_type": "markdown",
   "id": "hundred-reception",
   "metadata": {},
   "source": [
    "## Step 5: Statistical hypotheses testing"
   ]
  },
  {
   "cell_type": "markdown",
   "id": "super-hostel",
   "metadata": {},
   "source": [
    "#### 5.1. Testing hypothesis that the average number of all calls made or received per day by an operator differs within effective and ineffective operators."
   ]
  },
  {
   "cell_type": "markdown",
   "id": "duplicate-avenue",
   "metadata": {},
   "source": [
    "First, we find the average number of calls per day for each operator and then we will use our function once again in order to split the list into two groups. "
   ]
  },
  {
   "cell_type": "code",
   "execution_count": 77,
   "id": "invalid-maintenance",
   "metadata": {},
   "outputs": [
    {
     "data": {
      "text/html": [
       "<div>\n",
       "<style scoped>\n",
       "    .dataframe tbody tr th:only-of-type {\n",
       "        vertical-align: middle;\n",
       "    }\n",
       "\n",
       "    .dataframe tbody tr th {\n",
       "        vertical-align: top;\n",
       "    }\n",
       "\n",
       "    .dataframe thead th {\n",
       "        text-align: right;\n",
       "    }\n",
       "</style>\n",
       "<table border=\"1\" class=\"dataframe\">\n",
       "  <thead>\n",
       "    <tr style=\"text-align: right;\">\n",
       "      <th></th>\n",
       "      <th>user_id</th>\n",
       "      <th>date</th>\n",
       "      <th>direction</th>\n",
       "      <th>internal</th>\n",
       "      <th>operator_id</th>\n",
       "      <th>is_missed_call</th>\n",
       "      <th>calls_count</th>\n",
       "      <th>call_duration</th>\n",
       "      <th>total_call_duration</th>\n",
       "    </tr>\n",
       "  </thead>\n",
       "  <tbody>\n",
       "    <tr>\n",
       "      <th>0</th>\n",
       "      <td>166377</td>\n",
       "      <td>2019-08-05</td>\n",
       "      <td>out</td>\n",
       "      <td>True</td>\n",
       "      <td>880022</td>\n",
       "      <td>True</td>\n",
       "      <td>3</td>\n",
       "      <td>0</td>\n",
       "      <td>5</td>\n",
       "    </tr>\n",
       "    <tr>\n",
       "      <th>1</th>\n",
       "      <td>166377</td>\n",
       "      <td>2019-08-05</td>\n",
       "      <td>out</td>\n",
       "      <td>True</td>\n",
       "      <td>880020</td>\n",
       "      <td>True</td>\n",
       "      <td>1</td>\n",
       "      <td>0</td>\n",
       "      <td>1</td>\n",
       "    </tr>\n",
       "    <tr>\n",
       "      <th>2</th>\n",
       "      <td>166377</td>\n",
       "      <td>2019-08-05</td>\n",
       "      <td>out</td>\n",
       "      <td>True</td>\n",
       "      <td>880020</td>\n",
       "      <td>False</td>\n",
       "      <td>1</td>\n",
       "      <td>10</td>\n",
       "      <td>18</td>\n",
       "    </tr>\n",
       "    <tr>\n",
       "      <th>3</th>\n",
       "      <td>166377</td>\n",
       "      <td>2019-08-05</td>\n",
       "      <td>out</td>\n",
       "      <td>False</td>\n",
       "      <td>880022</td>\n",
       "      <td>True</td>\n",
       "      <td>3</td>\n",
       "      <td>0</td>\n",
       "      <td>25</td>\n",
       "    </tr>\n",
       "    <tr>\n",
       "      <th>4</th>\n",
       "      <td>166377</td>\n",
       "      <td>2019-08-05</td>\n",
       "      <td>out</td>\n",
       "      <td>False</td>\n",
       "      <td>880020</td>\n",
       "      <td>False</td>\n",
       "      <td>2</td>\n",
       "      <td>3</td>\n",
       "      <td>29</td>\n",
       "    </tr>\n",
       "  </tbody>\n",
       "</table>\n",
       "</div>"
      ],
      "text/plain": [
       "   user_id       date direction  internal  operator_id  is_missed_call  \\\n",
       "0   166377 2019-08-05       out      True       880022            True   \n",
       "1   166377 2019-08-05       out      True       880020            True   \n",
       "2   166377 2019-08-05       out      True       880020           False   \n",
       "3   166377 2019-08-05       out     False       880022            True   \n",
       "4   166377 2019-08-05       out     False       880020           False   \n",
       "\n",
       "   calls_count  call_duration  total_call_duration  \n",
       "0            3              0                    5  \n",
       "1            1              0                    1  \n",
       "2            1             10                   18  \n",
       "3            3              0                   25  \n",
       "4            2              3                   29  "
      ]
     },
     "execution_count": 77,
     "metadata": {},
     "output_type": "execute_result"
    }
   ],
   "source": [
    "calls.head()"
   ]
  },
  {
   "cell_type": "code",
   "execution_count": 78,
   "id": "coated-apple",
   "metadata": {},
   "outputs": [
    {
     "data": {
      "text/html": [
       "<div>\n",
       "<style scoped>\n",
       "    .dataframe tbody tr th:only-of-type {\n",
       "        vertical-align: middle;\n",
       "    }\n",
       "\n",
       "    .dataframe tbody tr th {\n",
       "        vertical-align: top;\n",
       "    }\n",
       "\n",
       "    .dataframe thead th {\n",
       "        text-align: right;\n",
       "    }\n",
       "</style>\n",
       "<table border=\"1\" class=\"dataframe\">\n",
       "  <thead>\n",
       "    <tr style=\"text-align: right;\">\n",
       "      <th></th>\n",
       "      <th>operator_id</th>\n",
       "      <th>n_calls</th>\n",
       "    </tr>\n",
       "  </thead>\n",
       "  <tbody>\n",
       "    <tr>\n",
       "      <th>208</th>\n",
       "      <td>902608</td>\n",
       "      <td>19.857143</td>\n",
       "    </tr>\n",
       "    <tr>\n",
       "      <th>311</th>\n",
       "      <td>908640</td>\n",
       "      <td>15.833333</td>\n",
       "    </tr>\n",
       "    <tr>\n",
       "      <th>1030</th>\n",
       "      <td>968232</td>\n",
       "      <td>1.000000</td>\n",
       "    </tr>\n",
       "    <tr>\n",
       "      <th>445</th>\n",
       "      <td>919382</td>\n",
       "      <td>55.272727</td>\n",
       "    </tr>\n",
       "    <tr>\n",
       "      <th>970</th>\n",
       "      <td>956664</td>\n",
       "      <td>1.000000</td>\n",
       "    </tr>\n",
       "    <tr>\n",
       "      <th>816</th>\n",
       "      <td>945046</td>\n",
       "      <td>7.888889</td>\n",
       "    </tr>\n",
       "    <tr>\n",
       "      <th>476</th>\n",
       "      <td>920874</td>\n",
       "      <td>1.736842</td>\n",
       "    </tr>\n",
       "    <tr>\n",
       "      <th>390</th>\n",
       "      <td>915958</td>\n",
       "      <td>3.714286</td>\n",
       "    </tr>\n",
       "    <tr>\n",
       "      <th>546</th>\n",
       "      <td>926872</td>\n",
       "      <td>2.000000</td>\n",
       "    </tr>\n",
       "    <tr>\n",
       "      <th>523</th>\n",
       "      <td>924934</td>\n",
       "      <td>14.607143</td>\n",
       "    </tr>\n",
       "  </tbody>\n",
       "</table>\n",
       "</div>"
      ],
      "text/plain": [
       "      operator_id    n_calls\n",
       "208        902608  19.857143\n",
       "311        908640  15.833333\n",
       "1030       968232   1.000000\n",
       "445        919382  55.272727\n",
       "970        956664   1.000000\n",
       "816        945046   7.888889\n",
       "476        920874   1.736842\n",
       "390        915958   3.714286\n",
       "546        926872   2.000000\n",
       "523        924934  14.607143"
      ]
     },
     "metadata": {},
     "output_type": "display_data"
    },
    {
     "name": "stdout",
     "output_type": "stream",
     "text": [
      "<class 'pandas.core.frame.DataFrame'>\n",
      "RangeIndex: 1058 entries, 0 to 1057\n",
      "Data columns (total 2 columns):\n",
      " #   Column       Non-Null Count  Dtype  \n",
      "---  ------       --------------  -----  \n",
      " 0   operator_id  1058 non-null   int64  \n",
      " 1   n_calls      1058 non-null   float64\n",
      "dtypes: float64(1), int64(1)\n",
      "memory usage: 16.7 KB\n"
     ]
    }
   ],
   "source": [
    "# calculating the number of calls for each day, for each operator\n",
    "\n",
    "all_calls_by_operator = calls.query('is_missed_call == False').groupby(['operator_id', 'date']).agg({'calls_count':'sum'}).reset_index()\n",
    "\n",
    "all_calls_by_operator = all_calls_by_operator.groupby('operator_id').agg(n_calls=('calls_count', 'mean'))\n",
    "\n",
    "all_calls_by_operator = all_calls_by_operator.reset_index()\n",
    "\n",
    "# checking the results\n",
    "\n",
    "display(all_calls_by_operator.sample(10))\n",
    "all_calls_by_operator.info()"
   ]
  },
  {
   "cell_type": "code",
   "execution_count": 79,
   "id": "activated-reading",
   "metadata": {},
   "outputs": [
    {
     "data": {
      "text/html": [
       "<div>\n",
       "<style scoped>\n",
       "    .dataframe tbody tr th:only-of-type {\n",
       "        vertical-align: middle;\n",
       "    }\n",
       "\n",
       "    .dataframe tbody tr th {\n",
       "        vertical-align: top;\n",
       "    }\n",
       "\n",
       "    .dataframe thead th {\n",
       "        text-align: right;\n",
       "    }\n",
       "</style>\n",
       "<table border=\"1\" class=\"dataframe\">\n",
       "  <thead>\n",
       "    <tr style=\"text-align: right;\">\n",
       "      <th></th>\n",
       "      <th>operator_id</th>\n",
       "      <th>n_calls</th>\n",
       "      <th>efficiency</th>\n",
       "    </tr>\n",
       "  </thead>\n",
       "  <tbody>\n",
       "    <tr>\n",
       "      <th>0</th>\n",
       "      <td>879896</td>\n",
       "      <td>11.680851</td>\n",
       "      <td>effective</td>\n",
       "    </tr>\n",
       "    <tr>\n",
       "      <th>1</th>\n",
       "      <td>879898</td>\n",
       "      <td>54.679012</td>\n",
       "      <td>effective</td>\n",
       "    </tr>\n",
       "    <tr>\n",
       "      <th>2</th>\n",
       "      <td>880020</td>\n",
       "      <td>1.769231</td>\n",
       "      <td>ineffective</td>\n",
       "    </tr>\n",
       "    <tr>\n",
       "      <th>3</th>\n",
       "      <td>880022</td>\n",
       "      <td>2.358974</td>\n",
       "      <td>ineffective</td>\n",
       "    </tr>\n",
       "    <tr>\n",
       "      <th>4</th>\n",
       "      <td>880026</td>\n",
       "      <td>20.571429</td>\n",
       "      <td>effective</td>\n",
       "    </tr>\n",
       "  </tbody>\n",
       "</table>\n",
       "</div>"
      ],
      "text/plain": [
       "   operator_id    n_calls   efficiency\n",
       "0       879896  11.680851    effective\n",
       "1       879898  54.679012    effective\n",
       "2       880020   1.769231  ineffective\n",
       "3       880022   2.358974  ineffective\n",
       "4       880026  20.571429    effective"
      ]
     },
     "execution_count": 79,
     "metadata": {},
     "output_type": "execute_result"
    }
   ],
   "source": [
    "# applying the written function to classify the operators\n",
    "\n",
    "all_calls_by_operator['efficiency'] = (all_calls_by_operator['operator_id']\n",
    "                                       .apply(lambda x: efficiency_classifier(x))\n",
    "                                      )\n",
    "# checking the results\n",
    "all_calls_by_operator.head()"
   ]
  },
  {
   "cell_type": "markdown",
   "id": "reduced-reward",
   "metadata": {},
   "source": [
    "Now let's see if the average number of calls differs between the two groups"
   ]
  },
  {
   "cell_type": "code",
   "execution_count": 80,
   "id": "important-surgery",
   "metadata": {},
   "outputs": [
    {
     "data": {
      "text/html": [
       "<div>\n",
       "<style scoped>\n",
       "    .dataframe tbody tr th:only-of-type {\n",
       "        vertical-align: middle;\n",
       "    }\n",
       "\n",
       "    .dataframe tbody tr th {\n",
       "        vertical-align: top;\n",
       "    }\n",
       "\n",
       "    .dataframe thead th {\n",
       "        text-align: right;\n",
       "    }\n",
       "</style>\n",
       "<table border=\"1\" class=\"dataframe\">\n",
       "  <thead>\n",
       "    <tr style=\"text-align: right;\">\n",
       "      <th></th>\n",
       "      <th>n_calls</th>\n",
       "    </tr>\n",
       "    <tr>\n",
       "      <th>efficiency</th>\n",
       "      <th></th>\n",
       "    </tr>\n",
       "  </thead>\n",
       "  <tbody>\n",
       "    <tr>\n",
       "      <th>effective</th>\n",
       "      <td>18.19456</td>\n",
       "    </tr>\n",
       "    <tr>\n",
       "      <th>ineffective</th>\n",
       "      <td>3.29837</td>\n",
       "    </tr>\n",
       "  </tbody>\n",
       "</table>\n",
       "</div>"
      ],
      "text/plain": [
       "              n_calls\n",
       "efficiency           \n",
       "effective    18.19456\n",
       "ineffective   3.29837"
      ]
     },
     "execution_count": 80,
     "metadata": {},
     "output_type": "execute_result"
    }
   ],
   "source": [
    "all_calls_efficiency = all_calls_by_operator.groupby('efficiency').agg({'n_calls':'mean'})\n",
    "\n",
    "all_calls_efficiency"
   ]
  },
  {
   "cell_type": "markdown",
   "id": "primary-mustang",
   "metadata": {},
   "source": [
    "The mean values for two groups differ significantly, but let's see how the average number of calls values are distributed within two groups by looking at a histogram"
   ]
  },
  {
   "cell_type": "code",
   "execution_count": 81,
   "id": "promotional-concentrate",
   "metadata": {},
   "outputs": [
    {
     "data": {
      "text/plain": [
       "'\\nfig = px.histogram(all_calls_by_operator, x=\"n_calls\", color=\\'efficiency\\',\\n                   marginal=\"box\",\\n                   hover_data=all_calls_by_operator.columns)\\n\\nfig.update_layout(\\n    title = \\'Average numbers of calls per day within effective and ineffective operators\\',\\n    xaxis_title = \"Average number of calls per day\",\\n    yaxis_title = \"Number of operators\",\\n    font=dict(\\n        family=\"Arial\",\\n        size=12,\\n        color=\"RebeccaPurple\"\\n    )\\n    )\\nfig.show()\\n'"
      ]
     },
     "execution_count": 81,
     "metadata": {},
     "output_type": "execute_result"
    }
   ],
   "source": [
    "\"\"\"\n",
    "fig = px.histogram(all_calls_by_operator, x=\"n_calls\", color='efficiency',\n",
    "                   marginal=\"box\",\n",
    "                   hover_data=all_calls_by_operator.columns)\n",
    "\n",
    "fig.update_layout(\n",
    "    title = 'Average numbers of calls per day within effective and ineffective operators',\n",
    "    xaxis_title = \"Average number of calls per day\",\n",
    "    yaxis_title = \"Number of operators\",\n",
    "    font=dict(\n",
    "        family=\"Arial\",\n",
    "        size=12,\n",
    "        color=\"RebeccaPurple\"\n",
    "    )\n",
    "    )\n",
    "fig.show()\n",
    "\"\"\""
   ]
  },
  {
   "cell_type": "markdown",
   "id": "genuine-payroll",
   "metadata": {},
   "source": [
    "We see that there is a difference in disribution of the values. \n",
    "\n",
    "Let's test if this difference is significant using Mann-Whitney U Test. We formulate the null hypothesis (H0) as \"there's no difference in distributions of values\" and the alternate hypothesis (H1) as \"there's a difference in distributions of values\". We set up the significance level as \"0.05\" which is sufficient in our case as there's no multicollinearity in performing this test (it is actually the only one). "
   ]
  },
  {
   "cell_type": "code",
   "execution_count": 82,
   "id": "challenging-grant",
   "metadata": {},
   "outputs": [],
   "source": [
    "# creating two samples\n",
    "\n",
    "effective_operators_calls_sample = (\n",
    "    all_calls_by_operator[all_calls_by_operator['efficiency'] =='effective']['n_calls']\n",
    ")\n",
    "\n",
    "ineffective_operators_calls_sample = (\n",
    "    all_calls_by_operator[all_calls_by_operator['efficiency'] =='ineffective']['n_calls']\n",
    ")"
   ]
  },
  {
   "cell_type": "code",
   "execution_count": 83,
   "id": "increased-bedroom",
   "metadata": {},
   "outputs": [
    {
     "name": "stdout",
     "output_type": "stream",
     "text": [
      "Statistics=70447.000, p=0.00000\n",
      "Different distribution (reject H0)\n"
     ]
    }
   ],
   "source": [
    "# comparing samples\n",
    "stat, p = mannwhitneyu(effective_operators_calls_sample, ineffective_operators_calls_sample)\n",
    "print('Statistics=%.3f, p=%.5f' % (stat, p))\n",
    "\n",
    "\n",
    "# interpretating\n",
    "alpha = 0.05\n",
    "if p > alpha:\n",
    "    print('Same distribution (fail to reject H0)')\n",
    "else:\n",
    "    print('Different distribution (reject H0)')"
   ]
  },
  {
   "cell_type": "markdown",
   "id": "artificial-bargain",
   "metadata": {},
   "source": [
    "We see that the distribution is not \"equal\". So we may say, that effective users make on everage more calls and even if it was not a part of the metrics to measure efficiency, we see that there's a difference. At the same time we need to notice that the main part of the ineffective operators is made by those who made not a \"large\" number of outgoing calls, so the result of such a hypothesis may be screwed by this fact.  "
   ]
  },
  {
   "cell_type": "markdown",
   "id": "international-thread",
   "metadata": {},
   "source": [
    "#### 5.2. Testing hypothesis that the share of internal calls to all calls differs within effective and ineffective operators."
   ]
  },
  {
   "cell_type": "code",
   "execution_count": 84,
   "id": "developing-apache",
   "metadata": {},
   "outputs": [
    {
     "data": {
      "text/html": [
       "<div>\n",
       "<style scoped>\n",
       "    .dataframe tbody tr th:only-of-type {\n",
       "        vertical-align: middle;\n",
       "    }\n",
       "\n",
       "    .dataframe tbody tr th {\n",
       "        vertical-align: top;\n",
       "    }\n",
       "\n",
       "    .dataframe thead th {\n",
       "        text-align: right;\n",
       "    }\n",
       "</style>\n",
       "<table border=\"1\" class=\"dataframe\">\n",
       "  <thead>\n",
       "    <tr style=\"text-align: right;\">\n",
       "      <th></th>\n",
       "      <th>user_id</th>\n",
       "      <th>date</th>\n",
       "      <th>direction</th>\n",
       "      <th>internal</th>\n",
       "      <th>operator_id</th>\n",
       "      <th>is_missed_call</th>\n",
       "      <th>calls_count</th>\n",
       "      <th>call_duration</th>\n",
       "      <th>total_call_duration</th>\n",
       "    </tr>\n",
       "  </thead>\n",
       "  <tbody>\n",
       "    <tr>\n",
       "      <th>0</th>\n",
       "      <td>166377</td>\n",
       "      <td>2019-08-05</td>\n",
       "      <td>out</td>\n",
       "      <td>True</td>\n",
       "      <td>880022</td>\n",
       "      <td>True</td>\n",
       "      <td>3</td>\n",
       "      <td>0</td>\n",
       "      <td>5</td>\n",
       "    </tr>\n",
       "    <tr>\n",
       "      <th>1</th>\n",
       "      <td>166377</td>\n",
       "      <td>2019-08-05</td>\n",
       "      <td>out</td>\n",
       "      <td>True</td>\n",
       "      <td>880020</td>\n",
       "      <td>True</td>\n",
       "      <td>1</td>\n",
       "      <td>0</td>\n",
       "      <td>1</td>\n",
       "    </tr>\n",
       "    <tr>\n",
       "      <th>2</th>\n",
       "      <td>166377</td>\n",
       "      <td>2019-08-05</td>\n",
       "      <td>out</td>\n",
       "      <td>True</td>\n",
       "      <td>880020</td>\n",
       "      <td>False</td>\n",
       "      <td>1</td>\n",
       "      <td>10</td>\n",
       "      <td>18</td>\n",
       "    </tr>\n",
       "    <tr>\n",
       "      <th>3</th>\n",
       "      <td>166377</td>\n",
       "      <td>2019-08-05</td>\n",
       "      <td>out</td>\n",
       "      <td>False</td>\n",
       "      <td>880022</td>\n",
       "      <td>True</td>\n",
       "      <td>3</td>\n",
       "      <td>0</td>\n",
       "      <td>25</td>\n",
       "    </tr>\n",
       "    <tr>\n",
       "      <th>4</th>\n",
       "      <td>166377</td>\n",
       "      <td>2019-08-05</td>\n",
       "      <td>out</td>\n",
       "      <td>False</td>\n",
       "      <td>880020</td>\n",
       "      <td>False</td>\n",
       "      <td>2</td>\n",
       "      <td>3</td>\n",
       "      <td>29</td>\n",
       "    </tr>\n",
       "  </tbody>\n",
       "</table>\n",
       "</div>"
      ],
      "text/plain": [
       "   user_id       date direction  internal  operator_id  is_missed_call  \\\n",
       "0   166377 2019-08-05       out      True       880022            True   \n",
       "1   166377 2019-08-05       out      True       880020            True   \n",
       "2   166377 2019-08-05       out      True       880020           False   \n",
       "3   166377 2019-08-05       out     False       880022            True   \n",
       "4   166377 2019-08-05       out     False       880020           False   \n",
       "\n",
       "   calls_count  call_duration  total_call_duration  \n",
       "0            3              0                    5  \n",
       "1            1              0                    1  \n",
       "2            1             10                   18  \n",
       "3            3              0                   25  \n",
       "4            2              3                   29  "
      ]
     },
     "execution_count": 84,
     "metadata": {},
     "output_type": "execute_result"
    }
   ],
   "source": [
    "calls.head()"
   ]
  },
  {
   "cell_type": "code",
   "execution_count": 85,
   "id": "uniform-grade",
   "metadata": {},
   "outputs": [
    {
     "data": {
      "text/html": [
       "<div>\n",
       "<style scoped>\n",
       "    .dataframe tbody tr th:only-of-type {\n",
       "        vertical-align: middle;\n",
       "    }\n",
       "\n",
       "    .dataframe tbody tr th {\n",
       "        vertical-align: top;\n",
       "    }\n",
       "\n",
       "    .dataframe thead th {\n",
       "        text-align: right;\n",
       "    }\n",
       "</style>\n",
       "<table border=\"1\" class=\"dataframe\">\n",
       "  <thead>\n",
       "    <tr style=\"text-align: right;\">\n",
       "      <th></th>\n",
       "      <th>operator_id</th>\n",
       "      <th>external</th>\n",
       "      <th>internal</th>\n",
       "      <th>all_calls</th>\n",
       "      <th>internal_share</th>\n",
       "      <th>efficiency</th>\n",
       "    </tr>\n",
       "  </thead>\n",
       "  <tbody>\n",
       "    <tr>\n",
       "      <th>0</th>\n",
       "      <td>879896</td>\n",
       "      <td>744.0</td>\n",
       "      <td>56.0</td>\n",
       "      <td>800.0</td>\n",
       "      <td>0.070000</td>\n",
       "      <td>effective</td>\n",
       "    </tr>\n",
       "    <tr>\n",
       "      <th>1</th>\n",
       "      <td>879898</td>\n",
       "      <td>6771.0</td>\n",
       "      <td>18.0</td>\n",
       "      <td>6789.0</td>\n",
       "      <td>0.002651</td>\n",
       "      <td>effective</td>\n",
       "    </tr>\n",
       "    <tr>\n",
       "      <th>2</th>\n",
       "      <td>880020</td>\n",
       "      <td>41.0</td>\n",
       "      <td>4.0</td>\n",
       "      <td>45.0</td>\n",
       "      <td>0.088889</td>\n",
       "      <td>ineffective</td>\n",
       "    </tr>\n",
       "    <tr>\n",
       "      <th>3</th>\n",
       "      <td>880022</td>\n",
       "      <td>182.0</td>\n",
       "      <td>15.0</td>\n",
       "      <td>197.0</td>\n",
       "      <td>0.076142</td>\n",
       "      <td>ineffective</td>\n",
       "    </tr>\n",
       "    <tr>\n",
       "      <th>4</th>\n",
       "      <td>880026</td>\n",
       "      <td>2212.0</td>\n",
       "      <td>20.0</td>\n",
       "      <td>2232.0</td>\n",
       "      <td>0.008961</td>\n",
       "      <td>effective</td>\n",
       "    </tr>\n",
       "  </tbody>\n",
       "</table>\n",
       "</div>"
      ],
      "text/plain": [
       "   operator_id  external  internal  all_calls  internal_share   efficiency\n",
       "0       879896     744.0      56.0      800.0        0.070000    effective\n",
       "1       879898    6771.0      18.0     6789.0        0.002651    effective\n",
       "2       880020      41.0       4.0       45.0        0.088889  ineffective\n",
       "3       880022     182.0      15.0      197.0        0.076142  ineffective\n",
       "4       880026    2212.0      20.0     2232.0        0.008961    effective"
      ]
     },
     "execution_count": 85,
     "metadata": {},
     "output_type": "execute_result"
    }
   ],
   "source": [
    "# creating a subset with data on number of external and internal calls split by operator\n",
    "\n",
    "internal_calls_by_operators = calls.pivot_table(columns='internal', index='operator_id', aggfunc='sum', values='calls_count')\n",
    "\n",
    "internal_calls_by_operators.reset_index(inplace=True)\n",
    "\n",
    "internal_calls_by_operators = (internal_calls_by_operators\n",
    "                               .rename_axis(None, axis=1).reset_index(drop=True)\n",
    "                              )\n",
    "\n",
    "internal_calls_by_operators = (internal_calls_by_operators\n",
    "                               .rename(columns={False:'external', True:'internal'})\n",
    "                              )\n",
    "\n",
    "internal_calls_by_operators['all_calls'] = (internal_calls_by_operators['external'] \n",
    "                                           + internal_calls_by_operators['internal']\n",
    "                                          )\n",
    "internal_calls_by_operators['internal_share'] = (internal_calls_by_operators['internal']\n",
    "                                                /internal_calls_by_operators['all_calls'])\n",
    "\n",
    "# applying the written function to classify the operators\n",
    "\n",
    "internal_calls_by_operators['efficiency'] = (internal_calls_by_operators['operator_id']\n",
    "                                            .apply(lambda x: efficiency_classifier(x) )\n",
    "                                            )\n",
    "internal_calls_by_operators.head()"
   ]
  },
  {
   "cell_type": "markdown",
   "id": "twelve-stopping",
   "metadata": {},
   "source": [
    "Now let's look at mean values of shares of internal calls within two groups"
   ]
  },
  {
   "cell_type": "code",
   "execution_count": 86,
   "id": "compact-aviation",
   "metadata": {},
   "outputs": [
    {
     "data": {
      "text/html": [
       "<div>\n",
       "<style scoped>\n",
       "    .dataframe tbody tr th:only-of-type {\n",
       "        vertical-align: middle;\n",
       "    }\n",
       "\n",
       "    .dataframe tbody tr th {\n",
       "        vertical-align: top;\n",
       "    }\n",
       "\n",
       "    .dataframe thead th {\n",
       "        text-align: right;\n",
       "    }\n",
       "</style>\n",
       "<table border=\"1\" class=\"dataframe\">\n",
       "  <thead>\n",
       "    <tr style=\"text-align: right;\">\n",
       "      <th></th>\n",
       "      <th>internal_share</th>\n",
       "    </tr>\n",
       "    <tr>\n",
       "      <th>efficiency</th>\n",
       "      <th></th>\n",
       "    </tr>\n",
       "  </thead>\n",
       "  <tbody>\n",
       "    <tr>\n",
       "      <th>effective</th>\n",
       "      <td>0.114155</td>\n",
       "    </tr>\n",
       "    <tr>\n",
       "      <th>ineffective</th>\n",
       "      <td>0.311415</td>\n",
       "    </tr>\n",
       "  </tbody>\n",
       "</table>\n",
       "</div>"
      ],
      "text/plain": [
       "             internal_share\n",
       "efficiency                 \n",
       "effective          0.114155\n",
       "ineffective        0.311415"
      ]
     },
     "execution_count": 86,
     "metadata": {},
     "output_type": "execute_result"
    }
   ],
   "source": [
    "internal_calls_by_operators.groupby('efficiency').agg({'internal_share':'mean'})"
   ]
  },
  {
   "cell_type": "markdown",
   "id": "moved-cemetery",
   "metadata": {},
   "source": [
    "We see that the two groups differ from each other quite significant in terms of mean share of internal calls to all calls. Let's see more precisely at this situation by looking as usual at the histogram and the boxplot descring the distribution between two samples."
   ]
  },
  {
   "cell_type": "code",
   "execution_count": 87,
   "id": "lesser-segment",
   "metadata": {},
   "outputs": [
    {
     "data": {
      "text/plain": [
       "'\\nfig = px.histogram(internal_calls_by_operators, x=\"internal_share\", color=\\'efficiency\\',\\n                   marginal=\"box\",\\n                   hover_data=internal_calls_by_operators.columns)\\n\\nfig.update_layout(\\n    title = \\'Distribution of shares of internal calls to all calls made by an operator\\',\\n    xaxis_title = \"Share of internal calls to all calls made by an operator\",\\n    yaxis_title = \"Number of operators\",\\n    font=dict(\\n        family=\"Arial\",\\n        size=12,\\n        color=\"RebeccaPurple\"\\n    )\\n    )\\nfig.show()\\n'"
      ]
     },
     "execution_count": 87,
     "metadata": {},
     "output_type": "execute_result"
    }
   ],
   "source": [
    "\"\"\"\n",
    "fig = px.histogram(internal_calls_by_operators, x=\"internal_share\", color='efficiency',\n",
    "                   marginal=\"box\",\n",
    "                   hover_data=internal_calls_by_operators.columns)\n",
    "\n",
    "fig.update_layout(\n",
    "    title = 'Distribution of shares of internal calls to all calls made by an operator',\n",
    "    xaxis_title = \"Share of internal calls to all calls made by an operator\",\n",
    "    yaxis_title = \"Number of operators\",\n",
    "    font=dict(\n",
    "        family=\"Arial\",\n",
    "        size=12,\n",
    "        color=\"RebeccaPurple\"\n",
    "    )\n",
    "    )\n",
    "fig.show()\n",
    "\"\"\""
   ]
  },
  {
   "cell_type": "markdown",
   "id": "raising-elements",
   "metadata": {},
   "source": [
    "We see that the distribution of values within two samples differs. But we need to find if such differenct is statistically significant. As above, we'll use Mann-Whitney U Test. And again, as before we formulate the null hypothesis (H0) as \"there's no difference in distributions of values\" and the alternate hypothesis (H1) as \"there's a difference in distributions of values\". \n",
    "\n",
    "We set up the significance level as \"0.05\" which is sufficient in this case as well as there's no multicollinearity in performing with other tests."
   ]
  },
  {
   "cell_type": "code",
   "execution_count": 88,
   "id": "extraordinary-norman",
   "metadata": {},
   "outputs": [],
   "source": [
    "# creating two samples\n",
    "\n",
    "effective_operators_internal_calls_sample = (\n",
    "    internal_calls_by_operators[internal_calls_by_operators['efficiency'] =='effective']['internal_share']\n",
    ")\n",
    "\n",
    "ineffective_operators_internal_calls_sample = (\n",
    "    internal_calls_by_operators[internal_calls_by_operators['efficiency'] =='ineffective']['internal_share']\n",
    ")"
   ]
  },
  {
   "cell_type": "code",
   "execution_count": 89,
   "id": "radio-editor",
   "metadata": {},
   "outputs": [
    {
     "name": "stdout",
     "output_type": "stream",
     "text": [
      "Statistics=106534.000, p=0.00002\n",
      "Different distribution (reject H0)\n"
     ]
    }
   ],
   "source": [
    "# comparing samples\n",
    "stat, p = mannwhitneyu(effective_operators_internal_calls_sample, ineffective_operators_internal_calls_sample)\n",
    "print('Statistics=%.3f, p=%.5f' % (stat, p))\n",
    "\n",
    "\n",
    "# interpretating\n",
    "alpha = 0.05\n",
    "if p > alpha:\n",
    "    print('Same distribution (fail to reject H0)')\n",
    "else:\n",
    "    print('Different distribution (reject H0)')"
   ]
  },
  {
   "cell_type": "markdown",
   "id": "unable-horror",
   "metadata": {},
   "source": [
    "As we see the test shows that we have no ground to accept the null hypothesis, therefore we may say that the difference between the distributions of two samples is statistically significant. \n",
    "\n",
    "It's a quite interesting fact. It means that \"effective\" operators made less internal calls. We do not know why exactly operators had to make internal calls. It may be explained by the fact that operators make them in order to put questions to their colleagues because they lack of expertise and/or the scripts they use are not clear. If so, it is what we need to pay attention to, because it may be a key to improving the efficiency of operators performance.  "
   ]
  },
  {
   "cell_type": "markdown",
   "id": "enclosed-flash",
   "metadata": {},
   "source": [
    "## Step 6: General conlusions and recommendations "
   ]
  },
  {
   "cell_type": "markdown",
   "id": "contrary-january",
   "metadata": {},
   "source": [
    "We have made a retrospective analysis of operators performance in order to find which thresholds we may use in order to understand which operators are ineffective in terms of the following metrics: \n",
    "\n",
    "- long waiting time for incoming calls,\n",
    "- share of missed calls to all incoming calls,\n",
    "- small number of outgoing calls\n",
    "\n",
    "We have explored the data we have in hands and we have determined the thresholds which were: \n",
    "\n",
    "- in the case of share of long waiting time 39,6 seconds, \n",
    "- in the case of share of missed calls we defined that this share as the dimension of such share dividing 85 % operators from 15% less effective.  \n",
    "- the most arguable question is the threshold for the number of outgoing calls. First, it was not very easy to understand which operators were supposed to make outgoing calls and which were not. Finally we decided to take into account only those who made per day more external outgoing calls than receiving externl incoming calls. But anyway, we found that the was a really big part of operators which made less 6 outgoing calls per day, while there are other, who made much more. Finally, we set up such threshold accordingly. \n",
    "\n",
    "Not a suprise that the latter metric gives the main number of ineffective operators. So we suggest to evaluate once again if it is worth using such a metric in our situation. Perhaps it is more appropriate to use some other (such as the share of made calls to then number of calls defined by a specific KPI). \n",
    "\n",
    "Taking into account the said assumptions we compared two groups of operators by testing two hypotheses: \n",
    "\n",
    "- the number of calls made per day by an operators differs within two groups, \n",
    "- the share of internal calls to all calls difers within two groups. \n",
    "\n",
    "We first calculated the said metrics and then performed tests of significance of differences of distributions within two samples. \n",
    "\n",
    "The results were quite intersting: we found that the operators do  differ by the number of all calls and they differ in terms of share of internal calls to all calls. \n",
    "\n",
    "The first outcome is not very reliable due to the fact that the a great part of the ineffective operators is made by those who make not enough ougoing calls. \n",
    "\n",
    "But the latter fact may be a sign or a key to improving operators performance. We do not know why operators make internal calls, but perhaps they make them because they lack of self-confidence and/or scripts are not very good, therefore they need to call their colleagues/receive calls from colleagues inspite of making calls/receiving incoming calls. "
   ]
  },
  {
   "cell_type": "markdown",
   "id": "offensive-procedure",
   "metadata": {},
   "source": [
    "# List of sources"
   ]
  },
  {
   "cell_type": "markdown",
   "id": "equivalent-rochester",
   "metadata": {},
   "source": [
    "1. https://en.wikipedia.org/wiki/Automatic_call_distributor - a Wikipedia article giving a brief information on what automatic call distribution is,\n",
    "2. https://towardsdatascience.com/visualize-missing-values-with-missingno-ad4d938b00a1 - an article on missingno library, \n",
    "3. https://stackoverflow.com/questions/16176996/keep-only-date-part-when-using-pandas-to-datetime - how to retrieve date from datetime keeping the datetime format,\n",
    "4. https://pandas.pydata.org/docs/reference/api/pandas.DataFrame.convert_dtypes.html - how to convert different types of data format,\n",
    "5. https://plotly.com/python/distplot/ - plotly library distribution plots manual,\n",
    "6. https://www.geeksforgeeks.org/creating-a-dataframe-from-pandas-series/ - article on how to create a Pandas DataFrame from a series object,\n",
    "7. https://searchcustomerexperience.techtarget.com/tip/8-customer-service-metrics-to-measure-call-center-success - article with regard to the some techniques to measure productivity of call center agents(operators)"
   ]
  }
 ],
 "metadata": {
  "ExecuteTimeLog": [
   {
    "duration": 19380,
    "start_time": "2021-08-22T19:10:41.505Z"
   },
   {
    "duration": 87,
    "start_time": "2021-08-22T19:11:00.887Z"
   },
   {
    "duration": 37,
    "start_time": "2021-08-22T19:11:00.976Z"
   },
   {
    "duration": 31,
    "start_time": "2021-08-22T19:11:01.015Z"
   },
   {
    "duration": 16,
    "start_time": "2021-08-22T19:11:01.047Z"
   },
   {
    "duration": 19,
    "start_time": "2021-08-22T19:11:01.085Z"
   },
   {
    "duration": 1336,
    "start_time": "2021-08-22T19:11:01.106Z"
   },
   {
    "duration": 24,
    "start_time": "2021-08-22T19:11:02.445Z"
   },
   {
    "duration": 20,
    "start_time": "2021-08-22T19:11:02.471Z"
   },
   {
    "duration": 13,
    "start_time": "2021-08-22T19:11:02.493Z"
   },
   {
    "duration": 6,
    "start_time": "2021-08-22T19:11:02.508Z"
   },
   {
    "duration": 7,
    "start_time": "2021-08-22T19:11:02.515Z"
   },
   {
    "duration": 8,
    "start_time": "2021-08-22T19:11:02.524Z"
   },
   {
    "duration": 9,
    "start_time": "2021-08-22T19:11:02.533Z"
   },
   {
    "duration": 9,
    "start_time": "2021-08-22T19:11:02.585Z"
   },
   {
    "duration": 13,
    "start_time": "2021-08-22T19:11:02.596Z"
   },
   {
    "duration": 34,
    "start_time": "2021-08-22T19:11:02.610Z"
   },
   {
    "duration": 327,
    "start_time": "2021-08-22T19:11:02.646Z"
   },
   {
    "duration": -1789,
    "start_time": "2021-08-22T19:11:04.766Z"
   },
   {
    "duration": -1796,
    "start_time": "2021-08-22T19:11:04.774Z"
   },
   {
    "duration": -1801,
    "start_time": "2021-08-22T19:11:04.780Z"
   },
   {
    "duration": -1806,
    "start_time": "2021-08-22T19:11:04.787Z"
   },
   {
    "duration": -1811,
    "start_time": "2021-08-22T19:11:04.793Z"
   },
   {
    "duration": -1817,
    "start_time": "2021-08-22T19:11:04.800Z"
   },
   {
    "duration": -1821,
    "start_time": "2021-08-22T19:11:04.805Z"
   },
   {
    "duration": -1829,
    "start_time": "2021-08-22T19:11:04.814Z"
   },
   {
    "duration": -1835,
    "start_time": "2021-08-22T19:11:04.821Z"
   },
   {
    "duration": -1849,
    "start_time": "2021-08-22T19:11:04.836Z"
   },
   {
    "duration": -1903,
    "start_time": "2021-08-22T19:11:04.891Z"
   },
   {
    "duration": -1934,
    "start_time": "2021-08-22T19:11:04.923Z"
   },
   {
    "duration": -2606,
    "start_time": "2021-08-22T19:11:05.596Z"
   },
   {
    "duration": -2845,
    "start_time": "2021-08-22T19:11:05.836Z"
   },
   {
    "duration": -2857,
    "start_time": "2021-08-22T19:11:05.849Z"
   },
   {
    "duration": -2863,
    "start_time": "2021-08-22T19:11:05.856Z"
   },
   {
    "duration": -2870,
    "start_time": "2021-08-22T19:11:05.864Z"
   },
   {
    "duration": -2877,
    "start_time": "2021-08-22T19:11:05.872Z"
   },
   {
    "duration": -2884,
    "start_time": "2021-08-22T19:11:05.880Z"
   },
   {
    "duration": -2897,
    "start_time": "2021-08-22T19:11:05.894Z"
   },
   {
    "duration": -2901,
    "start_time": "2021-08-22T19:11:05.899Z"
   },
   {
    "duration": -2910,
    "start_time": "2021-08-22T19:11:05.909Z"
   },
   {
    "duration": -2914,
    "start_time": "2021-08-22T19:11:05.914Z"
   },
   {
    "duration": -2922,
    "start_time": "2021-08-22T19:11:05.923Z"
   },
   {
    "duration": -2927,
    "start_time": "2021-08-22T19:11:05.929Z"
   },
   {
    "duration": -2933,
    "start_time": "2021-08-22T19:11:05.936Z"
   },
   {
    "duration": -2937,
    "start_time": "2021-08-22T19:11:05.941Z"
   },
   {
    "duration": -2945,
    "start_time": "2021-08-22T19:11:05.950Z"
   },
   {
    "duration": -2949,
    "start_time": "2021-08-22T19:11:05.955Z"
   },
   {
    "duration": -2953,
    "start_time": "2021-08-22T19:11:05.961Z"
   },
   {
    "duration": -2957,
    "start_time": "2021-08-22T19:11:05.966Z"
   },
   {
    "duration": -2961,
    "start_time": "2021-08-22T19:11:05.971Z"
   },
   {
    "duration": -2964,
    "start_time": "2021-08-22T19:11:05.975Z"
   },
   {
    "duration": -2967,
    "start_time": "2021-08-22T19:11:05.979Z"
   },
   {
    "duration": -2974,
    "start_time": "2021-08-22T19:11:05.987Z"
   },
   {
    "duration": -2981,
    "start_time": "2021-08-22T19:11:05.995Z"
   },
   {
    "duration": -2995,
    "start_time": "2021-08-22T19:11:06.010Z"
   },
   {
    "duration": -3008,
    "start_time": "2021-08-22T19:11:06.024Z"
   },
   {
    "duration": -3021,
    "start_time": "2021-08-22T19:11:06.038Z"
   },
   {
    "duration": -3031,
    "start_time": "2021-08-22T19:11:06.049Z"
   },
   {
    "duration": -3039,
    "start_time": "2021-08-22T19:11:06.058Z"
   },
   {
    "duration": -3051,
    "start_time": "2021-08-22T19:11:06.071Z"
   },
   {
    "duration": -3057,
    "start_time": "2021-08-22T19:11:06.078Z"
   },
   {
    "duration": -3065,
    "start_time": "2021-08-22T19:11:06.087Z"
   },
   {
    "duration": -3071,
    "start_time": "2021-08-22T19:11:06.094Z"
   },
   {
    "duration": -3081,
    "start_time": "2021-08-22T19:11:06.104Z"
   },
   {
    "duration": -3087,
    "start_time": "2021-08-22T19:11:06.111Z"
   },
   {
    "duration": -3097,
    "start_time": "2021-08-22T19:11:06.122Z"
   },
   {
    "duration": -3105,
    "start_time": "2021-08-22T19:11:06.131Z"
   },
   {
    "duration": -3117,
    "start_time": "2021-08-22T19:11:06.144Z"
   },
   {
    "duration": -3127,
    "start_time": "2021-08-22T19:11:06.155Z"
   },
   {
    "duration": -3081,
    "start_time": "2021-08-22T19:11:06.166Z"
   },
   {
    "duration": -3089,
    "start_time": "2021-08-22T19:11:06.175Z"
   },
   {
    "duration": -3105,
    "start_time": "2021-08-22T19:11:06.192Z"
   },
   {
    "duration": -3119,
    "start_time": "2021-08-22T19:11:06.207Z"
   },
   {
    "duration": -3126,
    "start_time": "2021-08-22T19:11:06.215Z"
   },
   {
    "duration": -3132,
    "start_time": "2021-08-22T19:11:06.222Z"
   },
   {
    "duration": -3140,
    "start_time": "2021-08-22T19:11:06.231Z"
   },
   {
    "duration": -3146,
    "start_time": "2021-08-22T19:11:06.238Z"
   },
   {
    "duration": -3151,
    "start_time": "2021-08-22T19:11:06.245Z"
   },
   {
    "duration": -3157,
    "start_time": "2021-08-22T19:11:06.252Z"
   },
   {
    "duration": -3162,
    "start_time": "2021-08-22T19:11:06.258Z"
   },
   {
    "duration": -3168,
    "start_time": "2021-08-22T19:11:06.265Z"
   },
   {
    "duration": -3175,
    "start_time": "2021-08-22T19:11:06.273Z"
   },
   {
    "duration": -3183,
    "start_time": "2021-08-22T19:11:06.282Z"
   },
   {
    "duration": -3206,
    "start_time": "2021-08-22T19:11:06.306Z"
   },
   {
    "duration": -3253,
    "start_time": "2021-08-22T19:11:06.354Z"
   },
   {
    "duration": -3274,
    "start_time": "2021-08-22T19:11:06.376Z"
   },
   {
    "duration": -3285,
    "start_time": "2021-08-22T19:11:06.388Z"
   },
   {
    "duration": -3294,
    "start_time": "2021-08-22T19:11:06.399Z"
   },
   {
    "duration": -3309,
    "start_time": "2021-08-22T19:11:06.415Z"
   },
   {
    "duration": -3320,
    "start_time": "2021-08-22T19:11:06.427Z"
   },
   {
    "duration": -3326,
    "start_time": "2021-08-22T19:11:06.434Z"
   },
   {
    "duration": -3334,
    "start_time": "2021-08-22T19:11:06.443Z"
   },
   {
    "duration": -3340,
    "start_time": "2021-08-22T19:11:06.450Z"
   },
   {
    "duration": -3347,
    "start_time": "2021-08-22T19:11:06.458Z"
   },
   {
    "duration": -3352,
    "start_time": "2021-08-22T19:11:06.464Z"
   },
   {
    "duration": -3358,
    "start_time": "2021-08-22T19:11:06.471Z"
   },
   {
    "duration": -3363,
    "start_time": "2021-08-22T19:11:06.477Z"
   },
   {
    "duration": 9565,
    "start_time": "2021-08-22T19:12:30.391Z"
   },
   {
    "duration": 6723,
    "start_time": "2021-08-22T19:12:39.958Z"
   },
   {
    "duration": 86,
    "start_time": "2021-08-22T19:12:46.686Z"
   },
   {
    "duration": 37,
    "start_time": "2021-08-22T19:12:46.774Z"
   },
   {
    "duration": 27,
    "start_time": "2021-08-22T19:12:46.812Z"
   },
   {
    "duration": 17,
    "start_time": "2021-08-22T19:12:46.841Z"
   },
   {
    "duration": 18,
    "start_time": "2021-08-22T19:12:46.885Z"
   },
   {
    "duration": 2234,
    "start_time": "2021-08-22T19:12:46.904Z"
   },
   {
    "duration": 26,
    "start_time": "2021-08-22T19:12:49.140Z"
   },
   {
    "duration": 19,
    "start_time": "2021-08-22T19:12:49.168Z"
   },
   {
    "duration": 11,
    "start_time": "2021-08-22T19:12:49.188Z"
   },
   {
    "duration": 5,
    "start_time": "2021-08-22T19:12:49.201Z"
   },
   {
    "duration": 6,
    "start_time": "2021-08-22T19:12:49.208Z"
   },
   {
    "duration": 8,
    "start_time": "2021-08-22T19:12:49.216Z"
   },
   {
    "duration": 8,
    "start_time": "2021-08-22T19:12:49.225Z"
   },
   {
    "duration": 51,
    "start_time": "2021-08-22T19:12:49.235Z"
   },
   {
    "duration": 10,
    "start_time": "2021-08-22T19:12:49.288Z"
   },
   {
    "duration": 34,
    "start_time": "2021-08-22T19:12:49.300Z"
   },
   {
    "duration": 5,
    "start_time": "2021-08-22T19:12:49.336Z"
   },
   {
    "duration": 5,
    "start_time": "2021-08-22T19:12:49.343Z"
   },
   {
    "duration": 42,
    "start_time": "2021-08-22T19:12:49.350Z"
   },
   {
    "duration": 13,
    "start_time": "2021-08-22T19:12:49.396Z"
   },
   {
    "duration": 4,
    "start_time": "2021-08-22T19:12:49.412Z"
   },
   {
    "duration": 16,
    "start_time": "2021-08-22T19:12:49.418Z"
   },
   {
    "duration": 13,
    "start_time": "2021-08-22T19:12:49.436Z"
   },
   {
    "duration": 63,
    "start_time": "2021-08-22T19:12:49.451Z"
   },
   {
    "duration": 5,
    "start_time": "2021-08-22T19:12:49.516Z"
   },
   {
    "duration": 33,
    "start_time": "2021-08-22T19:12:49.523Z"
   },
   {
    "duration": 3,
    "start_time": "2021-08-22T19:12:49.558Z"
   },
   {
    "duration": 4,
    "start_time": "2021-08-22T19:12:49.585Z"
   },
   {
    "duration": 18,
    "start_time": "2021-08-22T19:12:49.590Z"
   },
   {
    "duration": 9,
    "start_time": "2021-08-22T19:12:49.610Z"
   },
   {
    "duration": 15,
    "start_time": "2021-08-22T19:12:49.621Z"
   },
   {
    "duration": 553,
    "start_time": "2021-08-22T19:12:49.638Z"
   },
   {
    "duration": 7,
    "start_time": "2021-08-22T19:12:50.193Z"
   },
   {
    "duration": 15,
    "start_time": "2021-08-22T19:12:50.202Z"
   },
   {
    "duration": 293,
    "start_time": "2021-08-22T19:12:50.219Z"
   },
   {
    "duration": 8,
    "start_time": "2021-08-22T19:12:50.514Z"
   },
   {
    "duration": 6,
    "start_time": "2021-08-22T19:12:50.524Z"
   },
   {
    "duration": 6,
    "start_time": "2021-08-22T19:12:50.532Z"
   },
   {
    "duration": 4,
    "start_time": "2021-08-22T19:12:50.540Z"
   },
   {
    "duration": 41,
    "start_time": "2021-08-22T19:12:50.545Z"
   },
   {
    "duration": 116,
    "start_time": "2021-08-22T19:12:50.587Z"
   },
   {
    "duration": 1051,
    "start_time": "2021-08-22T19:12:50.705Z"
   },
   {
    "duration": 8,
    "start_time": "2021-08-22T19:12:51.758Z"
   },
   {
    "duration": 19,
    "start_time": "2021-08-22T19:12:51.767Z"
   },
   {
    "duration": 7,
    "start_time": "2021-08-22T19:12:51.788Z"
   },
   {
    "duration": 5,
    "start_time": "2021-08-22T19:12:51.797Z"
   },
   {
    "duration": 5,
    "start_time": "2021-08-22T19:12:51.803Z"
   },
   {
    "duration": 21,
    "start_time": "2021-08-22T19:12:51.810Z"
   },
   {
    "duration": 74,
    "start_time": "2021-08-22T19:12:51.833Z"
   },
   {
    "duration": 12,
    "start_time": "2021-08-22T19:12:51.909Z"
   },
   {
    "duration": 61,
    "start_time": "2021-08-22T19:12:51.923Z"
   },
   {
    "duration": 11,
    "start_time": "2021-08-22T19:12:51.986Z"
   },
   {
    "duration": 24,
    "start_time": "2021-08-22T19:12:51.998Z"
   },
   {
    "duration": 103,
    "start_time": "2021-08-22T19:12:52.023Z"
   },
   {
    "duration": 7,
    "start_time": "2021-08-22T19:12:52.128Z"
   },
   {
    "duration": 7,
    "start_time": "2021-08-22T19:12:52.137Z"
   },
   {
    "duration": 6,
    "start_time": "2021-08-22T19:12:52.145Z"
   },
   {
    "duration": 5,
    "start_time": "2021-08-22T19:12:52.153Z"
   },
   {
    "duration": 28,
    "start_time": "2021-08-22T19:12:52.159Z"
   },
   {
    "duration": 3,
    "start_time": "2021-08-22T19:12:52.189Z"
   },
   {
    "duration": 11,
    "start_time": "2021-08-22T19:12:52.194Z"
   },
   {
    "duration": 11,
    "start_time": "2021-08-22T19:12:52.207Z"
   },
   {
    "duration": 22,
    "start_time": "2021-08-22T19:12:52.220Z"
   },
   {
    "duration": 42,
    "start_time": "2021-08-22T19:12:52.244Z"
   },
   {
    "duration": 11,
    "start_time": "2021-08-22T19:12:52.291Z"
   },
   {
    "duration": 87,
    "start_time": "2021-08-22T19:12:52.304Z"
   },
   {
    "duration": 7,
    "start_time": "2021-08-22T19:12:52.393Z"
   },
   {
    "duration": 5,
    "start_time": "2021-08-22T19:12:52.402Z"
   },
   {
    "duration": 6,
    "start_time": "2021-08-22T19:12:52.409Z"
   },
   {
    "duration": 6,
    "start_time": "2021-08-22T19:12:52.416Z"
   },
   {
    "duration": 5,
    "start_time": "2021-08-22T19:12:52.423Z"
   },
   {
    "duration": 3,
    "start_time": "2021-08-22T19:12:52.430Z"
   },
   {
    "duration": 53,
    "start_time": "2021-08-22T19:12:52.435Z"
   },
   {
    "duration": 8,
    "start_time": "2021-08-22T19:12:52.489Z"
   },
   {
    "duration": 9,
    "start_time": "2021-08-22T19:12:52.498Z"
   },
   {
    "duration": 6,
    "start_time": "2021-08-22T19:12:52.508Z"
   },
   {
    "duration": 5,
    "start_time": "2021-08-22T19:12:52.516Z"
   },
   {
    "duration": 6,
    "start_time": "2021-08-22T19:12:52.522Z"
   },
   {
    "duration": 7,
    "start_time": "2021-08-22T19:12:52.529Z"
   },
   {
    "duration": 17,
    "start_time": "2021-08-22T19:12:52.537Z"
   },
   {
    "duration": 30,
    "start_time": "2021-08-22T19:12:52.556Z"
   },
   {
    "duration": 3,
    "start_time": "2021-08-22T19:12:52.587Z"
   },
   {
    "duration": 7,
    "start_time": "2021-08-22T19:12:52.592Z"
   },
   {
    "duration": 11,
    "start_time": "2021-08-22T19:12:52.601Z"
   },
   {
    "duration": 26,
    "start_time": "2021-08-22T19:12:52.613Z"
   },
   {
    "duration": 15,
    "start_time": "2021-08-22T19:12:52.641Z"
   },
   {
    "duration": 7,
    "start_time": "2021-08-22T19:12:52.685Z"
   },
   {
    "duration": 106,
    "start_time": "2021-08-22T19:12:52.694Z"
   },
   {
    "duration": 6,
    "start_time": "2021-08-22T19:12:52.802Z"
   },
   {
    "duration": 8,
    "start_time": "2021-08-22T19:12:52.810Z"
   },
   {
    "duration": 12,
    "start_time": "2021-08-22T19:12:52.820Z"
   },
   {
    "duration": 59,
    "start_time": "2021-08-22T19:12:52.834Z"
   },
   {
    "duration": 8,
    "start_time": "2021-08-22T19:12:52.895Z"
   },
   {
    "duration": 123,
    "start_time": "2021-08-22T19:12:52.904Z"
   },
   {
    "duration": 5,
    "start_time": "2021-08-22T19:12:53.029Z"
   },
   {
    "duration": 7,
    "start_time": "2021-08-22T19:12:53.035Z"
   },
   {
    "duration": 10957,
    "start_time": "2021-08-22T19:45:11.114Z"
   },
   {
    "duration": 7238,
    "start_time": "2021-08-22T19:45:22.073Z"
   },
   {
    "duration": 88,
    "start_time": "2021-08-22T19:45:29.316Z"
   },
   {
    "duration": 36,
    "start_time": "2021-08-22T19:45:29.406Z"
   },
   {
    "duration": 29,
    "start_time": "2021-08-22T19:45:29.444Z"
   },
   {
    "duration": 24,
    "start_time": "2021-08-22T19:45:29.475Z"
   },
   {
    "duration": 18,
    "start_time": "2021-08-22T19:45:29.501Z"
   },
   {
    "duration": 2272,
    "start_time": "2021-08-22T19:45:29.521Z"
   },
   {
    "duration": 28,
    "start_time": "2021-08-22T19:45:31.794Z"
   },
   {
    "duration": 7,
    "start_time": "2021-08-22T19:45:31.824Z"
   },
   {
    "duration": 13,
    "start_time": "2021-08-22T19:45:31.833Z"
   },
   {
    "duration": 40,
    "start_time": "2021-08-22T19:45:31.849Z"
   },
   {
    "duration": 8,
    "start_time": "2021-08-22T19:45:31.891Z"
   },
   {
    "duration": 9,
    "start_time": "2021-08-22T19:45:31.901Z"
   },
   {
    "duration": 9,
    "start_time": "2021-08-22T19:45:31.912Z"
   },
   {
    "duration": 9,
    "start_time": "2021-08-22T19:45:31.922Z"
   },
   {
    "duration": 57,
    "start_time": "2021-08-22T19:45:31.933Z"
   },
   {
    "duration": 33,
    "start_time": "2021-08-22T19:45:31.993Z"
   },
   {
    "duration": 8,
    "start_time": "2021-08-22T19:45:32.027Z"
   },
   {
    "duration": 4,
    "start_time": "2021-08-22T19:45:32.037Z"
   },
   {
    "duration": 52,
    "start_time": "2021-08-22T19:45:32.043Z"
   },
   {
    "duration": 14,
    "start_time": "2021-08-22T19:45:32.100Z"
   },
   {
    "duration": 4,
    "start_time": "2021-08-22T19:45:32.118Z"
   },
   {
    "duration": 16,
    "start_time": "2021-08-22T19:45:32.124Z"
   },
   {
    "duration": 49,
    "start_time": "2021-08-22T19:45:32.142Z"
   },
   {
    "duration": 31,
    "start_time": "2021-08-22T19:45:32.193Z"
   },
   {
    "duration": 4,
    "start_time": "2021-08-22T19:45:32.226Z"
   },
   {
    "duration": 54,
    "start_time": "2021-08-22T19:45:32.232Z"
   },
   {
    "duration": 4,
    "start_time": "2021-08-22T19:45:32.288Z"
   },
   {
    "duration": 7,
    "start_time": "2021-08-22T19:45:32.294Z"
   },
   {
    "duration": 19,
    "start_time": "2021-08-22T19:45:32.303Z"
   },
   {
    "duration": 13,
    "start_time": "2021-08-22T19:45:32.324Z"
   },
   {
    "duration": 14,
    "start_time": "2021-08-22T19:45:32.339Z"
   },
   {
    "duration": 546,
    "start_time": "2021-08-22T19:45:32.355Z"
   },
   {
    "duration": 6,
    "start_time": "2021-08-22T19:45:32.903Z"
   },
   {
    "duration": 8,
    "start_time": "2021-08-22T19:45:32.911Z"
   },
   {
    "duration": 324,
    "start_time": "2021-08-22T19:45:32.921Z"
   },
   {
    "duration": 9,
    "start_time": "2021-08-22T19:45:33.247Z"
   },
   {
    "duration": 9,
    "start_time": "2021-08-22T19:45:33.258Z"
   },
   {
    "duration": 5,
    "start_time": "2021-08-22T19:45:33.286Z"
   },
   {
    "duration": 4,
    "start_time": "2021-08-22T19:45:33.294Z"
   },
   {
    "duration": 20,
    "start_time": "2021-08-22T19:45:33.300Z"
   },
   {
    "duration": 140,
    "start_time": "2021-08-22T19:45:33.322Z"
   },
   {
    "duration": 1080,
    "start_time": "2021-08-22T19:45:33.464Z"
   },
   {
    "duration": 9,
    "start_time": "2021-08-22T19:45:34.546Z"
   },
   {
    "duration": 29,
    "start_time": "2021-08-22T19:45:34.556Z"
   },
   {
    "duration": 4,
    "start_time": "2021-08-22T19:45:34.587Z"
   },
   {
    "duration": 5,
    "start_time": "2021-08-22T19:45:34.593Z"
   },
   {
    "duration": 5,
    "start_time": "2021-08-22T19:45:34.600Z"
   },
   {
    "duration": 23,
    "start_time": "2021-08-22T19:45:34.606Z"
   },
   {
    "duration": 81,
    "start_time": "2021-08-22T19:45:34.630Z"
   },
   {
    "duration": 15,
    "start_time": "2021-08-22T19:45:34.713Z"
   },
   {
    "duration": 3,
    "start_time": "2021-08-22T19:45:34.786Z"
   },
   {
    "duration": 16,
    "start_time": "2021-08-22T19:45:34.790Z"
   },
   {
    "duration": 18,
    "start_time": "2021-08-22T19:45:34.807Z"
   },
   {
    "duration": 100,
    "start_time": "2021-08-22T19:45:34.827Z"
   },
   {
    "duration": 8,
    "start_time": "2021-08-22T19:45:34.929Z"
   },
   {
    "duration": 4,
    "start_time": "2021-08-22T19:45:34.939Z"
   },
   {
    "duration": 4,
    "start_time": "2021-08-22T19:45:34.945Z"
   },
   {
    "duration": 35,
    "start_time": "2021-08-22T19:45:34.951Z"
   },
   {
    "duration": 5,
    "start_time": "2021-08-22T19:45:34.988Z"
   },
   {
    "duration": 3,
    "start_time": "2021-08-22T19:45:34.995Z"
   },
   {
    "duration": 11,
    "start_time": "2021-08-22T19:45:35.000Z"
   },
   {
    "duration": 12,
    "start_time": "2021-08-22T19:45:35.013Z"
   },
   {
    "duration": 23,
    "start_time": "2021-08-22T19:45:35.026Z"
   },
   {
    "duration": 48,
    "start_time": "2021-08-22T19:45:35.051Z"
   },
   {
    "duration": 11,
    "start_time": "2021-08-22T19:45:35.104Z"
   },
   {
    "duration": 99,
    "start_time": "2021-08-22T19:45:35.117Z"
   },
   {
    "duration": 9,
    "start_time": "2021-08-22T19:45:35.218Z"
   },
   {
    "duration": 4,
    "start_time": "2021-08-22T19:45:35.229Z"
   },
   {
    "duration": 6,
    "start_time": "2021-08-22T19:45:35.235Z"
   },
   {
    "duration": 5,
    "start_time": "2021-08-22T19:45:35.243Z"
   },
   {
    "duration": 40,
    "start_time": "2021-08-22T19:45:35.250Z"
   },
   {
    "duration": 4,
    "start_time": "2021-08-22T19:45:35.291Z"
   },
   {
    "duration": 17,
    "start_time": "2021-08-22T19:45:35.297Z"
   },
   {
    "duration": 7,
    "start_time": "2021-08-22T19:45:35.316Z"
   },
   {
    "duration": 8,
    "start_time": "2021-08-22T19:45:35.325Z"
   },
   {
    "duration": 8,
    "start_time": "2021-08-22T19:45:35.334Z"
   },
   {
    "duration": 6,
    "start_time": "2021-08-22T19:45:35.344Z"
   },
   {
    "duration": 34,
    "start_time": "2021-08-22T19:45:35.351Z"
   },
   {
    "duration": 5,
    "start_time": "2021-08-22T19:45:35.387Z"
   },
   {
    "duration": 18,
    "start_time": "2021-08-22T19:45:35.393Z"
   },
   {
    "duration": 6,
    "start_time": "2021-08-22T19:45:35.413Z"
   },
   {
    "duration": 5,
    "start_time": "2021-08-22T19:45:35.421Z"
   },
   {
    "duration": 6,
    "start_time": "2021-08-22T19:45:35.427Z"
   },
   {
    "duration": 11,
    "start_time": "2021-08-22T19:45:35.434Z"
   },
   {
    "duration": 57,
    "start_time": "2021-08-22T19:45:35.447Z"
   },
   {
    "duration": 18,
    "start_time": "2021-08-22T19:45:35.506Z"
   },
   {
    "duration": 11,
    "start_time": "2021-08-22T19:45:35.525Z"
   },
   {
    "duration": 118,
    "start_time": "2021-08-22T19:45:35.538Z"
   },
   {
    "duration": 5,
    "start_time": "2021-08-22T19:45:35.658Z"
   },
   {
    "duration": 22,
    "start_time": "2021-08-22T19:45:35.664Z"
   },
   {
    "duration": 15,
    "start_time": "2021-08-22T19:45:35.688Z"
   },
   {
    "duration": 33,
    "start_time": "2021-08-22T19:45:35.705Z"
   },
   {
    "duration": 7,
    "start_time": "2021-08-22T19:45:35.740Z"
   },
   {
    "duration": 141,
    "start_time": "2021-08-22T19:45:35.749Z"
   },
   {
    "duration": 6,
    "start_time": "2021-08-22T19:45:35.891Z"
   },
   {
    "duration": 15,
    "start_time": "2021-08-22T19:45:35.899Z"
   },
   {
    "duration": 4,
    "start_time": "2021-08-22T20:03:22.840Z"
   },
   {
    "duration": 4,
    "start_time": "2021-08-22T20:03:30.359Z"
   },
   {
    "duration": 19,
    "start_time": "2021-08-22T20:09:27.589Z"
   },
   {
    "duration": 27,
    "start_time": "2021-08-22T20:09:30.988Z"
   },
   {
    "duration": 24,
    "start_time": "2021-08-22T20:09:35.567Z"
   },
   {
    "duration": 325,
    "start_time": "2021-08-22T20:13:57.524Z"
   },
   {
    "duration": 17,
    "start_time": "2021-08-22T20:14:00.118Z"
   },
   {
    "duration": 57,
    "start_time": "2021-08-22T20:16:18.595Z"
   },
   {
    "duration": 25,
    "start_time": "2021-08-22T20:16:22.685Z"
   },
   {
    "duration": 19,
    "start_time": "2021-08-22T20:16:29.725Z"
   },
   {
    "duration": 20,
    "start_time": "2021-08-22T20:16:46.029Z"
   },
   {
    "duration": 64,
    "start_time": "2021-08-22T20:17:04.500Z"
   },
   {
    "duration": 54,
    "start_time": "2021-08-22T20:18:22.935Z"
   },
   {
    "duration": 19,
    "start_time": "2021-08-22T20:18:26.902Z"
   },
   {
    "duration": 23,
    "start_time": "2021-08-22T20:19:02.497Z"
   },
   {
    "duration": 112,
    "start_time": "2021-08-22T20:20:51.556Z"
   },
   {
    "duration": 209,
    "start_time": "2021-08-22T20:22:54.845Z"
   },
   {
    "duration": 64,
    "start_time": "2021-08-22T20:23:31.643Z"
   },
   {
    "duration": 58,
    "start_time": "2021-08-22T20:23:41.664Z"
   },
   {
    "duration": 47,
    "start_time": "2021-08-22T20:23:48.771Z"
   },
   {
    "duration": 34,
    "start_time": "2021-08-22T20:24:00.754Z"
   },
   {
    "duration": 33,
    "start_time": "2021-08-22T20:24:09.841Z"
   },
   {
    "duration": 33,
    "start_time": "2021-08-22T20:24:31.712Z"
   },
   {
    "duration": 33,
    "start_time": "2021-08-22T20:26:06.555Z"
   },
   {
    "duration": 35,
    "start_time": "2021-08-22T20:26:26.369Z"
   },
   {
    "duration": 38,
    "start_time": "2021-08-22T20:26:37.776Z"
   },
   {
    "duration": 37,
    "start_time": "2021-08-22T20:27:12.575Z"
   },
   {
    "duration": 15,
    "start_time": "2021-08-22T20:39:04.569Z"
   },
   {
    "duration": 3,
    "start_time": "2021-08-22T20:39:20.491Z"
   },
   {
    "duration": 14,
    "start_time": "2021-08-22T20:40:22.820Z"
   },
   {
    "duration": 36,
    "start_time": "2021-08-22T20:40:42.390Z"
   },
   {
    "duration": 10,
    "start_time": "2021-08-22T20:40:49.901Z"
   },
   {
    "duration": 14,
    "start_time": "2021-08-22T20:40:59.348Z"
   },
   {
    "duration": 15,
    "start_time": "2021-08-22T20:41:03.429Z"
   },
   {
    "duration": 15,
    "start_time": "2021-08-22T20:46:41.008Z"
   },
   {
    "duration": 5,
    "start_time": "2021-08-22T20:51:38.366Z"
   },
   {
    "duration": 5,
    "start_time": "2021-08-22T20:51:41.735Z"
   },
   {
    "duration": 5365,
    "start_time": "2021-08-22T21:01:45.645Z"
   },
   {
    "duration": 6743,
    "start_time": "2021-08-22T21:01:51.012Z"
   },
   {
    "duration": 93,
    "start_time": "2021-08-22T21:01:57.760Z"
   },
   {
    "duration": 39,
    "start_time": "2021-08-22T21:01:57.855Z"
   },
   {
    "duration": 29,
    "start_time": "2021-08-22T21:01:57.895Z"
   },
   {
    "duration": 17,
    "start_time": "2021-08-22T21:01:57.926Z"
   },
   {
    "duration": 43,
    "start_time": "2021-08-22T21:01:57.946Z"
   },
   {
    "duration": 2206,
    "start_time": "2021-08-22T21:01:57.991Z"
   },
   {
    "duration": 28,
    "start_time": "2021-08-22T21:02:00.198Z"
   },
   {
    "duration": 8,
    "start_time": "2021-08-22T21:02:00.227Z"
   },
   {
    "duration": 12,
    "start_time": "2021-08-22T21:02:00.236Z"
   },
   {
    "duration": 36,
    "start_time": "2021-08-22T21:02:00.250Z"
   },
   {
    "duration": 7,
    "start_time": "2021-08-22T21:02:00.288Z"
   },
   {
    "duration": 9,
    "start_time": "2021-08-22T21:02:00.297Z"
   },
   {
    "duration": 16,
    "start_time": "2021-08-22T21:02:00.307Z"
   },
   {
    "duration": 8,
    "start_time": "2021-08-22T21:02:00.325Z"
   },
   {
    "duration": 12,
    "start_time": "2021-08-22T21:02:00.335Z"
   },
   {
    "duration": 61,
    "start_time": "2021-08-22T21:02:00.349Z"
   },
   {
    "duration": 6,
    "start_time": "2021-08-22T21:02:00.412Z"
   },
   {
    "duration": 9,
    "start_time": "2021-08-22T21:02:00.420Z"
   },
   {
    "duration": 22,
    "start_time": "2021-08-22T21:02:00.431Z"
   },
   {
    "duration": 35,
    "start_time": "2021-08-22T21:02:00.457Z"
   },
   {
    "duration": 5,
    "start_time": "2021-08-22T21:02:00.495Z"
   },
   {
    "duration": 23,
    "start_time": "2021-08-22T21:02:00.502Z"
   },
   {
    "duration": 19,
    "start_time": "2021-08-22T21:02:00.526Z"
   },
   {
    "duration": 55,
    "start_time": "2021-08-22T21:02:00.547Z"
   },
   {
    "duration": 5,
    "start_time": "2021-08-22T21:02:00.604Z"
   },
   {
    "duration": 31,
    "start_time": "2021-08-22T21:02:00.611Z"
   },
   {
    "duration": 45,
    "start_time": "2021-08-22T21:02:00.644Z"
   },
   {
    "duration": 4,
    "start_time": "2021-08-22T21:02:00.690Z"
   },
   {
    "duration": 9,
    "start_time": "2021-08-22T21:02:00.696Z"
   },
   {
    "duration": 21,
    "start_time": "2021-08-22T21:02:00.706Z"
   },
   {
    "duration": 21,
    "start_time": "2021-08-22T21:02:00.729Z"
   },
   {
    "duration": 17,
    "start_time": "2021-08-22T21:02:00.751Z"
   },
   {
    "duration": 35,
    "start_time": "2021-08-22T21:02:00.785Z"
   },
   {
    "duration": 565,
    "start_time": "2021-08-22T21:02:00.822Z"
   },
   {
    "duration": 7,
    "start_time": "2021-08-22T21:02:01.389Z"
   },
   {
    "duration": 11,
    "start_time": "2021-08-22T21:02:01.398Z"
   },
   {
    "duration": 332,
    "start_time": "2021-08-22T21:02:01.411Z"
   },
   {
    "duration": 8,
    "start_time": "2021-08-22T21:02:01.746Z"
   },
   {
    "duration": 15,
    "start_time": "2021-08-22T21:02:01.755Z"
   },
   {
    "duration": 15,
    "start_time": "2021-08-22T21:02:01.772Z"
   },
   {
    "duration": 6,
    "start_time": "2021-08-22T21:02:01.789Z"
   },
   {
    "duration": 37,
    "start_time": "2021-08-22T21:02:01.796Z"
   },
   {
    "duration": 138,
    "start_time": "2021-08-22T21:02:01.834Z"
   },
   {
    "duration": 1091,
    "start_time": "2021-08-22T21:02:01.973Z"
   },
   {
    "duration": 20,
    "start_time": "2021-08-22T21:02:03.066Z"
   },
   {
    "duration": 4,
    "start_time": "2021-08-22T21:02:03.088Z"
   },
   {
    "duration": 6,
    "start_time": "2021-08-22T21:02:03.093Z"
   },
   {
    "duration": 5,
    "start_time": "2021-08-22T21:02:03.100Z"
   },
   {
    "duration": 6,
    "start_time": "2021-08-22T21:02:03.107Z"
   },
   {
    "duration": 76,
    "start_time": "2021-08-22T21:02:03.115Z"
   },
   {
    "duration": 17,
    "start_time": "2021-08-22T21:02:03.192Z"
   },
   {
    "duration": 75,
    "start_time": "2021-08-22T21:02:03.211Z"
   },
   {
    "duration": 18,
    "start_time": "2021-08-22T21:02:03.288Z"
   },
   {
    "duration": 6,
    "start_time": "2021-08-22T21:02:03.308Z"
   },
   {
    "duration": 14,
    "start_time": "2021-08-22T21:02:03.316Z"
   },
   {
    "duration": 18,
    "start_time": "2021-08-22T21:02:03.332Z"
   },
   {
    "duration": 107,
    "start_time": "2021-08-22T21:02:03.352Z"
   },
   {
    "duration": 25,
    "start_time": "2021-08-22T21:02:03.461Z"
   },
   {
    "duration": 6,
    "start_time": "2021-08-22T21:02:03.487Z"
   },
   {
    "duration": 6,
    "start_time": "2021-08-22T21:02:03.494Z"
   },
   {
    "duration": 6,
    "start_time": "2021-08-22T21:02:03.502Z"
   },
   {
    "duration": 7,
    "start_time": "2021-08-22T21:02:03.510Z"
   },
   {
    "duration": 4,
    "start_time": "2021-08-22T21:02:03.518Z"
   },
   {
    "duration": 12,
    "start_time": "2021-08-22T21:02:03.524Z"
   },
   {
    "duration": 44,
    "start_time": "2021-08-22T21:02:03.542Z"
   },
   {
    "duration": 23,
    "start_time": "2021-08-22T21:02:03.588Z"
   },
   {
    "duration": 14,
    "start_time": "2021-08-22T21:02:03.613Z"
   },
   {
    "duration": 10,
    "start_time": "2021-08-22T21:02:03.629Z"
   },
   {
    "duration": 105,
    "start_time": "2021-08-22T21:02:03.640Z"
   },
   {
    "duration": 8,
    "start_time": "2021-08-22T21:02:03.747Z"
   },
   {
    "duration": 6,
    "start_time": "2021-08-22T21:02:03.757Z"
   },
   {
    "duration": 5,
    "start_time": "2021-08-22T21:02:03.785Z"
   },
   {
    "duration": 5,
    "start_time": "2021-08-22T21:02:03.791Z"
   },
   {
    "duration": 5,
    "start_time": "2021-08-22T21:02:03.797Z"
   },
   {
    "duration": 5,
    "start_time": "2021-08-22T21:02:03.803Z"
   },
   {
    "duration": 19,
    "start_time": "2021-08-22T21:02:03.809Z"
   },
   {
    "duration": 7,
    "start_time": "2021-08-22T21:02:03.830Z"
   },
   {
    "duration": 31,
    "start_time": "2021-08-22T21:02:03.839Z"
   },
   {
    "duration": 4,
    "start_time": "2021-08-22T21:02:03.885Z"
   },
   {
    "duration": 8,
    "start_time": "2021-08-22T21:02:03.890Z"
   },
   {
    "duration": 17,
    "start_time": "2021-08-22T21:02:03.900Z"
   },
   {
    "duration": 12,
    "start_time": "2021-08-22T21:02:03.919Z"
   },
   {
    "duration": 20,
    "start_time": "2021-08-22T21:02:03.932Z"
   },
   {
    "duration": 23,
    "start_time": "2021-08-22T21:02:03.954Z"
   },
   {
    "duration": 14,
    "start_time": "2021-08-22T21:02:03.979Z"
   },
   {
    "duration": 12,
    "start_time": "2021-08-22T21:02:03.994Z"
   },
   {
    "duration": 17,
    "start_time": "2021-08-22T21:02:04.007Z"
   },
   {
    "duration": 38,
    "start_time": "2021-08-22T21:02:04.026Z"
   },
   {
    "duration": 20,
    "start_time": "2021-08-22T21:02:04.066Z"
   },
   {
    "duration": 16,
    "start_time": "2021-08-22T21:02:04.087Z"
   },
   {
    "duration": 95,
    "start_time": "2021-08-22T21:02:04.105Z"
   },
   {
    "duration": 6,
    "start_time": "2021-08-22T21:02:04.202Z"
   },
   {
    "duration": 13,
    "start_time": "2021-08-22T21:02:04.210Z"
   },
   {
    "duration": 13,
    "start_time": "2021-08-22T21:02:04.225Z"
   },
   {
    "duration": 54,
    "start_time": "2021-08-22T21:02:04.240Z"
   },
   {
    "duration": 9,
    "start_time": "2021-08-22T21:02:04.296Z"
   },
   {
    "duration": 131,
    "start_time": "2021-08-22T21:02:04.307Z"
   },
   {
    "duration": 7,
    "start_time": "2021-08-22T21:02:04.440Z"
   },
   {
    "duration": 22,
    "start_time": "2021-08-22T21:02:04.449Z"
   },
   {
    "duration": 14959,
    "start_time": "2021-08-24T15:33:23.250Z"
   },
   {
    "duration": 32341,
    "start_time": "2021-08-24T15:33:38.212Z"
   },
   {
    "duration": 237,
    "start_time": "2021-08-24T15:34:10.558Z"
   },
   {
    "duration": 83,
    "start_time": "2021-08-24T15:34:10.799Z"
   },
   {
    "duration": 55,
    "start_time": "2021-08-24T15:34:10.885Z"
   },
   {
    "duration": 27,
    "start_time": "2021-08-24T15:34:10.943Z"
   },
   {
    "duration": 24,
    "start_time": "2021-08-24T15:34:11.001Z"
   },
   {
    "duration": 3303,
    "start_time": "2021-08-24T15:34:11.028Z"
   },
   {
    "duration": 38,
    "start_time": "2021-08-24T15:34:14.335Z"
   },
   {
    "duration": 841,
    "start_time": "2021-08-24T15:34:14.376Z"
   },
   {
    "duration": 369,
    "start_time": "2021-08-24T15:34:15.220Z"
   },
   {
    "duration": 2526,
    "start_time": "2021-08-24T15:34:15.592Z"
   },
   {
    "duration": 421,
    "start_time": "2021-08-24T15:34:18.121Z"
   },
   {
    "duration": 691,
    "start_time": "2021-08-24T15:34:18.545Z"
   },
   {
    "duration": 6203,
    "start_time": "2021-08-24T15:34:19.239Z"
   },
   {
    "duration": 13,
    "start_time": "2021-08-24T15:34:25.445Z"
   },
   {
    "duration": 3814,
    "start_time": "2021-08-24T15:34:25.461Z"
   },
   {
    "duration": 29,
    "start_time": "2021-08-24T15:34:29.278Z"
   },
   {
    "duration": 3904,
    "start_time": "2021-08-24T15:34:29.309Z"
   },
   {
    "duration": 21,
    "start_time": "2021-08-24T15:34:33.216Z"
   },
   {
    "duration": 101,
    "start_time": "2021-08-24T15:34:33.240Z"
   },
   {
    "duration": 266,
    "start_time": "2021-08-24T15:34:33.344Z"
   },
   {
    "duration": 129,
    "start_time": "2021-08-24T15:34:33.613Z"
   },
   {
    "duration": 65,
    "start_time": "2021-08-24T15:34:33.746Z"
   },
   {
    "duration": 6,
    "start_time": "2021-08-24T15:34:33.814Z"
   },
   {
    "duration": 99,
    "start_time": "2021-08-24T15:34:33.823Z"
   },
   {
    "duration": 75,
    "start_time": "2021-08-24T15:34:33.932Z"
   },
   {
    "duration": 7,
    "start_time": "2021-08-24T15:34:34.011Z"
   },
   {
    "duration": 24,
    "start_time": "2021-08-24T15:34:34.020Z"
   },
   {
    "duration": 18,
    "start_time": "2021-08-24T15:34:34.101Z"
   },
   {
    "duration": 103,
    "start_time": "2021-08-24T15:34:34.122Z"
   },
   {
    "duration": 7,
    "start_time": "2021-08-24T15:34:34.228Z"
   },
   {
    "duration": 84,
    "start_time": "2021-08-24T15:34:34.238Z"
   },
   {
    "duration": 3,
    "start_time": "2021-08-24T15:34:34.324Z"
   },
   {
    "duration": 11,
    "start_time": "2021-08-24T15:34:34.330Z"
   },
   {
    "duration": 57,
    "start_time": "2021-08-24T15:34:34.343Z"
   },
   {
    "duration": 3,
    "start_time": "2021-08-24T15:34:34.404Z"
   },
   {
    "duration": 11,
    "start_time": "2021-08-24T15:34:34.410Z"
   },
   {
    "duration": 11,
    "start_time": "2021-08-24T15:34:34.424Z"
   },
   {
    "duration": 176,
    "start_time": "2021-08-24T15:34:34.438Z"
   },
   {
    "duration": 20,
    "start_time": "2021-08-24T15:34:34.617Z"
   },
   {
    "duration": 226,
    "start_time": "2021-08-24T15:34:34.640Z"
   },
   {
    "duration": 11,
    "start_time": "2021-08-24T15:34:34.869Z"
   },
   {
    "duration": 443,
    "start_time": "2021-08-24T15:34:34.901Z"
   },
   {
    "duration": 13,
    "start_time": "2021-08-24T15:34:35.347Z"
   },
   {
    "duration": 11,
    "start_time": "2021-08-24T15:34:35.363Z"
   },
   {
    "duration": 28,
    "start_time": "2021-08-24T15:34:35.377Z"
   },
   {
    "duration": 24,
    "start_time": "2021-08-24T15:34:35.408Z"
   },
   {
    "duration": 10,
    "start_time": "2021-08-24T15:34:35.435Z"
   },
   {
    "duration": 17,
    "start_time": "2021-08-24T15:34:35.448Z"
   },
   {
    "duration": 41,
    "start_time": "2021-08-24T15:34:35.468Z"
   },
   {
    "duration": 44,
    "start_time": "2021-08-24T15:34:35.512Z"
   },
   {
    "duration": 4,
    "start_time": "2021-08-24T15:34:35.558Z"
   },
   {
    "duration": 35,
    "start_time": "2021-08-24T15:34:35.565Z"
   },
   {
    "duration": 4,
    "start_time": "2021-08-24T15:34:35.602Z"
   },
   {
    "duration": 12,
    "start_time": "2021-08-24T15:34:35.608Z"
   },
   {
    "duration": 9,
    "start_time": "2021-08-24T15:34:35.622Z"
   },
   {
    "duration": 10,
    "start_time": "2021-08-24T15:34:35.633Z"
   },
   {
    "duration": 14,
    "start_time": "2021-08-24T15:34:35.646Z"
   },
   {
    "duration": 17,
    "start_time": "2021-08-24T15:34:35.663Z"
   },
   {
    "duration": 33,
    "start_time": "2021-08-24T15:34:35.683Z"
   },
   {
    "duration": 145,
    "start_time": "2021-08-24T15:34:35.719Z"
   },
   {
    "duration": 9,
    "start_time": "2021-08-24T15:34:35.866Z"
   },
   {
    "duration": 21,
    "start_time": "2021-08-24T15:34:35.878Z"
   },
   {
    "duration": 12,
    "start_time": "2021-08-24T15:34:35.902Z"
   },
   {
    "duration": 29,
    "start_time": "2021-08-24T15:34:35.917Z"
   },
   {
    "duration": 32,
    "start_time": "2021-08-24T15:34:35.948Z"
   },
   {
    "duration": 25,
    "start_time": "2021-08-24T15:34:35.982Z"
   },
   {
    "duration": 21,
    "start_time": "2021-08-24T15:34:36.009Z"
   },
   {
    "duration": 18,
    "start_time": "2021-08-24T15:34:36.033Z"
   },
   {
    "duration": 31,
    "start_time": "2021-08-24T15:34:36.054Z"
   },
   {
    "duration": 9,
    "start_time": "2021-08-24T15:34:36.088Z"
   },
   {
    "duration": 16,
    "start_time": "2021-08-24T15:34:36.099Z"
   },
   {
    "duration": 21,
    "start_time": "2021-08-24T15:34:36.118Z"
   },
   {
    "duration": 18,
    "start_time": "2021-08-24T15:34:36.141Z"
   },
   {
    "duration": 29,
    "start_time": "2021-08-24T15:34:36.161Z"
   },
   {
    "duration": 25,
    "start_time": "2021-08-24T15:34:36.193Z"
   },
   {
    "duration": 40,
    "start_time": "2021-08-24T15:34:36.221Z"
   },
   {
    "duration": 38,
    "start_time": "2021-08-24T15:34:36.264Z"
   },
   {
    "duration": 3,
    "start_time": "2021-08-24T15:34:36.305Z"
   },
   {
    "duration": 149,
    "start_time": "2021-08-24T15:34:36.318Z"
   },
   {
    "duration": 11,
    "start_time": "2021-08-24T15:34:36.472Z"
   },
   {
    "duration": 56,
    "start_time": "2021-08-24T15:34:36.502Z"
   },
   {
    "duration": 41,
    "start_time": "2021-08-24T15:34:36.561Z"
   },
   {
    "duration": 17,
    "start_time": "2021-08-24T15:34:36.605Z"
   },
   {
    "duration": 22,
    "start_time": "2021-08-24T15:34:36.625Z"
   },
   {
    "duration": 27,
    "start_time": "2021-08-24T15:34:36.650Z"
   },
   {
    "duration": 33,
    "start_time": "2021-08-24T15:34:36.679Z"
   },
   {
    "duration": 156,
    "start_time": "2021-08-24T15:34:36.715Z"
   },
   {
    "duration": 29,
    "start_time": "2021-08-24T15:34:36.873Z"
   },
   {
    "duration": 9,
    "start_time": "2021-08-24T15:34:36.905Z"
   },
   {
    "duration": 24,
    "start_time": "2021-08-24T15:34:36.916Z"
   },
   {
    "duration": 38,
    "start_time": "2021-08-24T15:34:36.943Z"
   },
   {
    "duration": 19,
    "start_time": "2021-08-24T15:34:36.983Z"
   },
   {
    "duration": 31,
    "start_time": "2021-08-24T15:34:37.005Z"
   },
   {
    "duration": 21,
    "start_time": "2021-08-24T15:34:37.039Z"
   },
   {
    "duration": 17,
    "start_time": "2021-08-24T15:34:37.063Z"
   },
   {
    "duration": 18,
    "start_time": "2021-08-24T15:34:37.083Z"
   },
   {
    "duration": 21,
    "start_time": "2021-08-24T15:34:37.103Z"
   },
   {
    "duration": 29,
    "start_time": "2021-08-24T15:34:37.126Z"
   },
   {
    "duration": 15,
    "start_time": "2021-08-24T15:34:37.157Z"
   },
   {
    "duration": 21,
    "start_time": "2021-08-24T15:34:37.174Z"
   },
   {
    "duration": 26,
    "start_time": "2021-08-24T15:34:37.197Z"
   },
   {
    "duration": 23,
    "start_time": "2021-08-24T15:34:37.225Z"
   },
   {
    "duration": 70,
    "start_time": "2021-08-24T15:34:37.251Z"
   },
   {
    "duration": 22,
    "start_time": "2021-08-24T15:34:37.323Z"
   },
   {
    "duration": 26,
    "start_time": "2021-08-24T15:34:37.347Z"
   },
   {
    "duration": 182,
    "start_time": "2021-08-24T15:34:37.376Z"
   },
   {
    "duration": 7,
    "start_time": "2021-08-24T15:34:37.560Z"
   },
   {
    "duration": 33,
    "start_time": "2021-08-24T15:34:37.570Z"
   },
   {
    "duration": 19,
    "start_time": "2021-08-24T15:34:37.606Z"
   },
   {
    "duration": 75,
    "start_time": "2021-08-24T15:34:37.628Z"
   },
   {
    "duration": 13,
    "start_time": "2021-08-24T15:34:37.706Z"
   },
   {
    "duration": 211,
    "start_time": "2021-08-24T15:34:37.721Z"
   },
   {
    "duration": 9,
    "start_time": "2021-08-24T15:34:37.935Z"
   },
   {
    "duration": 15,
    "start_time": "2021-08-24T15:34:37.946Z"
   },
   {
    "duration": 7310,
    "start_time": "2021-08-24T15:48:29.398Z"
   },
   {
    "duration": 7680,
    "start_time": "2021-08-24T15:48:36.711Z"
   },
   {
    "duration": 102,
    "start_time": "2021-08-24T15:48:44.395Z"
   },
   {
    "duration": 52,
    "start_time": "2021-08-24T15:48:44.500Z"
   },
   {
    "duration": 63,
    "start_time": "2021-08-24T15:48:44.555Z"
   },
   {
    "duration": 33,
    "start_time": "2021-08-24T15:48:44.620Z"
   },
   {
    "duration": 47,
    "start_time": "2021-08-24T15:48:44.655Z"
   },
   {
    "duration": 1892,
    "start_time": "2021-08-24T15:48:44.706Z"
   },
   {
    "duration": 36,
    "start_time": "2021-08-24T15:48:46.601Z"
   },
   {
    "duration": 11,
    "start_time": "2021-08-24T15:48:46.640Z"
   },
   {
    "duration": 47,
    "start_time": "2021-08-24T15:48:46.653Z"
   },
   {
    "duration": 9,
    "start_time": "2021-08-24T15:48:46.703Z"
   },
   {
    "duration": 13,
    "start_time": "2021-08-24T15:48:46.715Z"
   },
   {
    "duration": 12,
    "start_time": "2021-08-24T15:48:46.731Z"
   },
   {
    "duration": 3207,
    "start_time": "2021-08-24T15:48:46.746Z"
   },
   {
    "duration": 45,
    "start_time": "2021-08-24T15:48:49.957Z"
   },
   {
    "duration": 3711,
    "start_time": "2021-08-24T15:48:50.004Z"
   },
   {
    "duration": 15,
    "start_time": "2021-08-24T15:48:53.717Z"
   },
   {
    "duration": 3590,
    "start_time": "2021-08-24T15:48:53.735Z"
   },
   {
    "duration": 21,
    "start_time": "2021-08-24T15:48:57.330Z"
   },
   {
    "duration": 25,
    "start_time": "2021-08-24T15:49:07.664Z"
   },
   {
    "duration": 109,
    "start_time": "2021-08-24T15:50:17.212Z"
   },
   {
    "duration": 21,
    "start_time": "2021-08-24T15:50:20.107Z"
   },
   {
    "duration": 20,
    "start_time": "2021-08-24T15:50:49.853Z"
   },
   {
    "duration": 138,
    "start_time": "2021-08-24T15:51:48.557Z"
   },
   {
    "duration": 112,
    "start_time": "2021-08-24T15:51:54.990Z"
   },
   {
    "duration": 95,
    "start_time": "2021-08-24T15:52:00.620Z"
   },
   {
    "duration": 8,
    "start_time": "2021-08-24T15:52:10.956Z"
   },
   {
    "duration": 26,
    "start_time": "2021-08-24T15:52:39.812Z"
   },
   {
    "duration": 24,
    "start_time": "2021-08-24T15:52:43.786Z"
   },
   {
    "duration": 33,
    "start_time": "2021-08-24T15:54:36.532Z"
   },
   {
    "duration": 28,
    "start_time": "2021-08-24T15:54:39.874Z"
   },
   {
    "duration": 29,
    "start_time": "2021-08-24T15:54:57.385Z"
   },
   {
    "duration": 28,
    "start_time": "2021-08-24T15:55:20.820Z"
   }
  ],
  "kernelspec": {
   "display_name": "Python 3",
   "language": "python",
   "name": "python3"
  },
  "language_info": {
   "codemirror_mode": {
    "name": "ipython",
    "version": 3
   },
   "file_extension": ".py",
   "mimetype": "text/x-python",
   "name": "python",
   "nbconvert_exporter": "python",
   "pygments_lexer": "ipython3",
   "version": "3.7.9"
  },
  "toc": {
   "base_numbering": 1,
   "nav_menu": {},
   "number_sections": false,
   "sideBar": true,
   "skip_h1_title": false,
   "title_cell": "Table of Contents",
   "title_sidebar": "Contents",
   "toc_cell": false,
   "toc_position": {
    "height": "calc(100% - 180px)",
    "left": "10px",
    "top": "150px",
    "width": "364.796875px"
   },
   "toc_section_display": true,
   "toc_window_display": true
  }
 },
 "nbformat": 4,
 "nbformat_minor": 5
}
