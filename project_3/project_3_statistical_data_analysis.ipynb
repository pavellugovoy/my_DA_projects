{
 "cells": [
  {
   "cell_type": "markdown",
   "metadata": {},
   "source": [
    "# Research on Megaline plans\n",
    "\n",
    "Megaline offers its clients two prepaid plans, Surf and Ultimate. The commercial department wants to know which of the plans brings in more revenue in order to adjust the advertising budget.\n",
    "We are going to carry out a preliminary analysis of the plans based on a relatively small client selection. We have the data on 500 Megaline clients: who the clients are, where they're from, which plan they use, and the number of calls they made and text messages they sent in 2018. Our goal is to analyze clients' behavior and determine which prepaid plan brings in more revenue."
   ]
  },
  {
   "cell_type": "markdown",
   "metadata": {},
   "source": [
    "## Step 1: Studying general information"
   ]
  },
  {
   "cell_type": "code",
   "execution_count": 1,
   "metadata": {},
   "outputs": [],
   "source": [
    "# importing libraries\n",
    "\n",
    "import pandas as pd\n",
    "import numpy as np\n",
    "import matplotlib.pyplot as plt\n",
    "import statsmodels as st\n",
    "from scipy.stats import mannwhitneyu\n",
    "from IPython.display import display\n",
    "import sys\n",
    "import warnings\n",
    "if not sys.warnoptions:\n",
    "       warnings.simplefilter(\"ignore\")"
   ]
  },
  {
   "cell_type": "code",
   "execution_count": 2,
   "metadata": {},
   "outputs": [],
   "source": [
    "# import datasets\n",
    "\n",
    "try:\n",
    "    calls = pd.read_csv('/Users/pavellugovoy/Desktop/data_analysis/sprint_3/data_sets/megaline_calls.csv')\n",
    "    internet = pd.read_csv('/Users/pavellugovoy/Desktop/data_analysis/sprint_3/data_sets/megaline_internet.csv')\n",
    "    messages = pd.read_csv('/Users/pavellugovoy/Desktop/data_analysis/sprint_3/data_sets/megaline_messages.csv')\n",
    "    plans = pd.read_csv('/Users/pavellugovoy/Desktop/data_analysis/sprint_3/data_sets/megaline_plans.csv')\n",
    "    users = pd.read_csv('/Users/pavellugovoy/Desktop/data_analysis/sprint_3/data_sets/megaline_users.csv')\n",
    "except: \n",
    "    calls = pd.read_csv('/datasets/megaline_calls.csv')\n",
    "    internet = pd.read_csv('/datasets/megaline_internet.csv')\n",
    "    messages = pd.read_csv('/datasets/megaline_messages.csv')\n",
    "    plans = pd.read_csv('/datasets/megaline_plans.csv')\n",
    "    users = pd.read_csv('/datasets/megaline_users.csv')"
   ]
  },
  {
   "cell_type": "markdown",
   "metadata": {},
   "source": [
    "Looking at the general information of each of the datasets"
   ]
  },
  {
   "cell_type": "code",
   "execution_count": 3,
   "metadata": {},
   "outputs": [
    {
     "name": "stdout",
     "output_type": "stream",
     "text": [
      "<class 'pandas.core.frame.DataFrame'>\n",
      "RangeIndex: 137735 entries, 0 to 137734\n",
      "Data columns (total 4 columns):\n",
      " #   Column     Non-Null Count   Dtype  \n",
      "---  ------     --------------   -----  \n",
      " 0   id         137735 non-null  object \n",
      " 1   user_id    137735 non-null  int64  \n",
      " 2   call_date  137735 non-null  object \n",
      " 3   duration   137735 non-null  float64\n",
      "dtypes: float64(1), int64(1), object(2)\n",
      "memory usage: 4.2+ MB\n"
     ]
    },
    {
     "data": {
      "text/plain": [
       "None"
      ]
     },
     "metadata": {},
     "output_type": "display_data"
    },
    {
     "data": {
      "text/html": [
       "<div>\n",
       "<style scoped>\n",
       "    .dataframe tbody tr th:only-of-type {\n",
       "        vertical-align: middle;\n",
       "    }\n",
       "\n",
       "    .dataframe tbody tr th {\n",
       "        vertical-align: top;\n",
       "    }\n",
       "\n",
       "    .dataframe thead th {\n",
       "        text-align: right;\n",
       "    }\n",
       "</style>\n",
       "<table border=\"1\" class=\"dataframe\">\n",
       "  <thead>\n",
       "    <tr style=\"text-align: right;\">\n",
       "      <th></th>\n",
       "      <th>id</th>\n",
       "      <th>user_id</th>\n",
       "      <th>call_date</th>\n",
       "      <th>duration</th>\n",
       "    </tr>\n",
       "  </thead>\n",
       "  <tbody>\n",
       "    <tr>\n",
       "      <th>0</th>\n",
       "      <td>1000_93</td>\n",
       "      <td>1000</td>\n",
       "      <td>2018-12-27</td>\n",
       "      <td>8.52</td>\n",
       "    </tr>\n",
       "    <tr>\n",
       "      <th>1</th>\n",
       "      <td>1000_145</td>\n",
       "      <td>1000</td>\n",
       "      <td>2018-12-27</td>\n",
       "      <td>13.66</td>\n",
       "    </tr>\n",
       "    <tr>\n",
       "      <th>2</th>\n",
       "      <td>1000_247</td>\n",
       "      <td>1000</td>\n",
       "      <td>2018-12-27</td>\n",
       "      <td>14.48</td>\n",
       "    </tr>\n",
       "    <tr>\n",
       "      <th>3</th>\n",
       "      <td>1000_309</td>\n",
       "      <td>1000</td>\n",
       "      <td>2018-12-28</td>\n",
       "      <td>5.76</td>\n",
       "    </tr>\n",
       "    <tr>\n",
       "      <th>4</th>\n",
       "      <td>1000_380</td>\n",
       "      <td>1000</td>\n",
       "      <td>2018-12-30</td>\n",
       "      <td>4.22</td>\n",
       "    </tr>\n",
       "  </tbody>\n",
       "</table>\n",
       "</div>"
      ],
      "text/plain": [
       "         id  user_id   call_date  duration\n",
       "0   1000_93     1000  2018-12-27      8.52\n",
       "1  1000_145     1000  2018-12-27     13.66\n",
       "2  1000_247     1000  2018-12-27     14.48\n",
       "3  1000_309     1000  2018-12-28      5.76\n",
       "4  1000_380     1000  2018-12-30      4.22"
      ]
     },
     "metadata": {},
     "output_type": "display_data"
    },
    {
     "data": {
      "text/html": [
       "<div>\n",
       "<style scoped>\n",
       "    .dataframe tbody tr th:only-of-type {\n",
       "        vertical-align: middle;\n",
       "    }\n",
       "\n",
       "    .dataframe tbody tr th {\n",
       "        vertical-align: top;\n",
       "    }\n",
       "\n",
       "    .dataframe thead th {\n",
       "        text-align: right;\n",
       "    }\n",
       "</style>\n",
       "<table border=\"1\" class=\"dataframe\">\n",
       "  <thead>\n",
       "    <tr style=\"text-align: right;\">\n",
       "      <th></th>\n",
       "      <th>id</th>\n",
       "      <th>user_id</th>\n",
       "      <th>call_date</th>\n",
       "      <th>duration</th>\n",
       "    </tr>\n",
       "  </thead>\n",
       "  <tbody>\n",
       "    <tr>\n",
       "      <th>137730</th>\n",
       "      <td>1499_199</td>\n",
       "      <td>1499</td>\n",
       "      <td>2018-11-21</td>\n",
       "      <td>8.72</td>\n",
       "    </tr>\n",
       "    <tr>\n",
       "      <th>137731</th>\n",
       "      <td>1499_200</td>\n",
       "      <td>1499</td>\n",
       "      <td>2018-10-20</td>\n",
       "      <td>10.89</td>\n",
       "    </tr>\n",
       "    <tr>\n",
       "      <th>137732</th>\n",
       "      <td>1499_201</td>\n",
       "      <td>1499</td>\n",
       "      <td>2018-09-21</td>\n",
       "      <td>8.12</td>\n",
       "    </tr>\n",
       "    <tr>\n",
       "      <th>137733</th>\n",
       "      <td>1499_202</td>\n",
       "      <td>1499</td>\n",
       "      <td>2018-10-10</td>\n",
       "      <td>0.37</td>\n",
       "    </tr>\n",
       "    <tr>\n",
       "      <th>137734</th>\n",
       "      <td>1499_203</td>\n",
       "      <td>1499</td>\n",
       "      <td>2018-12-29</td>\n",
       "      <td>13.86</td>\n",
       "    </tr>\n",
       "  </tbody>\n",
       "</table>\n",
       "</div>"
      ],
      "text/plain": [
       "              id  user_id   call_date  duration\n",
       "137730  1499_199     1499  2018-11-21      8.72\n",
       "137731  1499_200     1499  2018-10-20     10.89\n",
       "137732  1499_201     1499  2018-09-21      8.12\n",
       "137733  1499_202     1499  2018-10-10      0.37\n",
       "137734  1499_203     1499  2018-12-29     13.86"
      ]
     },
     "metadata": {},
     "output_type": "display_data"
    },
    {
     "data": {
      "text/html": [
       "<div>\n",
       "<style scoped>\n",
       "    .dataframe tbody tr th:only-of-type {\n",
       "        vertical-align: middle;\n",
       "    }\n",
       "\n",
       "    .dataframe tbody tr th {\n",
       "        vertical-align: top;\n",
       "    }\n",
       "\n",
       "    .dataframe thead th {\n",
       "        text-align: right;\n",
       "    }\n",
       "</style>\n",
       "<table border=\"1\" class=\"dataframe\">\n",
       "  <thead>\n",
       "    <tr style=\"text-align: right;\">\n",
       "      <th></th>\n",
       "      <th>id</th>\n",
       "      <th>user_id</th>\n",
       "      <th>call_date</th>\n",
       "      <th>duration</th>\n",
       "    </tr>\n",
       "  </thead>\n",
       "  <tbody>\n",
       "    <tr>\n",
       "      <th>88173</th>\n",
       "      <td>1324_220</td>\n",
       "      <td>1324</td>\n",
       "      <td>2018-06-29</td>\n",
       "      <td>10.86</td>\n",
       "    </tr>\n",
       "  </tbody>\n",
       "</table>\n",
       "</div>"
      ],
      "text/plain": [
       "             id  user_id   call_date  duration\n",
       "88173  1324_220     1324  2018-06-29     10.86"
      ]
     },
     "metadata": {},
     "output_type": "display_data"
    },
    {
     "data": {
      "text/html": [
       "<div>\n",
       "<style scoped>\n",
       "    .dataframe tbody tr th:only-of-type {\n",
       "        vertical-align: middle;\n",
       "    }\n",
       "\n",
       "    .dataframe tbody tr th {\n",
       "        vertical-align: top;\n",
       "    }\n",
       "\n",
       "    .dataframe thead th {\n",
       "        text-align: right;\n",
       "    }\n",
       "</style>\n",
       "<table border=\"1\" class=\"dataframe\">\n",
       "  <thead>\n",
       "    <tr style=\"text-align: right;\">\n",
       "      <th></th>\n",
       "      <th>user_id</th>\n",
       "      <th>duration</th>\n",
       "    </tr>\n",
       "  </thead>\n",
       "  <tbody>\n",
       "    <tr>\n",
       "      <th>count</th>\n",
       "      <td>137735.000000</td>\n",
       "      <td>137735.000000</td>\n",
       "    </tr>\n",
       "    <tr>\n",
       "      <th>mean</th>\n",
       "      <td>1247.658046</td>\n",
       "      <td>6.745927</td>\n",
       "    </tr>\n",
       "    <tr>\n",
       "      <th>std</th>\n",
       "      <td>139.416268</td>\n",
       "      <td>5.839241</td>\n",
       "    </tr>\n",
       "    <tr>\n",
       "      <th>min</th>\n",
       "      <td>1000.000000</td>\n",
       "      <td>0.000000</td>\n",
       "    </tr>\n",
       "    <tr>\n",
       "      <th>25%</th>\n",
       "      <td>1128.000000</td>\n",
       "      <td>1.290000</td>\n",
       "    </tr>\n",
       "    <tr>\n",
       "      <th>50%</th>\n",
       "      <td>1247.000000</td>\n",
       "      <td>5.980000</td>\n",
       "    </tr>\n",
       "    <tr>\n",
       "      <th>75%</th>\n",
       "      <td>1365.000000</td>\n",
       "      <td>10.690000</td>\n",
       "    </tr>\n",
       "    <tr>\n",
       "      <th>max</th>\n",
       "      <td>1499.000000</td>\n",
       "      <td>37.600000</td>\n",
       "    </tr>\n",
       "  </tbody>\n",
       "</table>\n",
       "</div>"
      ],
      "text/plain": [
       "             user_id       duration\n",
       "count  137735.000000  137735.000000\n",
       "mean     1247.658046       6.745927\n",
       "std       139.416268       5.839241\n",
       "min      1000.000000       0.000000\n",
       "25%      1128.000000       1.290000\n",
       "50%      1247.000000       5.980000\n",
       "75%      1365.000000      10.690000\n",
       "max      1499.000000      37.600000"
      ]
     },
     "metadata": {},
     "output_type": "display_data"
    }
   ],
   "source": [
    "# calls \n",
    "display(calls.info())\n",
    "display(calls.head())\n",
    "display(calls.tail())\n",
    "display(calls.sample())\n",
    "display(calls.describe())"
   ]
  },
  {
   "cell_type": "code",
   "execution_count": 4,
   "metadata": {},
   "outputs": [
    {
     "name": "stdout",
     "output_type": "stream",
     "text": [
      "<class 'pandas.core.frame.DataFrame'>\n",
      "RangeIndex: 104825 entries, 0 to 104824\n",
      "Data columns (total 4 columns):\n",
      " #   Column        Non-Null Count   Dtype  \n",
      "---  ------        --------------   -----  \n",
      " 0   id            104825 non-null  object \n",
      " 1   user_id       104825 non-null  int64  \n",
      " 2   session_date  104825 non-null  object \n",
      " 3   mb_used       104825 non-null  float64\n",
      "dtypes: float64(1), int64(1), object(2)\n",
      "memory usage: 3.2+ MB\n"
     ]
    },
    {
     "data": {
      "text/plain": [
       "None"
      ]
     },
     "metadata": {},
     "output_type": "display_data"
    },
    {
     "data": {
      "text/html": [
       "<div>\n",
       "<style scoped>\n",
       "    .dataframe tbody tr th:only-of-type {\n",
       "        vertical-align: middle;\n",
       "    }\n",
       "\n",
       "    .dataframe tbody tr th {\n",
       "        vertical-align: top;\n",
       "    }\n",
       "\n",
       "    .dataframe thead th {\n",
       "        text-align: right;\n",
       "    }\n",
       "</style>\n",
       "<table border=\"1\" class=\"dataframe\">\n",
       "  <thead>\n",
       "    <tr style=\"text-align: right;\">\n",
       "      <th></th>\n",
       "      <th>id</th>\n",
       "      <th>user_id</th>\n",
       "      <th>session_date</th>\n",
       "      <th>mb_used</th>\n",
       "    </tr>\n",
       "  </thead>\n",
       "  <tbody>\n",
       "    <tr>\n",
       "      <th>0</th>\n",
       "      <td>1000_13</td>\n",
       "      <td>1000</td>\n",
       "      <td>2018-12-29</td>\n",
       "      <td>89.86</td>\n",
       "    </tr>\n",
       "    <tr>\n",
       "      <th>1</th>\n",
       "      <td>1000_204</td>\n",
       "      <td>1000</td>\n",
       "      <td>2018-12-31</td>\n",
       "      <td>0.00</td>\n",
       "    </tr>\n",
       "    <tr>\n",
       "      <th>2</th>\n",
       "      <td>1000_379</td>\n",
       "      <td>1000</td>\n",
       "      <td>2018-12-28</td>\n",
       "      <td>660.40</td>\n",
       "    </tr>\n",
       "    <tr>\n",
       "      <th>3</th>\n",
       "      <td>1000_413</td>\n",
       "      <td>1000</td>\n",
       "      <td>2018-12-26</td>\n",
       "      <td>270.99</td>\n",
       "    </tr>\n",
       "    <tr>\n",
       "      <th>4</th>\n",
       "      <td>1000_442</td>\n",
       "      <td>1000</td>\n",
       "      <td>2018-12-27</td>\n",
       "      <td>880.22</td>\n",
       "    </tr>\n",
       "  </tbody>\n",
       "</table>\n",
       "</div>"
      ],
      "text/plain": [
       "         id  user_id session_date  mb_used\n",
       "0   1000_13     1000   2018-12-29    89.86\n",
       "1  1000_204     1000   2018-12-31     0.00\n",
       "2  1000_379     1000   2018-12-28   660.40\n",
       "3  1000_413     1000   2018-12-26   270.99\n",
       "4  1000_442     1000   2018-12-27   880.22"
      ]
     },
     "metadata": {},
     "output_type": "display_data"
    },
    {
     "data": {
      "text/html": [
       "<div>\n",
       "<style scoped>\n",
       "    .dataframe tbody tr th:only-of-type {\n",
       "        vertical-align: middle;\n",
       "    }\n",
       "\n",
       "    .dataframe tbody tr th {\n",
       "        vertical-align: top;\n",
       "    }\n",
       "\n",
       "    .dataframe thead th {\n",
       "        text-align: right;\n",
       "    }\n",
       "</style>\n",
       "<table border=\"1\" class=\"dataframe\">\n",
       "  <thead>\n",
       "    <tr style=\"text-align: right;\">\n",
       "      <th></th>\n",
       "      <th>id</th>\n",
       "      <th>user_id</th>\n",
       "      <th>session_date</th>\n",
       "      <th>mb_used</th>\n",
       "    </tr>\n",
       "  </thead>\n",
       "  <tbody>\n",
       "    <tr>\n",
       "      <th>104820</th>\n",
       "      <td>1499_215</td>\n",
       "      <td>1499</td>\n",
       "      <td>2018-10-20</td>\n",
       "      <td>218.06</td>\n",
       "    </tr>\n",
       "    <tr>\n",
       "      <th>104821</th>\n",
       "      <td>1499_216</td>\n",
       "      <td>1499</td>\n",
       "      <td>2018-12-30</td>\n",
       "      <td>304.72</td>\n",
       "    </tr>\n",
       "    <tr>\n",
       "      <th>104822</th>\n",
       "      <td>1499_217</td>\n",
       "      <td>1499</td>\n",
       "      <td>2018-09-22</td>\n",
       "      <td>292.75</td>\n",
       "    </tr>\n",
       "    <tr>\n",
       "      <th>104823</th>\n",
       "      <td>1499_218</td>\n",
       "      <td>1499</td>\n",
       "      <td>2018-12-07</td>\n",
       "      <td>0.00</td>\n",
       "    </tr>\n",
       "    <tr>\n",
       "      <th>104824</th>\n",
       "      <td>1499_219</td>\n",
       "      <td>1499</td>\n",
       "      <td>2018-12-24</td>\n",
       "      <td>758.31</td>\n",
       "    </tr>\n",
       "  </tbody>\n",
       "</table>\n",
       "</div>"
      ],
      "text/plain": [
       "              id  user_id session_date  mb_used\n",
       "104820  1499_215     1499   2018-10-20   218.06\n",
       "104821  1499_216     1499   2018-12-30   304.72\n",
       "104822  1499_217     1499   2018-09-22   292.75\n",
       "104823  1499_218     1499   2018-12-07     0.00\n",
       "104824  1499_219     1499   2018-12-24   758.31"
      ]
     },
     "metadata": {},
     "output_type": "display_data"
    },
    {
     "data": {
      "text/html": [
       "<div>\n",
       "<style scoped>\n",
       "    .dataframe tbody tr th:only-of-type {\n",
       "        vertical-align: middle;\n",
       "    }\n",
       "\n",
       "    .dataframe tbody tr th {\n",
       "        vertical-align: top;\n",
       "    }\n",
       "\n",
       "    .dataframe thead th {\n",
       "        text-align: right;\n",
       "    }\n",
       "</style>\n",
       "<table border=\"1\" class=\"dataframe\">\n",
       "  <thead>\n",
       "    <tr style=\"text-align: right;\">\n",
       "      <th></th>\n",
       "      <th>id</th>\n",
       "      <th>user_id</th>\n",
       "      <th>session_date</th>\n",
       "      <th>mb_used</th>\n",
       "    </tr>\n",
       "  </thead>\n",
       "  <tbody>\n",
       "    <tr>\n",
       "      <th>5338</th>\n",
       "      <td>1029_134</td>\n",
       "      <td>1029</td>\n",
       "      <td>2018-09-26</td>\n",
       "      <td>124.78</td>\n",
       "    </tr>\n",
       "  </tbody>\n",
       "</table>\n",
       "</div>"
      ],
      "text/plain": [
       "            id  user_id session_date  mb_used\n",
       "5338  1029_134     1029   2018-09-26   124.78"
      ]
     },
     "metadata": {},
     "output_type": "display_data"
    },
    {
     "data": {
      "text/html": [
       "<div>\n",
       "<style scoped>\n",
       "    .dataframe tbody tr th:only-of-type {\n",
       "        vertical-align: middle;\n",
       "    }\n",
       "\n",
       "    .dataframe tbody tr th {\n",
       "        vertical-align: top;\n",
       "    }\n",
       "\n",
       "    .dataframe thead th {\n",
       "        text-align: right;\n",
       "    }\n",
       "</style>\n",
       "<table border=\"1\" class=\"dataframe\">\n",
       "  <thead>\n",
       "    <tr style=\"text-align: right;\">\n",
       "      <th></th>\n",
       "      <th>user_id</th>\n",
       "      <th>mb_used</th>\n",
       "    </tr>\n",
       "  </thead>\n",
       "  <tbody>\n",
       "    <tr>\n",
       "      <th>count</th>\n",
       "      <td>104825.000000</td>\n",
       "      <td>104825.000000</td>\n",
       "    </tr>\n",
       "    <tr>\n",
       "      <th>mean</th>\n",
       "      <td>1242.496361</td>\n",
       "      <td>366.713701</td>\n",
       "    </tr>\n",
       "    <tr>\n",
       "      <th>std</th>\n",
       "      <td>142.053913</td>\n",
       "      <td>277.170542</td>\n",
       "    </tr>\n",
       "    <tr>\n",
       "      <th>min</th>\n",
       "      <td>1000.000000</td>\n",
       "      <td>0.000000</td>\n",
       "    </tr>\n",
       "    <tr>\n",
       "      <th>25%</th>\n",
       "      <td>1122.000000</td>\n",
       "      <td>136.080000</td>\n",
       "    </tr>\n",
       "    <tr>\n",
       "      <th>50%</th>\n",
       "      <td>1236.000000</td>\n",
       "      <td>343.980000</td>\n",
       "    </tr>\n",
       "    <tr>\n",
       "      <th>75%</th>\n",
       "      <td>1367.000000</td>\n",
       "      <td>554.610000</td>\n",
       "    </tr>\n",
       "    <tr>\n",
       "      <th>max</th>\n",
       "      <td>1499.000000</td>\n",
       "      <td>1693.470000</td>\n",
       "    </tr>\n",
       "  </tbody>\n",
       "</table>\n",
       "</div>"
      ],
      "text/plain": [
       "             user_id        mb_used\n",
       "count  104825.000000  104825.000000\n",
       "mean     1242.496361     366.713701\n",
       "std       142.053913     277.170542\n",
       "min      1000.000000       0.000000\n",
       "25%      1122.000000     136.080000\n",
       "50%      1236.000000     343.980000\n",
       "75%      1367.000000     554.610000\n",
       "max      1499.000000    1693.470000"
      ]
     },
     "metadata": {},
     "output_type": "display_data"
    }
   ],
   "source": [
    "# internet \n",
    "display(internet.info())\n",
    "display(internet.head())\n",
    "display(internet.tail())\n",
    "display(internet.sample())\n",
    "display(internet.describe())"
   ]
  },
  {
   "cell_type": "code",
   "execution_count": 5,
   "metadata": {},
   "outputs": [
    {
     "name": "stdout",
     "output_type": "stream",
     "text": [
      "<class 'pandas.core.frame.DataFrame'>\n",
      "RangeIndex: 76051 entries, 0 to 76050\n",
      "Data columns (total 3 columns):\n",
      " #   Column        Non-Null Count  Dtype \n",
      "---  ------        --------------  ----- \n",
      " 0   id            76051 non-null  object\n",
      " 1   user_id       76051 non-null  int64 \n",
      " 2   message_date  76051 non-null  object\n",
      "dtypes: int64(1), object(2)\n",
      "memory usage: 1.7+ MB\n"
     ]
    },
    {
     "data": {
      "text/plain": [
       "None"
      ]
     },
     "metadata": {},
     "output_type": "display_data"
    },
    {
     "data": {
      "text/html": [
       "<div>\n",
       "<style scoped>\n",
       "    .dataframe tbody tr th:only-of-type {\n",
       "        vertical-align: middle;\n",
       "    }\n",
       "\n",
       "    .dataframe tbody tr th {\n",
       "        vertical-align: top;\n",
       "    }\n",
       "\n",
       "    .dataframe thead th {\n",
       "        text-align: right;\n",
       "    }\n",
       "</style>\n",
       "<table border=\"1\" class=\"dataframe\">\n",
       "  <thead>\n",
       "    <tr style=\"text-align: right;\">\n",
       "      <th></th>\n",
       "      <th>id</th>\n",
       "      <th>user_id</th>\n",
       "      <th>message_date</th>\n",
       "    </tr>\n",
       "  </thead>\n",
       "  <tbody>\n",
       "    <tr>\n",
       "      <th>0</th>\n",
       "      <td>1000_125</td>\n",
       "      <td>1000</td>\n",
       "      <td>2018-12-27</td>\n",
       "    </tr>\n",
       "    <tr>\n",
       "      <th>1</th>\n",
       "      <td>1000_160</td>\n",
       "      <td>1000</td>\n",
       "      <td>2018-12-31</td>\n",
       "    </tr>\n",
       "    <tr>\n",
       "      <th>2</th>\n",
       "      <td>1000_223</td>\n",
       "      <td>1000</td>\n",
       "      <td>2018-12-31</td>\n",
       "    </tr>\n",
       "    <tr>\n",
       "      <th>3</th>\n",
       "      <td>1000_251</td>\n",
       "      <td>1000</td>\n",
       "      <td>2018-12-27</td>\n",
       "    </tr>\n",
       "    <tr>\n",
       "      <th>4</th>\n",
       "      <td>1000_255</td>\n",
       "      <td>1000</td>\n",
       "      <td>2018-12-26</td>\n",
       "    </tr>\n",
       "  </tbody>\n",
       "</table>\n",
       "</div>"
      ],
      "text/plain": [
       "         id  user_id message_date\n",
       "0  1000_125     1000   2018-12-27\n",
       "1  1000_160     1000   2018-12-31\n",
       "2  1000_223     1000   2018-12-31\n",
       "3  1000_251     1000   2018-12-27\n",
       "4  1000_255     1000   2018-12-26"
      ]
     },
     "metadata": {},
     "output_type": "display_data"
    },
    {
     "data": {
      "text/html": [
       "<div>\n",
       "<style scoped>\n",
       "    .dataframe tbody tr th:only-of-type {\n",
       "        vertical-align: middle;\n",
       "    }\n",
       "\n",
       "    .dataframe tbody tr th {\n",
       "        vertical-align: top;\n",
       "    }\n",
       "\n",
       "    .dataframe thead th {\n",
       "        text-align: right;\n",
       "    }\n",
       "</style>\n",
       "<table border=\"1\" class=\"dataframe\">\n",
       "  <thead>\n",
       "    <tr style=\"text-align: right;\">\n",
       "      <th></th>\n",
       "      <th>id</th>\n",
       "      <th>user_id</th>\n",
       "      <th>message_date</th>\n",
       "    </tr>\n",
       "  </thead>\n",
       "  <tbody>\n",
       "    <tr>\n",
       "      <th>76046</th>\n",
       "      <td>1497_526</td>\n",
       "      <td>1497</td>\n",
       "      <td>2018-12-24</td>\n",
       "    </tr>\n",
       "    <tr>\n",
       "      <th>76047</th>\n",
       "      <td>1497_536</td>\n",
       "      <td>1497</td>\n",
       "      <td>2018-12-24</td>\n",
       "    </tr>\n",
       "    <tr>\n",
       "      <th>76048</th>\n",
       "      <td>1497_547</td>\n",
       "      <td>1497</td>\n",
       "      <td>2018-12-31</td>\n",
       "    </tr>\n",
       "    <tr>\n",
       "      <th>76049</th>\n",
       "      <td>1497_558</td>\n",
       "      <td>1497</td>\n",
       "      <td>2018-12-24</td>\n",
       "    </tr>\n",
       "    <tr>\n",
       "      <th>76050</th>\n",
       "      <td>1497_613</td>\n",
       "      <td>1497</td>\n",
       "      <td>2018-12-23</td>\n",
       "    </tr>\n",
       "  </tbody>\n",
       "</table>\n",
       "</div>"
      ],
      "text/plain": [
       "             id  user_id message_date\n",
       "76046  1497_526     1497   2018-12-24\n",
       "76047  1497_536     1497   2018-12-24\n",
       "76048  1497_547     1497   2018-12-31\n",
       "76049  1497_558     1497   2018-12-24\n",
       "76050  1497_613     1497   2018-12-23"
      ]
     },
     "metadata": {},
     "output_type": "display_data"
    },
    {
     "data": {
      "text/html": [
       "<div>\n",
       "<style scoped>\n",
       "    .dataframe tbody tr th:only-of-type {\n",
       "        vertical-align: middle;\n",
       "    }\n",
       "\n",
       "    .dataframe tbody tr th {\n",
       "        vertical-align: top;\n",
       "    }\n",
       "\n",
       "    .dataframe thead th {\n",
       "        text-align: right;\n",
       "    }\n",
       "</style>\n",
       "<table border=\"1\" class=\"dataframe\">\n",
       "  <thead>\n",
       "    <tr style=\"text-align: right;\">\n",
       "      <th></th>\n",
       "      <th>id</th>\n",
       "      <th>user_id</th>\n",
       "      <th>message_date</th>\n",
       "    </tr>\n",
       "  </thead>\n",
       "  <tbody>\n",
       "    <tr>\n",
       "      <th>69864</th>\n",
       "      <td>1454_226</td>\n",
       "      <td>1454</td>\n",
       "      <td>2018-12-03</td>\n",
       "    </tr>\n",
       "  </tbody>\n",
       "</table>\n",
       "</div>"
      ],
      "text/plain": [
       "             id  user_id message_date\n",
       "69864  1454_226     1454   2018-12-03"
      ]
     },
     "metadata": {},
     "output_type": "display_data"
    },
    {
     "data": {
      "text/html": [
       "<div>\n",
       "<style scoped>\n",
       "    .dataframe tbody tr th:only-of-type {\n",
       "        vertical-align: middle;\n",
       "    }\n",
       "\n",
       "    .dataframe tbody tr th {\n",
       "        vertical-align: top;\n",
       "    }\n",
       "\n",
       "    .dataframe thead th {\n",
       "        text-align: right;\n",
       "    }\n",
       "</style>\n",
       "<table border=\"1\" class=\"dataframe\">\n",
       "  <thead>\n",
       "    <tr style=\"text-align: right;\">\n",
       "      <th></th>\n",
       "      <th>user_id</th>\n",
       "    </tr>\n",
       "  </thead>\n",
       "  <tbody>\n",
       "    <tr>\n",
       "      <th>count</th>\n",
       "      <td>76051.000000</td>\n",
       "    </tr>\n",
       "    <tr>\n",
       "      <th>mean</th>\n",
       "      <td>1245.972768</td>\n",
       "    </tr>\n",
       "    <tr>\n",
       "      <th>std</th>\n",
       "      <td>139.843635</td>\n",
       "    </tr>\n",
       "    <tr>\n",
       "      <th>min</th>\n",
       "      <td>1000.000000</td>\n",
       "    </tr>\n",
       "    <tr>\n",
       "      <th>25%</th>\n",
       "      <td>1123.000000</td>\n",
       "    </tr>\n",
       "    <tr>\n",
       "      <th>50%</th>\n",
       "      <td>1251.000000</td>\n",
       "    </tr>\n",
       "    <tr>\n",
       "      <th>75%</th>\n",
       "      <td>1362.000000</td>\n",
       "    </tr>\n",
       "    <tr>\n",
       "      <th>max</th>\n",
       "      <td>1497.000000</td>\n",
       "    </tr>\n",
       "  </tbody>\n",
       "</table>\n",
       "</div>"
      ],
      "text/plain": [
       "            user_id\n",
       "count  76051.000000\n",
       "mean    1245.972768\n",
       "std      139.843635\n",
       "min     1000.000000\n",
       "25%     1123.000000\n",
       "50%     1251.000000\n",
       "75%     1362.000000\n",
       "max     1497.000000"
      ]
     },
     "metadata": {},
     "output_type": "display_data"
    }
   ],
   "source": [
    "# messages \n",
    "display(messages.info())\n",
    "display(messages.head())\n",
    "display(messages.tail())\n",
    "display(messages.sample())\n",
    "display(messages.describe())"
   ]
  },
  {
   "cell_type": "code",
   "execution_count": 6,
   "metadata": {},
   "outputs": [
    {
     "name": "stdout",
     "output_type": "stream",
     "text": [
      "<class 'pandas.core.frame.DataFrame'>\n",
      "RangeIndex: 2 entries, 0 to 1\n",
      "Data columns (total 8 columns):\n",
      " #   Column                 Non-Null Count  Dtype  \n",
      "---  ------                 --------------  -----  \n",
      " 0   messages_included      2 non-null      int64  \n",
      " 1   mb_per_month_included  2 non-null      int64  \n",
      " 2   minutes_included       2 non-null      int64  \n",
      " 3   usd_monthly_pay        2 non-null      int64  \n",
      " 4   usd_per_gb             2 non-null      int64  \n",
      " 5   usd_per_message        2 non-null      float64\n",
      " 6   usd_per_minute         2 non-null      float64\n",
      " 7   plan_name              2 non-null      object \n",
      "dtypes: float64(2), int64(5), object(1)\n",
      "memory usage: 256.0+ bytes\n"
     ]
    },
    {
     "data": {
      "text/plain": [
       "None"
      ]
     },
     "metadata": {},
     "output_type": "display_data"
    },
    {
     "data": {
      "text/html": [
       "<div>\n",
       "<style scoped>\n",
       "    .dataframe tbody tr th:only-of-type {\n",
       "        vertical-align: middle;\n",
       "    }\n",
       "\n",
       "    .dataframe tbody tr th {\n",
       "        vertical-align: top;\n",
       "    }\n",
       "\n",
       "    .dataframe thead th {\n",
       "        text-align: right;\n",
       "    }\n",
       "</style>\n",
       "<table border=\"1\" class=\"dataframe\">\n",
       "  <thead>\n",
       "    <tr style=\"text-align: right;\">\n",
       "      <th></th>\n",
       "      <th>messages_included</th>\n",
       "      <th>mb_per_month_included</th>\n",
       "      <th>minutes_included</th>\n",
       "      <th>usd_monthly_pay</th>\n",
       "      <th>usd_per_gb</th>\n",
       "      <th>usd_per_message</th>\n",
       "      <th>usd_per_minute</th>\n",
       "      <th>plan_name</th>\n",
       "    </tr>\n",
       "  </thead>\n",
       "  <tbody>\n",
       "    <tr>\n",
       "      <th>0</th>\n",
       "      <td>50</td>\n",
       "      <td>15360</td>\n",
       "      <td>500</td>\n",
       "      <td>20</td>\n",
       "      <td>10</td>\n",
       "      <td>0.03</td>\n",
       "      <td>0.03</td>\n",
       "      <td>surf</td>\n",
       "    </tr>\n",
       "    <tr>\n",
       "      <th>1</th>\n",
       "      <td>1000</td>\n",
       "      <td>30720</td>\n",
       "      <td>3000</td>\n",
       "      <td>70</td>\n",
       "      <td>7</td>\n",
       "      <td>0.01</td>\n",
       "      <td>0.01</td>\n",
       "      <td>ultimate</td>\n",
       "    </tr>\n",
       "  </tbody>\n",
       "</table>\n",
       "</div>"
      ],
      "text/plain": [
       "   messages_included  mb_per_month_included  minutes_included  \\\n",
       "0                 50                  15360               500   \n",
       "1               1000                  30720              3000   \n",
       "\n",
       "   usd_monthly_pay  usd_per_gb  usd_per_message  usd_per_minute plan_name  \n",
       "0               20          10             0.03            0.03      surf  \n",
       "1               70           7             0.01            0.01  ultimate  "
      ]
     },
     "metadata": {},
     "output_type": "display_data"
    },
    {
     "data": {
      "text/html": [
       "<div>\n",
       "<style scoped>\n",
       "    .dataframe tbody tr th:only-of-type {\n",
       "        vertical-align: middle;\n",
       "    }\n",
       "\n",
       "    .dataframe tbody tr th {\n",
       "        vertical-align: top;\n",
       "    }\n",
       "\n",
       "    .dataframe thead th {\n",
       "        text-align: right;\n",
       "    }\n",
       "</style>\n",
       "<table border=\"1\" class=\"dataframe\">\n",
       "  <thead>\n",
       "    <tr style=\"text-align: right;\">\n",
       "      <th></th>\n",
       "      <th>messages_included</th>\n",
       "      <th>mb_per_month_included</th>\n",
       "      <th>minutes_included</th>\n",
       "      <th>usd_monthly_pay</th>\n",
       "      <th>usd_per_gb</th>\n",
       "      <th>usd_per_message</th>\n",
       "      <th>usd_per_minute</th>\n",
       "    </tr>\n",
       "  </thead>\n",
       "  <tbody>\n",
       "    <tr>\n",
       "      <th>count</th>\n",
       "      <td>2.000000</td>\n",
       "      <td>2.000000</td>\n",
       "      <td>2.000000</td>\n",
       "      <td>2.000000</td>\n",
       "      <td>2.00000</td>\n",
       "      <td>2.000000</td>\n",
       "      <td>2.000000</td>\n",
       "    </tr>\n",
       "    <tr>\n",
       "      <th>mean</th>\n",
       "      <td>525.000000</td>\n",
       "      <td>23040.000000</td>\n",
       "      <td>1750.000000</td>\n",
       "      <td>45.000000</td>\n",
       "      <td>8.50000</td>\n",
       "      <td>0.020000</td>\n",
       "      <td>0.020000</td>\n",
       "    </tr>\n",
       "    <tr>\n",
       "      <th>std</th>\n",
       "      <td>671.751442</td>\n",
       "      <td>10861.160159</td>\n",
       "      <td>1767.766953</td>\n",
       "      <td>35.355339</td>\n",
       "      <td>2.12132</td>\n",
       "      <td>0.014142</td>\n",
       "      <td>0.014142</td>\n",
       "    </tr>\n",
       "    <tr>\n",
       "      <th>min</th>\n",
       "      <td>50.000000</td>\n",
       "      <td>15360.000000</td>\n",
       "      <td>500.000000</td>\n",
       "      <td>20.000000</td>\n",
       "      <td>7.00000</td>\n",
       "      <td>0.010000</td>\n",
       "      <td>0.010000</td>\n",
       "    </tr>\n",
       "    <tr>\n",
       "      <th>25%</th>\n",
       "      <td>287.500000</td>\n",
       "      <td>19200.000000</td>\n",
       "      <td>1125.000000</td>\n",
       "      <td>32.500000</td>\n",
       "      <td>7.75000</td>\n",
       "      <td>0.015000</td>\n",
       "      <td>0.015000</td>\n",
       "    </tr>\n",
       "    <tr>\n",
       "      <th>50%</th>\n",
       "      <td>525.000000</td>\n",
       "      <td>23040.000000</td>\n",
       "      <td>1750.000000</td>\n",
       "      <td>45.000000</td>\n",
       "      <td>8.50000</td>\n",
       "      <td>0.020000</td>\n",
       "      <td>0.020000</td>\n",
       "    </tr>\n",
       "    <tr>\n",
       "      <th>75%</th>\n",
       "      <td>762.500000</td>\n",
       "      <td>26880.000000</td>\n",
       "      <td>2375.000000</td>\n",
       "      <td>57.500000</td>\n",
       "      <td>9.25000</td>\n",
       "      <td>0.025000</td>\n",
       "      <td>0.025000</td>\n",
       "    </tr>\n",
       "    <tr>\n",
       "      <th>max</th>\n",
       "      <td>1000.000000</td>\n",
       "      <td>30720.000000</td>\n",
       "      <td>3000.000000</td>\n",
       "      <td>70.000000</td>\n",
       "      <td>10.00000</td>\n",
       "      <td>0.030000</td>\n",
       "      <td>0.030000</td>\n",
       "    </tr>\n",
       "  </tbody>\n",
       "</table>\n",
       "</div>"
      ],
      "text/plain": [
       "       messages_included  mb_per_month_included  minutes_included  \\\n",
       "count           2.000000               2.000000          2.000000   \n",
       "mean          525.000000           23040.000000       1750.000000   \n",
       "std           671.751442           10861.160159       1767.766953   \n",
       "min            50.000000           15360.000000        500.000000   \n",
       "25%           287.500000           19200.000000       1125.000000   \n",
       "50%           525.000000           23040.000000       1750.000000   \n",
       "75%           762.500000           26880.000000       2375.000000   \n",
       "max          1000.000000           30720.000000       3000.000000   \n",
       "\n",
       "       usd_monthly_pay  usd_per_gb  usd_per_message  usd_per_minute  \n",
       "count         2.000000     2.00000         2.000000        2.000000  \n",
       "mean         45.000000     8.50000         0.020000        0.020000  \n",
       "std          35.355339     2.12132         0.014142        0.014142  \n",
       "min          20.000000     7.00000         0.010000        0.010000  \n",
       "25%          32.500000     7.75000         0.015000        0.015000  \n",
       "50%          45.000000     8.50000         0.020000        0.020000  \n",
       "75%          57.500000     9.25000         0.025000        0.025000  \n",
       "max          70.000000    10.00000         0.030000        0.030000  "
      ]
     },
     "metadata": {},
     "output_type": "display_data"
    }
   ],
   "source": [
    "# plans \n",
    "display(plans.info())\n",
    "display(plans.head())\n",
    "display(plans.describe())"
   ]
  },
  {
   "cell_type": "code",
   "execution_count": 7,
   "metadata": {},
   "outputs": [
    {
     "name": "stdout",
     "output_type": "stream",
     "text": [
      "<class 'pandas.core.frame.DataFrame'>\n",
      "RangeIndex: 500 entries, 0 to 499\n",
      "Data columns (total 8 columns):\n",
      " #   Column      Non-Null Count  Dtype \n",
      "---  ------      --------------  ----- \n",
      " 0   user_id     500 non-null    int64 \n",
      " 1   first_name  500 non-null    object\n",
      " 2   last_name   500 non-null    object\n",
      " 3   age         500 non-null    int64 \n",
      " 4   city        500 non-null    object\n",
      " 5   reg_date    500 non-null    object\n",
      " 6   plan        500 non-null    object\n",
      " 7   churn_date  34 non-null     object\n",
      "dtypes: int64(2), object(6)\n",
      "memory usage: 31.4+ KB\n"
     ]
    },
    {
     "data": {
      "text/plain": [
       "None"
      ]
     },
     "metadata": {},
     "output_type": "display_data"
    },
    {
     "data": {
      "text/html": [
       "<div>\n",
       "<style scoped>\n",
       "    .dataframe tbody tr th:only-of-type {\n",
       "        vertical-align: middle;\n",
       "    }\n",
       "\n",
       "    .dataframe tbody tr th {\n",
       "        vertical-align: top;\n",
       "    }\n",
       "\n",
       "    .dataframe thead th {\n",
       "        text-align: right;\n",
       "    }\n",
       "</style>\n",
       "<table border=\"1\" class=\"dataframe\">\n",
       "  <thead>\n",
       "    <tr style=\"text-align: right;\">\n",
       "      <th></th>\n",
       "      <th>user_id</th>\n",
       "      <th>first_name</th>\n",
       "      <th>last_name</th>\n",
       "      <th>age</th>\n",
       "      <th>city</th>\n",
       "      <th>reg_date</th>\n",
       "      <th>plan</th>\n",
       "      <th>churn_date</th>\n",
       "    </tr>\n",
       "  </thead>\n",
       "  <tbody>\n",
       "    <tr>\n",
       "      <th>0</th>\n",
       "      <td>1000</td>\n",
       "      <td>Anamaria</td>\n",
       "      <td>Bauer</td>\n",
       "      <td>45</td>\n",
       "      <td>Atlanta-Sandy Springs-Roswell, GA MSA</td>\n",
       "      <td>2018-12-24</td>\n",
       "      <td>ultimate</td>\n",
       "      <td>NaN</td>\n",
       "    </tr>\n",
       "    <tr>\n",
       "      <th>1</th>\n",
       "      <td>1001</td>\n",
       "      <td>Mickey</td>\n",
       "      <td>Wilkerson</td>\n",
       "      <td>28</td>\n",
       "      <td>Seattle-Tacoma-Bellevue, WA MSA</td>\n",
       "      <td>2018-08-13</td>\n",
       "      <td>surf</td>\n",
       "      <td>NaN</td>\n",
       "    </tr>\n",
       "    <tr>\n",
       "      <th>2</th>\n",
       "      <td>1002</td>\n",
       "      <td>Carlee</td>\n",
       "      <td>Hoffman</td>\n",
       "      <td>36</td>\n",
       "      <td>Las Vegas-Henderson-Paradise, NV MSA</td>\n",
       "      <td>2018-10-21</td>\n",
       "      <td>surf</td>\n",
       "      <td>NaN</td>\n",
       "    </tr>\n",
       "    <tr>\n",
       "      <th>3</th>\n",
       "      <td>1003</td>\n",
       "      <td>Reynaldo</td>\n",
       "      <td>Jenkins</td>\n",
       "      <td>52</td>\n",
       "      <td>Tulsa, OK MSA</td>\n",
       "      <td>2018-01-28</td>\n",
       "      <td>surf</td>\n",
       "      <td>NaN</td>\n",
       "    </tr>\n",
       "    <tr>\n",
       "      <th>4</th>\n",
       "      <td>1004</td>\n",
       "      <td>Leonila</td>\n",
       "      <td>Thompson</td>\n",
       "      <td>40</td>\n",
       "      <td>Seattle-Tacoma-Bellevue, WA MSA</td>\n",
       "      <td>2018-05-23</td>\n",
       "      <td>surf</td>\n",
       "      <td>NaN</td>\n",
       "    </tr>\n",
       "  </tbody>\n",
       "</table>\n",
       "</div>"
      ],
      "text/plain": [
       "   user_id first_name  last_name  age                                   city  \\\n",
       "0     1000   Anamaria      Bauer   45  Atlanta-Sandy Springs-Roswell, GA MSA   \n",
       "1     1001     Mickey  Wilkerson   28        Seattle-Tacoma-Bellevue, WA MSA   \n",
       "2     1002     Carlee    Hoffman   36   Las Vegas-Henderson-Paradise, NV MSA   \n",
       "3     1003   Reynaldo    Jenkins   52                          Tulsa, OK MSA   \n",
       "4     1004    Leonila   Thompson   40        Seattle-Tacoma-Bellevue, WA MSA   \n",
       "\n",
       "     reg_date      plan churn_date  \n",
       "0  2018-12-24  ultimate        NaN  \n",
       "1  2018-08-13      surf        NaN  \n",
       "2  2018-10-21      surf        NaN  \n",
       "3  2018-01-28      surf        NaN  \n",
       "4  2018-05-23      surf        NaN  "
      ]
     },
     "metadata": {},
     "output_type": "display_data"
    },
    {
     "data": {
      "text/html": [
       "<div>\n",
       "<style scoped>\n",
       "    .dataframe tbody tr th:only-of-type {\n",
       "        vertical-align: middle;\n",
       "    }\n",
       "\n",
       "    .dataframe tbody tr th {\n",
       "        vertical-align: top;\n",
       "    }\n",
       "\n",
       "    .dataframe thead th {\n",
       "        text-align: right;\n",
       "    }\n",
       "</style>\n",
       "<table border=\"1\" class=\"dataframe\">\n",
       "  <thead>\n",
       "    <tr style=\"text-align: right;\">\n",
       "      <th></th>\n",
       "      <th>user_id</th>\n",
       "      <th>first_name</th>\n",
       "      <th>last_name</th>\n",
       "      <th>age</th>\n",
       "      <th>city</th>\n",
       "      <th>reg_date</th>\n",
       "      <th>plan</th>\n",
       "      <th>churn_date</th>\n",
       "    </tr>\n",
       "  </thead>\n",
       "  <tbody>\n",
       "    <tr>\n",
       "      <th>495</th>\n",
       "      <td>1495</td>\n",
       "      <td>Fidel</td>\n",
       "      <td>Sharpe</td>\n",
       "      <td>67</td>\n",
       "      <td>New York-Newark-Jersey City, NY-NJ-PA MSA</td>\n",
       "      <td>2018-09-04</td>\n",
       "      <td>surf</td>\n",
       "      <td>NaN</td>\n",
       "    </tr>\n",
       "    <tr>\n",
       "      <th>496</th>\n",
       "      <td>1496</td>\n",
       "      <td>Ariel</td>\n",
       "      <td>Shepherd</td>\n",
       "      <td>49</td>\n",
       "      <td>New Orleans-Metairie, LA MSA</td>\n",
       "      <td>2018-02-20</td>\n",
       "      <td>surf</td>\n",
       "      <td>NaN</td>\n",
       "    </tr>\n",
       "    <tr>\n",
       "      <th>497</th>\n",
       "      <td>1497</td>\n",
       "      <td>Donte</td>\n",
       "      <td>Barrera</td>\n",
       "      <td>49</td>\n",
       "      <td>Los Angeles-Long Beach-Anaheim, CA MSA</td>\n",
       "      <td>2018-12-10</td>\n",
       "      <td>ultimate</td>\n",
       "      <td>NaN</td>\n",
       "    </tr>\n",
       "    <tr>\n",
       "      <th>498</th>\n",
       "      <td>1498</td>\n",
       "      <td>Scot</td>\n",
       "      <td>Williamson</td>\n",
       "      <td>51</td>\n",
       "      <td>New York-Newark-Jersey City, NY-NJ-PA MSA</td>\n",
       "      <td>2018-02-04</td>\n",
       "      <td>surf</td>\n",
       "      <td>NaN</td>\n",
       "    </tr>\n",
       "    <tr>\n",
       "      <th>499</th>\n",
       "      <td>1499</td>\n",
       "      <td>Shena</td>\n",
       "      <td>Dickson</td>\n",
       "      <td>37</td>\n",
       "      <td>Orlando-Kissimmee-Sanford, FL MSA</td>\n",
       "      <td>2018-05-06</td>\n",
       "      <td>surf</td>\n",
       "      <td>NaN</td>\n",
       "    </tr>\n",
       "  </tbody>\n",
       "</table>\n",
       "</div>"
      ],
      "text/plain": [
       "     user_id first_name   last_name  age  \\\n",
       "495     1495      Fidel      Sharpe   67   \n",
       "496     1496      Ariel    Shepherd   49   \n",
       "497     1497      Donte     Barrera   49   \n",
       "498     1498       Scot  Williamson   51   \n",
       "499     1499      Shena     Dickson   37   \n",
       "\n",
       "                                          city    reg_date      plan  \\\n",
       "495  New York-Newark-Jersey City, NY-NJ-PA MSA  2018-09-04      surf   \n",
       "496               New Orleans-Metairie, LA MSA  2018-02-20      surf   \n",
       "497     Los Angeles-Long Beach-Anaheim, CA MSA  2018-12-10  ultimate   \n",
       "498  New York-Newark-Jersey City, NY-NJ-PA MSA  2018-02-04      surf   \n",
       "499          Orlando-Kissimmee-Sanford, FL MSA  2018-05-06      surf   \n",
       "\n",
       "    churn_date  \n",
       "495        NaN  \n",
       "496        NaN  \n",
       "497        NaN  \n",
       "498        NaN  \n",
       "499        NaN  "
      ]
     },
     "metadata": {},
     "output_type": "display_data"
    },
    {
     "data": {
      "text/html": [
       "<div>\n",
       "<style scoped>\n",
       "    .dataframe tbody tr th:only-of-type {\n",
       "        vertical-align: middle;\n",
       "    }\n",
       "\n",
       "    .dataframe tbody tr th {\n",
       "        vertical-align: top;\n",
       "    }\n",
       "\n",
       "    .dataframe thead th {\n",
       "        text-align: right;\n",
       "    }\n",
       "</style>\n",
       "<table border=\"1\" class=\"dataframe\">\n",
       "  <thead>\n",
       "    <tr style=\"text-align: right;\">\n",
       "      <th></th>\n",
       "      <th>user_id</th>\n",
       "      <th>first_name</th>\n",
       "      <th>last_name</th>\n",
       "      <th>age</th>\n",
       "      <th>city</th>\n",
       "      <th>reg_date</th>\n",
       "      <th>plan</th>\n",
       "      <th>churn_date</th>\n",
       "    </tr>\n",
       "  </thead>\n",
       "  <tbody>\n",
       "    <tr>\n",
       "      <th>170</th>\n",
       "      <td>1170</td>\n",
       "      <td>Olin</td>\n",
       "      <td>Adkins</td>\n",
       "      <td>18</td>\n",
       "      <td>Pittsburgh, PA MSA</td>\n",
       "      <td>2018-09-25</td>\n",
       "      <td>surf</td>\n",
       "      <td>NaN</td>\n",
       "    </tr>\n",
       "  </tbody>\n",
       "</table>\n",
       "</div>"
      ],
      "text/plain": [
       "     user_id first_name last_name  age                city    reg_date  plan  \\\n",
       "170     1170       Olin    Adkins   18  Pittsburgh, PA MSA  2018-09-25  surf   \n",
       "\n",
       "    churn_date  \n",
       "170        NaN  "
      ]
     },
     "metadata": {},
     "output_type": "display_data"
    },
    {
     "data": {
      "text/html": [
       "<div>\n",
       "<style scoped>\n",
       "    .dataframe tbody tr th:only-of-type {\n",
       "        vertical-align: middle;\n",
       "    }\n",
       "\n",
       "    .dataframe tbody tr th {\n",
       "        vertical-align: top;\n",
       "    }\n",
       "\n",
       "    .dataframe thead th {\n",
       "        text-align: right;\n",
       "    }\n",
       "</style>\n",
       "<table border=\"1\" class=\"dataframe\">\n",
       "  <thead>\n",
       "    <tr style=\"text-align: right;\">\n",
       "      <th></th>\n",
       "      <th>user_id</th>\n",
       "      <th>age</th>\n",
       "    </tr>\n",
       "  </thead>\n",
       "  <tbody>\n",
       "    <tr>\n",
       "      <th>count</th>\n",
       "      <td>500.000000</td>\n",
       "      <td>500.000000</td>\n",
       "    </tr>\n",
       "    <tr>\n",
       "      <th>mean</th>\n",
       "      <td>1249.500000</td>\n",
       "      <td>45.486000</td>\n",
       "    </tr>\n",
       "    <tr>\n",
       "      <th>std</th>\n",
       "      <td>144.481833</td>\n",
       "      <td>16.972269</td>\n",
       "    </tr>\n",
       "    <tr>\n",
       "      <th>min</th>\n",
       "      <td>1000.000000</td>\n",
       "      <td>18.000000</td>\n",
       "    </tr>\n",
       "    <tr>\n",
       "      <th>25%</th>\n",
       "      <td>1124.750000</td>\n",
       "      <td>30.000000</td>\n",
       "    </tr>\n",
       "    <tr>\n",
       "      <th>50%</th>\n",
       "      <td>1249.500000</td>\n",
       "      <td>46.000000</td>\n",
       "    </tr>\n",
       "    <tr>\n",
       "      <th>75%</th>\n",
       "      <td>1374.250000</td>\n",
       "      <td>61.000000</td>\n",
       "    </tr>\n",
       "    <tr>\n",
       "      <th>max</th>\n",
       "      <td>1499.000000</td>\n",
       "      <td>75.000000</td>\n",
       "    </tr>\n",
       "  </tbody>\n",
       "</table>\n",
       "</div>"
      ],
      "text/plain": [
       "           user_id         age\n",
       "count   500.000000  500.000000\n",
       "mean   1249.500000   45.486000\n",
       "std     144.481833   16.972269\n",
       "min    1000.000000   18.000000\n",
       "25%    1124.750000   30.000000\n",
       "50%    1249.500000   46.000000\n",
       "75%    1374.250000   61.000000\n",
       "max    1499.000000   75.000000"
      ]
     },
     "metadata": {},
     "output_type": "display_data"
    }
   ],
   "source": [
    "# users \n",
    "display(users.info())\n",
    "display(users.head())\n",
    "display(users.tail())\n",
    "display(users.sample())\n",
    "display(users.describe())"
   ]
  },
  {
   "cell_type": "markdown",
   "metadata": {},
   "source": [
    "### Conclusion "
   ]
  },
  {
   "cell_type": "markdown",
   "metadata": {},
   "source": [
    "We have 5 datasets: \n",
    "\n",
    "1) 'users' which contains information on 500 Megaline's users: user's id, user's names, user's age, user's city of residence, user's subscription plan, date of subscription to the plan ('registration date'), and the date a user stopped using this plan. The latter one is missing in the most of cases (466 cases), so it means that the most of the users in the dataset are still using services with the given plan.  \n",
    "\n",
    "2) 'calls' which contains information on calls made by the users: call's id, user's id which made this call, call's duration and the date of a call. This dataset contains 137735 entries. \n",
    "\n",
    "3) 'internet' which contains information on the users' internet connection sessions: internet session' id, user's id which made this session, the session's date,  and the volume of internet traffic used during each of the session. This dataset contains 104825 entries. \n",
    "\n",
    "4) 'messages' which contains information on messages sent by the users: message'id, user's id which sent this message, and the date on which the message was sent. \n",
    "\n",
    "5) 'plans' which contains information on both of the subcription plans features: number of messages, minutes of calls communication, data volume included in monthly allowance of each of the plans, monthly paymnet rate, and also the rates of fees for exceeding data volume, text messages and minutes of calls with regard to the each of the plans. \n",
    "\n",
    "The information is divided into 5 datasets, but each of them contains information on user's id, so we can 'build' the whole picture with regard of each of the users: how each of users used Megaline services.  \n",
    "\n",
    "A first look at the given datasets let us conclude that there are some issues with the data. Some of the values are of inappropiate data types.  \n",
    "\n",
    "The values related to dates of:  \n",
    "- calls (the column 'call_date' in the dataset 'calls'), \n",
    "- internet connection sessions (the column 'session_date' in the dataset 'internet') \n",
    "- dates of messages (the column 'message_date' in the dataset 'messages'), \n",
    "- registration of users (the column 'reg_date' in the 'users' dataset),\n",
    "- end of subscription (the column 'churn_date' in the 'users' dataset) \n",
    "\n",
    "are of object type, while these values represent dates, so they should be converted into datetime format. \n",
    "\n",
    "We need to dig deeper into the data to check if there are other issues we need to resolve before analysing the given data. \n"
   ]
  },
  {
   "cell_type": "markdown",
   "metadata": {},
   "source": [
    "## Step 2: Data preprocessing "
   ]
  },
  {
   "cell_type": "code",
   "execution_count": 8,
   "metadata": {},
   "outputs": [],
   "source": [
    "# changing data types from 'object' to 'datetime'\n",
    "\n",
    "calls['call_date'] = pd.to_datetime(calls['call_date'], format = '%Y-%m-%d')\n",
    "internet['session_date'] = pd.to_datetime(internet['session_date'], format = '%Y-%m-%d')\n",
    "messages['message_date'] = pd.to_datetime(messages['message_date'], format = '%Y-%m-%d')\n",
    "users['reg_date'] = pd.to_datetime(users['reg_date'], format = '%Y-%m-%d')\n",
    "users['churn_date'] = pd.to_datetime(users['churn_date'], format = '%Y-%m-%d')\n"
   ]
  },
  {
   "cell_type": "code",
   "execution_count": 9,
   "metadata": {},
   "outputs": [
    {
     "name": "stdout",
     "output_type": "stream",
     "text": [
      "<class 'pandas.core.frame.DataFrame'>\n",
      "RangeIndex: 137735 entries, 0 to 137734\n",
      "Data columns (total 4 columns):\n",
      " #   Column     Non-Null Count   Dtype         \n",
      "---  ------     --------------   -----         \n",
      " 0   id         137735 non-null  object        \n",
      " 1   user_id    137735 non-null  int64         \n",
      " 2   call_date  137735 non-null  datetime64[ns]\n",
      " 3   duration   137735 non-null  float64       \n",
      "dtypes: datetime64[ns](1), float64(1), int64(1), object(1)\n",
      "memory usage: 4.2+ MB\n"
     ]
    },
    {
     "data": {
      "text/plain": [
       "None"
      ]
     },
     "metadata": {},
     "output_type": "display_data"
    },
    {
     "name": "stdout",
     "output_type": "stream",
     "text": [
      "<class 'pandas.core.frame.DataFrame'>\n",
      "RangeIndex: 104825 entries, 0 to 104824\n",
      "Data columns (total 4 columns):\n",
      " #   Column        Non-Null Count   Dtype         \n",
      "---  ------        --------------   -----         \n",
      " 0   id            104825 non-null  object        \n",
      " 1   user_id       104825 non-null  int64         \n",
      " 2   session_date  104825 non-null  datetime64[ns]\n",
      " 3   mb_used       104825 non-null  float64       \n",
      "dtypes: datetime64[ns](1), float64(1), int64(1), object(1)\n",
      "memory usage: 3.2+ MB\n"
     ]
    },
    {
     "data": {
      "text/plain": [
       "None"
      ]
     },
     "metadata": {},
     "output_type": "display_data"
    },
    {
     "name": "stdout",
     "output_type": "stream",
     "text": [
      "<class 'pandas.core.frame.DataFrame'>\n",
      "RangeIndex: 76051 entries, 0 to 76050\n",
      "Data columns (total 3 columns):\n",
      " #   Column        Non-Null Count  Dtype         \n",
      "---  ------        --------------  -----         \n",
      " 0   id            76051 non-null  object        \n",
      " 1   user_id       76051 non-null  int64         \n",
      " 2   message_date  76051 non-null  datetime64[ns]\n",
      "dtypes: datetime64[ns](1), int64(1), object(1)\n",
      "memory usage: 1.7+ MB\n"
     ]
    },
    {
     "data": {
      "text/plain": [
       "None"
      ]
     },
     "metadata": {},
     "output_type": "display_data"
    },
    {
     "name": "stdout",
     "output_type": "stream",
     "text": [
      "<class 'pandas.core.frame.DataFrame'>\n",
      "RangeIndex: 500 entries, 0 to 499\n",
      "Data columns (total 8 columns):\n",
      " #   Column      Non-Null Count  Dtype         \n",
      "---  ------      --------------  -----         \n",
      " 0   user_id     500 non-null    int64         \n",
      " 1   first_name  500 non-null    object        \n",
      " 2   last_name   500 non-null    object        \n",
      " 3   age         500 non-null    int64         \n",
      " 4   city        500 non-null    object        \n",
      " 5   reg_date    500 non-null    datetime64[ns]\n",
      " 6   plan        500 non-null    object        \n",
      " 7   churn_date  34 non-null     datetime64[ns]\n",
      "dtypes: datetime64[ns](2), int64(2), object(4)\n",
      "memory usage: 31.4+ KB\n"
     ]
    },
    {
     "data": {
      "text/plain": [
       "None"
      ]
     },
     "metadata": {},
     "output_type": "display_data"
    }
   ],
   "source": [
    "# checking the results\n",
    "display (calls.info())\n",
    "display (internet.info())\n",
    "display (messages.info())\n",
    "display (users.info())"
   ]
  },
  {
   "cell_type": "code",
   "execution_count": 10,
   "metadata": {},
   "outputs": [
    {
     "data": {
      "text/plain": [
       "array(['1000_93', '1000_145', '1000_247', ..., '1499_201', '1499_202',\n",
       "       '1499_203'], dtype=object)"
      ]
     },
     "execution_count": 10,
     "metadata": {},
     "output_type": "execute_result"
    }
   ],
   "source": [
    "# looking for errors in calls\n",
    "\n",
    "calls['id'].unique()"
   ]
  },
  {
   "cell_type": "code",
   "execution_count": 11,
   "metadata": {},
   "outputs": [
    {
     "data": {
      "text/plain": [
       "array([1000, 1001, 1002, 1003, 1004, 1005, 1006, 1007, 1008, 1009, 1010,\n",
       "       1011, 1012, 1013, 1014, 1015, 1016, 1017, 1018, 1019, 1020, 1021,\n",
       "       1022, 1023, 1024, 1026, 1027, 1028, 1029, 1030, 1031, 1032, 1033,\n",
       "       1034, 1035, 1036, 1037, 1038, 1039, 1040, 1041, 1042, 1043, 1044,\n",
       "       1045, 1046, 1047, 1048, 1049, 1050, 1051, 1052, 1053, 1054, 1055,\n",
       "       1056, 1057, 1058, 1059, 1060, 1061, 1062, 1063, 1064, 1065, 1066,\n",
       "       1067, 1068, 1069, 1070, 1071, 1072, 1073, 1074, 1075, 1076, 1077,\n",
       "       1078, 1079, 1081, 1082, 1083, 1084, 1085, 1086, 1087, 1088, 1090,\n",
       "       1091, 1092, 1093, 1094, 1095, 1096, 1097, 1098, 1099, 1100, 1101,\n",
       "       1102, 1103, 1104, 1105, 1106, 1107, 1109, 1110, 1111, 1112, 1113,\n",
       "       1114, 1115, 1116, 1117, 1118, 1119, 1120, 1122, 1123, 1124, 1125,\n",
       "       1126, 1127, 1128, 1130, 1132, 1133, 1134, 1135, 1136, 1138, 1139,\n",
       "       1140, 1141, 1142, 1144, 1145, 1146, 1147, 1148, 1149, 1150, 1151,\n",
       "       1152, 1153, 1154, 1155, 1156, 1157, 1158, 1159, 1160, 1161, 1162,\n",
       "       1163, 1164, 1165, 1166, 1167, 1168, 1169, 1170, 1171, 1172, 1173,\n",
       "       1174, 1175, 1176, 1177, 1178, 1179, 1180, 1181, 1182, 1183, 1184,\n",
       "       1185, 1186, 1187, 1188, 1189, 1190, 1191, 1192, 1193, 1195, 1196,\n",
       "       1197, 1198, 1199, 1200, 1201, 1202, 1203, 1205, 1206, 1207, 1208,\n",
       "       1209, 1210, 1211, 1212, 1213, 1214, 1215, 1216, 1217, 1218, 1219,\n",
       "       1220, 1221, 1222, 1223, 1224, 1225, 1226, 1227, 1228, 1229, 1230,\n",
       "       1231, 1232, 1233, 1234, 1235, 1236, 1237, 1238, 1239, 1240, 1241,\n",
       "       1242, 1243, 1244, 1245, 1246, 1247, 1248, 1249, 1250, 1251, 1252,\n",
       "       1253, 1254, 1255, 1256, 1257, 1258, 1259, 1260, 1261, 1262, 1263,\n",
       "       1264, 1265, 1266, 1267, 1268, 1270, 1271, 1272, 1273, 1274, 1276,\n",
       "       1277, 1278, 1279, 1280, 1281, 1282, 1283, 1284, 1285, 1286, 1287,\n",
       "       1288, 1289, 1290, 1291, 1292, 1293, 1294, 1295, 1296, 1297, 1298,\n",
       "       1299, 1300, 1301, 1302, 1303, 1304, 1305, 1306, 1308, 1309, 1310,\n",
       "       1311, 1312, 1313, 1314, 1315, 1316, 1317, 1318, 1320, 1321, 1322,\n",
       "       1323, 1324, 1325, 1326, 1327, 1328, 1329, 1330, 1331, 1332, 1333,\n",
       "       1334, 1335, 1336, 1337, 1338, 1339, 1340, 1341, 1342, 1343, 1344,\n",
       "       1345, 1346, 1347, 1348, 1350, 1351, 1352, 1353, 1354, 1355, 1356,\n",
       "       1357, 1358, 1359, 1360, 1361, 1362, 1363, 1364, 1365, 1366, 1367,\n",
       "       1368, 1369, 1370, 1371, 1372, 1373, 1374, 1375, 1376, 1377, 1379,\n",
       "       1380, 1381, 1382, 1383, 1384, 1385, 1386, 1387, 1388, 1389, 1390,\n",
       "       1391, 1392, 1393, 1394, 1395, 1396, 1397, 1398, 1399, 1400, 1401,\n",
       "       1402, 1403, 1404, 1405, 1406, 1407, 1408, 1409, 1410, 1411, 1412,\n",
       "       1413, 1414, 1415, 1416, 1417, 1418, 1419, 1420, 1421, 1422, 1423,\n",
       "       1424, 1425, 1426, 1427, 1428, 1429, 1430, 1431, 1432, 1433, 1434,\n",
       "       1435, 1436, 1437, 1438, 1439, 1440, 1441, 1442, 1443, 1444, 1445,\n",
       "       1446, 1447, 1448, 1449, 1450, 1451, 1452, 1453, 1454, 1455, 1456,\n",
       "       1457, 1458, 1459, 1460, 1461, 1462, 1464, 1465, 1466, 1467, 1468,\n",
       "       1469, 1470, 1471, 1472, 1474, 1475, 1476, 1477, 1478, 1479, 1480,\n",
       "       1481, 1482, 1483, 1484, 1485, 1486, 1487, 1488, 1489, 1490, 1491,\n",
       "       1492, 1493, 1494, 1495, 1496, 1497, 1498, 1499])"
      ]
     },
     "execution_count": 11,
     "metadata": {},
     "output_type": "execute_result"
    }
   ],
   "source": [
    "calls['user_id'].unique()"
   ]
  },
  {
   "cell_type": "code",
   "execution_count": 12,
   "metadata": {},
   "outputs": [
    {
     "data": {
      "text/plain": [
       "array(['2018-12-27T00:00:00.000000000', '2018-12-28T00:00:00.000000000',\n",
       "       '2018-12-30T00:00:00.000000000', '2018-12-31T00:00:00.000000000',\n",
       "       '2018-12-26T00:00:00.000000000', '2018-12-29T00:00:00.000000000',\n",
       "       '2018-09-06T00:00:00.000000000', '2018-10-12T00:00:00.000000000',\n",
       "       '2018-10-17T00:00:00.000000000', '2018-12-05T00:00:00.000000000',\n",
       "       '2018-12-13T00:00:00.000000000', '2018-12-04T00:00:00.000000000',\n",
       "       '2018-11-17T00:00:00.000000000', '2018-11-19T00:00:00.000000000',\n",
       "       '2018-11-09T00:00:00.000000000', '2018-12-24T00:00:00.000000000',\n",
       "       '2018-11-15T00:00:00.000000000', '2018-09-21T00:00:00.000000000',\n",
       "       '2018-10-27T00:00:00.000000000', '2018-10-28T00:00:00.000000000',\n",
       "       '2018-09-30T00:00:00.000000000', '2018-11-03T00:00:00.000000000',\n",
       "       '2018-11-25T00:00:00.000000000', '2018-12-21T00:00:00.000000000',\n",
       "       '2018-12-07T00:00:00.000000000', '2018-08-28T00:00:00.000000000',\n",
       "       '2018-12-01T00:00:00.000000000', '2018-11-08T00:00:00.000000000',\n",
       "       '2018-09-14T00:00:00.000000000', '2018-11-23T00:00:00.000000000',\n",
       "       '2018-10-24T00:00:00.000000000', '2018-12-11T00:00:00.000000000',\n",
       "       '2018-12-16T00:00:00.000000000', '2018-12-19T00:00:00.000000000',\n",
       "       '2018-12-20T00:00:00.000000000', '2018-12-10T00:00:00.000000000',\n",
       "       '2018-09-17T00:00:00.000000000', '2018-11-24T00:00:00.000000000',\n",
       "       '2018-10-14T00:00:00.000000000', '2018-10-04T00:00:00.000000000',\n",
       "       '2018-10-31T00:00:00.000000000', '2018-10-07T00:00:00.000000000',\n",
       "       '2018-09-24T00:00:00.000000000', '2018-10-16T00:00:00.000000000',\n",
       "       '2018-10-21T00:00:00.000000000', '2018-11-14T00:00:00.000000000',\n",
       "       '2018-08-17T00:00:00.000000000', '2018-09-15T00:00:00.000000000',\n",
       "       '2018-11-06T00:00:00.000000000', '2018-11-30T00:00:00.000000000',\n",
       "       '2018-08-16T00:00:00.000000000', '2018-09-16T00:00:00.000000000',\n",
       "       '2018-12-02T00:00:00.000000000', '2018-09-07T00:00:00.000000000',\n",
       "       '2018-09-28T00:00:00.000000000', '2018-11-11T00:00:00.000000000',\n",
       "       '2018-09-22T00:00:00.000000000', '2018-10-03T00:00:00.000000000',\n",
       "       '2018-11-04T00:00:00.000000000', '2018-10-30T00:00:00.000000000',\n",
       "       '2018-08-23T00:00:00.000000000', '2018-10-23T00:00:00.000000000',\n",
       "       '2018-11-10T00:00:00.000000000', '2018-08-24T00:00:00.000000000',\n",
       "       '2018-09-05T00:00:00.000000000', '2018-08-18T00:00:00.000000000',\n",
       "       '2018-09-18T00:00:00.000000000', '2018-08-14T00:00:00.000000000',\n",
       "       '2018-08-21T00:00:00.000000000', '2018-11-26T00:00:00.000000000',\n",
       "       '2018-12-08T00:00:00.000000000', '2018-09-03T00:00:00.000000000',\n",
       "       '2018-11-18T00:00:00.000000000', '2018-08-27T00:00:00.000000000',\n",
       "       '2018-11-29T00:00:00.000000000', '2018-11-21T00:00:00.000000000',\n",
       "       '2018-08-25T00:00:00.000000000', '2018-10-15T00:00:00.000000000',\n",
       "       '2018-09-12T00:00:00.000000000', '2018-11-07T00:00:00.000000000',\n",
       "       '2018-09-02T00:00:00.000000000', '2018-10-26T00:00:00.000000000',\n",
       "       '2018-09-23T00:00:00.000000000', '2018-10-05T00:00:00.000000000',\n",
       "       '2018-10-13T00:00:00.000000000', '2018-09-10T00:00:00.000000000',\n",
       "       '2018-09-04T00:00:00.000000000', '2018-11-05T00:00:00.000000000',\n",
       "       '2018-11-28T00:00:00.000000000', '2018-12-22T00:00:00.000000000',\n",
       "       '2018-11-20T00:00:00.000000000', '2018-11-16T00:00:00.000000000',\n",
       "       '2018-08-31T00:00:00.000000000', '2018-10-08T00:00:00.000000000',\n",
       "       '2018-08-20T00:00:00.000000000', '2018-11-13T00:00:00.000000000',\n",
       "       '2018-09-09T00:00:00.000000000', '2018-09-13T00:00:00.000000000',\n",
       "       '2018-09-27T00:00:00.000000000', '2018-09-20T00:00:00.000000000',\n",
       "       '2018-11-12T00:00:00.000000000', '2018-08-29T00:00:00.000000000',\n",
       "       '2018-12-23T00:00:00.000000000', '2018-09-11T00:00:00.000000000',\n",
       "       '2018-10-25T00:00:00.000000000', '2018-09-01T00:00:00.000000000',\n",
       "       '2018-12-09T00:00:00.000000000', '2018-10-02T00:00:00.000000000',\n",
       "       '2018-09-08T00:00:00.000000000', '2018-11-01T00:00:00.000000000',\n",
       "       '2018-10-11T00:00:00.000000000', '2018-11-22T00:00:00.000000000',\n",
       "       '2018-08-19T00:00:00.000000000', '2018-10-19T00:00:00.000000000',\n",
       "       '2018-12-15T00:00:00.000000000', '2018-11-02T00:00:00.000000000',\n",
       "       '2018-12-17T00:00:00.000000000', '2018-12-06T00:00:00.000000000',\n",
       "       '2018-11-27T00:00:00.000000000', '2018-10-29T00:00:00.000000000',\n",
       "       '2018-12-03T00:00:00.000000000', '2018-12-12T00:00:00.000000000',\n",
       "       '2018-12-25T00:00:00.000000000', '2018-12-14T00:00:00.000000000',\n",
       "       '2018-12-18T00:00:00.000000000', '2018-07-28T00:00:00.000000000',\n",
       "       '2018-06-13T00:00:00.000000000', '2018-09-25T00:00:00.000000000',\n",
       "       '2018-07-20T00:00:00.000000000', '2018-06-10T00:00:00.000000000',\n",
       "       '2018-08-04T00:00:00.000000000', '2018-05-27T00:00:00.000000000',\n",
       "       '2018-06-24T00:00:00.000000000', '2018-07-19T00:00:00.000000000',\n",
       "       '2018-10-01T00:00:00.000000000', '2018-08-26T00:00:00.000000000',\n",
       "       '2018-07-01T00:00:00.000000000', '2018-07-22T00:00:00.000000000',\n",
       "       '2018-07-15T00:00:00.000000000', '2018-06-16T00:00:00.000000000',\n",
       "       '2018-06-06T00:00:00.000000000', '2018-06-14T00:00:00.000000000',\n",
       "       '2018-07-10T00:00:00.000000000', '2018-07-13T00:00:00.000000000',\n",
       "       '2018-07-07T00:00:00.000000000', '2018-06-20T00:00:00.000000000',\n",
       "       '2018-10-06T00:00:00.000000000', '2018-05-31T00:00:00.000000000',\n",
       "       '2018-06-28T00:00:00.000000000', '2018-07-14T00:00:00.000000000',\n",
       "       '2018-07-16T00:00:00.000000000', '2018-07-21T00:00:00.000000000',\n",
       "       '2018-07-29T00:00:00.000000000', '2018-06-04T00:00:00.000000000',\n",
       "       '2018-06-03T00:00:00.000000000', '2018-08-22T00:00:00.000000000',\n",
       "       '2018-06-23T00:00:00.000000000', '2018-06-29T00:00:00.000000000',\n",
       "       '2018-05-24T00:00:00.000000000', '2018-06-22T00:00:00.000000000',\n",
       "       '2018-10-22T00:00:00.000000000', '2018-05-25T00:00:00.000000000',\n",
       "       '2018-05-26T00:00:00.000000000', '2018-05-28T00:00:00.000000000',\n",
       "       '2018-07-17T00:00:00.000000000', '2018-10-09T00:00:00.000000000',\n",
       "       '2018-08-13T00:00:00.000000000', '2018-08-08T00:00:00.000000000',\n",
       "       '2018-07-12T00:00:00.000000000', '2018-06-05T00:00:00.000000000',\n",
       "       '2018-06-08T00:00:00.000000000', '2018-05-29T00:00:00.000000000',\n",
       "       '2018-08-30T00:00:00.000000000', '2018-08-06T00:00:00.000000000',\n",
       "       '2018-06-02T00:00:00.000000000', '2018-08-09T00:00:00.000000000',\n",
       "       '2018-08-07T00:00:00.000000000', '2018-07-30T00:00:00.000000000',\n",
       "       '2018-08-11T00:00:00.000000000', '2018-10-20T00:00:00.000000000',\n",
       "       '2018-08-12T00:00:00.000000000', '2018-08-10T00:00:00.000000000',\n",
       "       '2018-07-09T00:00:00.000000000', '2018-07-23T00:00:00.000000000',\n",
       "       '2018-07-08T00:00:00.000000000', '2018-07-24T00:00:00.000000000',\n",
       "       '2018-06-12T00:00:00.000000000', '2018-06-11T00:00:00.000000000',\n",
       "       '2018-10-18T00:00:00.000000000', '2018-09-19T00:00:00.000000000',\n",
       "       '2018-06-19T00:00:00.000000000', '2018-07-06T00:00:00.000000000',\n",
       "       '2018-06-17T00:00:00.000000000', '2018-07-18T00:00:00.000000000',\n",
       "       '2018-06-25T00:00:00.000000000', '2018-05-30T00:00:00.000000000',\n",
       "       '2018-06-27T00:00:00.000000000', '2018-07-03T00:00:00.000000000',\n",
       "       '2018-08-15T00:00:00.000000000', '2018-06-21T00:00:00.000000000',\n",
       "       '2018-07-31T00:00:00.000000000', '2018-09-26T00:00:00.000000000',\n",
       "       '2018-08-05T00:00:00.000000000', '2018-06-07T00:00:00.000000000',\n",
       "       '2018-09-29T00:00:00.000000000', '2018-10-10T00:00:00.000000000',\n",
       "       '2018-05-12T00:00:00.000000000', '2018-06-09T00:00:00.000000000',\n",
       "       '2018-05-16T00:00:00.000000000', '2018-07-02T00:00:00.000000000',\n",
       "       '2018-07-11T00:00:00.000000000', '2018-08-03T00:00:00.000000000',\n",
       "       '2018-05-18T00:00:00.000000000', '2018-05-10T00:00:00.000000000',\n",
       "       '2018-07-26T00:00:00.000000000', '2018-08-02T00:00:00.000000000',\n",
       "       '2018-06-30T00:00:00.000000000', '2018-06-18T00:00:00.000000000',\n",
       "       '2018-07-05T00:00:00.000000000', '2018-05-13T00:00:00.000000000',\n",
       "       '2018-07-27T00:00:00.000000000', '2018-05-17T00:00:00.000000000',\n",
       "       '2018-05-23T00:00:00.000000000', '2018-05-15T00:00:00.000000000',\n",
       "       '2018-08-01T00:00:00.000000000', '2018-07-25T00:00:00.000000000',\n",
       "       '2018-05-11T00:00:00.000000000', '2018-05-14T00:00:00.000000000',\n",
       "       '2018-06-01T00:00:00.000000000', '2018-05-20T00:00:00.000000000',\n",
       "       '2018-06-15T00:00:00.000000000', '2018-06-26T00:00:00.000000000',\n",
       "       '2018-05-22T00:00:00.000000000', '2018-07-04T00:00:00.000000000',\n",
       "       '2018-05-21T00:00:00.000000000', '2018-05-19T00:00:00.000000000',\n",
       "       '2018-03-15T00:00:00.000000000', '2018-03-28T00:00:00.000000000',\n",
       "       '2018-04-06T00:00:00.000000000', '2018-04-08T00:00:00.000000000',\n",
       "       '2018-04-04T00:00:00.000000000', '2018-03-10T00:00:00.000000000',\n",
       "       '2018-04-13T00:00:00.000000000', '2018-05-06T00:00:00.000000000',\n",
       "       '2018-03-13T00:00:00.000000000', '2018-04-30T00:00:00.000000000',\n",
       "       '2018-03-12T00:00:00.000000000', '2018-04-02T00:00:00.000000000',\n",
       "       '2018-05-05T00:00:00.000000000', '2018-04-19T00:00:00.000000000',\n",
       "       '2018-03-27T00:00:00.000000000', '2018-03-29T00:00:00.000000000',\n",
       "       '2018-04-15T00:00:00.000000000', '2018-04-29T00:00:00.000000000',\n",
       "       '2018-04-28T00:00:00.000000000', '2018-04-12T00:00:00.000000000',\n",
       "       '2018-04-23T00:00:00.000000000', '2018-03-16T00:00:00.000000000',\n",
       "       '2018-03-22T00:00:00.000000000', '2018-04-11T00:00:00.000000000',\n",
       "       '2018-04-17T00:00:00.000000000', '2018-04-14T00:00:00.000000000',\n",
       "       '2018-04-16T00:00:00.000000000', '2018-03-31T00:00:00.000000000',\n",
       "       '2018-03-26T00:00:00.000000000', '2018-05-03T00:00:00.000000000',\n",
       "       '2018-03-23T00:00:00.000000000', '2018-04-09T00:00:00.000000000',\n",
       "       '2018-04-10T00:00:00.000000000', '2018-04-27T00:00:00.000000000',\n",
       "       '2018-05-08T00:00:00.000000000', '2018-04-18T00:00:00.000000000',\n",
       "       '2018-03-19T00:00:00.000000000', '2018-03-18T00:00:00.000000000',\n",
       "       '2018-03-24T00:00:00.000000000', '2018-03-17T00:00:00.000000000',\n",
       "       '2018-04-26T00:00:00.000000000', '2018-04-21T00:00:00.000000000',\n",
       "       '2018-05-04T00:00:00.000000000', '2018-05-09T00:00:00.000000000',\n",
       "       '2018-04-22T00:00:00.000000000', '2018-04-20T00:00:00.000000000',\n",
       "       '2018-04-25T00:00:00.000000000', '2018-04-07T00:00:00.000000000',\n",
       "       '2018-03-25T00:00:00.000000000', '2018-03-14T00:00:00.000000000',\n",
       "       '2018-03-11T00:00:00.000000000', '2018-03-30T00:00:00.000000000',\n",
       "       '2018-03-20T00:00:00.000000000', '2018-04-03T00:00:00.000000000',\n",
       "       '2018-04-01T00:00:00.000000000', '2018-04-05T00:00:00.000000000',\n",
       "       '2018-05-07T00:00:00.000000000', '2018-05-01T00:00:00.000000000',\n",
       "       '2018-03-21T00:00:00.000000000', '2018-03-04T00:00:00.000000000',\n",
       "       '2018-04-24T00:00:00.000000000', '2018-05-02T00:00:00.000000000',\n",
       "       '2018-03-09T00:00:00.000000000', '2018-03-06T00:00:00.000000000',\n",
       "       '2018-02-04T00:00:00.000000000', '2018-01-22T00:00:00.000000000',\n",
       "       '2018-01-29T00:00:00.000000000', '2018-01-19T00:00:00.000000000',\n",
       "       '2018-02-17T00:00:00.000000000', '2018-02-23T00:00:00.000000000',\n",
       "       '2018-02-16T00:00:00.000000000', '2018-02-25T00:00:00.000000000',\n",
       "       '2018-02-22T00:00:00.000000000', '2018-03-05T00:00:00.000000000',\n",
       "       '2018-02-01T00:00:00.000000000', '2018-03-08T00:00:00.000000000',\n",
       "       '2018-01-31T00:00:00.000000000', '2018-02-14T00:00:00.000000000',\n",
       "       '2018-02-24T00:00:00.000000000', '2018-01-27T00:00:00.000000000',\n",
       "       '2018-02-09T00:00:00.000000000', '2018-01-25T00:00:00.000000000',\n",
       "       '2018-01-17T00:00:00.000000000', '2018-02-03T00:00:00.000000000',\n",
       "       '2018-01-28T00:00:00.000000000', '2018-02-11T00:00:00.000000000',\n",
       "       '2018-02-08T00:00:00.000000000', '2018-02-13T00:00:00.000000000',\n",
       "       '2018-03-07T00:00:00.000000000', '2018-01-23T00:00:00.000000000',\n",
       "       '2018-02-15T00:00:00.000000000', '2018-01-16T00:00:00.000000000',\n",
       "       '2018-03-02T00:00:00.000000000', '2018-02-12T00:00:00.000000000',\n",
       "       '2018-02-07T00:00:00.000000000', '2018-02-05T00:00:00.000000000',\n",
       "       '2018-02-02T00:00:00.000000000', '2018-02-06T00:00:00.000000000',\n",
       "       '2018-02-27T00:00:00.000000000', '2018-01-30T00:00:00.000000000',\n",
       "       '2018-01-20T00:00:00.000000000', '2018-01-18T00:00:00.000000000',\n",
       "       '2018-03-03T00:00:00.000000000', '2018-01-15T00:00:00.000000000',\n",
       "       '2018-03-01T00:00:00.000000000', '2018-02-26T00:00:00.000000000',\n",
       "       '2018-02-10T00:00:00.000000000', '2018-02-19T00:00:00.000000000',\n",
       "       '2018-02-18T00:00:00.000000000', '2018-02-21T00:00:00.000000000',\n",
       "       '2018-01-24T00:00:00.000000000', '2018-02-20T00:00:00.000000000',\n",
       "       '2018-02-28T00:00:00.000000000', '2018-01-26T00:00:00.000000000',\n",
       "       '2018-01-21T00:00:00.000000000'], dtype='datetime64[ns]')"
      ]
     },
     "execution_count": 12,
     "metadata": {},
     "output_type": "execute_result"
    }
   ],
   "source": [
    "calls['call_date'].unique()"
   ]
  },
  {
   "cell_type": "code",
   "execution_count": 13,
   "metadata": {},
   "outputs": [
    {
     "data": {
      "image/png": "[encoded data removed]",
      "text/plain": [
       "<Figure size 432x288 with 1 Axes>"
      ]
     },
     "metadata": {
      "needs_background": "light"
     },
     "output_type": "display_data"
    }
   ],
   "source": [
    "# looking at the distribution of calls throughout of the year by plotting a histogram\n",
    "calls['call_date'].hist()\n",
    "plt.title (\"frequency of calls throughout of time\")\n",
    "plt.suptitle(\"\")\n",
    "plt.xlabel(\"dates of calls\")\n",
    "plt.ylabel(\"number of calls\")\n",
    "plt.show()"
   ]
  },
  {
   "cell_type": "markdown",
   "metadata": {},
   "source": [
    "The number of calls increased from the beginning to the end of the year"
   ]
  },
  {
   "cell_type": "code",
   "execution_count": 14,
   "metadata": {},
   "outputs": [
    {
     "data": {
      "text/plain": [
       "array([ 8.52, 13.66, 14.48, ..., 27.53, 22.57, 25.18])"
      ]
     },
     "execution_count": 14,
     "metadata": {},
     "output_type": "execute_result"
    }
   ],
   "source": [
    "calls['duration'].unique()"
   ]
  },
  {
   "cell_type": "code",
   "execution_count": 15,
   "metadata": {},
   "outputs": [
    {
     "data": {
      "text/plain": [
       "0.00     26834\n",
       "4.02       102\n",
       "8.37       102\n",
       "3.91       101\n",
       "4.30       100\n",
       "         ...  \n",
       "31.55        1\n",
       "24.95        1\n",
       "26.23        1\n",
       "29.56        1\n",
       "25.18        1\n",
       "Name: duration, Length: 2802, dtype: int64"
      ]
     },
     "execution_count": 15,
     "metadata": {},
     "output_type": "execute_result"
    }
   ],
   "source": [
    "calls['duration'].value_counts()"
   ]
  },
  {
   "cell_type": "code",
   "execution_count": 16,
   "metadata": {},
   "outputs": [
    {
     "data": {
      "text/plain": [
       "19.48233927469416"
      ]
     },
     "execution_count": 16,
     "metadata": {},
     "output_type": "execute_result"
    }
   ],
   "source": [
    "# finding percentage of values equal to 0 in 'duration' column of calls dataset\n",
    "report_calls = len(calls.query('duration == 0'))*100/len(calls)\n",
    "report_calls "
   ]
  },
  {
   "cell_type": "markdown",
   "metadata": {},
   "source": [
    "Removing 0 duration calls, because a call of 0 duration is a missed call, so there was no call in fact or there was a technical issue. "
   ]
  },
  {
   "cell_type": "code",
   "execution_count": 17,
   "metadata": {},
   "outputs": [],
   "source": [
    "calls = calls.query('duration != 0')"
   ]
  },
  {
   "cell_type": "code",
   "execution_count": 18,
   "metadata": {
    "scrolled": true
   },
   "outputs": [
    {
     "data": {
      "text/plain": [
       "8.37     102\n",
       "4.02     102\n",
       "3.91     101\n",
       "7.61     100\n",
       "4.30     100\n",
       "        ... \n",
       "31.55      1\n",
       "24.95      1\n",
       "26.23      1\n",
       "29.56      1\n",
       "25.18      1\n",
       "Name: duration, Length: 2801, dtype: int64"
      ]
     },
     "execution_count": 18,
     "metadata": {},
     "output_type": "execute_result"
    }
   ],
   "source": [
    "# checking the results\n",
    "calls['duration'].value_counts()"
   ]
  },
  {
   "cell_type": "code",
   "execution_count": 19,
   "metadata": {},
   "outputs": [
    {
     "data": {
      "image/png": "[encoded data removed]",
      "text/plain": [
       "<Figure size 432x288 with 1 Axes>"
      ]
     },
     "metadata": {
      "needs_background": "light"
     },
     "output_type": "display_data"
    }
   ],
   "source": [
    "# checking one more time the distribution of dates of call after removing the missed calls\n",
    "calls['call_date'].hist(bins=12)\n",
    "plt.title (\"frequency of calls throughout of time\")\n",
    "plt.suptitle(\"\")\n",
    "plt.xlabel(\"dates of calls\")\n",
    "plt.ylabel(\"number of calls\")\n",
    "plt.show()"
   ]
  },
  {
   "cell_type": "markdown",
   "metadata": {},
   "source": [
    "Nothing changed, we did it right, that we removed the missed calls"
   ]
  },
  {
   "cell_type": "code",
   "execution_count": 20,
   "metadata": {},
   "outputs": [
    {
     "data": {
      "text/plain": [
       "0"
      ]
     },
     "execution_count": 20,
     "metadata": {},
     "output_type": "execute_result"
    }
   ],
   "source": [
    "# checking for duplicates\n",
    "calls.duplicated().sum()"
   ]
  },
  {
   "cell_type": "markdown",
   "metadata": {},
   "source": [
    "Looking for errors in messages"
   ]
  },
  {
   "cell_type": "code",
   "execution_count": 21,
   "metadata": {},
   "outputs": [
    {
     "data": {
      "text/plain": [
       "1000_125    1\n",
       "1330_126    1\n",
       "1330_119    1\n",
       "1330_117    1\n",
       "1330_114    1\n",
       "           ..\n",
       "1151_192    1\n",
       "1151_191    1\n",
       "1151_190    1\n",
       "1151_189    1\n",
       "1497_613    1\n",
       "Name: id, Length: 76051, dtype: int64"
      ]
     },
     "execution_count": 21,
     "metadata": {},
     "output_type": "execute_result"
    }
   ],
   "source": [
    "messages['id'].value_counts()"
   ]
  },
  {
   "cell_type": "code",
   "execution_count": 22,
   "metadata": {},
   "outputs": [
    {
     "data": {
      "text/plain": [
       "array(['1000_125', '1000_160', '1000_223', ..., '1497_547', '1497_558',\n",
       "       '1497_613'], dtype=object)"
      ]
     },
     "execution_count": 22,
     "metadata": {},
     "output_type": "execute_result"
    }
   ],
   "source": [
    "messages['id'].unique()"
   ]
  },
  {
   "cell_type": "code",
   "execution_count": 23,
   "metadata": {},
   "outputs": [
    {
     "data": {
      "text/plain": [
       "1132    1288\n",
       "1328    1233\n",
       "1324    1175\n",
       "1470    1056\n",
       "1077     804\n",
       "        ... \n",
       "1477       3\n",
       "1190       3\n",
       "1161       2\n",
       "1323       1\n",
       "1479       1\n",
       "Name: user_id, Length: 402, dtype: int64"
      ]
     },
     "execution_count": 23,
     "metadata": {},
     "output_type": "execute_result"
    }
   ],
   "source": [
    "messages['user_id'].value_counts()"
   ]
  },
  {
   "cell_type": "code",
   "execution_count": 24,
   "metadata": {},
   "outputs": [
    {
     "data": {
      "text/plain": [
       "2018-12-28    702\n",
       "2018-12-27    701\n",
       "2018-12-31    699\n",
       "2018-12-25    699\n",
       "2018-12-18    688\n",
       "             ... \n",
       "2018-01-21      3\n",
       "2018-01-15      2\n",
       "2018-02-18      2\n",
       "2018-01-24      2\n",
       "2018-01-19      1\n",
       "Name: message_date, Length: 351, dtype: int64"
      ]
     },
     "execution_count": 24,
     "metadata": {},
     "output_type": "execute_result"
    }
   ],
   "source": [
    "messages['message_date'].value_counts()"
   ]
  },
  {
   "cell_type": "code",
   "execution_count": 25,
   "metadata": {},
   "outputs": [
    {
     "data": {
      "image/png": "[encoded data removed]",
      "text/plain": [
       "<Figure size 432x288 with 1 Axes>"
      ]
     },
     "metadata": {
      "needs_background": "light"
     },
     "output_type": "display_data"
    }
   ],
   "source": [
    "# looking at the distribution of messages throughout of the year by plotting a histogram\n",
    "messages['message_date'].hist(bins=25)\n",
    "plt.title (\"frequency of messages throughout of time\")\n",
    "plt.suptitle(\"\")\n",
    "plt.xlabel(\"dates of messages\")\n",
    "plt.ylabel(\"number of messages\")\n",
    "plt.show()\n"
   ]
  },
  {
   "cell_type": "markdown",
   "metadata": {},
   "source": [
    "Nothing is abnormal compare to the distribution of calls, the number of texts messages increased as well from the beginning to the end of the year with a small peak at the end of the year, which is normal: people send many messages in the end of december between the christmas and the new year eve. "
   ]
  },
  {
   "cell_type": "code",
   "execution_count": 26,
   "metadata": {},
   "outputs": [
    {
     "data": {
      "text/plain": [
       "0"
      ]
     },
     "execution_count": 26,
     "metadata": {},
     "output_type": "execute_result"
    }
   ],
   "source": [
    "# checking for duplicates \n",
    "messages.duplicated().sum()"
   ]
  },
  {
   "cell_type": "code",
   "execution_count": 27,
   "metadata": {},
   "outputs": [
    {
     "data": {
      "text/plain": [
       "array(['1000_13', '1000_204', '1000_379', ..., '1499_217', '1499_218',\n",
       "       '1499_219'], dtype=object)"
      ]
     },
     "execution_count": 27,
     "metadata": {},
     "output_type": "execute_result"
    }
   ],
   "source": [
    "internet['id'].unique()"
   ]
  },
  {
   "cell_type": "code",
   "execution_count": 28,
   "metadata": {},
   "outputs": [
    {
     "data": {
      "text/plain": [
       "1000_13     1\n",
       "1327_20     1\n",
       "1327_30     1\n",
       "1327_29     1\n",
       "1327_28     1\n",
       "           ..\n",
       "1157_26     1\n",
       "1157_25     1\n",
       "1157_24     1\n",
       "1157_23     1\n",
       "1499_219    1\n",
       "Name: id, Length: 104825, dtype: int64"
      ]
     },
     "execution_count": 28,
     "metadata": {},
     "output_type": "execute_result"
    }
   ],
   "source": [
    "internet['id'].value_counts()"
   ]
  },
  {
   "cell_type": "code",
   "execution_count": 29,
   "metadata": {},
   "outputs": [
    {
     "data": {
      "text/plain": [
       "1185    851\n",
       "1028    752\n",
       "1171    716\n",
       "1498    657\n",
       "1214    652\n",
       "       ... \n",
       "1323      3\n",
       "1034      2\n",
       "1108      2\n",
       "1306      1\n",
       "1452      1\n",
       "Name: user_id, Length: 489, dtype: int64"
      ]
     },
     "execution_count": 29,
     "metadata": {},
     "output_type": "execute_result"
    }
   ],
   "source": [
    "internet['user_id'].value_counts()"
   ]
  },
  {
   "cell_type": "code",
   "execution_count": 30,
   "metadata": {},
   "outputs": [
    {
     "data": {
      "text/plain": [
       "2018-12-24    851\n",
       "2018-12-30    845\n",
       "2018-12-27    830\n",
       "2018-12-21    826\n",
       "2018-12-31    823\n",
       "             ... \n",
       "2018-01-23      3\n",
       "2018-01-20      2\n",
       "2018-01-15      2\n",
       "2018-01-16      2\n",
       "2018-01-18      2\n",
       "Name: session_date, Length: 351, dtype: int64"
      ]
     },
     "execution_count": 30,
     "metadata": {},
     "output_type": "execute_result"
    }
   ],
   "source": [
    "internet['session_date'].value_counts()"
   ]
  },
  {
   "cell_type": "code",
   "execution_count": 31,
   "metadata": {},
   "outputs": [
    {
     "data": {
      "image/png": "[encoded data removed]",
      "text/plain": [
       "<Figure size 432x288 with 1 Axes>"
      ]
     },
     "metadata": {
      "needs_background": "light"
     },
     "output_type": "display_data"
    }
   ],
   "source": [
    "# looking at the distribution of internet sessions throughout of the year\n",
    "# by plotting a histogram\n",
    "\n",
    "internet['session_date'].hist()\n",
    "plt.title (\"frequency of internet sessions throughout of time\")\n",
    "plt.suptitle(\"\")\n",
    "plt.xlabel(\"dates of internet sessions\")\n",
    "plt.ylabel(\"number of sessions\")\n",
    "plt.show()\n"
   ]
  },
  {
   "cell_type": "markdown",
   "metadata": {},
   "source": [
    "Nothing is abnormal compare to the distribution of calls and messages, the number of internet sessions increased from the beginning to the end of the year with a small peak at the end of the year, which is normal: people send many messages using internet services in the end of december between the christmas and the new year eve."
   ]
  },
  {
   "cell_type": "code",
   "execution_count": 32,
   "metadata": {},
   "outputs": [
    {
     "data": {
      "text/plain": [
       "0.00      13747\n",
       "435.77        8\n",
       "414.46        8\n",
       "423.06        7\n",
       "417.46        7\n",
       "          ...  \n",
       "814.65        1\n",
       "168.15        1\n",
       "102.41        1\n",
       "449.36        1\n",
       "758.31        1\n",
       "Name: mb_used, Length: 57624, dtype: int64"
      ]
     },
     "execution_count": 32,
     "metadata": {},
     "output_type": "execute_result"
    }
   ],
   "source": [
    "internet['mb_used'].value_counts()"
   ]
  },
  {
   "cell_type": "code",
   "execution_count": 92,
   "metadata": {},
   "outputs": [
    {
     "data": {
      "text/plain": [
       "'13.11'"
      ]
     },
     "execution_count": 92,
     "metadata": {},
     "output_type": "execute_result"
    }
   ],
   "source": [
    "# finding percentage of values equal to 0 in 'mb_used' column in internet dataset\n",
    "report_internet = len(internet.query('mb_used == 0'))*100/len(internet)\n",
    "'{:.2f}'.format(report_internet)"
   ]
  },
  {
   "cell_type": "code",
   "execution_count": 34,
   "metadata": {},
   "outputs": [
    {
     "data": {
      "text/plain": [
       "0"
      ]
     },
     "execution_count": 34,
     "metadata": {},
     "output_type": "execute_result"
    }
   ],
   "source": [
    "internet.duplicated().sum()"
   ]
  },
  {
   "cell_type": "code",
   "execution_count": 35,
   "metadata": {},
   "outputs": [],
   "source": [
    "# looking for errors in 'users'"
   ]
  },
  {
   "cell_type": "code",
   "execution_count": 36,
   "metadata": {},
   "outputs": [
    {
     "data": {
      "text/plain": [
       "1000    1\n",
       "1329    1\n",
       "1342    1\n",
       "1341    1\n",
       "1340    1\n",
       "       ..\n",
       "1161    1\n",
       "1160    1\n",
       "1159    1\n",
       "1158    1\n",
       "1499    1\n",
       "Name: user_id, Length: 500, dtype: int64"
      ]
     },
     "execution_count": 36,
     "metadata": {},
     "output_type": "execute_result"
    }
   ],
   "source": [
    "users['user_id'].value_counts()"
   ]
  },
  {
   "cell_type": "code",
   "execution_count": 37,
   "metadata": {},
   "outputs": [
    {
     "data": {
      "text/plain": [
       "Leonila     3\n",
       "Jasper      3\n",
       "Seymour     3\n",
       "Lucius      2\n",
       "Errol       2\n",
       "           ..\n",
       "Olin        1\n",
       "Hai         1\n",
       "Shay        1\n",
       "Rebbecca    1\n",
       "Shena       1\n",
       "Name: first_name, Length: 458, dtype: int64"
      ]
     },
     "execution_count": 37,
     "metadata": {},
     "output_type": "execute_result"
    }
   ],
   "source": [
    "users['first_name'].value_counts()"
   ]
  },
  {
   "cell_type": "code",
   "execution_count": 38,
   "metadata": {},
   "outputs": [
    {
     "data": {
      "text/plain": [
       "David        3\n",
       "Morrison     3\n",
       "Grimes       3\n",
       "Kelley       3\n",
       "Velazquez    3\n",
       "            ..\n",
       "Cain         1\n",
       "Robinson     1\n",
       "Adkins       1\n",
       "Bean         1\n",
       "Dickson      1\n",
       "Name: last_name, Length: 399, dtype: int64"
      ]
     },
     "execution_count": 38,
     "metadata": {},
     "output_type": "execute_result"
    }
   ],
   "source": [
    "users['last_name'].value_counts()"
   ]
  },
  {
   "cell_type": "code",
   "execution_count": 39,
   "metadata": {},
   "outputs": [
    {
     "data": {
      "text/plain": [
       "18    15\n",
       "70    14\n",
       "69    14\n",
       "61    14\n",
       "27    14\n",
       "20    13\n",
       "28    13\n",
       "33    12\n",
       "30    12\n",
       "47    11\n",
       "39    11\n",
       "67    11\n",
       "51    11\n",
       "52    11\n",
       "65    11\n",
       "64    10\n",
       "46    10\n",
       "29    10\n",
       "49    10\n",
       "45    10\n",
       "75    10\n",
       "36    10\n",
       "34    10\n",
       "42    10\n",
       "26    10\n",
       "53    10\n",
       "56     9\n",
       "66     9\n",
       "60     9\n",
       "23     9\n",
       "59     8\n",
       "21     8\n",
       "44     8\n",
       "19     8\n",
       "41     7\n",
       "25     7\n",
       "38     7\n",
       "57     7\n",
       "22     7\n",
       "48     7\n",
       "50     6\n",
       "40     6\n",
       "54     6\n",
       "31     6\n",
       "35     6\n",
       "37     6\n",
       "24     6\n",
       "63     6\n",
       "71     6\n",
       "55     6\n",
       "74     6\n",
       "58     5\n",
       "73     5\n",
       "72     4\n",
       "32     4\n",
       "62     4\n",
       "43     3\n",
       "68     2\n",
       "Name: age, dtype: int64"
      ]
     },
     "execution_count": 39,
     "metadata": {},
     "output_type": "execute_result"
    }
   ],
   "source": [
    "users['age'].value_counts()"
   ]
  },
  {
   "cell_type": "code",
   "execution_count": 40,
   "metadata": {},
   "outputs": [
    {
     "data": {
      "text/plain": [
       "New York-Newark-Jersey City, NY-NJ-PA MSA          80\n",
       "Los Angeles-Long Beach-Anaheim, CA MSA             29\n",
       "Dallas-Fort Worth-Arlington, TX MSA                21\n",
       "Chicago-Naperville-Elgin, IL-IN-WI MSA             19\n",
       "Philadelphia-Camden-Wilmington, PA-NJ-DE-MD MSA    17\n",
       "                                                   ..\n",
       "Raleigh-Cary, NC MSA                                1\n",
       "El Paso, TX MSA                                     1\n",
       "Greensboro-High Point, NC MSA                       1\n",
       "Stockton, CA MSA                                    1\n",
       "Cape Coral-Fort Myers, FL MSA                       1\n",
       "Name: city, Length: 73, dtype: int64"
      ]
     },
     "execution_count": 40,
     "metadata": {},
     "output_type": "execute_result"
    }
   ],
   "source": [
    "users['city'].value_counts()"
   ]
  },
  {
   "cell_type": "code",
   "execution_count": 41,
   "metadata": {},
   "outputs": [
    {
     "data": {
      "text/plain": [
       "array(['Atlanta-Sandy Springs-Roswell, GA MSA',\n",
       "       'Seattle-Tacoma-Bellevue, WA MSA',\n",
       "       'Las Vegas-Henderson-Paradise, NV MSA', 'Tulsa, OK MSA',\n",
       "       'Dallas-Fort Worth-Arlington, TX MSA',\n",
       "       'San Francisco-Oakland-Berkeley, CA MSA',\n",
       "       'Grand Rapids-Kentwood, MI MSA',\n",
       "       'Orlando-Kissimmee-Sanford, FL MSA',\n",
       "       'San Jose-Sunnyvale-Santa Clara, CA MSA',\n",
       "       'Cleveland-Elyria, OH MSA',\n",
       "       'Chicago-Naperville-Elgin, IL-IN-WI MSA', 'Knoxville, TN MSA',\n",
       "       'New York-Newark-Jersey City, NY-NJ-PA MSA', 'Pittsburgh, PA MSA',\n",
       "       'Fresno, CA MSA',\n",
       "       'Washington-Arlington-Alexandria, DC-VA-MD-WV MSA',\n",
       "       'Indianapolis-Carmel-Anderson, IN MSA', 'Jacksonville, FL MSA',\n",
       "       'Los Angeles-Long Beach-Anaheim, CA MSA',\n",
       "       'Omaha-Council Bluffs, NE-IA MSA',\n",
       "       'Houston-The Woodlands-Sugar Land, TX MSA',\n",
       "       'Philadelphia-Camden-Wilmington, PA-NJ-DE-MD MSA',\n",
       "       'Tampa-St. Petersburg-Clearwater, FL MSA',\n",
       "       'Birmingham-Hoover, AL MSA', 'Oklahoma City, OK MSA',\n",
       "       'Charlotte-Concord-Gastonia, NC-SC MSA',\n",
       "       'Denver-Aurora-Lakewood, CO MSA',\n",
       "       'Nashville-Davidson–Murfreesboro–Franklin, TN MSA',\n",
       "       'Columbus, OH MSA', 'Albuquerque, NM MSA',\n",
       "       'Boston-Cambridge-Newton, MA-NH MSA',\n",
       "       'Miami-Fort Lauderdale-West Palm Beach, FL MSA',\n",
       "       'San Diego-Chula Vista-Carlsbad, CA MSA',\n",
       "       'Phoenix-Mesa-Chandler, AZ MSA',\n",
       "       'Portland-Vancouver-Hillsboro, OR-WA MSA',\n",
       "       'Cincinnati, OH-KY-IN MSA', 'Columbia, SC MSA',\n",
       "       'San Antonio-New Braunfels, TX MSA', 'Buffalo-Cheektowaga, NY MSA',\n",
       "       'Memphis, TN-MS-AR MSA',\n",
       "       'Riverside-San Bernardino-Ontario, CA MSA',\n",
       "       'Louisville/Jefferson County, KY-IN MSA',\n",
       "       'Albany-Schenectady-Troy, NY MSA', 'Providence-Warwick, RI-MA MSA',\n",
       "       'Salt Lake City, UT MSA', 'Urban Honolulu, HI MSA',\n",
       "       'El Paso, TX MSA', 'New Haven-Milford, CT MSA',\n",
       "       'North Port-Sarasota-Bradenton, FL MSA', 'Baton Rouge, LA MSA',\n",
       "       'New Orleans-Metairie, LA MSA',\n",
       "       'Bridgeport-Stamford-Norwalk, CT MSA',\n",
       "       'Virginia Beach-Norfolk-Newport News, VA-NC MSA',\n",
       "       'Baltimore-Columbia-Towson, MD MSA', 'Milwaukee-Waukesha, WI MSA',\n",
       "       'Oxnard-Thousand Oaks-Ventura, CA MSA',\n",
       "       'Sacramento–Roseville–Folsom, CA MSA',\n",
       "       'Austin-Round Rock-Georgetown, TX MSA', 'Richmond, VA MSA',\n",
       "       'St. Louis, MO-IL MSA',\n",
       "       'Minneapolis-St. Paul-Bloomington, MN-WI MSA',\n",
       "       'Dayton-Kettering, OH MSA', 'Bakersfield, CA MSA',\n",
       "       'Detroit-Warren-Dearborn, MI MSA', 'Kansas City, MO-KS MSA',\n",
       "       'Charleston-North Charleston, SC MSA', 'Rochester, NY MSA',\n",
       "       'Raleigh-Cary, NC MSA', 'Colorado Springs, CO MSA',\n",
       "       'Greensboro-High Point, NC MSA', 'Tucson, AZ MSA',\n",
       "       'Stockton, CA MSA', 'Cape Coral-Fort Myers, FL MSA'], dtype=object)"
      ]
     },
     "execution_count": 41,
     "metadata": {},
     "output_type": "execute_result"
    }
   ],
   "source": [
    "users['city'].unique()"
   ]
  },
  {
   "cell_type": "code",
   "execution_count": 42,
   "metadata": {},
   "outputs": [
    {
     "data": {
      "text/plain": [
       "2018-03-08    5\n",
       "2018-11-29    5\n",
       "2018-02-06    5\n",
       "2018-08-03    5\n",
       "2018-07-12    5\n",
       "             ..\n",
       "2018-09-28    1\n",
       "2018-11-09    1\n",
       "2018-04-13    1\n",
       "2018-05-29    1\n",
       "2018-02-04    1\n",
       "Name: reg_date, Length: 266, dtype: int64"
      ]
     },
     "execution_count": 42,
     "metadata": {},
     "output_type": "execute_result"
    }
   ],
   "source": [
    "users['reg_date'].value_counts()"
   ]
  },
  {
   "cell_type": "code",
   "execution_count": 43,
   "metadata": {},
   "outputs": [
    {
     "data": {
      "image/png": "[encoded data removed]",
      "text/plain": [
       "<Figure size 432x288 with 1 Axes>"
      ]
     },
     "metadata": {
      "needs_background": "light"
     },
     "output_type": "display_data"
    }
   ],
   "source": [
    "# looking at the distribution of dates of subsriptions throughout of the year \n",
    "# by plotting a histogram\n",
    "users['reg_date'].hist(bins = 12)\n",
    "plt.title (\"frequency of subscriptions throughout of time\")\n",
    "plt.suptitle(\"\")\n",
    "plt.xlabel(\"dates of subcriptions\")\n",
    "plt.ylabel(\"number of subcriptions\")\n",
    "plt.show()"
   ]
  },
  {
   "cell_type": "markdown",
   "metadata": {},
   "source": [
    "There's nothing abnormal: the subscriptions distributed almost proportionally throughtout of the year with a small peak in july and slight decrease in the end of the year this also proves that there's nothing strange in the distribution the calls, internet sessions and text messages throughout of the year:the more new users, the more use of services"
   ]
  },
  {
   "cell_type": "code",
   "execution_count": 44,
   "metadata": {},
   "outputs": [
    {
     "data": {
      "text/plain": [
       "2018-12-18    3\n",
       "2018-12-31    2\n",
       "2018-11-14    2\n",
       "2018-12-19    2\n",
       "2018-12-15    1\n",
       "2018-11-18    1\n",
       "2018-09-17    1\n",
       "2018-12-10    1\n",
       "2018-08-19    1\n",
       "2018-11-21    1\n",
       "2018-09-01    1\n",
       "2018-12-26    1\n",
       "2018-08-16    1\n",
       "2018-10-22    1\n",
       "2018-10-03    1\n",
       "2018-10-13    1\n",
       "2018-07-31    1\n",
       "2018-11-16    1\n",
       "2018-11-30    1\n",
       "2018-12-22    1\n",
       "2018-11-29    1\n",
       "2018-12-27    1\n",
       "2018-12-12    1\n",
       "2018-11-11    1\n",
       "2018-11-24    1\n",
       "2018-10-07    1\n",
       "2018-12-30    1\n",
       "2018-09-07    1\n",
       "2018-09-18    1\n",
       "Name: churn_date, dtype: int64"
      ]
     },
     "execution_count": 44,
     "metadata": {},
     "output_type": "execute_result"
    }
   ],
   "source": [
    "users['churn_date'].value_counts()"
   ]
  },
  {
   "cell_type": "code",
   "execution_count": 45,
   "metadata": {},
   "outputs": [
    {
     "data": {
      "text/html": [
       "<div>\n",
       "<style scoped>\n",
       "    .dataframe tbody tr th:only-of-type {\n",
       "        vertical-align: middle;\n",
       "    }\n",
       "\n",
       "    .dataframe tbody tr th {\n",
       "        vertical-align: top;\n",
       "    }\n",
       "\n",
       "    .dataframe thead th {\n",
       "        text-align: right;\n",
       "    }\n",
       "</style>\n",
       "<table border=\"1\" class=\"dataframe\">\n",
       "  <thead>\n",
       "    <tr style=\"text-align: right;\">\n",
       "      <th></th>\n",
       "      <th>user_id</th>\n",
       "      <th>first_name</th>\n",
       "      <th>last_name</th>\n",
       "      <th>age</th>\n",
       "      <th>city</th>\n",
       "      <th>reg_date</th>\n",
       "      <th>plan</th>\n",
       "      <th>churn_date</th>\n",
       "    </tr>\n",
       "  </thead>\n",
       "  <tbody>\n",
       "  </tbody>\n",
       "</table>\n",
       "</div>"
      ],
      "text/plain": [
       "Empty DataFrame\n",
       "Columns: [user_id, first_name, last_name, age, city, reg_date, plan, churn_date]\n",
       "Index: []"
      ]
     },
     "execution_count": 45,
     "metadata": {},
     "output_type": "execute_result"
    }
   ],
   "source": [
    "users.query('churn_date < reg_date')"
   ]
  },
  {
   "cell_type": "code",
   "execution_count": 46,
   "metadata": {},
   "outputs": [
    {
     "data": {
      "image/png": "[encoded data removed]",
      "text/plain": [
       "<Figure size 432x288 with 1 Axes>"
      ]
     },
     "metadata": {
      "needs_background": "light"
     },
     "output_type": "display_data"
    }
   ],
   "source": [
    "# looking at the distribution of dates of subsriptions throughout of the year \n",
    "# by plotting a histogram\n",
    "users['churn_date'].hist()\n",
    "plt.title (\"frequency of subscription cancellations throughout of time\")\n",
    "plt.suptitle(\"\")\n",
    "plt.xlabel(\"dates of subcriptions\")\n",
    "plt.ylabel(\"number of subcriptions\")\n",
    "plt.show()\n"
   ]
  },
  {
   "cell_type": "markdown",
   "metadata": {},
   "source": [
    "Nothing is special: there's a peak at the end of the year, which may be explained by the fact that people change the telecomunicattions carrier/ subscription plan with a purchase of a new mobile phone during festive period at the end of the year "
   ]
  },
  {
   "cell_type": "code",
   "execution_count": 47,
   "metadata": {},
   "outputs": [
    {
     "data": {
      "text/plain": [
       "surf        339\n",
       "ultimate    161\n",
       "Name: plan, dtype: int64"
      ]
     },
     "execution_count": 47,
     "metadata": {},
     "output_type": "execute_result"
    }
   ],
   "source": [
    "users['plan'].value_counts()"
   ]
  },
  {
   "cell_type": "code",
   "execution_count": 48,
   "metadata": {},
   "outputs": [
    {
     "data": {
      "text/plain": [
       "0"
      ]
     },
     "execution_count": 48,
     "metadata": {},
     "output_type": "execute_result"
    }
   ],
   "source": [
    "users.duplicated().sum()"
   ]
  },
  {
   "cell_type": "code",
   "execution_count": 49,
   "metadata": {},
   "outputs": [
    {
     "data": {
      "text/html": [
       "<div>\n",
       "<style scoped>\n",
       "    .dataframe tbody tr th:only-of-type {\n",
       "        vertical-align: middle;\n",
       "    }\n",
       "\n",
       "    .dataframe tbody tr th {\n",
       "        vertical-align: top;\n",
       "    }\n",
       "\n",
       "    .dataframe thead th {\n",
       "        text-align: right;\n",
       "    }\n",
       "</style>\n",
       "<table border=\"1\" class=\"dataframe\">\n",
       "  <thead>\n",
       "    <tr style=\"text-align: right;\">\n",
       "      <th></th>\n",
       "      <th>messages_included</th>\n",
       "      <th>mb_per_month_included</th>\n",
       "      <th>minutes_included</th>\n",
       "      <th>usd_monthly_pay</th>\n",
       "      <th>usd_per_gb</th>\n",
       "      <th>usd_per_message</th>\n",
       "      <th>usd_per_minute</th>\n",
       "      <th>plan_name</th>\n",
       "    </tr>\n",
       "  </thead>\n",
       "  <tbody>\n",
       "    <tr>\n",
       "      <th>0</th>\n",
       "      <td>50</td>\n",
       "      <td>15360</td>\n",
       "      <td>500</td>\n",
       "      <td>20</td>\n",
       "      <td>10</td>\n",
       "      <td>0.03</td>\n",
       "      <td>0.03</td>\n",
       "      <td>surf</td>\n",
       "    </tr>\n",
       "    <tr>\n",
       "      <th>1</th>\n",
       "      <td>1000</td>\n",
       "      <td>30720</td>\n",
       "      <td>3000</td>\n",
       "      <td>70</td>\n",
       "      <td>7</td>\n",
       "      <td>0.01</td>\n",
       "      <td>0.01</td>\n",
       "      <td>ultimate</td>\n",
       "    </tr>\n",
       "  </tbody>\n",
       "</table>\n",
       "</div>"
      ],
      "text/plain": [
       "   messages_included  mb_per_month_included  minutes_included  \\\n",
       "0                 50                  15360               500   \n",
       "1               1000                  30720              3000   \n",
       "\n",
       "   usd_monthly_pay  usd_per_gb  usd_per_message  usd_per_minute plan_name  \n",
       "0               20          10             0.03            0.03      surf  \n",
       "1               70           7             0.01            0.01  ultimate  "
      ]
     },
     "execution_count": 49,
     "metadata": {},
     "output_type": "execute_result"
    }
   ],
   "source": [
    "plans.head()"
   ]
  },
  {
   "cell_type": "markdown",
   "metadata": {},
   "source": [
    "Replacing values in the column 'mb_per_month_included' in 'plans' by gigabytes in order to make it in compliance with the rules of subscription plans: monthly traffic included is measured in gigabytes"
   ]
  },
  {
   "cell_type": "code",
   "execution_count": 50,
   "metadata": {},
   "outputs": [
    {
     "name": "stdout",
     "output_type": "stream",
     "text": [
      "Before:\n"
     ]
    },
    {
     "data": {
      "text/html": [
       "<div>\n",
       "<style scoped>\n",
       "    .dataframe tbody tr th:only-of-type {\n",
       "        vertical-align: middle;\n",
       "    }\n",
       "\n",
       "    .dataframe tbody tr th {\n",
       "        vertical-align: top;\n",
       "    }\n",
       "\n",
       "    .dataframe thead th {\n",
       "        text-align: right;\n",
       "    }\n",
       "</style>\n",
       "<table border=\"1\" class=\"dataframe\">\n",
       "  <thead>\n",
       "    <tr style=\"text-align: right;\">\n",
       "      <th></th>\n",
       "      <th>messages_included</th>\n",
       "      <th>mb_per_month_included</th>\n",
       "      <th>minutes_included</th>\n",
       "      <th>usd_monthly_pay</th>\n",
       "      <th>usd_per_gb</th>\n",
       "      <th>usd_per_message</th>\n",
       "      <th>usd_per_minute</th>\n",
       "      <th>plan_name</th>\n",
       "    </tr>\n",
       "  </thead>\n",
       "  <tbody>\n",
       "    <tr>\n",
       "      <th>0</th>\n",
       "      <td>50</td>\n",
       "      <td>15360</td>\n",
       "      <td>500</td>\n",
       "      <td>20</td>\n",
       "      <td>10</td>\n",
       "      <td>0.03</td>\n",
       "      <td>0.03</td>\n",
       "      <td>surf</td>\n",
       "    </tr>\n",
       "    <tr>\n",
       "      <th>1</th>\n",
       "      <td>1000</td>\n",
       "      <td>30720</td>\n",
       "      <td>3000</td>\n",
       "      <td>70</td>\n",
       "      <td>7</td>\n",
       "      <td>0.01</td>\n",
       "      <td>0.01</td>\n",
       "      <td>ultimate</td>\n",
       "    </tr>\n",
       "  </tbody>\n",
       "</table>\n",
       "</div>"
      ],
      "text/plain": [
       "   messages_included  mb_per_month_included  minutes_included  \\\n",
       "0                 50                  15360               500   \n",
       "1               1000                  30720              3000   \n",
       "\n",
       "   usd_monthly_pay  usd_per_gb  usd_per_message  usd_per_minute plan_name  \n",
       "0               20          10             0.03            0.03      surf  \n",
       "1               70           7             0.01            0.01  ultimate  "
      ]
     },
     "metadata": {},
     "output_type": "display_data"
    },
    {
     "name": "stdout",
     "output_type": "stream",
     "text": [
      "After:\n"
     ]
    },
    {
     "data": {
      "text/html": [
       "<div>\n",
       "<style scoped>\n",
       "    .dataframe tbody tr th:only-of-type {\n",
       "        vertical-align: middle;\n",
       "    }\n",
       "\n",
       "    .dataframe tbody tr th {\n",
       "        vertical-align: top;\n",
       "    }\n",
       "\n",
       "    .dataframe thead th {\n",
       "        text-align: right;\n",
       "    }\n",
       "</style>\n",
       "<table border=\"1\" class=\"dataframe\">\n",
       "  <thead>\n",
       "    <tr style=\"text-align: right;\">\n",
       "      <th></th>\n",
       "      <th>messages_included</th>\n",
       "      <th>gb_per_month_included</th>\n",
       "      <th>minutes_included</th>\n",
       "      <th>usd_monthly_pay</th>\n",
       "      <th>usd_per_gb</th>\n",
       "      <th>usd_per_message</th>\n",
       "      <th>usd_per_minute</th>\n",
       "      <th>plan_name</th>\n",
       "    </tr>\n",
       "  </thead>\n",
       "  <tbody>\n",
       "    <tr>\n",
       "      <th>0</th>\n",
       "      <td>50</td>\n",
       "      <td>15</td>\n",
       "      <td>500</td>\n",
       "      <td>20</td>\n",
       "      <td>10</td>\n",
       "      <td>0.03</td>\n",
       "      <td>0.03</td>\n",
       "      <td>surf</td>\n",
       "    </tr>\n",
       "    <tr>\n",
       "      <th>1</th>\n",
       "      <td>1000</td>\n",
       "      <td>30</td>\n",
       "      <td>3000</td>\n",
       "      <td>70</td>\n",
       "      <td>7</td>\n",
       "      <td>0.01</td>\n",
       "      <td>0.01</td>\n",
       "      <td>ultimate</td>\n",
       "    </tr>\n",
       "  </tbody>\n",
       "</table>\n",
       "</div>"
      ],
      "text/plain": [
       "   messages_included  gb_per_month_included  minutes_included  \\\n",
       "0                 50                     15               500   \n",
       "1               1000                     30              3000   \n",
       "\n",
       "   usd_monthly_pay  usd_per_gb  usd_per_message  usd_per_minute plan_name  \n",
       "0               20          10             0.03            0.03      surf  \n",
       "1               70           7             0.01            0.01  ultimate  "
      ]
     },
     "metadata": {},
     "output_type": "display_data"
    }
   ],
   "source": [
    "print('Before:')\n",
    "\n",
    "display(plans)\n",
    "\n",
    "plans['mb_per_month_included'] = (plans['mb_per_month_included']/1024).astype('int')\n",
    "\n",
    "plans\n",
    "\n",
    "plans.rename(columns = {'mb_per_month_included': 'gb_per_month_included'}, inplace=True)\n",
    "\n",
    "# checking the results: \n",
    "\n",
    "print('After:')\n",
    "\n",
    "display(plans)\n"
   ]
  },
  {
   "cell_type": "markdown",
   "metadata": {},
   "source": [
    "Preprocessing the datasets before merging"
   ]
  },
  {
   "cell_type": "code",
   "execution_count": 51,
   "metadata": {},
   "outputs": [
    {
     "data": {
      "text/html": [
       "<div>\n",
       "<style scoped>\n",
       "    .dataframe tbody tr th:only-of-type {\n",
       "        vertical-align: middle;\n",
       "    }\n",
       "\n",
       "    .dataframe tbody tr th {\n",
       "        vertical-align: top;\n",
       "    }\n",
       "\n",
       "    .dataframe thead th {\n",
       "        text-align: right;\n",
       "    }\n",
       "</style>\n",
       "<table border=\"1\" class=\"dataframe\">\n",
       "  <thead>\n",
       "    <tr style=\"text-align: right;\">\n",
       "      <th></th>\n",
       "      <th>id</th>\n",
       "      <th>user_id</th>\n",
       "      <th>call_date</th>\n",
       "      <th>duration</th>\n",
       "    </tr>\n",
       "  </thead>\n",
       "  <tbody>\n",
       "    <tr>\n",
       "      <th>0</th>\n",
       "      <td>1000_93</td>\n",
       "      <td>1000</td>\n",
       "      <td>2018-12-27</td>\n",
       "      <td>8.52</td>\n",
       "    </tr>\n",
       "    <tr>\n",
       "      <th>1</th>\n",
       "      <td>1000_145</td>\n",
       "      <td>1000</td>\n",
       "      <td>2018-12-27</td>\n",
       "      <td>13.66</td>\n",
       "    </tr>\n",
       "    <tr>\n",
       "      <th>2</th>\n",
       "      <td>1000_247</td>\n",
       "      <td>1000</td>\n",
       "      <td>2018-12-27</td>\n",
       "      <td>14.48</td>\n",
       "    </tr>\n",
       "    <tr>\n",
       "      <th>3</th>\n",
       "      <td>1000_309</td>\n",
       "      <td>1000</td>\n",
       "      <td>2018-12-28</td>\n",
       "      <td>5.76</td>\n",
       "    </tr>\n",
       "    <tr>\n",
       "      <th>4</th>\n",
       "      <td>1000_380</td>\n",
       "      <td>1000</td>\n",
       "      <td>2018-12-30</td>\n",
       "      <td>4.22</td>\n",
       "    </tr>\n",
       "  </tbody>\n",
       "</table>\n",
       "</div>"
      ],
      "text/plain": [
       "         id  user_id  call_date  duration\n",
       "0   1000_93     1000 2018-12-27      8.52\n",
       "1  1000_145     1000 2018-12-27     13.66\n",
       "2  1000_247     1000 2018-12-27     14.48\n",
       "3  1000_309     1000 2018-12-28      5.76\n",
       "4  1000_380     1000 2018-12-30      4.22"
      ]
     },
     "metadata": {},
     "output_type": "display_data"
    },
    {
     "data": {
      "text/html": [
       "<div>\n",
       "<style scoped>\n",
       "    .dataframe tbody tr th:only-of-type {\n",
       "        vertical-align: middle;\n",
       "    }\n",
       "\n",
       "    .dataframe tbody tr th {\n",
       "        vertical-align: top;\n",
       "    }\n",
       "\n",
       "    .dataframe thead th {\n",
       "        text-align: right;\n",
       "    }\n",
       "</style>\n",
       "<table border=\"1\" class=\"dataframe\">\n",
       "  <thead>\n",
       "    <tr style=\"text-align: right;\">\n",
       "      <th></th>\n",
       "      <th>id</th>\n",
       "      <th>user_id</th>\n",
       "      <th>call_date</th>\n",
       "      <th>duration</th>\n",
       "      <th>month</th>\n",
       "    </tr>\n",
       "  </thead>\n",
       "  <tbody>\n",
       "    <tr>\n",
       "      <th>0</th>\n",
       "      <td>1000_93</td>\n",
       "      <td>1000</td>\n",
       "      <td>2018-12-27</td>\n",
       "      <td>8.52</td>\n",
       "      <td>December</td>\n",
       "    </tr>\n",
       "    <tr>\n",
       "      <th>1</th>\n",
       "      <td>1000_145</td>\n",
       "      <td>1000</td>\n",
       "      <td>2018-12-27</td>\n",
       "      <td>13.66</td>\n",
       "      <td>December</td>\n",
       "    </tr>\n",
       "    <tr>\n",
       "      <th>2</th>\n",
       "      <td>1000_247</td>\n",
       "      <td>1000</td>\n",
       "      <td>2018-12-27</td>\n",
       "      <td>14.48</td>\n",
       "      <td>December</td>\n",
       "    </tr>\n",
       "    <tr>\n",
       "      <th>3</th>\n",
       "      <td>1000_309</td>\n",
       "      <td>1000</td>\n",
       "      <td>2018-12-28</td>\n",
       "      <td>5.76</td>\n",
       "      <td>December</td>\n",
       "    </tr>\n",
       "    <tr>\n",
       "      <th>4</th>\n",
       "      <td>1000_380</td>\n",
       "      <td>1000</td>\n",
       "      <td>2018-12-30</td>\n",
       "      <td>4.22</td>\n",
       "      <td>December</td>\n",
       "    </tr>\n",
       "  </tbody>\n",
       "</table>\n",
       "</div>"
      ],
      "text/plain": [
       "         id  user_id  call_date  duration     month\n",
       "0   1000_93     1000 2018-12-27      8.52  December\n",
       "1  1000_145     1000 2018-12-27     13.66  December\n",
       "2  1000_247     1000 2018-12-27     14.48  December\n",
       "3  1000_309     1000 2018-12-28      5.76  December\n",
       "4  1000_380     1000 2018-12-30      4.22  December"
      ]
     },
     "metadata": {},
     "output_type": "display_data"
    }
   ],
   "source": [
    "# retrieving a month from a date of a call ('call date') and adding a new column to 'calls'\n",
    "display (calls.head())\n",
    "calls['month'] = calls['call_date'].dt.month_name()\n",
    "# checking results\n",
    "display(calls.head())"
   ]
  },
  {
   "cell_type": "code",
   "execution_count": 52,
   "metadata": {
    "scrolled": true
   },
   "outputs": [
    {
     "data": {
      "text/html": [
       "<div>\n",
       "<style scoped>\n",
       "    .dataframe tbody tr th:only-of-type {\n",
       "        vertical-align: middle;\n",
       "    }\n",
       "\n",
       "    .dataframe tbody tr th {\n",
       "        vertical-align: top;\n",
       "    }\n",
       "\n",
       "    .dataframe thead th {\n",
       "        text-align: right;\n",
       "    }\n",
       "</style>\n",
       "<table border=\"1\" class=\"dataframe\">\n",
       "  <thead>\n",
       "    <tr style=\"text-align: right;\">\n",
       "      <th></th>\n",
       "      <th>id</th>\n",
       "      <th>user_id</th>\n",
       "      <th>message_date</th>\n",
       "    </tr>\n",
       "  </thead>\n",
       "  <tbody>\n",
       "    <tr>\n",
       "      <th>0</th>\n",
       "      <td>1000_125</td>\n",
       "      <td>1000</td>\n",
       "      <td>2018-12-27</td>\n",
       "    </tr>\n",
       "    <tr>\n",
       "      <th>1</th>\n",
       "      <td>1000_160</td>\n",
       "      <td>1000</td>\n",
       "      <td>2018-12-31</td>\n",
       "    </tr>\n",
       "    <tr>\n",
       "      <th>2</th>\n",
       "      <td>1000_223</td>\n",
       "      <td>1000</td>\n",
       "      <td>2018-12-31</td>\n",
       "    </tr>\n",
       "    <tr>\n",
       "      <th>3</th>\n",
       "      <td>1000_251</td>\n",
       "      <td>1000</td>\n",
       "      <td>2018-12-27</td>\n",
       "    </tr>\n",
       "    <tr>\n",
       "      <th>4</th>\n",
       "      <td>1000_255</td>\n",
       "      <td>1000</td>\n",
       "      <td>2018-12-26</td>\n",
       "    </tr>\n",
       "  </tbody>\n",
       "</table>\n",
       "</div>"
      ],
      "text/plain": [
       "         id  user_id message_date\n",
       "0  1000_125     1000   2018-12-27\n",
       "1  1000_160     1000   2018-12-31\n",
       "2  1000_223     1000   2018-12-31\n",
       "3  1000_251     1000   2018-12-27\n",
       "4  1000_255     1000   2018-12-26"
      ]
     },
     "metadata": {},
     "output_type": "display_data"
    },
    {
     "data": {
      "text/html": [
       "<div>\n",
       "<style scoped>\n",
       "    .dataframe tbody tr th:only-of-type {\n",
       "        vertical-align: middle;\n",
       "    }\n",
       "\n",
       "    .dataframe tbody tr th {\n",
       "        vertical-align: top;\n",
       "    }\n",
       "\n",
       "    .dataframe thead th {\n",
       "        text-align: right;\n",
       "    }\n",
       "</style>\n",
       "<table border=\"1\" class=\"dataframe\">\n",
       "  <thead>\n",
       "    <tr style=\"text-align: right;\">\n",
       "      <th></th>\n",
       "      <th>id</th>\n",
       "      <th>user_id</th>\n",
       "      <th>message_date</th>\n",
       "      <th>month</th>\n",
       "    </tr>\n",
       "  </thead>\n",
       "  <tbody>\n",
       "    <tr>\n",
       "      <th>0</th>\n",
       "      <td>1000_125</td>\n",
       "      <td>1000</td>\n",
       "      <td>2018-12-27</td>\n",
       "      <td>December</td>\n",
       "    </tr>\n",
       "    <tr>\n",
       "      <th>1</th>\n",
       "      <td>1000_160</td>\n",
       "      <td>1000</td>\n",
       "      <td>2018-12-31</td>\n",
       "      <td>December</td>\n",
       "    </tr>\n",
       "    <tr>\n",
       "      <th>2</th>\n",
       "      <td>1000_223</td>\n",
       "      <td>1000</td>\n",
       "      <td>2018-12-31</td>\n",
       "      <td>December</td>\n",
       "    </tr>\n",
       "    <tr>\n",
       "      <th>3</th>\n",
       "      <td>1000_251</td>\n",
       "      <td>1000</td>\n",
       "      <td>2018-12-27</td>\n",
       "      <td>December</td>\n",
       "    </tr>\n",
       "    <tr>\n",
       "      <th>4</th>\n",
       "      <td>1000_255</td>\n",
       "      <td>1000</td>\n",
       "      <td>2018-12-26</td>\n",
       "      <td>December</td>\n",
       "    </tr>\n",
       "  </tbody>\n",
       "</table>\n",
       "</div>"
      ],
      "text/plain": [
       "         id  user_id message_date     month\n",
       "0  1000_125     1000   2018-12-27  December\n",
       "1  1000_160     1000   2018-12-31  December\n",
       "2  1000_223     1000   2018-12-31  December\n",
       "3  1000_251     1000   2018-12-27  December\n",
       "4  1000_255     1000   2018-12-26  December"
      ]
     },
     "metadata": {},
     "output_type": "display_data"
    }
   ],
   "source": [
    "# retrieving a month from a date of a message ('message_date')  \n",
    "# and adding a new column to 'messages'\n",
    "display (messages.head())\n",
    "messages['month'] = messages['message_date'].dt.month_name()\n",
    "# checking results\n",
    "display(messages.head())"
   ]
  },
  {
   "cell_type": "code",
   "execution_count": 53,
   "metadata": {},
   "outputs": [
    {
     "data": {
      "text/html": [
       "<div>\n",
       "<style scoped>\n",
       "    .dataframe tbody tr th:only-of-type {\n",
       "        vertical-align: middle;\n",
       "    }\n",
       "\n",
       "    .dataframe tbody tr th {\n",
       "        vertical-align: top;\n",
       "    }\n",
       "\n",
       "    .dataframe thead th {\n",
       "        text-align: right;\n",
       "    }\n",
       "</style>\n",
       "<table border=\"1\" class=\"dataframe\">\n",
       "  <thead>\n",
       "    <tr style=\"text-align: right;\">\n",
       "      <th></th>\n",
       "      <th>id</th>\n",
       "      <th>user_id</th>\n",
       "      <th>session_date</th>\n",
       "      <th>mb_used</th>\n",
       "    </tr>\n",
       "  </thead>\n",
       "  <tbody>\n",
       "    <tr>\n",
       "      <th>0</th>\n",
       "      <td>1000_13</td>\n",
       "      <td>1000</td>\n",
       "      <td>2018-12-29</td>\n",
       "      <td>89.86</td>\n",
       "    </tr>\n",
       "    <tr>\n",
       "      <th>1</th>\n",
       "      <td>1000_204</td>\n",
       "      <td>1000</td>\n",
       "      <td>2018-12-31</td>\n",
       "      <td>0.00</td>\n",
       "    </tr>\n",
       "    <tr>\n",
       "      <th>2</th>\n",
       "      <td>1000_379</td>\n",
       "      <td>1000</td>\n",
       "      <td>2018-12-28</td>\n",
       "      <td>660.40</td>\n",
       "    </tr>\n",
       "    <tr>\n",
       "      <th>3</th>\n",
       "      <td>1000_413</td>\n",
       "      <td>1000</td>\n",
       "      <td>2018-12-26</td>\n",
       "      <td>270.99</td>\n",
       "    </tr>\n",
       "    <tr>\n",
       "      <th>4</th>\n",
       "      <td>1000_442</td>\n",
       "      <td>1000</td>\n",
       "      <td>2018-12-27</td>\n",
       "      <td>880.22</td>\n",
       "    </tr>\n",
       "  </tbody>\n",
       "</table>\n",
       "</div>"
      ],
      "text/plain": [
       "         id  user_id session_date  mb_used\n",
       "0   1000_13     1000   2018-12-29    89.86\n",
       "1  1000_204     1000   2018-12-31     0.00\n",
       "2  1000_379     1000   2018-12-28   660.40\n",
       "3  1000_413     1000   2018-12-26   270.99\n",
       "4  1000_442     1000   2018-12-27   880.22"
      ]
     },
     "metadata": {},
     "output_type": "display_data"
    },
    {
     "data": {
      "text/html": [
       "<div>\n",
       "<style scoped>\n",
       "    .dataframe tbody tr th:only-of-type {\n",
       "        vertical-align: middle;\n",
       "    }\n",
       "\n",
       "    .dataframe tbody tr th {\n",
       "        vertical-align: top;\n",
       "    }\n",
       "\n",
       "    .dataframe thead th {\n",
       "        text-align: right;\n",
       "    }\n",
       "</style>\n",
       "<table border=\"1\" class=\"dataframe\">\n",
       "  <thead>\n",
       "    <tr style=\"text-align: right;\">\n",
       "      <th></th>\n",
       "      <th>id</th>\n",
       "      <th>user_id</th>\n",
       "      <th>message_date</th>\n",
       "      <th>month</th>\n",
       "    </tr>\n",
       "  </thead>\n",
       "  <tbody>\n",
       "    <tr>\n",
       "      <th>0</th>\n",
       "      <td>1000_125</td>\n",
       "      <td>1000</td>\n",
       "      <td>2018-12-27</td>\n",
       "      <td>December</td>\n",
       "    </tr>\n",
       "    <tr>\n",
       "      <th>1</th>\n",
       "      <td>1000_160</td>\n",
       "      <td>1000</td>\n",
       "      <td>2018-12-31</td>\n",
       "      <td>December</td>\n",
       "    </tr>\n",
       "    <tr>\n",
       "      <th>2</th>\n",
       "      <td>1000_223</td>\n",
       "      <td>1000</td>\n",
       "      <td>2018-12-31</td>\n",
       "      <td>December</td>\n",
       "    </tr>\n",
       "    <tr>\n",
       "      <th>3</th>\n",
       "      <td>1000_251</td>\n",
       "      <td>1000</td>\n",
       "      <td>2018-12-27</td>\n",
       "      <td>December</td>\n",
       "    </tr>\n",
       "    <tr>\n",
       "      <th>4</th>\n",
       "      <td>1000_255</td>\n",
       "      <td>1000</td>\n",
       "      <td>2018-12-26</td>\n",
       "      <td>December</td>\n",
       "    </tr>\n",
       "  </tbody>\n",
       "</table>\n",
       "</div>"
      ],
      "text/plain": [
       "         id  user_id message_date     month\n",
       "0  1000_125     1000   2018-12-27  December\n",
       "1  1000_160     1000   2018-12-31  December\n",
       "2  1000_223     1000   2018-12-31  December\n",
       "3  1000_251     1000   2018-12-27  December\n",
       "4  1000_255     1000   2018-12-26  December"
      ]
     },
     "metadata": {},
     "output_type": "display_data"
    }
   ],
   "source": [
    "# retrieving a month from a date of internet connection ('session_date')  \n",
    "# and adding a new column to 'internet'\n",
    "display (internet.head())\n",
    "internet['month'] = internet['session_date'].dt.month_name()\n",
    "# checking results\n",
    "display(messages.head())"
   ]
  },
  {
   "cell_type": "code",
   "execution_count": 54,
   "metadata": {},
   "outputs": [
    {
     "data": {
      "text/html": [
       "<div>\n",
       "<style scoped>\n",
       "    .dataframe tbody tr th:only-of-type {\n",
       "        vertical-align: middle;\n",
       "    }\n",
       "\n",
       "    .dataframe tbody tr th {\n",
       "        vertical-align: top;\n",
       "    }\n",
       "\n",
       "    .dataframe thead th {\n",
       "        text-align: right;\n",
       "    }\n",
       "</style>\n",
       "<table border=\"1\" class=\"dataframe\">\n",
       "  <thead>\n",
       "    <tr style=\"text-align: right;\">\n",
       "      <th></th>\n",
       "      <th>id</th>\n",
       "      <th>user_id</th>\n",
       "      <th>call_date</th>\n",
       "      <th>duration</th>\n",
       "      <th>month</th>\n",
       "    </tr>\n",
       "  </thead>\n",
       "  <tbody>\n",
       "    <tr>\n",
       "      <th>0</th>\n",
       "      <td>1000_93</td>\n",
       "      <td>1000</td>\n",
       "      <td>2018-12-27</td>\n",
       "      <td>8.52</td>\n",
       "      <td>December</td>\n",
       "    </tr>\n",
       "    <tr>\n",
       "      <th>1</th>\n",
       "      <td>1000_145</td>\n",
       "      <td>1000</td>\n",
       "      <td>2018-12-27</td>\n",
       "      <td>13.66</td>\n",
       "      <td>December</td>\n",
       "    </tr>\n",
       "    <tr>\n",
       "      <th>2</th>\n",
       "      <td>1000_247</td>\n",
       "      <td>1000</td>\n",
       "      <td>2018-12-27</td>\n",
       "      <td>14.48</td>\n",
       "      <td>December</td>\n",
       "    </tr>\n",
       "    <tr>\n",
       "      <th>3</th>\n",
       "      <td>1000_309</td>\n",
       "      <td>1000</td>\n",
       "      <td>2018-12-28</td>\n",
       "      <td>5.76</td>\n",
       "      <td>December</td>\n",
       "    </tr>\n",
       "    <tr>\n",
       "      <th>4</th>\n",
       "      <td>1000_380</td>\n",
       "      <td>1000</td>\n",
       "      <td>2018-12-30</td>\n",
       "      <td>4.22</td>\n",
       "      <td>December</td>\n",
       "    </tr>\n",
       "  </tbody>\n",
       "</table>\n",
       "</div>"
      ],
      "text/plain": [
       "         id  user_id  call_date  duration     month\n",
       "0   1000_93     1000 2018-12-27      8.52  December\n",
       "1  1000_145     1000 2018-12-27     13.66  December\n",
       "2  1000_247     1000 2018-12-27     14.48  December\n",
       "3  1000_309     1000 2018-12-28      5.76  December\n",
       "4  1000_380     1000 2018-12-30      4.22  December"
      ]
     },
     "metadata": {},
     "output_type": "display_data"
    },
    {
     "data": {
      "text/html": [
       "<div>\n",
       "<style scoped>\n",
       "    .dataframe tbody tr th:only-of-type {\n",
       "        vertical-align: middle;\n",
       "    }\n",
       "\n",
       "    .dataframe tbody tr th {\n",
       "        vertical-align: top;\n",
       "    }\n",
       "\n",
       "    .dataframe thead th {\n",
       "        text-align: right;\n",
       "    }\n",
       "</style>\n",
       "<table border=\"1\" class=\"dataframe\">\n",
       "  <thead>\n",
       "    <tr style=\"text-align: right;\">\n",
       "      <th></th>\n",
       "      <th>id</th>\n",
       "      <th>user_id</th>\n",
       "      <th>call_date</th>\n",
       "      <th>duration</th>\n",
       "      <th>month</th>\n",
       "    </tr>\n",
       "  </thead>\n",
       "  <tbody>\n",
       "    <tr>\n",
       "      <th>0</th>\n",
       "      <td>1000_93</td>\n",
       "      <td>1000</td>\n",
       "      <td>2018-12-27</td>\n",
       "      <td>9.0</td>\n",
       "      <td>December</td>\n",
       "    </tr>\n",
       "    <tr>\n",
       "      <th>1</th>\n",
       "      <td>1000_145</td>\n",
       "      <td>1000</td>\n",
       "      <td>2018-12-27</td>\n",
       "      <td>14.0</td>\n",
       "      <td>December</td>\n",
       "    </tr>\n",
       "    <tr>\n",
       "      <th>2</th>\n",
       "      <td>1000_247</td>\n",
       "      <td>1000</td>\n",
       "      <td>2018-12-27</td>\n",
       "      <td>15.0</td>\n",
       "      <td>December</td>\n",
       "    </tr>\n",
       "    <tr>\n",
       "      <th>3</th>\n",
       "      <td>1000_309</td>\n",
       "      <td>1000</td>\n",
       "      <td>2018-12-28</td>\n",
       "      <td>6.0</td>\n",
       "      <td>December</td>\n",
       "    </tr>\n",
       "    <tr>\n",
       "      <th>4</th>\n",
       "      <td>1000_380</td>\n",
       "      <td>1000</td>\n",
       "      <td>2018-12-30</td>\n",
       "      <td>5.0</td>\n",
       "      <td>December</td>\n",
       "    </tr>\n",
       "  </tbody>\n",
       "</table>\n",
       "</div>"
      ],
      "text/plain": [
       "         id  user_id  call_date  duration     month\n",
       "0   1000_93     1000 2018-12-27       9.0  December\n",
       "1  1000_145     1000 2018-12-27      14.0  December\n",
       "2  1000_247     1000 2018-12-27      15.0  December\n",
       "3  1000_309     1000 2018-12-28       6.0  December\n",
       "4  1000_380     1000 2018-12-30       5.0  December"
      ]
     },
     "execution_count": 54,
     "metadata": {},
     "output_type": "execute_result"
    }
   ],
   "source": [
    "# rounding up call duration to the next integer \n",
    "# in order to make it compatible with subcription plan rules\n",
    "\n",
    "display (calls.head())\n",
    "calls['duration'] = np.ceil(calls['duration'])\n",
    "\n",
    "#checking results\n",
    "\n",
    "calls.head()"
   ]
  },
  {
   "cell_type": "code",
   "execution_count": 55,
   "metadata": {},
   "outputs": [
    {
     "name": "stdout",
     "output_type": "stream",
     "text": [
      "Before:\n"
     ]
    },
    {
     "data": {
      "text/html": [
       "<div>\n",
       "<style scoped>\n",
       "    .dataframe tbody tr th:only-of-type {\n",
       "        vertical-align: middle;\n",
       "    }\n",
       "\n",
       "    .dataframe tbody tr th {\n",
       "        vertical-align: top;\n",
       "    }\n",
       "\n",
       "    .dataframe thead th {\n",
       "        text-align: right;\n",
       "    }\n",
       "</style>\n",
       "<table border=\"1\" class=\"dataframe\">\n",
       "  <thead>\n",
       "    <tr style=\"text-align: right;\">\n",
       "      <th></th>\n",
       "      <th>id</th>\n",
       "      <th>user_id</th>\n",
       "      <th>call_date</th>\n",
       "      <th>duration</th>\n",
       "      <th>month</th>\n",
       "    </tr>\n",
       "  </thead>\n",
       "  <tbody>\n",
       "    <tr>\n",
       "      <th>0</th>\n",
       "      <td>1000_93</td>\n",
       "      <td>1000</td>\n",
       "      <td>2018-12-27</td>\n",
       "      <td>9.0</td>\n",
       "      <td>December</td>\n",
       "    </tr>\n",
       "    <tr>\n",
       "      <th>1</th>\n",
       "      <td>1000_145</td>\n",
       "      <td>1000</td>\n",
       "      <td>2018-12-27</td>\n",
       "      <td>14.0</td>\n",
       "      <td>December</td>\n",
       "    </tr>\n",
       "    <tr>\n",
       "      <th>2</th>\n",
       "      <td>1000_247</td>\n",
       "      <td>1000</td>\n",
       "      <td>2018-12-27</td>\n",
       "      <td>15.0</td>\n",
       "      <td>December</td>\n",
       "    </tr>\n",
       "    <tr>\n",
       "      <th>3</th>\n",
       "      <td>1000_309</td>\n",
       "      <td>1000</td>\n",
       "      <td>2018-12-28</td>\n",
       "      <td>6.0</td>\n",
       "      <td>December</td>\n",
       "    </tr>\n",
       "    <tr>\n",
       "      <th>4</th>\n",
       "      <td>1000_380</td>\n",
       "      <td>1000</td>\n",
       "      <td>2018-12-30</td>\n",
       "      <td>5.0</td>\n",
       "      <td>December</td>\n",
       "    </tr>\n",
       "  </tbody>\n",
       "</table>\n",
       "</div>"
      ],
      "text/plain": [
       "         id  user_id  call_date  duration     month\n",
       "0   1000_93     1000 2018-12-27       9.0  December\n",
       "1  1000_145     1000 2018-12-27      14.0  December\n",
       "2  1000_247     1000 2018-12-27      15.0  December\n",
       "3  1000_309     1000 2018-12-28       6.0  December\n",
       "4  1000_380     1000 2018-12-30       5.0  December"
      ]
     },
     "metadata": {},
     "output_type": "display_data"
    },
    {
     "name": "stdout",
     "output_type": "stream",
     "text": [
      "After:\n"
     ]
    },
    {
     "data": {
      "text/html": [
       "<div>\n",
       "<style scoped>\n",
       "    .dataframe tbody tr th:only-of-type {\n",
       "        vertical-align: middle;\n",
       "    }\n",
       "\n",
       "    .dataframe tbody tr th {\n",
       "        vertical-align: top;\n",
       "    }\n",
       "\n",
       "    .dataframe thead th {\n",
       "        text-align: right;\n",
       "    }\n",
       "</style>\n",
       "<table border=\"1\" class=\"dataframe\">\n",
       "  <thead>\n",
       "    <tr style=\"text-align: right;\">\n",
       "      <th></th>\n",
       "      <th>user_id</th>\n",
       "      <th>month</th>\n",
       "      <th>calls_number</th>\n",
       "      <th>duration</th>\n",
       "    </tr>\n",
       "  </thead>\n",
       "  <tbody>\n",
       "    <tr>\n",
       "      <th>0</th>\n",
       "      <td>1000</td>\n",
       "      <td>December</td>\n",
       "      <td>16</td>\n",
       "      <td>124</td>\n",
       "    </tr>\n",
       "    <tr>\n",
       "      <th>1</th>\n",
       "      <td>1001</td>\n",
       "      <td>August</td>\n",
       "      <td>22</td>\n",
       "      <td>182</td>\n",
       "    </tr>\n",
       "    <tr>\n",
       "      <th>2</th>\n",
       "      <td>1001</td>\n",
       "      <td>December</td>\n",
       "      <td>46</td>\n",
       "      <td>412</td>\n",
       "    </tr>\n",
       "    <tr>\n",
       "      <th>3</th>\n",
       "      <td>1001</td>\n",
       "      <td>November</td>\n",
       "      <td>49</td>\n",
       "      <td>426</td>\n",
       "    </tr>\n",
       "    <tr>\n",
       "      <th>4</th>\n",
       "      <td>1001</td>\n",
       "      <td>October</td>\n",
       "      <td>47</td>\n",
       "      <td>393</td>\n",
       "    </tr>\n",
       "    <tr>\n",
       "      <th>5</th>\n",
       "      <td>1001</td>\n",
       "      <td>September</td>\n",
       "      <td>38</td>\n",
       "      <td>315</td>\n",
       "    </tr>\n",
       "    <tr>\n",
       "      <th>6</th>\n",
       "      <td>1002</td>\n",
       "      <td>December</td>\n",
       "      <td>38</td>\n",
       "      <td>384</td>\n",
       "    </tr>\n",
       "    <tr>\n",
       "      <th>7</th>\n",
       "      <td>1002</td>\n",
       "      <td>November</td>\n",
       "      <td>48</td>\n",
       "      <td>386</td>\n",
       "    </tr>\n",
       "    <tr>\n",
       "      <th>8</th>\n",
       "      <td>1002</td>\n",
       "      <td>October</td>\n",
       "      <td>8</td>\n",
       "      <td>59</td>\n",
       "    </tr>\n",
       "    <tr>\n",
       "      <th>9</th>\n",
       "      <td>1003</td>\n",
       "      <td>December</td>\n",
       "      <td>118</td>\n",
       "      <td>1104</td>\n",
       "    </tr>\n",
       "  </tbody>\n",
       "</table>\n",
       "</div>"
      ],
      "text/plain": [
       "   user_id      month  calls_number  duration\n",
       "0     1000   December            16       124\n",
       "1     1001     August            22       182\n",
       "2     1001   December            46       412\n",
       "3     1001   November            49       426\n",
       "4     1001    October            47       393\n",
       "5     1001  September            38       315\n",
       "6     1002   December            38       384\n",
       "7     1002   November            48       386\n",
       "8     1002    October             8        59\n",
       "9     1003   December           118      1104"
      ]
     },
     "metadata": {},
     "output_type": "display_data"
    }
   ],
   "source": [
    "# grouping datasets by 'user_id' and 'month'\n",
    "# in order to calculate consumption parameters per month \n",
    "\n",
    "# processing 'calls'\n",
    "\n",
    "print ('Before:')\n",
    "\n",
    "display(calls.head())\n",
    "\n",
    "calls_grouped = calls.groupby(['user_id', 'month']). agg({'id': 'count', 'duration': 'sum'})\n",
    "\n",
    "calls_grouped = calls_grouped.reset_index()\n",
    "\n",
    "# renaming the column 'id' to 'calls_number' to enhance readability of the table\n",
    "\n",
    "calls_grouped.rename(columns = {'id' : 'calls_number'}, inplace = True)\n",
    "\n",
    "calls_grouped['calls_number'] = calls_grouped['calls_number'].astype('int') \n",
    "calls_grouped['duration'] = calls_grouped['duration'].astype('int')\n",
    "\n",
    "#checking the results\n",
    "\n",
    "print('After:')\n",
    "\n",
    "display(calls_grouped.head(10))"
   ]
  },
  {
   "cell_type": "code",
   "execution_count": 56,
   "metadata": {},
   "outputs": [
    {
     "name": "stdout",
     "output_type": "stream",
     "text": [
      "Before:\n"
     ]
    },
    {
     "data": {
      "text/html": [
       "<div>\n",
       "<style scoped>\n",
       "    .dataframe tbody tr th:only-of-type {\n",
       "        vertical-align: middle;\n",
       "    }\n",
       "\n",
       "    .dataframe tbody tr th {\n",
       "        vertical-align: top;\n",
       "    }\n",
       "\n",
       "    .dataframe thead th {\n",
       "        text-align: right;\n",
       "    }\n",
       "</style>\n",
       "<table border=\"1\" class=\"dataframe\">\n",
       "  <thead>\n",
       "    <tr style=\"text-align: right;\">\n",
       "      <th></th>\n",
       "      <th>id</th>\n",
       "      <th>user_id</th>\n",
       "      <th>message_date</th>\n",
       "      <th>month</th>\n",
       "    </tr>\n",
       "  </thead>\n",
       "  <tbody>\n",
       "    <tr>\n",
       "      <th>0</th>\n",
       "      <td>1000_125</td>\n",
       "      <td>1000</td>\n",
       "      <td>2018-12-27</td>\n",
       "      <td>December</td>\n",
       "    </tr>\n",
       "    <tr>\n",
       "      <th>1</th>\n",
       "      <td>1000_160</td>\n",
       "      <td>1000</td>\n",
       "      <td>2018-12-31</td>\n",
       "      <td>December</td>\n",
       "    </tr>\n",
       "    <tr>\n",
       "      <th>2</th>\n",
       "      <td>1000_223</td>\n",
       "      <td>1000</td>\n",
       "      <td>2018-12-31</td>\n",
       "      <td>December</td>\n",
       "    </tr>\n",
       "    <tr>\n",
       "      <th>3</th>\n",
       "      <td>1000_251</td>\n",
       "      <td>1000</td>\n",
       "      <td>2018-12-27</td>\n",
       "      <td>December</td>\n",
       "    </tr>\n",
       "    <tr>\n",
       "      <th>4</th>\n",
       "      <td>1000_255</td>\n",
       "      <td>1000</td>\n",
       "      <td>2018-12-26</td>\n",
       "      <td>December</td>\n",
       "    </tr>\n",
       "  </tbody>\n",
       "</table>\n",
       "</div>"
      ],
      "text/plain": [
       "         id  user_id message_date     month\n",
       "0  1000_125     1000   2018-12-27  December\n",
       "1  1000_160     1000   2018-12-31  December\n",
       "2  1000_223     1000   2018-12-31  December\n",
       "3  1000_251     1000   2018-12-27  December\n",
       "4  1000_255     1000   2018-12-26  December"
      ]
     },
     "metadata": {},
     "output_type": "display_data"
    },
    {
     "name": "stdout",
     "output_type": "stream",
     "text": [
      "After:\n"
     ]
    },
    {
     "data": {
      "text/html": [
       "<div>\n",
       "<style scoped>\n",
       "    .dataframe tbody tr th:only-of-type {\n",
       "        vertical-align: middle;\n",
       "    }\n",
       "\n",
       "    .dataframe tbody tr th {\n",
       "        vertical-align: top;\n",
       "    }\n",
       "\n",
       "    .dataframe thead th {\n",
       "        text-align: right;\n",
       "    }\n",
       "</style>\n",
       "<table border=\"1\" class=\"dataframe\">\n",
       "  <thead>\n",
       "    <tr style=\"text-align: right;\">\n",
       "      <th></th>\n",
       "      <th>user_id</th>\n",
       "      <th>month</th>\n",
       "      <th>texts_number</th>\n",
       "    </tr>\n",
       "  </thead>\n",
       "  <tbody>\n",
       "    <tr>\n",
       "      <th>0</th>\n",
       "      <td>1000</td>\n",
       "      <td>December</td>\n",
       "      <td>11</td>\n",
       "    </tr>\n",
       "    <tr>\n",
       "      <th>1</th>\n",
       "      <td>1001</td>\n",
       "      <td>August</td>\n",
       "      <td>30</td>\n",
       "    </tr>\n",
       "    <tr>\n",
       "      <th>2</th>\n",
       "      <td>1001</td>\n",
       "      <td>December</td>\n",
       "      <td>44</td>\n",
       "    </tr>\n",
       "    <tr>\n",
       "      <th>3</th>\n",
       "      <td>1001</td>\n",
       "      <td>November</td>\n",
       "      <td>36</td>\n",
       "    </tr>\n",
       "    <tr>\n",
       "      <th>4</th>\n",
       "      <td>1001</td>\n",
       "      <td>October</td>\n",
       "      <td>53</td>\n",
       "    </tr>\n",
       "    <tr>\n",
       "      <th>5</th>\n",
       "      <td>1001</td>\n",
       "      <td>September</td>\n",
       "      <td>44</td>\n",
       "    </tr>\n",
       "    <tr>\n",
       "      <th>6</th>\n",
       "      <td>1002</td>\n",
       "      <td>December</td>\n",
       "      <td>41</td>\n",
       "    </tr>\n",
       "    <tr>\n",
       "      <th>7</th>\n",
       "      <td>1002</td>\n",
       "      <td>November</td>\n",
       "      <td>32</td>\n",
       "    </tr>\n",
       "    <tr>\n",
       "      <th>8</th>\n",
       "      <td>1002</td>\n",
       "      <td>October</td>\n",
       "      <td>15</td>\n",
       "    </tr>\n",
       "    <tr>\n",
       "      <th>9</th>\n",
       "      <td>1003</td>\n",
       "      <td>December</td>\n",
       "      <td>50</td>\n",
       "    </tr>\n",
       "  </tbody>\n",
       "</table>\n",
       "</div>"
      ],
      "text/plain": [
       "   user_id      month  texts_number\n",
       "0     1000   December            11\n",
       "1     1001     August            30\n",
       "2     1001   December            44\n",
       "3     1001   November            36\n",
       "4     1001    October            53\n",
       "5     1001  September            44\n",
       "6     1002   December            41\n",
       "7     1002   November            32\n",
       "8     1002    October            15\n",
       "9     1003   December            50"
      ]
     },
     "execution_count": 56,
     "metadata": {},
     "output_type": "execute_result"
    }
   ],
   "source": [
    "# processing 'messages'\n",
    "\n",
    "print ('Before:')\n",
    "display (messages.head())\n",
    "\n",
    "messages_grouped = messages.groupby(['user_id', 'month']).agg({'id': 'count'})\n",
    "\n",
    "messages_grouped = messages_grouped.reset_index()\n",
    "\n",
    "# renaming the column 'id' to 'texts_number' to enhance readability of the table\n",
    "\n",
    "messages_grouped.rename(columns = {'id': 'texts_number'}, inplace = True)\n",
    "\n",
    "\n",
    "# checking the results\n",
    "\n",
    "print('After:')\n",
    "messages_grouped.head(10)\n"
   ]
  },
  {
   "cell_type": "code",
   "execution_count": 57,
   "metadata": {},
   "outputs": [
    {
     "name": "stdout",
     "output_type": "stream",
     "text": [
      "Before:\n"
     ]
    },
    {
     "data": {
      "text/html": [
       "<div>\n",
       "<style scoped>\n",
       "    .dataframe tbody tr th:only-of-type {\n",
       "        vertical-align: middle;\n",
       "    }\n",
       "\n",
       "    .dataframe tbody tr th {\n",
       "        vertical-align: top;\n",
       "    }\n",
       "\n",
       "    .dataframe thead th {\n",
       "        text-align: right;\n",
       "    }\n",
       "</style>\n",
       "<table border=\"1\" class=\"dataframe\">\n",
       "  <thead>\n",
       "    <tr style=\"text-align: right;\">\n",
       "      <th></th>\n",
       "      <th>id</th>\n",
       "      <th>user_id</th>\n",
       "      <th>session_date</th>\n",
       "      <th>mb_used</th>\n",
       "      <th>month</th>\n",
       "    </tr>\n",
       "  </thead>\n",
       "  <tbody>\n",
       "    <tr>\n",
       "      <th>0</th>\n",
       "      <td>1000_13</td>\n",
       "      <td>1000</td>\n",
       "      <td>2018-12-29</td>\n",
       "      <td>89.86</td>\n",
       "      <td>December</td>\n",
       "    </tr>\n",
       "    <tr>\n",
       "      <th>1</th>\n",
       "      <td>1000_204</td>\n",
       "      <td>1000</td>\n",
       "      <td>2018-12-31</td>\n",
       "      <td>0.00</td>\n",
       "      <td>December</td>\n",
       "    </tr>\n",
       "    <tr>\n",
       "      <th>2</th>\n",
       "      <td>1000_379</td>\n",
       "      <td>1000</td>\n",
       "      <td>2018-12-28</td>\n",
       "      <td>660.40</td>\n",
       "      <td>December</td>\n",
       "    </tr>\n",
       "    <tr>\n",
       "      <th>3</th>\n",
       "      <td>1000_413</td>\n",
       "      <td>1000</td>\n",
       "      <td>2018-12-26</td>\n",
       "      <td>270.99</td>\n",
       "      <td>December</td>\n",
       "    </tr>\n",
       "    <tr>\n",
       "      <th>4</th>\n",
       "      <td>1000_442</td>\n",
       "      <td>1000</td>\n",
       "      <td>2018-12-27</td>\n",
       "      <td>880.22</td>\n",
       "      <td>December</td>\n",
       "    </tr>\n",
       "  </tbody>\n",
       "</table>\n",
       "</div>"
      ],
      "text/plain": [
       "         id  user_id session_date  mb_used     month\n",
       "0   1000_13     1000   2018-12-29    89.86  December\n",
       "1  1000_204     1000   2018-12-31     0.00  December\n",
       "2  1000_379     1000   2018-12-28   660.40  December\n",
       "3  1000_413     1000   2018-12-26   270.99  December\n",
       "4  1000_442     1000   2018-12-27   880.22  December"
      ]
     },
     "metadata": {},
     "output_type": "display_data"
    },
    {
     "name": "stdout",
     "output_type": "stream",
     "text": [
      "After:\n"
     ]
    },
    {
     "data": {
      "text/html": [
       "<div>\n",
       "<style scoped>\n",
       "    .dataframe tbody tr th:only-of-type {\n",
       "        vertical-align: middle;\n",
       "    }\n",
       "\n",
       "    .dataframe tbody tr th {\n",
       "        vertical-align: top;\n",
       "    }\n",
       "\n",
       "    .dataframe thead th {\n",
       "        text-align: right;\n",
       "    }\n",
       "</style>\n",
       "<table border=\"1\" class=\"dataframe\">\n",
       "  <thead>\n",
       "    <tr style=\"text-align: right;\">\n",
       "      <th></th>\n",
       "      <th>user_id</th>\n",
       "      <th>month</th>\n",
       "      <th>gb_used</th>\n",
       "    </tr>\n",
       "  </thead>\n",
       "  <tbody>\n",
       "    <tr>\n",
       "      <th>0</th>\n",
       "      <td>1000</td>\n",
       "      <td>December</td>\n",
       "      <td>2.0</td>\n",
       "    </tr>\n",
       "    <tr>\n",
       "      <th>1</th>\n",
       "      <td>1001</td>\n",
       "      <td>August</td>\n",
       "      <td>7.0</td>\n",
       "    </tr>\n",
       "    <tr>\n",
       "      <th>2</th>\n",
       "      <td>1001</td>\n",
       "      <td>December</td>\n",
       "      <td>19.0</td>\n",
       "    </tr>\n",
       "    <tr>\n",
       "      <th>3</th>\n",
       "      <td>1001</td>\n",
       "      <td>November</td>\n",
       "      <td>19.0</td>\n",
       "    </tr>\n",
       "    <tr>\n",
       "      <th>4</th>\n",
       "      <td>1001</td>\n",
       "      <td>October</td>\n",
       "      <td>22.0</td>\n",
       "    </tr>\n",
       "    <tr>\n",
       "      <th>5</th>\n",
       "      <td>1001</td>\n",
       "      <td>September</td>\n",
       "      <td>14.0</td>\n",
       "    </tr>\n",
       "    <tr>\n",
       "      <th>6</th>\n",
       "      <td>1002</td>\n",
       "      <td>December</td>\n",
       "      <td>15.0</td>\n",
       "    </tr>\n",
       "    <tr>\n",
       "      <th>7</th>\n",
       "      <td>1002</td>\n",
       "      <td>November</td>\n",
       "      <td>19.0</td>\n",
       "    </tr>\n",
       "    <tr>\n",
       "      <th>8</th>\n",
       "      <td>1002</td>\n",
       "      <td>October</td>\n",
       "      <td>7.0</td>\n",
       "    </tr>\n",
       "    <tr>\n",
       "      <th>9</th>\n",
       "      <td>1003</td>\n",
       "      <td>December</td>\n",
       "      <td>27.0</td>\n",
       "    </tr>\n",
       "  </tbody>\n",
       "</table>\n",
       "</div>"
      ],
      "text/plain": [
       "   user_id      month  gb_used\n",
       "0     1000   December      2.0\n",
       "1     1001     August      7.0\n",
       "2     1001   December     19.0\n",
       "3     1001   November     19.0\n",
       "4     1001    October     22.0\n",
       "5     1001  September     14.0\n",
       "6     1002   December     15.0\n",
       "7     1002   November     19.0\n",
       "8     1002    October      7.0\n",
       "9     1003   December     27.0"
      ]
     },
     "execution_count": 57,
     "metadata": {},
     "output_type": "execute_result"
    }
   ],
   "source": [
    "# processing 'internet'\n",
    "\n",
    "print ('Before:')\n",
    "display (internet.head())\n",
    "\n",
    "internet_grouped = internet.groupby(['user_id', 'month']).agg({'mb_used': 'sum'})\n",
    "\n",
    "internet_grouped.reset_index(inplace=True)\n",
    "\n",
    "# replacing column 'mb_used' with the one showing gigabytes used per month \n",
    "# in accordance with the rule of subcription plans policy:  \n",
    "# monthly traffic per month measured in gigabytes is rounded up \n",
    "\n",
    "internet_grouped['mb_used'] = np.ceil(internet_grouped['mb_used']/ 1024)\n",
    "\n",
    "internet_grouped.rename(columns ={'mb_used': 'gb_used'}, inplace=True)\n",
    "\n",
    "\n",
    "# checking the results\n",
    "\n",
    "print('After:')\n",
    "internet_grouped.head(10)"
   ]
  },
  {
   "cell_type": "code",
   "execution_count": 58,
   "metadata": {},
   "outputs": [
    {
     "data": {
      "text/html": [
       "<div>\n",
       "<style scoped>\n",
       "    .dataframe tbody tr th:only-of-type {\n",
       "        vertical-align: middle;\n",
       "    }\n",
       "\n",
       "    .dataframe tbody tr th {\n",
       "        vertical-align: top;\n",
       "    }\n",
       "\n",
       "    .dataframe thead th {\n",
       "        text-align: right;\n",
       "    }\n",
       "</style>\n",
       "<table border=\"1\" class=\"dataframe\">\n",
       "  <thead>\n",
       "    <tr style=\"text-align: right;\">\n",
       "      <th></th>\n",
       "      <th>user_id</th>\n",
       "      <th>month</th>\n",
       "      <th>calls_number</th>\n",
       "      <th>duration</th>\n",
       "      <th>texts_number</th>\n",
       "      <th>gb_used</th>\n",
       "      <th>first_name</th>\n",
       "      <th>last_name</th>\n",
       "      <th>age</th>\n",
       "      <th>city</th>\n",
       "      <th>reg_date</th>\n",
       "      <th>plan</th>\n",
       "      <th>churn_date</th>\n",
       "    </tr>\n",
       "  </thead>\n",
       "  <tbody>\n",
       "    <tr>\n",
       "      <th>0</th>\n",
       "      <td>1000</td>\n",
       "      <td>December</td>\n",
       "      <td>16</td>\n",
       "      <td>124</td>\n",
       "      <td>11</td>\n",
       "      <td>2</td>\n",
       "      <td>Anamaria</td>\n",
       "      <td>Bauer</td>\n",
       "      <td>45</td>\n",
       "      <td>Atlanta-Sandy Springs-Roswell, GA MSA</td>\n",
       "      <td>2018-12-24</td>\n",
       "      <td>ultimate</td>\n",
       "      <td>0</td>\n",
       "    </tr>\n",
       "    <tr>\n",
       "      <th>1</th>\n",
       "      <td>1001</td>\n",
       "      <td>August</td>\n",
       "      <td>22</td>\n",
       "      <td>182</td>\n",
       "      <td>30</td>\n",
       "      <td>7</td>\n",
       "      <td>Mickey</td>\n",
       "      <td>Wilkerson</td>\n",
       "      <td>28</td>\n",
       "      <td>Seattle-Tacoma-Bellevue, WA MSA</td>\n",
       "      <td>2018-08-13</td>\n",
       "      <td>surf</td>\n",
       "      <td>0</td>\n",
       "    </tr>\n",
       "    <tr>\n",
       "      <th>2</th>\n",
       "      <td>1001</td>\n",
       "      <td>December</td>\n",
       "      <td>46</td>\n",
       "      <td>412</td>\n",
       "      <td>44</td>\n",
       "      <td>19</td>\n",
       "      <td>Mickey</td>\n",
       "      <td>Wilkerson</td>\n",
       "      <td>28</td>\n",
       "      <td>Seattle-Tacoma-Bellevue, WA MSA</td>\n",
       "      <td>2018-08-13</td>\n",
       "      <td>surf</td>\n",
       "      <td>0</td>\n",
       "    </tr>\n",
       "    <tr>\n",
       "      <th>3</th>\n",
       "      <td>1001</td>\n",
       "      <td>November</td>\n",
       "      <td>49</td>\n",
       "      <td>426</td>\n",
       "      <td>36</td>\n",
       "      <td>19</td>\n",
       "      <td>Mickey</td>\n",
       "      <td>Wilkerson</td>\n",
       "      <td>28</td>\n",
       "      <td>Seattle-Tacoma-Bellevue, WA MSA</td>\n",
       "      <td>2018-08-13</td>\n",
       "      <td>surf</td>\n",
       "      <td>0</td>\n",
       "    </tr>\n",
       "    <tr>\n",
       "      <th>4</th>\n",
       "      <td>1001</td>\n",
       "      <td>October</td>\n",
       "      <td>47</td>\n",
       "      <td>393</td>\n",
       "      <td>53</td>\n",
       "      <td>22</td>\n",
       "      <td>Mickey</td>\n",
       "      <td>Wilkerson</td>\n",
       "      <td>28</td>\n",
       "      <td>Seattle-Tacoma-Bellevue, WA MSA</td>\n",
       "      <td>2018-08-13</td>\n",
       "      <td>surf</td>\n",
       "      <td>0</td>\n",
       "    </tr>\n",
       "    <tr>\n",
       "      <th>5</th>\n",
       "      <td>1001</td>\n",
       "      <td>September</td>\n",
       "      <td>38</td>\n",
       "      <td>315</td>\n",
       "      <td>44</td>\n",
       "      <td>14</td>\n",
       "      <td>Mickey</td>\n",
       "      <td>Wilkerson</td>\n",
       "      <td>28</td>\n",
       "      <td>Seattle-Tacoma-Bellevue, WA MSA</td>\n",
       "      <td>2018-08-13</td>\n",
       "      <td>surf</td>\n",
       "      <td>0</td>\n",
       "    </tr>\n",
       "    <tr>\n",
       "      <th>6</th>\n",
       "      <td>1002</td>\n",
       "      <td>December</td>\n",
       "      <td>38</td>\n",
       "      <td>384</td>\n",
       "      <td>41</td>\n",
       "      <td>15</td>\n",
       "      <td>Carlee</td>\n",
       "      <td>Hoffman</td>\n",
       "      <td>36</td>\n",
       "      <td>Las Vegas-Henderson-Paradise, NV MSA</td>\n",
       "      <td>2018-10-21</td>\n",
       "      <td>surf</td>\n",
       "      <td>0</td>\n",
       "    </tr>\n",
       "    <tr>\n",
       "      <th>7</th>\n",
       "      <td>1002</td>\n",
       "      <td>November</td>\n",
       "      <td>48</td>\n",
       "      <td>386</td>\n",
       "      <td>32</td>\n",
       "      <td>19</td>\n",
       "      <td>Carlee</td>\n",
       "      <td>Hoffman</td>\n",
       "      <td>36</td>\n",
       "      <td>Las Vegas-Henderson-Paradise, NV MSA</td>\n",
       "      <td>2018-10-21</td>\n",
       "      <td>surf</td>\n",
       "      <td>0</td>\n",
       "    </tr>\n",
       "    <tr>\n",
       "      <th>8</th>\n",
       "      <td>1002</td>\n",
       "      <td>October</td>\n",
       "      <td>8</td>\n",
       "      <td>59</td>\n",
       "      <td>15</td>\n",
       "      <td>7</td>\n",
       "      <td>Carlee</td>\n",
       "      <td>Hoffman</td>\n",
       "      <td>36</td>\n",
       "      <td>Las Vegas-Henderson-Paradise, NV MSA</td>\n",
       "      <td>2018-10-21</td>\n",
       "      <td>surf</td>\n",
       "      <td>0</td>\n",
       "    </tr>\n",
       "    <tr>\n",
       "      <th>9</th>\n",
       "      <td>1003</td>\n",
       "      <td>December</td>\n",
       "      <td>118</td>\n",
       "      <td>1104</td>\n",
       "      <td>50</td>\n",
       "      <td>27</td>\n",
       "      <td>Reynaldo</td>\n",
       "      <td>Jenkins</td>\n",
       "      <td>52</td>\n",
       "      <td>Tulsa, OK MSA</td>\n",
       "      <td>2018-01-28</td>\n",
       "      <td>surf</td>\n",
       "      <td>0</td>\n",
       "    </tr>\n",
       "  </tbody>\n",
       "</table>\n",
       "</div>"
      ],
      "text/plain": [
       "   user_id      month  calls_number  duration  texts_number  gb_used  \\\n",
       "0     1000   December            16       124            11        2   \n",
       "1     1001     August            22       182            30        7   \n",
       "2     1001   December            46       412            44       19   \n",
       "3     1001   November            49       426            36       19   \n",
       "4     1001    October            47       393            53       22   \n",
       "5     1001  September            38       315            44       14   \n",
       "6     1002   December            38       384            41       15   \n",
       "7     1002   November            48       386            32       19   \n",
       "8     1002    October             8        59            15        7   \n",
       "9     1003   December           118      1104            50       27   \n",
       "\n",
       "  first_name  last_name  age                                   city  \\\n",
       "0   Anamaria      Bauer   45  Atlanta-Sandy Springs-Roswell, GA MSA   \n",
       "1     Mickey  Wilkerson   28        Seattle-Tacoma-Bellevue, WA MSA   \n",
       "2     Mickey  Wilkerson   28        Seattle-Tacoma-Bellevue, WA MSA   \n",
       "3     Mickey  Wilkerson   28        Seattle-Tacoma-Bellevue, WA MSA   \n",
       "4     Mickey  Wilkerson   28        Seattle-Tacoma-Bellevue, WA MSA   \n",
       "5     Mickey  Wilkerson   28        Seattle-Tacoma-Bellevue, WA MSA   \n",
       "6     Carlee    Hoffman   36   Las Vegas-Henderson-Paradise, NV MSA   \n",
       "7     Carlee    Hoffman   36   Las Vegas-Henderson-Paradise, NV MSA   \n",
       "8     Carlee    Hoffman   36   Las Vegas-Henderson-Paradise, NV MSA   \n",
       "9   Reynaldo    Jenkins   52                          Tulsa, OK MSA   \n",
       "\n",
       "    reg_date      plan churn_date  \n",
       "0 2018-12-24  ultimate          0  \n",
       "1 2018-08-13      surf          0  \n",
       "2 2018-08-13      surf          0  \n",
       "3 2018-08-13      surf          0  \n",
       "4 2018-08-13      surf          0  \n",
       "5 2018-08-13      surf          0  \n",
       "6 2018-10-21      surf          0  \n",
       "7 2018-10-21      surf          0  \n",
       "8 2018-10-21      surf          0  \n",
       "9 2018-01-28      surf          0  "
      ]
     },
     "execution_count": 58,
     "metadata": {},
     "output_type": "execute_result"
    }
   ],
   "source": [
    "# merging datasets\n",
    "\n",
    "calls_messages_merged = pd.merge (left = calls_grouped, \n",
    "                      right = messages_grouped, how = 'outer', on = ['user_id', 'month']).fillna(0)\n",
    "\n",
    "all_services = pd.merge(left = calls_messages_merged, \n",
    "                      right = internet_grouped, how = 'outer', on = ['user_id', 'month']).fillna(0)\n",
    "\n",
    "all_users = pd.merge(left = all_services,\n",
    "                    right = users, how = 'outer', on = ['user_id']).fillna(0)\n",
    "\n",
    "\n",
    "# changing data types from float to integer\n",
    "\n",
    "all_users['calls_number'] = all_users['calls_number'].astype('int')\n",
    "all_users['duration'] = all_users['duration'].astype('int')\n",
    "all_users['texts_number'] = all_users['texts_number'].astype('int')\n",
    "all_users['gb_used'] = all_users['gb_used'].astype('int')\n",
    "\n",
    "# cheking the results\n",
    "\n",
    "all_users.head(10)"
   ]
  },
  {
   "cell_type": "code",
   "execution_count": 59,
   "metadata": {},
   "outputs": [
    {
     "data": {
      "text/html": [
       "<div>\n",
       "<style scoped>\n",
       "    .dataframe tbody tr th:only-of-type {\n",
       "        vertical-align: middle;\n",
       "    }\n",
       "\n",
       "    .dataframe tbody tr th {\n",
       "        vertical-align: top;\n",
       "    }\n",
       "\n",
       "    .dataframe thead th {\n",
       "        text-align: right;\n",
       "    }\n",
       "</style>\n",
       "<table border=\"1\" class=\"dataframe\">\n",
       "  <thead>\n",
       "    <tr style=\"text-align: right;\">\n",
       "      <th></th>\n",
       "      <th>user_id</th>\n",
       "      <th>month</th>\n",
       "      <th>calls_number</th>\n",
       "      <th>duration</th>\n",
       "      <th>texts_number</th>\n",
       "      <th>gb_used</th>\n",
       "      <th>first_name</th>\n",
       "      <th>last_name</th>\n",
       "      <th>age</th>\n",
       "      <th>city</th>\n",
       "      <th>reg_date</th>\n",
       "      <th>plan</th>\n",
       "      <th>churn_date</th>\n",
       "    </tr>\n",
       "  </thead>\n",
       "  <tbody>\n",
       "    <tr>\n",
       "      <th>0</th>\n",
       "      <td>1000</td>\n",
       "      <td>December</td>\n",
       "      <td>16</td>\n",
       "      <td>124</td>\n",
       "      <td>11</td>\n",
       "      <td>2</td>\n",
       "      <td>Anamaria</td>\n",
       "      <td>Bauer</td>\n",
       "      <td>45</td>\n",
       "      <td>Atlanta-Sandy Springs-Roswell, GA MSA</td>\n",
       "      <td>2018-12-24</td>\n",
       "      <td>ultimate</td>\n",
       "      <td>0</td>\n",
       "    </tr>\n",
       "    <tr>\n",
       "      <th>1</th>\n",
       "      <td>1001</td>\n",
       "      <td>August</td>\n",
       "      <td>22</td>\n",
       "      <td>182</td>\n",
       "      <td>30</td>\n",
       "      <td>7</td>\n",
       "      <td>Mickey</td>\n",
       "      <td>Wilkerson</td>\n",
       "      <td>28</td>\n",
       "      <td>Seattle-Tacoma-Bellevue, WA MSA</td>\n",
       "      <td>2018-08-13</td>\n",
       "      <td>surf</td>\n",
       "      <td>0</td>\n",
       "    </tr>\n",
       "    <tr>\n",
       "      <th>2</th>\n",
       "      <td>1001</td>\n",
       "      <td>December</td>\n",
       "      <td>46</td>\n",
       "      <td>412</td>\n",
       "      <td>44</td>\n",
       "      <td>19</td>\n",
       "      <td>Mickey</td>\n",
       "      <td>Wilkerson</td>\n",
       "      <td>28</td>\n",
       "      <td>Seattle-Tacoma-Bellevue, WA MSA</td>\n",
       "      <td>2018-08-13</td>\n",
       "      <td>surf</td>\n",
       "      <td>0</td>\n",
       "    </tr>\n",
       "    <tr>\n",
       "      <th>3</th>\n",
       "      <td>1001</td>\n",
       "      <td>November</td>\n",
       "      <td>49</td>\n",
       "      <td>426</td>\n",
       "      <td>36</td>\n",
       "      <td>19</td>\n",
       "      <td>Mickey</td>\n",
       "      <td>Wilkerson</td>\n",
       "      <td>28</td>\n",
       "      <td>Seattle-Tacoma-Bellevue, WA MSA</td>\n",
       "      <td>2018-08-13</td>\n",
       "      <td>surf</td>\n",
       "      <td>0</td>\n",
       "    </tr>\n",
       "    <tr>\n",
       "      <th>4</th>\n",
       "      <td>1001</td>\n",
       "      <td>October</td>\n",
       "      <td>47</td>\n",
       "      <td>393</td>\n",
       "      <td>53</td>\n",
       "      <td>22</td>\n",
       "      <td>Mickey</td>\n",
       "      <td>Wilkerson</td>\n",
       "      <td>28</td>\n",
       "      <td>Seattle-Tacoma-Bellevue, WA MSA</td>\n",
       "      <td>2018-08-13</td>\n",
       "      <td>surf</td>\n",
       "      <td>0</td>\n",
       "    </tr>\n",
       "  </tbody>\n",
       "</table>\n",
       "</div>"
      ],
      "text/plain": [
       "   user_id     month  calls_number  duration  texts_number  gb_used  \\\n",
       "0     1000  December            16       124            11        2   \n",
       "1     1001    August            22       182            30        7   \n",
       "2     1001  December            46       412            44       19   \n",
       "3     1001  November            49       426            36       19   \n",
       "4     1001   October            47       393            53       22   \n",
       "\n",
       "  first_name  last_name  age                                   city  \\\n",
       "0   Anamaria      Bauer   45  Atlanta-Sandy Springs-Roswell, GA MSA   \n",
       "1     Mickey  Wilkerson   28        Seattle-Tacoma-Bellevue, WA MSA   \n",
       "2     Mickey  Wilkerson   28        Seattle-Tacoma-Bellevue, WA MSA   \n",
       "3     Mickey  Wilkerson   28        Seattle-Tacoma-Bellevue, WA MSA   \n",
       "4     Mickey  Wilkerson   28        Seattle-Tacoma-Bellevue, WA MSA   \n",
       "\n",
       "    reg_date      plan churn_date  \n",
       "0 2018-12-24  ultimate          0  \n",
       "1 2018-08-13      surf          0  \n",
       "2 2018-08-13      surf          0  \n",
       "3 2018-08-13      surf          0  \n",
       "4 2018-08-13      surf          0  "
      ]
     },
     "execution_count": 59,
     "metadata": {},
     "output_type": "execute_result"
    }
   ],
   "source": [
    "all_users.head()"
   ]
  },
  {
   "cell_type": "code",
   "execution_count": 60,
   "metadata": {},
   "outputs": [
    {
     "name": "stdout",
     "output_type": "stream",
     "text": [
      "<class 'pandas.core.frame.DataFrame'>\n",
      "RangeIndex: 2 entries, 0 to 1\n",
      "Data columns (total 8 columns):\n",
      " #   Column                 Non-Null Count  Dtype  \n",
      "---  ------                 --------------  -----  \n",
      " 0   messages_included      2 non-null      int64  \n",
      " 1   gb_per_month_included  2 non-null      int64  \n",
      " 2   minutes_included       2 non-null      int64  \n",
      " 3   usd_monthly_pay        2 non-null      int64  \n",
      " 4   usd_per_gb             2 non-null      int64  \n",
      " 5   usd_per_message        2 non-null      float64\n",
      " 6   usd_per_minute         2 non-null      float64\n",
      " 7   plan_name              2 non-null      object \n",
      "dtypes: float64(2), int64(5), object(1)\n",
      "memory usage: 256.0+ bytes\n"
     ]
    }
   ],
   "source": [
    "plans.info()"
   ]
  },
  {
   "cell_type": "code",
   "execution_count": 61,
   "metadata": {},
   "outputs": [
    {
     "data": {
      "text/html": [
       "<div>\n",
       "<style scoped>\n",
       "    .dataframe tbody tr th:only-of-type {\n",
       "        vertical-align: middle;\n",
       "    }\n",
       "\n",
       "    .dataframe tbody tr th {\n",
       "        vertical-align: top;\n",
       "    }\n",
       "\n",
       "    .dataframe thead th {\n",
       "        text-align: right;\n",
       "    }\n",
       "</style>\n",
       "<table border=\"1\" class=\"dataframe\">\n",
       "  <thead>\n",
       "    <tr style=\"text-align: right;\">\n",
       "      <th></th>\n",
       "      <th>user_id</th>\n",
       "      <th>month</th>\n",
       "      <th>calls_number</th>\n",
       "      <th>duration</th>\n",
       "      <th>texts_number</th>\n",
       "      <th>gb_used</th>\n",
       "      <th>first_name</th>\n",
       "      <th>last_name</th>\n",
       "      <th>age</th>\n",
       "      <th>city</th>\n",
       "      <th>reg_date</th>\n",
       "      <th>plan</th>\n",
       "      <th>churn_date</th>\n",
       "      <th>revenue_per_month</th>\n",
       "    </tr>\n",
       "  </thead>\n",
       "  <tbody>\n",
       "    <tr>\n",
       "      <th>0</th>\n",
       "      <td>1000</td>\n",
       "      <td>December</td>\n",
       "      <td>16</td>\n",
       "      <td>124</td>\n",
       "      <td>11</td>\n",
       "      <td>2</td>\n",
       "      <td>Anamaria</td>\n",
       "      <td>Bauer</td>\n",
       "      <td>45</td>\n",
       "      <td>Atlanta-Sandy Springs-Roswell, GA MSA</td>\n",
       "      <td>2018-12-24</td>\n",
       "      <td>ultimate</td>\n",
       "      <td>0</td>\n",
       "      <td>70.00</td>\n",
       "    </tr>\n",
       "    <tr>\n",
       "      <th>1</th>\n",
       "      <td>1001</td>\n",
       "      <td>August</td>\n",
       "      <td>22</td>\n",
       "      <td>182</td>\n",
       "      <td>30</td>\n",
       "      <td>7</td>\n",
       "      <td>Mickey</td>\n",
       "      <td>Wilkerson</td>\n",
       "      <td>28</td>\n",
       "      <td>Seattle-Tacoma-Bellevue, WA MSA</td>\n",
       "      <td>2018-08-13</td>\n",
       "      <td>surf</td>\n",
       "      <td>0</td>\n",
       "      <td>20.00</td>\n",
       "    </tr>\n",
       "    <tr>\n",
       "      <th>2</th>\n",
       "      <td>1001</td>\n",
       "      <td>December</td>\n",
       "      <td>46</td>\n",
       "      <td>412</td>\n",
       "      <td>44</td>\n",
       "      <td>19</td>\n",
       "      <td>Mickey</td>\n",
       "      <td>Wilkerson</td>\n",
       "      <td>28</td>\n",
       "      <td>Seattle-Tacoma-Bellevue, WA MSA</td>\n",
       "      <td>2018-08-13</td>\n",
       "      <td>surf</td>\n",
       "      <td>0</td>\n",
       "      <td>60.00</td>\n",
       "    </tr>\n",
       "    <tr>\n",
       "      <th>3</th>\n",
       "      <td>1001</td>\n",
       "      <td>November</td>\n",
       "      <td>49</td>\n",
       "      <td>426</td>\n",
       "      <td>36</td>\n",
       "      <td>19</td>\n",
       "      <td>Mickey</td>\n",
       "      <td>Wilkerson</td>\n",
       "      <td>28</td>\n",
       "      <td>Seattle-Tacoma-Bellevue, WA MSA</td>\n",
       "      <td>2018-08-13</td>\n",
       "      <td>surf</td>\n",
       "      <td>0</td>\n",
       "      <td>60.00</td>\n",
       "    </tr>\n",
       "    <tr>\n",
       "      <th>4</th>\n",
       "      <td>1001</td>\n",
       "      <td>October</td>\n",
       "      <td>47</td>\n",
       "      <td>393</td>\n",
       "      <td>53</td>\n",
       "      <td>22</td>\n",
       "      <td>Mickey</td>\n",
       "      <td>Wilkerson</td>\n",
       "      <td>28</td>\n",
       "      <td>Seattle-Tacoma-Bellevue, WA MSA</td>\n",
       "      <td>2018-08-13</td>\n",
       "      <td>surf</td>\n",
       "      <td>0</td>\n",
       "      <td>90.09</td>\n",
       "    </tr>\n",
       "    <tr>\n",
       "      <th>5</th>\n",
       "      <td>1001</td>\n",
       "      <td>September</td>\n",
       "      <td>38</td>\n",
       "      <td>315</td>\n",
       "      <td>44</td>\n",
       "      <td>14</td>\n",
       "      <td>Mickey</td>\n",
       "      <td>Wilkerson</td>\n",
       "      <td>28</td>\n",
       "      <td>Seattle-Tacoma-Bellevue, WA MSA</td>\n",
       "      <td>2018-08-13</td>\n",
       "      <td>surf</td>\n",
       "      <td>0</td>\n",
       "      <td>20.00</td>\n",
       "    </tr>\n",
       "    <tr>\n",
       "      <th>6</th>\n",
       "      <td>1002</td>\n",
       "      <td>December</td>\n",
       "      <td>38</td>\n",
       "      <td>384</td>\n",
       "      <td>41</td>\n",
       "      <td>15</td>\n",
       "      <td>Carlee</td>\n",
       "      <td>Hoffman</td>\n",
       "      <td>36</td>\n",
       "      <td>Las Vegas-Henderson-Paradise, NV MSA</td>\n",
       "      <td>2018-10-21</td>\n",
       "      <td>surf</td>\n",
       "      <td>0</td>\n",
       "      <td>20.00</td>\n",
       "    </tr>\n",
       "    <tr>\n",
       "      <th>7</th>\n",
       "      <td>1002</td>\n",
       "      <td>November</td>\n",
       "      <td>48</td>\n",
       "      <td>386</td>\n",
       "      <td>32</td>\n",
       "      <td>19</td>\n",
       "      <td>Carlee</td>\n",
       "      <td>Hoffman</td>\n",
       "      <td>36</td>\n",
       "      <td>Las Vegas-Henderson-Paradise, NV MSA</td>\n",
       "      <td>2018-10-21</td>\n",
       "      <td>surf</td>\n",
       "      <td>0</td>\n",
       "      <td>60.00</td>\n",
       "    </tr>\n",
       "    <tr>\n",
       "      <th>8</th>\n",
       "      <td>1002</td>\n",
       "      <td>October</td>\n",
       "      <td>8</td>\n",
       "      <td>59</td>\n",
       "      <td>15</td>\n",
       "      <td>7</td>\n",
       "      <td>Carlee</td>\n",
       "      <td>Hoffman</td>\n",
       "      <td>36</td>\n",
       "      <td>Las Vegas-Henderson-Paradise, NV MSA</td>\n",
       "      <td>2018-10-21</td>\n",
       "      <td>surf</td>\n",
       "      <td>0</td>\n",
       "      <td>20.00</td>\n",
       "    </tr>\n",
       "    <tr>\n",
       "      <th>9</th>\n",
       "      <td>1003</td>\n",
       "      <td>December</td>\n",
       "      <td>118</td>\n",
       "      <td>1104</td>\n",
       "      <td>50</td>\n",
       "      <td>27</td>\n",
       "      <td>Reynaldo</td>\n",
       "      <td>Jenkins</td>\n",
       "      <td>52</td>\n",
       "      <td>Tulsa, OK MSA</td>\n",
       "      <td>2018-01-28</td>\n",
       "      <td>surf</td>\n",
       "      <td>0</td>\n",
       "      <td>140.00</td>\n",
       "    </tr>\n",
       "  </tbody>\n",
       "</table>\n",
       "</div>"
      ],
      "text/plain": [
       "   user_id      month  calls_number  duration  texts_number  gb_used  \\\n",
       "0     1000   December            16       124            11        2   \n",
       "1     1001     August            22       182            30        7   \n",
       "2     1001   December            46       412            44       19   \n",
       "3     1001   November            49       426            36       19   \n",
       "4     1001    October            47       393            53       22   \n",
       "5     1001  September            38       315            44       14   \n",
       "6     1002   December            38       384            41       15   \n",
       "7     1002   November            48       386            32       19   \n",
       "8     1002    October             8        59            15        7   \n",
       "9     1003   December           118      1104            50       27   \n",
       "\n",
       "  first_name  last_name  age                                   city  \\\n",
       "0   Anamaria      Bauer   45  Atlanta-Sandy Springs-Roswell, GA MSA   \n",
       "1     Mickey  Wilkerson   28        Seattle-Tacoma-Bellevue, WA MSA   \n",
       "2     Mickey  Wilkerson   28        Seattle-Tacoma-Bellevue, WA MSA   \n",
       "3     Mickey  Wilkerson   28        Seattle-Tacoma-Bellevue, WA MSA   \n",
       "4     Mickey  Wilkerson   28        Seattle-Tacoma-Bellevue, WA MSA   \n",
       "5     Mickey  Wilkerson   28        Seattle-Tacoma-Bellevue, WA MSA   \n",
       "6     Carlee    Hoffman   36   Las Vegas-Henderson-Paradise, NV MSA   \n",
       "7     Carlee    Hoffman   36   Las Vegas-Henderson-Paradise, NV MSA   \n",
       "8     Carlee    Hoffman   36   Las Vegas-Henderson-Paradise, NV MSA   \n",
       "9   Reynaldo    Jenkins   52                          Tulsa, OK MSA   \n",
       "\n",
       "    reg_date      plan churn_date  revenue_per_month  \n",
       "0 2018-12-24  ultimate          0              70.00  \n",
       "1 2018-08-13      surf          0              20.00  \n",
       "2 2018-08-13      surf          0              60.00  \n",
       "3 2018-08-13      surf          0              60.00  \n",
       "4 2018-08-13      surf          0              90.09  \n",
       "5 2018-08-13      surf          0              20.00  \n",
       "6 2018-10-21      surf          0              20.00  \n",
       "7 2018-10-21      surf          0              60.00  \n",
       "8 2018-10-21      surf          0              20.00  \n",
       "9 2018-01-28      surf          0             140.00  "
      ]
     },
     "execution_count": 61,
     "metadata": {},
     "output_type": "execute_result"
    }
   ],
   "source": [
    "# calculating monthly revenue per user\n",
    "\n",
    "# creating a function calculating the revenue\n",
    "\n",
    "def revenue(row): \n",
    "    \n",
    "    traffic = row['gb_used']\n",
    "    texts = row ['texts_number']\n",
    "    minutes = row ['gb_used']\n",
    "    plan = row['plan']\n",
    "    fix = plans[plans.plan_name == plan]['usd_monthly_pay'].item()\n",
    "  \n",
    "    \n",
    "    traffic_included = plans[plans.plan_name == plan]['gb_per_month_included'].item()\n",
    "    texts_included = plans[plans.plan_name == plan]['messages_included'].item()\n",
    "    minutes_included = plans[plans.plan_name == plan]['minutes_included'].item()\n",
    "    \n",
    "    traffic_cost = plans[plans.plan_name == plan]['usd_per_gb'].item()\n",
    "    texts_cost = plans[plans.plan_name == plan]['usd_per_message'].item()\n",
    "    minutes_cost = plans[plans.plan_name == plan]['usd_per_minute'].item()\n",
    "    \n",
    "    if traffic <= traffic_included: \n",
    "        extra_traffic = 0\n",
    "        \n",
    "    else: \n",
    "        extra_traffic = traffic - traffic_included\n",
    "        \n",
    "        \n",
    "    if texts <= texts_included: \n",
    "        extra_texts = 0\n",
    "        \n",
    "    else:\n",
    "        extra_texts = texts - texts_included\n",
    "        \n",
    "    \n",
    "    if minutes <= minutes_included:\n",
    "        extra_minutes = 0 \n",
    "        \n",
    "    else: \n",
    "        extra_minutes = minutes - minutes_included\n",
    "    \n",
    "    revenue = fix + (extra_traffic*traffic_cost) + (extra_texts*texts_cost) + (extra_minutes*minutes_cost)\n",
    "            \n",
    "    \n",
    "    return revenue\n",
    "    \n",
    "\n",
    "all_users['revenue_per_month'] = all_users.apply(revenue, axis = 1)\n",
    "\n",
    "#checking the results\n",
    "\n",
    "all_users.head(10)\n",
    "    \n"
   ]
  },
  {
   "cell_type": "markdown",
   "metadata": {},
   "source": [
    "### Conclusion"
   ]
  },
  {
   "cell_type": "markdown",
   "metadata": {},
   "source": [
    "We have first converted the data types of values representing dates from 'object' to 'datetime'. \n",
    "\n",
    "Then we have checked all of the datasets.  We found that in the datasetcontaining information on calls made by Megaline users ('calls') there were about 19,4 % of values equal 0 which related to the duration of calls. It means that in fact there were no calls made in those cases. It's quite significant, but we need to remove the rows containing these values in order to get rid of data which may make the whole picture dirtier: we will count these calls as normal, so the total number of calls made by a user will be affected. \n",
    "\n",
    "In the dataset containing information on the web traffic ('internet') we found that there were 13.1 % of values equal to '0' which related to the volume of a web traffic consumed by a user during a session. The 0 value in this case means that there was no internet connection. But unlike to the case of calls, these data will not affect the results of our analysis: we will not count the the number of internet sessions, we will only calculate the total traffic per month. \n",
    "\n",
    "We also did some other preparations. We have first rounded up each of the call communication duration to the next bigger integer, as it is provided by the subscription plans rules.  \n",
    "After thant we retrieved the month in which all of the communications were made (calls, messages, web traffic sessions) and then we grouped the values of each of the said datasets by user identifier ('user_id') and the month of such communications in order to calculate: \n",
    "-  the web traffic consumed by each of users during each of the month of using of Megaline services. Then we converted this volume to the volume rounded  up to gigabytes, as it is provided by the rules of Megaline subscription plans; \n",
    "-  the number of minutes of communication used by each of the users per month;\n",
    "-  the number of text messages sent by each of the users ;\n",
    "\n",
    "In the dataset containing information on subscription plans rules ('plans') we converted the values related to the number of megabytes included in a plan  to gigabytes as it conforms with rules of Megaline subscription plans: megabytes are rounded up to gigabutes.\n",
    "\n",
    "We then merged all of the 'grouped' datasets and dataset containg information on users ('users') in order to facilitate our further calculations.\n",
    "\n",
    "Finally, we calculated the revenue that Megaline had from each of the users per month in 2018 and stored these values in the said 'merged' dataset. "
   ]
  },
  {
   "cell_type": "markdown",
   "metadata": {},
   "source": [
    "## Step 3: Analysing Data"
   ]
  },
  {
   "cell_type": "markdown",
   "metadata": {},
   "source": [
    "Analyzing call communication minutes consumption by users of both plans"
   ]
  },
  {
   "cell_type": "code",
   "execution_count": 62,
   "metadata": {},
   "outputs": [
    {
     "name": "stdout",
     "output_type": "stream",
     "text": [
      "Variance of calling minutes consumption with regard to the surf users: 55420.45670514804\n"
     ]
    },
    {
     "data": {
      "text/plain": [
       "count    1579.000000\n",
       "mean      427.120329\n",
       "std       235.490079\n",
       "min         0.000000\n",
       "25%       269.000000\n",
       "50%       424.000000\n",
       "75%       576.000000\n",
       "max      1510.000000\n",
       "Name: duration, dtype: float64"
      ]
     },
     "execution_count": 62,
     "metadata": {},
     "output_type": "execute_result"
    }
   ],
   "source": [
    "# selecting relevant dataslices\n",
    "minutes_surf = all_users.loc[all_users.plan == 'surf', 'duration']\n",
    "minutes_ultimate = all_users.loc[all_users.plan == 'ultimate', 'duration']\n",
    "\n",
    "# calculating mean, standard deviation and variance \n",
    "# for minutes consumption values by users of each of the plans\n",
    "\n",
    "# calling minutes consumption by surf users\n",
    "\n",
    "print('Variance of calling minutes consumption with regard to the surf users:', np.var(minutes_surf))\n",
    "minutes_surf.describe()"
   ]
  },
  {
   "cell_type": "code",
   "execution_count": 63,
   "metadata": {},
   "outputs": [
    {
     "name": "stdout",
     "output_type": "stream",
     "text": [
      "Variance of calling minutes consumption with regard to the ultimate users: 58463.016940874826\n"
     ]
    },
    {
     "data": {
      "text/plain": [
       "count     724.000000\n",
       "mean      428.071823\n",
       "std       241.958423\n",
       "min         0.000000\n",
       "25%       258.750000\n",
       "50%       421.500000\n",
       "75%       564.250000\n",
       "max      1369.000000\n",
       "Name: duration, dtype: float64"
      ]
     },
     "execution_count": 63,
     "metadata": {},
     "output_type": "execute_result"
    }
   ],
   "source": [
    "# calling minutes consumption by ultimate users\n",
    "\n",
    "print('Variance of calling minutes consumption with regard to the ultimate users:', np.var(minutes_ultimate))\n",
    "minutes_ultimate.describe()"
   ]
  },
  {
   "cell_type": "code",
   "execution_count": 64,
   "metadata": {},
   "outputs": [
    {
     "data": {
      "image/png": "[encoded data removed]",
      "text/plain": [
       "<Figure size 432x288 with 1 Axes>"
      ]
     },
     "metadata": {
      "needs_background": "light"
     },
     "output_type": "display_data"
    }
   ],
   "source": [
    "# plotting probabilty histograms on minutes used  by users of both plans\n",
    "\n",
    "kwargs = dict(alpha=0.5, bins=50, density=True, stacked=True)\n",
    "\n",
    "plt.hist(minutes_surf, **kwargs, color ='g', label ='surf')\n",
    "plt.hist(minutes_ultimate, **kwargs, color = 'r', label = 'ultimate')\n",
    "plt.gca().set(title = 'Call minutes consumpation probablity histogram', ylabel = 'probability', xlabel ='number of minutes used per month')\n",
    "plt.legend()\n",
    "plt.show()"
   ]
  },
  {
   "cell_type": "code",
   "execution_count": 65,
   "metadata": {},
   "outputs": [
    {
     "data": {
      "image/png": "[encoded data removed]",
      "text/plain": [
       "<Figure size 432x288 with 1 Axes>"
      ]
     },
     "metadata": {
      "needs_background": "light"
     },
     "output_type": "display_data"
    }
   ],
   "source": [
    "# finding outliers by plotting a box plot with whiskers\n",
    "\n",
    "all_users.boxplot(column = 'duration', by = 'plan', return_type = 'axes')\n",
    "plt.title (\"Correlation between plan and call minutes consumption by a user\")\n",
    "plt.suptitle(\"\")\n",
    "plt.xlabel(\"plan\")\n",
    "plt.ylabel(\"minutes per month\")\n",
    "plt.show()\n"
   ]
  },
  {
   "cell_type": "markdown",
   "metadata": {},
   "source": [
    "Outliers in both cases are values above circa 1000 minutes"
   ]
  },
  {
   "cell_type": "code",
   "execution_count": 66,
   "metadata": {},
   "outputs": [
    {
     "name": "stdout",
     "output_type": "stream",
     "text": [
      "Variance of web traffic consumption values distribution with regard to the surf users: 62.36260594142324\n"
     ]
    },
    {
     "data": {
      "text/plain": [
       "count    1579.000000\n",
       "mean       16.607346\n",
       "std         7.899502\n",
       "min         0.000000\n",
       "25%        12.000000\n",
       "50%        17.000000\n",
       "75%        21.000000\n",
       "max        70.000000\n",
       "Name: gb_used, dtype: float64"
      ]
     },
     "execution_count": 66,
     "metadata": {},
     "output_type": "execute_result"
    }
   ],
   "source": [
    "# analysing web traffic consumption by users of both plans\n",
    "\n",
    "# selecting relevant dataslices\n",
    "traffic_surf = all_users.loc[all_users.plan == 'surf', 'gb_used']\n",
    "traffic_ultimate = all_users.loc[all_users.plan == 'ultimate', 'gb_used']\n",
    "\n",
    "# calculating mean, standard deviation and variance \n",
    "# for web traffic consumption values by users of each of the plans\n",
    "\n",
    "# web traffic consumption by surf users\n",
    "\n",
    "print('Variance of web traffic consumption values distribution with regard to the surf users:', np.var(traffic_surf))\n",
    "traffic_surf.describe()"
   ]
  },
  {
   "cell_type": "code",
   "execution_count": 67,
   "metadata": {},
   "outputs": [
    {
     "name": "stdout",
     "output_type": "stream",
     "text": [
      "Variance of web traffic consumption values distribution with regard to the ultimate users: 60.06998221971246\n"
     ]
    },
    {
     "data": {
      "text/plain": [
       "count    724.000000\n",
       "mean      17.211326\n",
       "std        7.755841\n",
       "min        0.000000\n",
       "25%       13.000000\n",
       "50%       17.000000\n",
       "75%       21.000000\n",
       "max       46.000000\n",
       "Name: gb_used, dtype: float64"
      ]
     },
     "execution_count": 67,
     "metadata": {},
     "output_type": "execute_result"
    }
   ],
   "source": [
    "# web traffic consumption by ultimate users\n",
    "\n",
    "print('Variance of web traffic consumption values distribution with regard to the ultimate users:', np.var(traffic_ultimate))\n",
    "traffic_ultimate.describe()"
   ]
  },
  {
   "cell_type": "code",
   "execution_count": 68,
   "metadata": {},
   "outputs": [
    {
     "data": {
      "image/png": "[encoded data removed]",
      "text/plain": [
       "<Figure size 432x288 with 1 Axes>"
      ]
     },
     "metadata": {
      "needs_background": "light"
     },
     "output_type": "display_data"
    }
   ],
   "source": [
    "# plotting histograms on webtraffic used by users of both plans\n",
    "\n",
    "kwargs = dict(alpha=0.5, bins=50, density=True, stacked=True)\n",
    "\n",
    "plt.hist(traffic_surf, **kwargs, color ='g', label = 'surf')\n",
    "plt.hist(traffic_ultimate, **kwargs, color = 'r', label = 'ultimate')\n",
    "plt.gca().set(title = 'Web traffic probablity histogram', ylabel = 'probability', xlabel ='number of gigabytes per month')\n",
    "plt.legend()\n",
    "plt.show()"
   ]
  },
  {
   "cell_type": "code",
   "execution_count": 69,
   "metadata": {},
   "outputs": [
    {
     "data": {
      "image/png": "[encoded data removed]",
      "text/plain": [
       "<Figure size 432x288 with 1 Axes>"
      ]
     },
     "metadata": {
      "needs_background": "light"
     },
     "output_type": "display_data"
    }
   ],
   "source": [
    "# finding outliers by plotting a box plot with whiskers\n",
    "\n",
    "all_users.boxplot(column = 'gb_used', by = 'plan', return_type = 'axes')\n",
    "plt.title (\"Correlation between plan and web traffic consumption by a user\")\n",
    "plt.suptitle(\"\")\n",
    "plt.xlabel(\"plan\")\n",
    "plt.ylabel(\"number of gigabytes per month\")\n",
    "plt.show()\n"
   ]
  },
  {
   "cell_type": "markdown",
   "metadata": {},
   "source": [
    "The top threshold for outliers in both cases is close: about 34,5 in the case of 'surf' users and 33 of ultimate users in the case of \"surf\" plan there is no below threshold, while in the case of ultimate users the below threshold is 1 gigabytes."
   ]
  },
  {
   "cell_type": "code",
   "execution_count": 70,
   "metadata": {},
   "outputs": [
    {
     "name": "stdout",
     "output_type": "stream",
     "text": [
      "Variance of text messages consumption values distribution with regard to the surf users: 1125.4048918656479\n"
     ]
    },
    {
     "data": {
      "text/plain": [
       "count    1579.000000\n",
       "mean       31.041165\n",
       "std        33.557683\n",
       "min         0.000000\n",
       "25%         3.000000\n",
       "50%        24.000000\n",
       "75%        47.000000\n",
       "max       266.000000\n",
       "Name: texts_number, dtype: float64"
      ]
     },
     "execution_count": 70,
     "metadata": {},
     "output_type": "execute_result"
    }
   ],
   "source": [
    "# analysing text messages consumption by users of both plans\n",
    "\n",
    "# selecting relevant dataslices\n",
    "texts_surf = all_users.loc[all_users.plan == 'surf', 'texts_number']\n",
    "texts_ultimate = all_users.loc[all_users.plan == 'ultimate', 'texts_number']\n",
    "\n",
    "# calculating mean, standard deviation and variance \n",
    "# for number of text messages per month values with regard to  the users of each of the plans\n",
    "\n",
    "# text messages consumption by surf users\n",
    "\n",
    "print('Variance of text messages consumption values distribution with regard to the surf users:', np.var(texts_surf))\n",
    "texts_surf.describe()"
   ]
  },
  {
   "cell_type": "code",
   "execution_count": 71,
   "metadata": {},
   "outputs": [
    {
     "name": "stdout",
     "output_type": "stream",
     "text": [
      "Variance of text messages consumption values distribution with regard to the ultimate users: 1208.15657908794\n"
     ]
    },
    {
     "data": {
      "text/plain": [
       "count    724.000000\n",
       "mean      37.343923\n",
       "std       34.782576\n",
       "min        0.000000\n",
       "25%        6.000000\n",
       "50%       30.000000\n",
       "75%       60.250000\n",
       "max      166.000000\n",
       "Name: texts_number, dtype: float64"
      ]
     },
     "execution_count": 71,
     "metadata": {},
     "output_type": "execute_result"
    }
   ],
   "source": [
    "# text messages consumption by ultimate users\n",
    "\n",
    "print('Variance of text messages consumption values distribution with regard to the ultimate users:', np.var(texts_ultimate))\n",
    "texts_ultimate.describe()"
   ]
  },
  {
   "cell_type": "code",
   "execution_count": 72,
   "metadata": {},
   "outputs": [
    {
     "data": {
      "image/png": "[encoded data removed]",
      "text/plain": [
       "<Figure size 432x288 with 1 Axes>"
      ]
     },
     "metadata": {
      "needs_background": "light"
     },
     "output_type": "display_data"
    }
   ],
   "source": [
    "# plotting histograms on number of text messages sent by users of two plans\n",
    "\n",
    "kwargs = dict(alpha=0.5, bins=50, density=True, stacked=True)\n",
    "\n",
    "plt.hist(texts_surf, **kwargs, color ='g', label ='surf')\n",
    "plt.hist(texts_ultimate, **kwargs, color = 'r', label = 'ultimate')\n",
    "plt.gca().set(title = 'Text messages consumption probabilty histogram', ylabel = 'probability', xlabel ='number of messages per month')\n",
    "plt.legend()\n",
    "plt.show()\n"
   ]
  },
  {
   "cell_type": "code",
   "execution_count": 73,
   "metadata": {},
   "outputs": [
    {
     "data": {
      "image/png": "[encoded data removed]",
      "text/plain": [
       "<Figure size 432x288 with 1 Axes>"
      ]
     },
     "metadata": {
      "needs_background": "light"
     },
     "output_type": "display_data"
    }
   ],
   "source": [
    "# finding outliers by plotting a box plot with whiskers\n",
    "\n",
    "all_users.boxplot(column = 'texts_number', by = 'plan', return_type = 'axes')\n",
    "plt.title (\"Correlation between plan and text messages consumption by a user\")\n",
    "plt.suptitle(\"\")\n",
    "plt.xlabel(\"plan\")\n",
    "plt.ylabel(\"number of text messages per month\")\n",
    "plt.show()"
   ]
  },
  {
   "cell_type": "markdown",
   "metadata": {},
   "source": [
    "The top threshold of outliers for 'ultimate' users is around 140, while for 'surf' users is around 110."
   ]
  },
  {
   "cell_type": "markdown",
   "metadata": {},
   "source": [
    "### Conclusion"
   ]
  },
  {
   "cell_type": "markdown",
   "metadata": {},
   "source": [
    "We have analysed users' behavior with regard to using (consumption) of voice communication, internet and text messaging services. \n",
    "For each of the group of users (those who are subscribed to 'surf' plan and those who are subscribed to 'ultimate' plan) we have found mean, standard deviation and variance. We have also plotted probabilty histograms so that we could compare the distributions of these values with regard to these two groups and box plot with whiskers in order evaluate the outliers in these distributions. \n",
    "The general funding is that the consumers from the two groups have quite similar behavior. They tend to consume the same amounts of voice communication 'minutes', web traffic, and text messages. Below the more detailed description of what we found from this analysis. \n",
    "\n",
    "A. Voice communication service usage. \n",
    "\n",
    "The average per month consumption is almost the same: 427 minutes for 'surf' users and 428 minutes for 'ultimate' users. The standard deviation and variance  are also similar: \n",
    "\n",
    "- 235 (std) and 55420 (var) in the case of 'surf' users \n",
    "and \n",
    "- 241 (std) and 58463 (var) in the case of 'ultimate' users. \n",
    "\n",
    "When we look at probablity histogram for distribution of these values we see that the two histograms look a like: there's a peak close to 'zero' on the left of the two histograms, all other values are distributed almost normally around the mean. The users with number of messages above around 1000 messages are outliers in the both cases.  The difference is that the mean peak in the case of 'ultimate' users is more significant than the other. \n",
    "\n",
    "So we may conclude that there's a share of users in the two groups which tend not use or use relatively a little the voice service, while the other users of the two groups are 'distributed' proportionally around the average level of consumption.\n",
    "\n",
    "B. Internet communication service usage. \n",
    "\n",
    "The picture is the same as in the case of voice communication service. The average per month consumption is almost the same: 16 gigabytes in the case of 'surf' users and 17 gigabytes in the case of 'ultimate' users. The standard deviation and variance are practically the same: \n",
    "\n",
    "-  7.8 (std) and 62.36(var) in the case of 'surf' users\n",
    "and \n",
    "\n",
    "-  7.75 (std) and 60 (var) in the case of 'ultimate' users.\n",
    "\n",
    "The probability histograms show that the values are distributed almost normally, with the same density, the difference is that the mean peak of surf users is more significant than the one in the case of ultimate users. The top level thresholds are close (34,5 in the case of 'surf' users and 33 in the case of 'ultimate' users), there is no above threshold in the case of 'surf' users, while the 'ultimate' users using less than 1 gigabytes per month are outliers. So we may say that 'surf' users tend to use the internet service  a bit more actively than the 'ultimate' users.\n",
    "\n",
    "It's quite logical: 'surf' users call a little bit less, but use internet service more instead. At the same time we see that the average value  \n",
    "\n",
    "C. Text messages. \n",
    "\n",
    "Here the situation is also similar, but a little more different compare the other cases. The average number of text messages sent by 'surf' users is  31, while the average number of messages sent by 'ultimate' users is 37. The standard deviation and variance are the same time close to each other: \n",
    "\n",
    "- 33.55 (std) and 1125.4(var) in the case of 'surf' users,\n",
    "and \n",
    "- 34.7 (std) and 1208.15(var) in the case of 'ultimate' users. \n",
    "\n",
    "The reason of the difference between the average numbers is good illustrated by the probability histograms: we see that 0 and close to 0 message usage is quite typic for both types of users, for 'ultimate' users is even more typical than for the other groupe, but at the same time the 'ultimate' users histogram is a little bit skewed to the right with outliers on the right,  while the other histogram a little bit more to the left. The box plot with whiskers is even more illustrative: the top threshold of the 'ultimate' users is around 140 messages per month, while ion the case of 'surf' users it is about 110 messages.  So we may say the the 'surf' users use text messages a little bit less, than the 'ultimate' users. But the difference is not crucial. \n"
   ]
  },
  {
   "cell_type": "markdown",
   "metadata": {},
   "source": [
    "## Step 4: Testing hypotheses"
   ]
  },
  {
   "cell_type": "code",
   "execution_count": 74,
   "metadata": {},
   "outputs": [
    {
     "name": "stdout",
     "output_type": "stream",
     "text": [
      "Variance of revenue distribution with regard to the surf users: 2968.1223360817507\n"
     ]
    },
    {
     "data": {
      "text/plain": [
       "count    1579.000000\n",
       "mean       58.714965\n",
       "std        54.497736\n",
       "min        20.000000\n",
       "25%        20.000000\n",
       "50%        40.000000\n",
       "75%        80.000000\n",
       "max       572.280000\n",
       "Name: revenue_per_month, dtype: float64"
      ]
     },
     "execution_count": 74,
     "metadata": {},
     "output_type": "execute_result"
    }
   ],
   "source": [
    "# preanalysing  revenue per month from a user \n",
    "\n",
    "# selecting relevant dataslices\n",
    "rev_surf = all_users.loc[all_users.plan == 'surf', 'revenue_per_month']\n",
    "rev_ultimate = all_users.loc[all_users.plan == 'ultimate', 'revenue_per_month']\n",
    "\n",
    "# calculating mean, standard deviation and variance for revenue values each of the plans\n",
    "\n",
    "# revenue from surf users values\n",
    "\n",
    "print('Variance of revenue distribution with regard to the surf users:', np.var(rev_surf))\n",
    "rev_surf.describe()"
   ]
  },
  {
   "cell_type": "code",
   "execution_count": 75,
   "metadata": {},
   "outputs": [
    {
     "name": "stdout",
     "output_type": "stream",
     "text": [
      "Variance of revenue values distribution with regard to the ultimate users: 128.98115900003052\n"
     ]
    },
    {
     "data": {
      "text/plain": [
       "count    724.000000\n",
       "mean      72.301105\n",
       "std       11.364839\n",
       "min       70.000000\n",
       "25%       70.000000\n",
       "50%       70.000000\n",
       "75%       70.000000\n",
       "max      182.000000\n",
       "Name: revenue_per_month, dtype: float64"
      ]
     },
     "execution_count": 75,
     "metadata": {},
     "output_type": "execute_result"
    }
   ],
   "source": [
    "# revenue from ultimate users values\n",
    "\n",
    "print('Variance of revenue values distribution with regard to the ultimate users:', np.var(rev_ultimate))\n",
    "rev_ultimate.describe()"
   ]
  },
  {
   "cell_type": "code",
   "execution_count": 76,
   "metadata": {
    "scrolled": true
   },
   "outputs": [
    {
     "data": {
      "image/png": "[encoded data removed]",
      "text/plain": [
       "<Figure size 432x288 with 1 Axes>"
      ]
     },
     "metadata": {
      "needs_background": "light"
     },
     "output_type": "display_data"
    }
   ],
   "source": [
    "# plotting probability histograms on revenue per month from users of both plans\n",
    "\n",
    "kwargs = dict(alpha=0.5, bins=50, density=True, stacked=True)\n",
    "\n",
    "plt.hist(rev_surf, **kwargs, color ='g', label = 'surf')\n",
    "plt.hist(rev_ultimate, **kwargs, color = 'r', label ='ultimate')\n",
    "plt.gca().set(title = 'Revenue from a user per month probablity histogram', \n",
    "              ylabel = 'probability', xlabel ='revenue')\n",
    "plt.legend()\n",
    "plt.show()"
   ]
  },
  {
   "cell_type": "code",
   "execution_count": 77,
   "metadata": {},
   "outputs": [
    {
     "data": {
      "image/png": "[encoded data removed]",
      "text/plain": [
       "<Figure size 432x288 with 1 Axes>"
      ]
     },
     "metadata": {
      "needs_background": "light"
     },
     "output_type": "display_data"
    }
   ],
   "source": [
    "# zooming in histograms\n",
    "\n",
    "plt.hist(rev_surf, **kwargs, color ='g', label = 'surf')\n",
    "plt.hist(rev_ultimate, **kwargs, color = 'r', label = 'ultimate')\n",
    "plt.xlim(0,200)\n",
    "plt.gca().set(title = 'Revenue from a user per month probablity histogram', ylabel = 'probability', xlabel ='revenue')\n",
    "plt.legend()\n",
    "plt.show()"
   ]
  },
  {
   "cell_type": "code",
   "execution_count": 78,
   "metadata": {},
   "outputs": [
    {
     "data": {
      "image/png": "[encoded data removed]",
      "text/plain": [
       "<Figure size 432x288 with 1 Axes>"
      ]
     },
     "metadata": {
      "needs_background": "light"
     },
     "output_type": "display_data"
    }
   ],
   "source": [
    "# finding outliers\n",
    "\n",
    "all_users.boxplot(column = 'revenue_per_month', by = 'plan', return_type = 'axes')\n",
    "plt.title (\"Correlation between plan and revenue from a user\")\n",
    "plt.suptitle(\"\")\n",
    "plt.xlabel(\"plan\")\n",
    "plt.ylabel(\"revenue\")\n",
    "plt.show()\n",
    "\n"
   ]
  },
  {
   "cell_type": "markdown",
   "metadata": {},
   "source": [
    "So the revenue of users with 'surf' plan above 170 and those with 'ultimate' plan under 70 are outliers "
   ]
  },
  {
   "cell_type": "code",
   "execution_count": 79,
   "metadata": {},
   "outputs": [],
   "source": [
    "# slicing the dataset from outliers \n",
    "filtered_surf = all_users.query('plan == \"surf\" and revenue_per_month < 170')\n",
    "filtered_ultimate = all_users.query('plan == \"ultimate\" and revenue_per_month <= 70')"
   ]
  },
  {
   "cell_type": "code",
   "execution_count": 80,
   "metadata": {},
   "outputs": [
    {
     "data": {
      "text/plain": [
       "count    1504.000000\n",
       "mean       50.220259\n",
       "std        36.695574\n",
       "min        20.000000\n",
       "25%        20.000000\n",
       "50%        40.000000\n",
       "75%        70.525000\n",
       "max       163.000000\n",
       "Name: revenue_per_month, dtype: float64"
      ]
     },
     "metadata": {},
     "output_type": "display_data"
    },
    {
     "data": {
      "text/plain": [
       "count    683.0\n",
       "mean      70.0\n",
       "std        0.0\n",
       "min       70.0\n",
       "25%       70.0\n",
       "50%       70.0\n",
       "75%       70.0\n",
       "max       70.0\n",
       "Name: revenue_per_month, dtype: float64"
      ]
     },
     "metadata": {},
     "output_type": "display_data"
    }
   ],
   "source": [
    "# checking the results \n",
    "display(filtered_surf['revenue_per_month'].describe())\n",
    "display(filtered_ultimate['revenue_per_month'].describe())"
   ]
  },
  {
   "cell_type": "markdown",
   "metadata": {},
   "source": [
    "Testing hypothesis that the average revenue from users of ultimate and surf calling plans differs.\n",
    "\n",
    "H0 is \"sample distributions are equal\" i.e. distributions of revenue values from surf and ultimate users\n",
    "\n",
    "H1 is \"sample distributions are not equal\"\n",
    "\n",
    "alpha = 0.05"
   ]
  },
  {
   "cell_type": "code",
   "execution_count": 81,
   "metadata": {},
   "outputs": [
    {
     "name": "stdout",
     "output_type": "stream",
     "text": [
      "Statistics=344000.000, p=0.00000\n",
      "Different distribution (reject H0)\n"
     ]
    }
   ],
   "source": [
    "# before removing  outliers\n",
    "\n",
    "# selecting data samples\n",
    "rev_surf = all_users.loc[all_users.plan == 'surf', 'revenue_per_month']\n",
    "rev_ultimate = all_users.loc[all_users.plan == 'ultimate', 'revenue_per_month']\n",
    "\n",
    "# comparing samples\n",
    "stat, p = mannwhitneyu(rev_surf, rev_ultimate)\n",
    "print('Statistics=%.3f, p=%.5f' % (stat, p))\n",
    "\n",
    "\n",
    "# interpretating\n",
    "alpha = 0.05\n",
    "if p > alpha:\n",
    "    print('Same distribution (fail to reject H0)')\n",
    "else:\n",
    "    print('Different distribution (reject H0)')\n"
   ]
  },
  {
   "cell_type": "code",
   "execution_count": 82,
   "metadata": {},
   "outputs": [
    {
     "name": "stdout",
     "output_type": "stream",
     "text": [
      "Statistics=283103.500, p=0.00000\n",
      "Different distribution (reject H0)\n"
     ]
    }
   ],
   "source": [
    "# after removing outliers\n",
    "\n",
    "# selecting data samples\n",
    "\n",
    "rev_surf_filtd = filtered_surf['revenue_per_month']\n",
    "rev_ultimate_filtd = filtered_ultimate['revenue_per_month']\n",
    "\n",
    "# comparing samples\n",
    "stat, p = mannwhitneyu(rev_surf_filtd, rev_ultimate_filtd)\n",
    "print('Statistics=%.3f, p=%.5f' % (stat, p))\n",
    "\n",
    "\n",
    "# interpretating\n",
    "alpha = 0.05\n",
    "if p > alpha:\n",
    "    print('Same distribution (fail to reject H0)')\n",
    "else:\n",
    "    print('Different distribution (reject H0)')\n",
    "\n"
   ]
  },
  {
   "cell_type": "code",
   "execution_count": 83,
   "metadata": {},
   "outputs": [
    {
     "data": {
      "text/plain": [
       "New York-Newark-Jersey City, NY-NJ-PA MSA          378\n",
       "Los Angeles-Long Beach-Anaheim, CA MSA             132\n",
       "Chicago-Naperville-Elgin, IL-IN-WI MSA              94\n",
       "Dallas-Fort Worth-Arlington, TX MSA                 89\n",
       "Philadelphia-Camden-Wilmington, PA-NJ-DE-MD MSA     82\n",
       "                                                  ... \n",
       "Omaha-Council Bluffs, NE-IA MSA                      3\n",
       "Jacksonville, FL MSA                                 2\n",
       "Raleigh-Cary, NC MSA                                 2\n",
       "El Paso, TX MSA                                      2\n",
       "Cape Coral-Fort Myers, FL MSA                        1\n",
       "Name: city, Length: 73, dtype: int64"
      ]
     },
     "execution_count": 83,
     "metadata": {},
     "output_type": "execute_result"
    }
   ],
   "source": [
    "all_users['city'].value_counts()"
   ]
  },
  {
   "cell_type": "code",
   "execution_count": 84,
   "metadata": {
    "scrolled": true
   },
   "outputs": [
    {
     "data": {
      "image/png": "[encoded data removed]",
      "text/plain": [
       "<Figure size 432x288 with 1 Axes>"
      ]
     },
     "metadata": {
      "needs_background": "light"
     },
     "output_type": "display_data"
    }
   ],
   "source": [
    "# looking at the distribution of revenue values with regard to NY area and other areas\n",
    "\n",
    "ny_area = all_users.loc[all_users.city == 'New York-Newark-Jersey City, NY-NJ-PA MSA', \n",
    "                        'revenue_per_month']\n",
    "other_area = all_users.loc[all_users.city != 'New York-Newark-Jersey City, NY-NJ-PA MSA', \n",
    "                           'revenue_per_month']\n",
    "\n",
    "kwargs = dict(alpha=0.5, bins=50, density=True, stacked=True)\n",
    "plt.hist(ny_area, **kwargs, color ='g', label = 'ny')\n",
    "plt.hist(other_area, **kwargs, color = 'r', label = 'other')\n",
    "plt.xlim(0,200)\n",
    "plt.gca().set(title = 'Revenue from a user per month probablity histogram', \n",
    "              ylabel = 'probability', xlabel ='revenue')\n",
    "plt.legend()\n",
    "plt.show()"
   ]
  },
  {
   "cell_type": "code",
   "execution_count": 85,
   "metadata": {},
   "outputs": [
    {
     "data": {
      "text/plain": [
       "count    378.000000\n",
       "mean      58.601746\n",
       "std       43.114999\n",
       "min       20.000000\n",
       "25%       20.000000\n",
       "50%       50.000000\n",
       "75%       70.000000\n",
       "max      280.000000\n",
       "Name: revenue_per_month, dtype: float64"
      ]
     },
     "execution_count": 85,
     "metadata": {},
     "output_type": "execute_result"
    }
   ],
   "source": [
    "ny_area.describe()"
   ]
  },
  {
   "cell_type": "code",
   "execution_count": 86,
   "metadata": {},
   "outputs": [
    {
     "data": {
      "text/plain": [
       "count    1925.000000\n",
       "mean       63.846997\n",
       "std        46.511205\n",
       "min        20.000000\n",
       "25%        20.540000\n",
       "50%        70.000000\n",
       "75%        70.000000\n",
       "max       572.280000\n",
       "Name: revenue_per_month, dtype: float64"
      ]
     },
     "execution_count": 86,
     "metadata": {},
     "output_type": "execute_result"
    }
   ],
   "source": [
    "other_area.describe()"
   ]
  },
  {
   "cell_type": "markdown",
   "metadata": {},
   "source": [
    "Testing hypothesis that the average revenue from users in NY-NJ area is different from that of the users from other regions\n",
    "\n",
    "H0 is \"sample distributions are equal\"\n",
    "i.e. distributions of revenue values from user in NY-NJ area and users from othe areas \n",
    "\n",
    "H1 is \"sample distributions are not equal\"\n",
    "\n",
    "alpha = 0.05"
   ]
  },
  {
   "cell_type": "code",
   "execution_count": 87,
   "metadata": {},
   "outputs": [
    {
     "name": "stdout",
     "output_type": "stream",
     "text": [
      "Statistics=328607.500, p=0.001\n",
      "Different distribution (reject H0)\n"
     ]
    }
   ],
   "source": [
    "\n",
    "# comparing samples\n",
    "stat, p = mannwhitneyu(ny_area, other_area)\n",
    "print('Statistics=%.3f, p=%.3f' % (stat, p))\n",
    "\n",
    "\n",
    "# interpretating\n",
    "alpha = 0.05\n",
    "if p > alpha:\n",
    "    print('Same distribution (fail to reject H0)')\n",
    "else:\n",
    "    print('Different distribution (reject H0)')\n",
    "\n"
   ]
  },
  {
   "cell_type": "code",
   "execution_count": 88,
   "metadata": {},
   "outputs": [
    {
     "name": "stdout",
     "output_type": "stream",
     "text": [
      "Statistics=173879.500, p=0.153\n",
      "Same distribution (fail to reject H0)\n"
     ]
    }
   ],
   "source": [
    "# checking the test after removing the outliers\n",
    "\n",
    "# removing the outliers\n",
    "all_users_filtered = all_users.query(('plan == \"surf\" and revenue_per_month < 170') or ('plan == \"ultimate\" and revenue_per_month <= 70'))\n",
    "\n",
    "\n",
    "# creating new samples \n",
    "\n",
    "ny_area_filt = all_users_filtered.loc[all_users.city == 'New York-Newark-Jersey City, NY-NJ-PA MSA', \n",
    "                        'revenue_per_month']\n",
    "other_area_filt = all_users_filtered.loc[all_users.city != 'New York-Newark-Jersey City, NY-NJ-PA MSA', \n",
    "                           'revenue_per_month']\n",
    "\n",
    "\n",
    "# comparing samples\n",
    "stat, p = mannwhitneyu(ny_area_filt, other_area_filt)\n",
    "print('Statistics=%.3f, p=%.3f' % (stat, p))\n",
    "\n",
    "\n",
    "# interpretating\n",
    "if p > alpha:\n",
    "    print('Same distribution (fail to reject H0)')\n",
    "else:\n",
    "    print('Different distribution (reject H0)')\n",
    "\n"
   ]
  },
  {
   "cell_type": "markdown",
   "metadata": {},
   "source": [
    "### Conclusion"
   ]
  },
  {
   "cell_type": "markdown",
   "metadata": {},
   "source": [
    "We have tested two hypothesis: \n",
    "    \n",
    "1) The average revenue from users of 'ultimate' and 'surf' calling plans differs.\n",
    "2) The average revenue from users in NY-NJ area is different from that of the users from other regions.\n",
    "\n",
    "A. First hypothesis\n",
    "To test the first hypothesis we made some preliminary analysis of the revenue values distribution within these two group of users. \n",
    "\n",
    "We found that variance of values of 'ultimate' users was not significant. The most of the values were close to the mean, which was very close (72 dollars) to the monthly charge of 70 dollars. \n",
    "\n",
    "The situation with 'surf' users was different. The average revenue was 58 dollars, so it was far from the montly charge of 20 dollars. The reason of this is explained by the fact the consumer behavior was quite similar in the two cases. The 'surf' users paid exta charges for the services, because they consumed  the same volume of services as the 'ultimate' users. \n",
    "\n",
    "We have also plotted probabilty histograms in order to see better what the distribution looked like. We saw that the distribution of values in these cases was far from 'normal'. This is also quite predictable, taking into account, that the subcription plans do not provide a lot of 'variability' to the users. \n",
    "\n",
    "So we decided to use the Mann-Whitney U test which seemed to be more approriate, because it is designed to be used in the case of any kind of distributions. The 'idea' of the test is to valuate the probabilty that the two datasets are taken from the one statistical population. The test enables to compare  data samples and gives a suggestion whether we may reject the hypothesis  that data samples distributions are the same (and taken from the same statistical population). Taking into account that if the distributions are the same, so the average of values should be the same as well, so we may use this test to test hypothesis as if an average of values related to one statictical population differs from another. \n",
    "\n",
    "\n",
    "For alpha value we choosed a standard \"0.05\". In accordance with the rules of the test we formulated H0 hypothesis as \"the distributions of the data samples are the same\" and H1 is \"the distributions of the data samples are not the same\". So if the test suggests not to reject the H0 hypothesis, we may further consider this hypothesis as likely possible. \n",
    "\n",
    "As there were outliers within two groups of users, we decided to make the test twice: once before the removing the outliers and then after. We determined the outliers with IQR method (170 dollars as the high threshold for 'surf' users, and 70 dollars for 'ultimate' users). \n",
    "\n",
    "The result in the two cases was the same: the p-value found with the test was 0, so the test suggests to reject the H0 hypothesis and not to reject the alternative hypothesis, that the distributions are different, and therefore the average levels are  likely to be different. \n",
    "\n",
    "B. Second hypothesis\n",
    "\n",
    "As with the above, we decided to use the Mann-Whitney U test as the distributions of the values of selected data samples were far from 'normal'. The logic was the same as above: we test hypothesis, that the distributions of data samples are eqauall, and if tests suggests to reject this hypothesis, and not to reject the alternative hypothesis (that the distribution is different, and thefore the average is likely to be different). \n",
    "So H0 hypothesis was formulated in the same manner: 'distributions of the data samples are the same\", and the H1: \"the distributions of the data samples are not the same\". For tha alpha was chosen the standard threshold - \"0.05\". \n",
    "We conducted this test two times: once before removing the outliers and then after removing the outliers. The results were different. The first result was \"to reject the H0 hypothesis\" (the p-value was only 0.001), but the second was to \"fail to reject the H0\" (the p-value was 0.153). In other words, we have no evidence to say, that there's a difference between the average income from a user from NY-NJ area and other are of service. "
   ]
  },
  {
   "cell_type": "markdown",
   "metadata": {},
   "source": [
    "## General conclusion"
   ]
  },
  {
   "cell_type": "markdown",
   "metadata": {},
   "source": [
    "I. INTRODUCTION\n",
    "\n",
    "Megaline offers its clients two prepaid plans, Surf and Ultimate.  The goal of this research is  to conduct based  on a relatively small client selection a preliminary analysis of  clients' behavior and to determine which prepaid plan brings in more revenue.\n",
    "\n",
    "We have had 5 datasets:\n",
    "1) 'users' which contains information on 500 Megaline's users: user's id, user's names, user's age, user's city of residence, user's subscription plan, date of subscription to the plan ('registration date'), and the date a user stopped using this plan. The latter one is missing in the most of cases (466 cases), so it means that the most of the users in the dataset are still using services with the given plan.\n",
    "2) 'calls' which contains information on calls made by the users: call's id, user's id which made this call, call's duration and the date of a call. This dataset contains 137735 entries.\n",
    "3) 'internet' which contains information on the users' internet connection sessions: internet session' id, user's id which made this session, the session's date, and the volume of internet traffic used during each of the session. This dataset contains 104825 entries.\n",
    "4) 'messages' which contains information on messages sent by the users: message'id, user's id which sent this message, and the date on which the message was sent.\n",
    "5) 'plans' which contains information on both of the subcription plans features: number of messages, minutes of calls communication, data volume included in monthly allowance of each of the plans, monthly paymnet rate, and also the rates of fees for exceeding data volume, text messages and minutes of calls with regard to the each of the plans.\n",
    "\n",
    "II. PREPROCESSING\n",
    "\n",
    "At the preprocessing stage we have checked all of the datasets. We found that in the dataset containing information on calls made by Megaline users ('calls') there were about 19,4 % of values equal 0 which related to the duration of calls. It means that in fact there were no calls made in those cases. It's quite significant, but we decided to remove the rows containing these values in order to get rid of data which may make the whole picture dirtier: we would have count these calls as normal, so the total number of calls made by a user will be affected.\n",
    "\n",
    "In the dataset containing information on the web traffic ('internet') we found that there were 13.1 % of values equal to '0' which related to the volume of a web traffic consumed by a user during a session. The 0 value in this case means that there was no internet connection. But unlike to the case of calls, these data will not affect the results of our analysis: we will not count the the number of internet sessions, we will only calculate the total traffic per month.\n",
    "\n",
    "We then prepared the given data for further processing: \n",
    "\n",
    "1) we converted the data types of values representing dates from 'object' to 'datetime';\n",
    "2) we rounded up each of the call communication duration to the next bigger integer, as it is provided by the subscription plans rules;\n",
    "3)  we retrieved the month in which all of the communications were made (calls, messages, web traffic sessions) and then we grouped the values of each of the said datasets by user identifier ('user_id') and the month of such communications in order to calculate:\n",
    "- the number of minutes of communication used by each of the users per month;\n",
    "- the number of text messages sent by each of the users;\n",
    "4) in the dataset containing information on subscription plans rules ('plans') we converted the values related to the number of megabytes included in a plan to gigabytes as it conforms with rules of Megaline subscription plans: megabytes are rounded up to gigabytes.\n",
    "5) we then merged all of the 'grouped' datasets and dataset containg information on users ('users') in order to facilitate our further calculations.\n",
    "6) Finally, we calculated the revenue that Megaline had from each of the users per month in 2018 and stored these values in the said 'merged' dataset.\n",
    "\n",
    "III. ANALYSING USERS BEHAVIOR\n",
    "\n",
    "We have analysed users' behavior with regard to using (consumption) of voice communication, internet and text messaging services. \n",
    "For each of the group of users (those who are subscribed to 'surf' plan and those who are subscribed to 'ultimate' plan) we have found mean, standard deviation and variance. We have also plotted probabilty histograms so that we could compare the distributions of these values with regard to these two groups. \n",
    "\n",
    "The general funding is that the consumers from the two groups have quite similar behavior. We may say that the users  tend to consume the same amounts of voice communication 'minutes', web traffic, and text messages. Below the more detailed description of what we found from this analysis. \n",
    "\n",
    "A. Voice communication service usage. \n",
    "\n",
    "The average per month consumption is almost the same: 427 minutes for 'surf' users and 428 minutes for 'ultimate' users. The standard deviation and variance  are also similar: \n",
    "\n",
    "- 235 (std) and 55420 (var) in the case of 'surf' users \n",
    "and \n",
    "- 241 (std) and 58463 (var) in the case of 'ultimate' users. \n",
    "\n",
    "When we look at probablity histogram for distribution of these values we see that the two histograms look a like: there's a peak close to 'zero' on the left of the two histograms, all other values are distributed almost normally around the mean. The users with number of messages above around 1000 messages are outliers in the both cases (found in accordance with IQR method). The difference is that the mean peak in the case of 'ultimate' users is more significant than the other. \n",
    "\n",
    "So we may conclude that there's a share of users in the two groups which tend not use or use relatively a little the voice service, while the other users of the two groups are 'distributed' proportionally around the average level of consumption.\n",
    "\n",
    "B. Internet communication service usage. \n",
    "\n",
    "The picture is the same as in the case of voice communication service. The average per month consumption is almost the same: 16 gigabytes in the case of 'surf' users and 17 gigabytes in the case of 'ultimate' users. The standard deviation and variance are practically the same: \n",
    "\n",
    "-  7.8 (std) and 62.36(var) in the case of 'surf' users\n",
    "and \n",
    "\n",
    "-  7.75 (std) and 60 (var) in the case of 'ultimate' users.\n",
    "\n",
    "The probability histograms show that the values are distributed almost normally, with the same density, the difference is that the mean peak of surf users is more significant than the one in the case of ultimate users, and there are some outliers on the right in the case of 'surf' users. The top level thresholds are close (34,5 in the case of 'surf' users and 33 in the case of 'ultimate' users), there is no above threshold in the case of 'surf' users, while the 'ultimate' users using less than 1 gigabytes per month are outliers. So we may say that 'surf' users tend a bit more to use the internet service  more actively than the 'ultimate' users. \n",
    "\n",
    "It's quite logical: 'surf' users call a little bit less, but use internet service more instead. At the same time we see that the average value  \n",
    "\n",
    "C. Text messages. \n",
    "\n",
    "Here the situation is also similar, but a little more different compare the other cases. The average number of text messages sent by 'surf' users is  31, while the average number of messages sent by 'ultimate' users is 37. The standard deviation and variance are the same time close to each other: \n",
    "\n",
    "- 33.55 (std) and 1125.4(var) in the case of 'surf' users,\n",
    "and \n",
    "- 34.7 (std) and 1208.15(var) in the case of 'ultimate' users. \n",
    "\n",
    "The reason of the difference between the average numbers is good illustrated by the probability histograms: we see that 0 and close to 0 message usage is quite typic for both types of users, for 'ultimate' users is even more typical than for the other groupe, but at the same time the 'ultimate' users histogram is a little bit skewed to the right with outliers on the right, while the other histogram a little bit more to the left. The box plot with whiskers is even more illustrative: the top threshold of the 'ultimate' users is around 140 messages per month, while ion the case of 'surf' users it is about 110 messages.  So we may say the the 'surf' users use text messages a little bit less, than the 'ultimate' users. So we may say the the 'surf' users use text messages a little bit less, than the 'ultimate' users. But the difference is not crucial.\n",
    "\n",
    "IV. TESTING HYPOTHESES\n",
    "\n",
    "We have tested two hypothesis: \n",
    "    \n",
    "1) The average revenue from users of 'ultimate' and 'surf' calling plans differs.\n",
    "2) The average revenue from users in NY-NJ area is different from that of the users from other regions.\n",
    "\n",
    "A. First hypothesis\n",
    "To test the first hypothesis we made some preliminary analysis of the revenue values distribution within these two group of users. \n",
    "\n",
    "We found that variance of values of 'ultimate' users was not significant. The most of the values were close to the mean, which was very close (72 dollars) to the monthly charge of 70 dollars. \n",
    "\n",
    "The situation with 'surf' users was different. The average revenue was 58 dollars, so it was far from the monthly charge of 20 dollars. The reason of this is explained by the fact the consumer behavior was quite similar in the two cases. The 'surf' users paid exta charges for the services, because they consumed  the same volume of services as the 'ultimate' users. \n",
    "\n",
    "We have also plotted probabilty histograms in order to see better what the distribution looked like. We saw that the distribution of values in these cases was far from 'normal'. This is also quite predictable, taking into account, that the subcription plans do not provide a lot of 'variability' to the users. \n",
    "\n",
    "So we decided to use the Mann-Whitney U test which seemed to be more approriate, because it is designed to be used in the case of any kind of distributions. The 'idea' of the test is to valuate the probabilty that the two datasets are taken from the one statistical population. The test enables to compare  data samples and gives a suggestion whether we may reject the hypothesis  that data samples distributions are the same (and taken from the same statistical population). Taking into account that if the distributions are the same, so the average of values should be the same as well, so we may use this test to test hypothesis as if an average of values related to one statictical population differs from another. \n",
    "\n",
    "\n",
    "For alpha value we choosed a standard \"0.05\". In accordance with the rules of the test we formulated H0 hypothesis as \"the distributions of the data samples are the same\" and H1 is \"the distributions of the data samples are not the same\". So if the test suggests not to reject the H0 hypothesis, we may further consider this hypothesis as likely possible. \n",
    "\n",
    "As there were outliers within two groups of users, we decided to make the test twice: once before the removing the outliers and then after. We determined the outliers with IQR method (170 dollars as the high threshold for 'surf' users, and 70 dollars for 'ultimate' users). \n",
    "\n",
    "The result in the two cases was the same: the p-value found with the test was 0, so the test suggests to reject the H0 hypothesis and not to reject the alternative hypothesis, that the distributions are different, and therefore the average levels are  likely to be different. \n",
    "\n",
    "B. Second hypothesis\n",
    "\n",
    "As with the above, we decided to use the Mann-Whitney U test as the distributions of the values of selected data samples were far from 'normal'. The logic was the same as above: we test hypothesis, that the distributions of data samples are eqauall, and if tests suggests to reject this hypothesis, and not to reject the alternative hypothesis (that the distribution is different, and thefore the average is likely to be different). \n",
    "So H0 hypothesis was formulated in the same manner: 'distributions of the data samples are the same\", and the H1: \"the distributions of the data samples are not the same\". For tha alpha was chosen the standard threshold - \"0.05\". \n",
    "\n",
    "We conducted this test two times: once before removing the outliers and then after removing the outliers. The results were different. The first result was \"to reject the H0 hypothesis\", but the second was to \"fail to reject the H0\". In other words, we have no evidence to say, that there's a difference between the average income from a user from NY-NJ area and other are of service. \n",
    "\n",
    "\n",
    "\n",
    "V. SUMMARY \n",
    "\n",
    "The goal of this research is to analyse  clients' behavior and to determine which prepaid plan  brings in more revenue. We have found that: \n",
    "\n",
    "1) The consumers behavior correlates very weakly with the selected subscription plan: users tend to consume relatively the volumes of traffic, voice communication service and the texts messages. \n",
    "\n",
    "2) Such a behavior leads to the fact that revenue gained from a user subcribed to the plan 'surf' varies a lot. While the most of the users under subscription 'ultimate' do not pay exta charges, the other users pay on average almost 3 times more than their initial monthly rate: 58 dollars, while the montly rate is 20 dollars. At the same time, this average level is still lower than the monthly rate of under 'ultimate' plan (70 dollars). \n",
    "\n",
    "3) We tested hypothesis if the average level of revenue from two groups differs, and we found that we had no ground to reject the hypothesis that they are different.\n",
    "\n",
    "4) We tested the hypothesis that users from NJ-NY area bring different average revenue compare to other users. We figured out that we had no ground to accept this hypothesis while we have no evidence to reject the hypothesis that they are not different.\n",
    "\n",
    "5) Finally, if we assume that the selection of users is representative, hence taking into account the outcomes of hypotheses testing, we may suppose that:  \n",
    "- the average level of revenue which one 'ultimate' user brings is higher than the  the average level of revenue from a 'surf' user; \n",
    "- the average level of  revenue from a NY-NJ area user is not different from  a user from other area. \n",
    "\n",
    "6) At the same time taking into account only average revenue levels may be not the best approach when determing which plan brings more revenue. For example, in our data selection, there were  more 'surf' users (339) than 'ultimate' users (161). If we assume that the same proportion remains in the real life and our previous assumptions are also correct, the 'surf' plan brings more revenue than the 'ultimate' plan.  \n",
    "\n"
   ]
  }
 ],
 "metadata": {
  "kernelspec": {
   "display_name": "Python 3",
   "language": "python",
   "name": "python3"
  },
  "language_info": {
   "codemirror_mode": {
    "name": "ipython",
    "version": 3
   },
   "file_extension": ".py",
   "mimetype": "text/x-python",
   "name": "python",
   "nbconvert_exporter": "python",
   "pygments_lexer": "ipython3",
   "version": "3.7.9"
  },
  "toc": {
   "base_numbering": 1,
   "nav_menu": {},
   "number_sections": false,
   "sideBar": true,
   "skip_h1_title": false,
   "title_cell": "Table of Contents",
   "title_sidebar": "Contents",
   "toc_cell": false,
   "toc_position": {},
   "toc_section_display": true,
   "toc_window_display": true
  }
 },
 "nbformat": 4,
 "nbformat_minor": 4
}
